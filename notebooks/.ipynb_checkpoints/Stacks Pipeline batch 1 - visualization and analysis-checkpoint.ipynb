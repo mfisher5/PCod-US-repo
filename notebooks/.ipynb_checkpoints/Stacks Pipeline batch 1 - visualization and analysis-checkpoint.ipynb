{
 "cells": [
  {
   "cell_type": "markdown",
   "metadata": {},
   "source": [
    "## Stacks Pipeline Batch 1 - Visualization and Analysis\n",
    "\n",
    "\n",
    "\n",
    "\n",
    "This notebook will keep track of and visualize the number of reads per individual, number of loci per individual, number of loci in the catalog or reference genome, etc. \n",
    "\n",
    "<br>\n",
    "### Raw read files\n",
    "**Fastqc of raw read files, per lane: **\n",
    "\n",
    "[Evernote notebook]() contains HTML files. \n",
    "\n",
    "<br>\n",
    "### Post process_radtags"
   ]
  },
  {
   "cell_type": "markdown",
   "metadata": {},
   "source": [
    "**Number of reads per individual, post-process radtags**\n",
    "\n",
    "![graph](https://github.com/mfisher5/PCod-US-repo/blob/master/analyses/n_reads_radtags.png?raw=true)\n",
    "\n",
    "\n",
    "<br>\n",
    "**Fastqc of some sample fastq files: **\n",
    "\n",
    "[Evernote notebook]() contains HTML files. "
   ]
  },
  {
   "cell_type": "markdown",
   "metadata": {},
   "source": [
    "\n",
    "<br>\n",
    "### Post ustacks\n",
    "\n",
    "<br>\n",
    "**Number of stacks per individual**\n",
    "\n",
    "\n",
    "\n",
    "**Frequency of stack depth**"
   ]
  },
  {
   "cell_type": "code",
   "execution_count": null,
   "metadata": {
    "collapsed": true
   },
   "outputs": [],
   "source": []
  }
 ],
 "metadata": {
  "anaconda-cloud": {},
  "kernelspec": {
   "display_name": "Python [default]",
   "language": "python",
   "name": "python2"
  },
  "language_info": {
   "codemirror_mode": {
    "name": "ipython",
    "version": 2
   },
   "file_extension": ".py",
   "mimetype": "text/x-python",
   "name": "python",
   "nbconvert_exporter": "python",
   "pygments_lexer": "ipython2",
   "version": "2.7.12"
  }
 },
 "nbformat": 4,
 "nbformat_minor": 1
}
