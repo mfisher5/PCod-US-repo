{
 "cells": [
  {
   "cell_type": "markdown",
   "metadata": {},
   "source": [
    "## Stacks Pipeline rerun (batch 1)\n",
    "\n",
    "\n",
    "This is a rerun of the stacks pipeline for all northeastern Pacific cod samples. \n",
    "\n",
    "<br>\n",
    "Key parameters for this run of stacks: \n",
    "1. trimming to 142 bp\n",
    "2. using bounded SNP model\n",
    "3. stack depth of 10\n",
    "4. nucleotide differences between stacks = 3\n",
    "5. cstacks catalog built with 10 individuals per population\n",
    "6. locus must be present in 4/9 populations\n",
    "7. locus must be present in 75% of individuals in a population\n",
    "\n",
    "\n",
    "\n",
    "### process_radtags --> ustacks --> counting # sequences per file"
   ]
  },
  {
   "cell_type": "code",
   "execution_count": 1,
   "metadata": {
    "collapsed": false
   },
   "outputs": [
    {
     "data": {
      "text/plain": [
       "u'/mnt/hgfs/Pacific cod/DataAnalysis/PCod-US-repo/notebooks'"
      ]
     },
     "execution_count": 1,
     "metadata": {},
     "output_type": "execute_result"
    }
   ],
   "source": [
    "pwd"
   ]
  },
  {
   "cell_type": "code",
   "execution_count": 2,
   "metadata": {
    "collapsed": false
   },
   "outputs": [
    {
     "name": "stdout",
     "output_type": "stream",
     "text": [
      "/mnt/hgfs/Pacific cod/DataAnalysis/PCod-US-repo/scripts\n"
     ]
    }
   ],
   "source": [
    "cd ../scripts"
   ]
  },
  {
   "cell_type": "code",
   "execution_count": 9,
   "metadata": {
    "collapsed": false
   },
   "outputs": [],
   "source": [
    "!python radtags_ustacks_genShell_3-6.py"
   ]
  },
  {
   "cell_type": "code",
   "execution_count": 10,
   "metadata": {
    "collapsed": false
   },
   "outputs": [
    {
     "name": "stdout",
     "output_type": "stream",
     "text": [
      "#!/bin/bash\r\n",
      "\r\n",
      "# lane 1\r\n",
      "process_radtags -p /media/mfisher5/New\\ Volume/Kristen/Data/KOD03 -i gzfastq -y gzfastq -o ../samplesT142 -b barcodesL1.txt -e sbfI -E phred33 -r -c -q -t 142\r\n",
      "\r\n",
      "# lane 2\r\n",
      "process_radtags -p /media/mfisher5/New\\ Volume/Kristen/Data/AD06 -i gzfastq -y gzfastq -o ../samplesT142 -b barcodesL2_AD.txt -e sbfI -E phred33 -r -c -q -t 142\r\n",
      "\r\n",
      "process_radtags -p /media/mfisher5/New\\ Volume/Kristen/Data/WC05 -i gzfastq -y gzfastq -o ../samplesT142 -b barcodesL2_WC.txt -e sbfI -E phred33 -r -c -q -t 142\r\n",
      "\r\n"
     ]
    }
   ],
   "source": [
    "!head -n 10 radtags_ustacks_3-6.sh"
   ]
  },
  {
   "cell_type": "code",
   "execution_count": 11,
   "metadata": {
    "collapsed": false
   },
   "outputs": [
    {
     "name": "stdout",
     "output_type": "stream",
     "text": [
      "KOD03_035\r\n",
      "KOD03_051\r\n",
      "KOD03_052\r\n",
      "KOD03_053\r\n",
      "KOD03_054\r\n"
     ]
    }
   ],
   "source": [
    "!head -n 5 sampleList.txt"
   ]
  },
  {
   "cell_type": "code",
   "execution_count": null,
   "metadata": {
    "collapsed": true
   },
   "outputs": [],
   "source": [
    "# run in command line\n",
    "chmod +x ./radtags_ustacks_3-6.sh\n",
    "./radtags_ustacks_3-6.sh"
   ]
  },
  {
   "cell_type": "markdown",
   "metadata": {},
   "source": [
    "\n",
    "<br> \n",
    "**Number of reads per individual, post-process radtags**\n",
    "\n",
    "![graph](https://github.com/mfisher5/PCod-US-repo/blob/master/analyses/n_reads_radtags.png?raw=true)"
   ]
  },
  {
   "cell_type": "markdown",
   "metadata": {},
   "source": [
    "<br>\n",
    "\n",
    "### cstacks --> sstacks --> populations"
   ]
  },
  {
   "cell_type": "code",
   "execution_count": 1,
   "metadata": {
    "collapsed": false
   },
   "outputs": [
    {
     "data": {
      "text/plain": [
       "u'/mnt/hgfs/Pacific cod/DataAnalysis/PCod-US-repo/notebooks'"
      ]
     },
     "execution_count": 1,
     "metadata": {},
     "output_type": "execute_result"
    }
   ],
   "source": [
    "pwd"
   ]
  },
  {
   "cell_type": "code",
   "execution_count": 2,
   "metadata": {
    "collapsed": false
   },
   "outputs": [
    {
     "name": "stdout",
     "output_type": "stream",
     "text": [
      "/mnt/hgfs/Pacific cod/DataAnalysis/PCod-US-repo/scripts\n"
     ]
    }
   ],
   "source": [
    "cd ../scripts"
   ]
  },
  {
   "cell_type": "code",
   "execution_count": 7,
   "metadata": {
    "collapsed": false
   },
   "outputs": [],
   "source": [
    "!python cstacks_populations_genShell_3-8.py \\\n",
    "samples_for_cstacks.txt \\\n",
    "sampleList.txt"
   ]
  },
  {
   "cell_type": "markdown",
   "metadata": {},
   "source": [
    "This made a shell script to run cstacks to populations. "
   ]
  },
  {
   "cell_type": "code",
   "execution_count": 8,
   "metadata": {
    "collapsed": false
   },
   "outputs": [
    {
     "name": "stdout",
     "output_type": "stream",
     "text": [
      "\r\n",
      "#cstacks\r\n",
      "cstacks -b 1 -s ../stacks/KOD03_057 -s ../stacks/KOD03_064 -s ../stacks/KOD03_067 -s ../stacks/KOD03_078 -s ../stacks/KOD03_066 -s ../stacks/KOD03_061 -s ../stacks/KOD03_071 -s ../stacks/KOD03_081 -s ../stacks/KOD03_055 -s ../stacks/KOD03_065 -s ../stacks/AD06_017 -s ../stacks/AD06_001 -s ../stacks/AD06_008 -s ../stacks/AD06_048 -s ../stacks/AD06_036 -s ../stacks/AD06_018 -s ../stacks/AD06_011 -s ../stacks/AD06_044 -s ../stacks/AD06_035 -s ../stacks/AD06_041 -s ../stacks/WC05_015 -s ../stacks/WC05_008 -s ../stacks/WC05_018 -s ../stacks/WC05_029 -s ../stacks/WC05_040 -s ../stacks/WC05_022 -s ../stacks/WC05_016 -s ../stacks/WC05_017 -s ../stacks/WC05_032 -s ../stacks/WC05_025 -s ../stacks/HS04_015 -s ../stacks/HS04_016 -s ../stacks/HS04_017 -s ../stacks/HS04_040 -s ../stacks/HS04_008 -s ../stacks/HS04_032 -s ../stacks/HS04_022 -s ../stacks/HS04_006 -s ../stacks/HS04_018 -s ../stacks/HS04_014 -s ../stacks/PI04_017 -s ../stacks/PI04_016 -s ../stacks/PI04_038 -s ../stacks/PI04_040 -s ../stacks/PI04_007 -s ../stacks/PI04_034 -s ../stacks/PI04_036 -s ../stacks/PI04_023 -s ../stacks/PI04_032 -s ../stacks/PI04_006 -s ../stacks/PS12_017 -s ../stacks/PS12_008 -s ../stacks/PS12_015 -s ../stacks/PS12_040 -s ../stacks/PS12_022 -s ../stacks/PS12_016 -s ../stacks/PS12_012 -s ../stacks/PS12_006 -s ../stacks/PS12_018 -s ../stacks/PS12_020 -s ../stacks/GS13_001 -s ../stacks/GS13_006 -s ../stacks/GS13_012 -s ../stacks/GS13_005 -s ../stacks/GS13_016 -s ../stacks/GS13_008 -s ../stacks/GS13_017 -s ../stacks/GS13_011 -s ../stacks/GS13_013 -s ../stacks/GS13_003 -s ../stacks/PWS12_017 -s ../stacks/PWS12_002 -s ../stacks/PWS12_014 -s ../stacks/PWS12_010 -s ../stacks/PWS12_005 -s ../stacks/PWS12_075 -s ../stacks/PWS12_079 -s ../stacks/PWS12_006 -s ../stacks/PWS12_131 -s ../stacks/PWS12_022 -s ../stacks/UP03_011 -s ../stacks/UP03_030 -s ../stacks/UP03_029 -s ../stacks/UP03_044 -s ../stacks/UP03_036 -s ../stacks/UP03_001 -s ../stacks/UP03_013 -s ../stacks/UP03_019 -s ../stacks/UP03_010 -s ../stacks/UP03_014 -o ../stacks -n 3 -p 6\r\n",
      "\r\n",
      "\r\n",
      "#sstacks\r\n",
      "sstacks -b 1 -c ../stacks/batch_1 -s ../stacks/KOD03_035 -o ../stacks -p 6 2>> sstacks_out_b1\r\n",
      "sstacks -b 1 -c ../stacks/batch_1 -s ../stacks/KOD03_051 -o ../stacks -p 6 2>> sstacks_out_b1\r\n",
      "sstacks -b 1 -c ../stacks/batch_1 -s ../stacks/KOD03_052 -o ../stacks -p 6 2>> sstacks_out_b1\r\n",
      "sstacks -b 1 -c ../stacks/batch_1 -s ../stacks/KOD03_053 -o ../stacks -p 6 2>> sstacks_out_b1\r\n"
     ]
    }
   ],
   "source": [
    "!head cstacks_populations_3-8.sh"
   ]
  },
  {
   "cell_type": "markdown",
   "metadata": {},
   "source": [
    "I also created a populations map file for `populations`"
   ]
  },
  {
   "cell_type": "code",
   "execution_count": 9,
   "metadata": {
    "collapsed": false
   },
   "outputs": [
    {
     "name": "stdout",
     "output_type": "stream",
     "text": [
      "KOD03_035\tKodiak03\r",
      "\r\n",
      "KOD03_051\tKodiak03\r",
      "\r\n",
      "KOD03_052\tKodiak03\r",
      "\r\n",
      "KOD03_053\tKodiak03\r",
      "\r\n",
      "KOD03_054\tKodiak03\r",
      "\r\n"
     ]
    }
   ],
   "source": [
    "!head -n 5 PopMap.txt"
   ]
  },
  {
   "cell_type": "code",
   "execution_count": 11,
   "metadata": {
    "collapsed": false
   },
   "outputs": [],
   "source": [
    "!chmod +x cstacks_populations_3-8.sh"
   ]
  },
  {
   "cell_type": "code",
   "execution_count": null,
   "metadata": {
    "collapsed": true
   },
   "outputs": [],
   "source": [
    "#run at command line\n",
    "./cstacks_populations_3-8.sh"
   ]
  }
 ],
 "metadata": {
  "anaconda-cloud": {},
  "kernelspec": {
   "display_name": "Python [default]",
   "language": "python",
   "name": "python2"
  },
  "language_info": {
   "codemirror_mode": {
    "name": "ipython",
    "version": 2
   },
   "file_extension": ".py",
   "mimetype": "text/x-python",
   "name": "python",
   "nbconvert_exporter": "python",
   "pygments_lexer": "ipython2",
   "version": "2.7.12"
  }
 },
 "nbformat": 4,
 "nbformat_minor": 1
}
