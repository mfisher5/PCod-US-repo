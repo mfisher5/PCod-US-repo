{
 "cells": [
  {
   "cell_type": "markdown",
   "metadata": {},
   "source": [
    "## Stacks pipeline batch 1 - data exploration & visualization\n",
    "\n",
    "<br>\n",
    "This notebook includes: \n",
    "1. heterozygosity v. read depth\n",
    "2. Haplotype Fis distribution\n",
    "3. Overall Fis, Fit, Fst distribution by locus\n",
    "4. read depth by tag number, distribution of read depth per tag\n",
    "\n",
    "<br>\n",
    "### (1) heterozygosity v. read depth \n",
    "\n",
    "This uses a script from Dan Drinan to compare heterozygosity v. read depth in an individual. I ran the script on all individuals that were *retained after the filtering step*, or that had <20% genotypes missing"
   ]
  },
  {
   "cell_type": "code",
   "execution_count": 23,
   "metadata": {
    "collapsed": false
   },
   "outputs": [
    {
     "data": {
      "text/plain": [
       "u'/mnt/hgfs/Pacific cod/DataAnalysis/PCod-US-repo/analyses'"
      ]
     },
     "execution_count": 23,
     "metadata": {},
     "output_type": "execute_result"
    }
   ],
   "source": [
    "pwd"
   ]
  },
  {
   "cell_type": "code",
   "execution_count": 4,
   "metadata": {
    "collapsed": false
   },
   "outputs": [
    {
     "name": "stdout",
     "output_type": "stream",
     "text": [
      "/mnt/hgfs/Pacific cod/DataAnalysis/PCod-US-repo/analyses\n"
     ]
    }
   ],
   "source": [
    "cd ../analyses"
   ]
  },
  {
   "cell_type": "code",
   "execution_count": 6,
   "metadata": {
    "collapsed": false
   },
   "outputs": [
    {
     "name": "stdout",
     "output_type": "stream",
     "text": [
      "\r\n",
      "\r\n",
      "################################################################################\r\n",
      "#\r\n",
      "# hetVsReadDepth.py - this is a script used to compare heterozygosity vs.\r\n",
      "# read depth in an individual or list of individuals\r\n",
      "#\r\n",
      "# 2017-March-28\r\n",
      "# Daniel Drinan (ddrinan@uw.edu)\r\n",
      "#\r\n"
     ]
    }
   ],
   "source": [
    "!head hetVsReadDepth.py"
   ]
  },
  {
   "cell_type": "code",
   "execution_count": 9,
   "metadata": {
    "collapsed": true
   },
   "outputs": [],
   "source": [
    "!mv hetVsReadDepth.py ../samplesT92/hetVsReadDepth.py"
   ]
  },
  {
   "cell_type": "code",
   "execution_count": 25,
   "metadata": {
    "collapsed": false
   },
   "outputs": [
    {
     "name": "stdout",
     "output_type": "stream",
     "text": [
      "/mnt/hgfs/Pacific cod/DataAnalysis/PCod-US-repo/samplesT92\n"
     ]
    }
   ],
   "source": [
    "cd ../samplesT92/"
   ]
  },
  {
   "cell_type": "code",
   "execution_count": 41,
   "metadata": {
    "collapsed": false,
    "scrolled": true
   },
   "outputs": [
    {
     "name": "stdout",
     "output_type": "stream",
     "text": [
      "KOD03_035 2644952.0 0.26479832373\n",
      "\n",
      "KOD03_051 1353028.0 0.228912466844\n",
      "\n",
      "KOD03_052 3604717.0 0.241244119185\n",
      "\n",
      "KOD03_054 1783756.0 0.309866527087\n",
      "\n",
      "KOD03_055 3668576.0 0.347464239272\n",
      "\n",
      "KOD03_056 1196107.0 0.227381905524\n",
      "\n",
      "KOD03_057 9225135.0 0.444126819127\n",
      "\n",
      "KOD03_058 1736725.0 0.184086134454\n",
      "\n",
      "KOD03_059 1153457.0 0.213325183374\n",
      "\n",
      "KOD03_061 5100042.0 0.345303148582\n",
      "\n",
      "KOD03_063 2796354.0 0.299554857292\n",
      "\n",
      "KOD03_064 8943131.0 0.446725571726\n",
      "\n",
      "KOD03_065 3613026.0 0.375162718042\n",
      "\n",
      "KOD03_066 5240244.0 0.430353430353\n",
      "\n",
      "KOD03_067 6279450.0 0.356492323705\n",
      "\n",
      "KOD03_068 1158489.0 0.205970149254\n",
      "\n",
      "KOD03_069 2271243.0 0.202402716114\n",
      "\n",
      "KOD03_070 1027848.0 0.201787258576\n",
      "\n",
      "KOD03_071 4874649.0 0.216497527973\n",
      "\n",
      "KOD03_072 893099.0 0.18705242051\n",
      "\n",
      "KOD03_073 818087.0 0.173140620295\n",
      "\n",
      "KOD03_074 2681786.0 0.202152796009\n",
      "\n",
      "KOD03_075 1064316.0 0.171848501979\n",
      "\n",
      "KOD03_076 2305672.0 0.230104712042\n",
      "\n",
      "KOD03_077 1722277.0 0.192716640085\n",
      "\n",
      "KOD03_078 5446567.0 0.242771555092\n",
      "\n",
      "KOD03_079 1019426.0 0.172878440367\n",
      "\n",
      "KOD03_080 938589.0 0.19529478458\n",
      "\n",
      "KOD03_081 4371260.0 0.381870278718\n",
      "\n",
      "KOD03_082 3611611.0 0.288335517693\n",
      "\n",
      "KOD03_083 1744057.0 0.201963906582\n",
      "\n",
      "KOD03_084 3567750.0 0.249869178441\n",
      "\n",
      "KOD03_085 2731353.0 0.224431075072\n",
      "\n",
      "KOD03_086 925607.0 0.186304408095\n",
      "\n",
      "KOD03_089 3152894.0 0.360732984293\n",
      "\n",
      "KOD03_090 1947591.0 0.200523560209\n",
      "\n",
      "KOD03_093 1999342.0 0.200944386149\n",
      "\n",
      "KOD03_094 872727.0 0.186277460126\n",
      "\n",
      "KOD03_095 1145279.0 0.199321458863\n",
      "\n",
      "KOD03_096 2500238.0 0.234215352371\n",
      "\n",
      "KOD03_097 1222045.0 0.183377308707\n",
      "\n",
      "AD06_001 3940144.0 0.392095683827\n",
      "\n",
      "AD06_003 1411980.0 0.198469253101\n",
      "\n",
      "AD06_004 1803978.0 0.206635318704\n",
      "\n",
      "AD06_006 1595556.0 0.228380187416\n",
      "\n",
      "AD06_007 1643190.0 0.195435466946\n",
      "\n",
      "AD06_008 3276393.0 0.274079874706\n",
      "\n",
      "AD06_009 979137.0 0.203889216264\n",
      "\n",
      "AD06_011 2869335.0 0.442047817048\n",
      "\n",
      "AD06_013 1315203.0 0.2076047738\n",
      "\n",
      "AD06_017 4517040.0 0.428794178794\n",
      "\n",
      "AD06_018 2994936.0 0.248304642671\n",
      "\n",
      "AD06_019 1372215.0 0.248701497097\n",
      "\n",
      "AD06_020 1944788.0 0.303960136376\n",
      "\n",
      "AD06_021 1282219.0 0.229421136484\n",
      "\n",
      "AD06_023 1556284.0 0.233333333333\n",
      "\n",
      "AD06_025 1946519.0 0.278856243442\n",
      "\n",
      "AD06_029 2624997.0 0.257718472004\n",
      "\n",
      "AD06_030 2681222.0 0.252876569038\n",
      "\n",
      "AD06_032 1595120.0 0.216344882306\n",
      "\n",
      "AD06_035 2766599.0 0.218058808223\n",
      "\n",
      "AD06_036 3015665.0 0.345033801352\n",
      "\n",
      "AD06_037 2620433.0 0.199819168174\n",
      "\n",
      "AD06_038 1203097.0 0.20765832106\n",
      "\n",
      "AD06_040 2197139.0 0.204414083027\n",
      "\n",
      "AD06_041 2710989.0 0.237946312223\n",
      "\n",
      "AD06_042 1620324.0 0.204600811908\n",
      "\n",
      "AD06_044 2814614.0 0.381695267811\n",
      "\n",
      "AD06_045 1523559.0 0.246913580247\n",
      "\n",
      "AD06_046 1549366.0 0.229936642027\n",
      "\n",
      "AD06_047 1424480.0 0.192479621352\n",
      "\n",
      "AD06_048 3103591.0 0.306430617027\n",
      "\n",
      "WC05_001 1915673.0 0.241893305439\n",
      "\n",
      "WC05_002 1442572.0 0.187168610817\n",
      "\n",
      "WC05_003 2225053.0 0.179775280899\n",
      "\n",
      "WC05_004 817391.0 0.175558312655\n",
      "\n",
      "WC05_005 1318217.0 0.23758675921\n",
      "\n",
      "WC05_006 2292565.0 0.232923318503\n",
      "\n",
      "WC05_008 7072930.0 0.392977893368\n",
      "\n",
      "WC05_009 1816634.0 0.192073976222\n",
      "\n",
      "WC05_010 1273154.0 0.186088527552\n",
      "\n",
      "WC05_012 2742761.0 0.303664921466\n",
      "\n",
      "WC05_014 2494551.0 0.245100600993\n",
      "\n",
      "WC05_015 7716990.0 0.419178794179\n",
      "\n",
      "WC05_016 4403872.0 0.257500652231\n",
      "\n",
      "WC05_017 3082734.0 0.362620223551\n",
      "\n",
      "WC05_018 5636252.0 0.3298620151\n",
      "\n",
      "WC05_021 1344284.0 0.172802197802\n",
      "\n",
      "WC05_022 4629544.0 0.201406982804\n",
      "\n",
      "WC05_023 1789632.0 0.183266932271\n",
      "\n",
      "WC05_025 2883685.0 0.189470940839\n",
      "\n",
      "WC05_027 1386324.0 0.198390591148\n",
      "\n",
      "WC05_029 5256782.0 0.200104220948\n",
      "\n",
      "WC05_031 1581552.0 0.18672308913\n",
      "\n",
      "WC05_032 2964538.0 0.271023171049\n",
      "\n",
      "WC05_033 1886664.0 0.185030096833\n",
      "\n",
      "WC05_034 1500687.0 0.165430063204\n",
      "\n",
      "WC05_035 2752021.0 0.188333769291\n",
      "\n",
      "WC05_036 1170272.0 0.167906482465\n",
      "\n",
      "WC05_037 1825597.0 0.170062483021\n",
      "\n",
      "WC05_040 5216756.0 0.29263212705\n",
      "\n",
      "WC05_041 1645142.0 0.169607584935\n",
      "\n",
      "WC05_044 1840610.0 0.178502879079\n",
      "\n",
      "WC05_047 1668812.0 0.171849865952\n",
      "\n",
      "WC05_048 1333334.0 0.172211871174\n",
      "\n",
      "HS04_001 2608015.0 0.226084683743\n",
      "\n",
      "HS04_002 1368395.0 0.2364413572\n",
      "\n",
      "HS04_003 2848557.0 0.192720607489\n",
      "\n",
      "HS04_004 802734.0 0.180067257719\n",
      "\n",
      "HS04_005 2052987.0 0.264367816092\n",
      "\n",
      "HS04_006 4684786.0 0.356121653236\n",
      "\n",
      "HS04_007 1068638.0 0.207248322148\n",
      "\n",
      "HS04_008 5059463.0 0.454002079002\n",
      "\n",
      "HS04_009 1820726.0 0.189923503034\n",
      "\n",
      "HS04_012 3106008.0 0.308919696573\n",
      "\n",
      "HS04_014 3779198.0 0.287795992714\n",
      "\n",
      "HS04_015 7995504.0 0.432432432432\n",
      "\n",
      "HS04_016 7422303.0 0.322471324296\n",
      "\n",
      "HS04_017 7150744.0 0.365054602184\n",
      "\n",
      "HS04_018 4385580.0 0.318855656697\n",
      "\n",
      "HS04_019 1364464.0 0.181066438551\n",
      "\n",
      "HS04_020 3229661.0 0.21117201775\n",
      "\n",
      "HS04_021 1263617.0 0.179962395917\n",
      "\n",
      "HS04_022 4718252.0 0.218139171228\n",
      "\n",
      "HS04_023 1143836.0 0.178658043654\n",
      "\n",
      "HS04_024 1270538.0 0.182781456954\n",
      "\n",
      "HS04_025 2666335.0 0.190164792048\n",
      "\n",
      "HS04_027 2574598.0 0.22722513089\n",
      "\n",
      "HS04_028 964718.0 0.172335600907\n",
      "\n",
      "HS04_029 3737610.0 0.19298245614\n",
      "\n",
      "HS04_031 1414184.0 0.219672995781\n",
      "\n",
      "HS04_032 4771266.0 0.354074459776\n",
      "\n",
      "HS04_033 2473424.0 0.200314218382\n",
      "\n",
      "HS04_034 1259031.0 0.182752095161\n",
      "\n",
      "HS04_035 2040597.0 0.201991092481\n",
      "\n",
      "HS04_036 738908.0 0.173299905986\n",
      "\n",
      "HS04_037 1539882.0 0.182795698925\n",
      "\n",
      "HS04_040 5306895.0 0.314241083051\n",
      "\n",
      "HS04_041 1372457.0 0.173066806944\n",
      "\n",
      "HS04_042 1227721.0 0.172036823936\n",
      "\n",
      "HS04_044 2120640.0 0.222686879247\n",
      "\n",
      "HS04_045 1026754.0 0.175322890904\n",
      "\n",
      "HS04_046 1561409.0 0.183727034121\n",
      "\n",
      "HS04_047 2658942.0 0.205382806376\n",
      "\n",
      "HS04_048 1422816.0 0.172748752954\n",
      "\n",
      "PS12_008 8669070.0 0.422817047817\n",
      "\n",
      "PS12_048 1394304.0 0.184611344538\n",
      "\n",
      "PS12_031 1362817.0 0.191741188848\n",
      "\n",
      "PS12_036 1811789.0 0.177025963808\n",
      "\n",
      "PS12_030 740088.0 0.181102362205\n",
      "\n",
      "PS12_006 4273002.0 0.373569198751\n",
      "\n",
      "PS12_016 5003478.0 0.238070404172\n",
      "\n",
      "PS12_033 1338989.0 0.183447548761\n",
      "\n",
      "PS12_015 6574954.0 0.445945945946\n",
      "\n",
      "PS12_014 3300427.0 0.359749739312\n",
      "\n",
      "PS12_044 1635103.0 0.166446847797\n",
      "\n",
      "PS12_037 1853265.0 0.17933927635\n",
      "\n",
      "PS12_040 6409221.0 0.313347236705\n",
      "\n",
      "PS12_024 2827663.0 0.173992673993\n",
      "\n",
      "PS12_034 1256595.0 0.174679487179\n",
      "\n",
      "PS12_003 2781692.0 0.17445808305\n",
      "\n",
      "PS12_002 771052.0 0.196031268791\n",
      "\n",
      "PS12_001 1605297.0 0.221989528796\n",
      "\n",
      "PS12_041 1468174.0 0.261086329047\n",
      "\n",
      "PS12_013 977248.0 0.173348078518\n",
      "\n",
      "PS12_027 2272677.0 0.237958115183\n",
      "\n",
      "PS12_020 3842374.0 0.205208333333\n",
      "\n",
      "PS12_012 4303059.0 0.290137913089\n",
      "\n",
      "PS12_029 2897550.0 0.195765812859\n",
      "\n",
      "PS12_022 5853349.0 0.222918298094\n",
      "\n",
      "PS12_007 848249.0 0.209023415191\n",
      "\n",
      "PS12_046 2005891.0 0.178328981723\n",
      "\n",
      "PS12_045 927996.0 0.172374752335\n",
      "\n",
      "PS12_028 1251578.0 0.168051460734\n",
      "\n",
      "PS12_021 1658468.0 0.168557108942\n",
      "\n",
      "PS12_026 1070992.0 0.1723669924\n",
      "\n",
      "PS12_025 3645656.0 0.186945169713\n",
      "\n",
      "PS12_019 1290872.0 0.186996719356\n",
      "\n",
      "PS12_038 651987.0 0.158291457286\n",
      "\n",
      "PS12_017 11547630.0 0.355081881986\n",
      "\n",
      "PS12_047 1988791.0 0.200156780768\n",
      "\n",
      "PS12_032 3660939.0 0.319048863339\n",
      "\n",
      "PS12_018 3894730.0 0.32421875\n",
      "\n",
      "PS12_035 3135305.0 0.190550770034\n",
      "\n",
      "PS12_005 2069564.0 0.272845953003\n",
      "\n",
      "PS12_009 961705.0 0.17954610744\n",
      "\n",
      "GS13_001 3773236.0 0.287126137841\n",
      "\n",
      "GS13_003 1264331.0 0.208222103577\n",
      "\n",
      "GS13_005 3021100.0 0.184779775867\n",
      "\n",
      "GS13_006 3567637.0 0.213208528341\n",
      "\n",
      "GS13_008 2249366.0 0.193329859302\n",
      "\n",
      "GS13_011 1876058.0 0.179734305809\n",
      "\n",
      "GS13_012 3455079.0 0.289131565263\n",
      "\n",
      "GS13_013 1644276.0 0.182942879705\n",
      "\n",
      "GS13_014 1213603.0 0.200320941428\n",
      "\n",
      "GS13_015 777601.0 0.181405208964\n",
      "\n",
      "GS13_016 2607910.0 0.193229166667\n",
      "\n",
      "GS13_017 2044991.0 0.172746221991\n",
      "\n",
      "PWS12_002 9378203.0 0.441008316008\n",
      "\n",
      "PWS12_003 1247166.0 0.225059226112\n",
      "\n",
      "PWS12_005 7552752.0 0.258207399687\n",
      "\n",
      "PWS12_006 3488388.0 0.274525110591\n",
      "\n",
      "PWS12_009 2183710.0 0.197382198953\n",
      "\n",
      "PWS12_010 8108290.0 0.347995835502\n",
      "\n",
      "PWS12_011 2214812.0 0.197949526814\n",
      "\n",
      "PWS12_014 8663133.0 0.361292003126\n",
      "\n",
      "PWS12_015 1500126.0 0.226855494361\n",
      "\n",
      "PWS12_016 2557222.0 0.276312353095\n",
      "\n",
      "PWS12_017 10888080.0 0.435291060291\n",
      "\n",
      "PWS12_018 2092297.0 0.197437238494\n",
      "\n",
      "PWS12_021 2256345.0 0.193092621664\n",
      "\n",
      "PWS12_022 2772485.0 0.229867083659\n",
      "\n",
      "PWS12_023 1094121.0 0.184049079755\n",
      "\n",
      "PWS12_063 1976465.0 0.216116248349\n",
      "\n",
      "PWS12_075 6835069.0 0.480249480249\n",
      "\n",
      "PWS12_079 4039596.0 0.296170877833\n",
      "\n",
      "PWS12_094 1934546.0 0.274345549738\n",
      "\n",
      "PWS12_095 1954679.0 0.183817753339\n",
      "\n",
      "PWS12_096 2061333.0 0.189330543933\n",
      "\n",
      "PWS12_097 1264944.0 0.179736842105\n",
      "\n",
      "PWS12_131 3358162.0 0.19130661114\n",
      "\n",
      "PWS12_133 982504.0 0.182874964559\n",
      "\n",
      "UP03_001 5084845.0 0.408216328653\n",
      "\n",
      "UP03_009 1732014.0 0.217208814271\n",
      "\n",
      "UP03_017 1435570.0 0.271020624008\n",
      "\n",
      "UP03_025 1598862.0 0.265268676278\n",
      "\n",
      "UP03_041 2259099.0 0.185852257896\n",
      "\n",
      "UP03_002 819538.0 0.221989215099\n",
      "\n",
      "UP03_010 3383723.0 0.253583528799\n",
      "\n",
      "UP03_018 2644302.0 0.315047021944\n",
      "\n",
      "UP03_042 1066188.0 0.198168193172\n",
      "\n",
      "UP03_003 2649967.0 0.204086979303\n",
      "\n",
      "UP03_011 10007580.0 0.431392931393\n",
      "\n",
      "UP03_019 3390043.0 0.263899765074\n",
      "\n",
      "UP03_027 1344496.0 0.186655405405\n",
      "\n",
      "UP03_035 1501654.0 0.190237467018\n",
      "\n",
      "UP03_043 1544799.0 0.188306557809\n",
      "\n",
      "UP03_004 2337628.0 0.230204509701\n",
      "\n",
      "UP03_012 2539470.0 0.179968287526\n",
      "\n",
      "UP03_020 998047.0 0.178522003875\n",
      "\n",
      "UP03_028 1147545.0 0.190375302663\n",
      "\n",
      "UP03_036 5167844.0 0.327093083723\n",
      "\n",
      "UP03_044 5182015.0 0.357588357588\n",
      "\n",
      "UP03_005 1572817.0 0.180211081794\n",
      "\n",
      "UP03_013 3682096.0 0.218921032056\n",
      "\n",
      "UP03_021 2965396.0 0.185602094241\n",
      "\n",
      "UP03_029 5236518.0 0.196507688298\n",
      "\n",
      "UP03_037 1803496.0 0.181197478992\n",
      "\n",
      "UP03_045 1508903.0 0.186323880201\n",
      "\n",
      "UP03_006 1481217.0 0.296012674941\n",
      "\n",
      "UP03_014 3164855.0 0.198123044838\n",
      "\n",
      "UP03_022 2163338.0 0.184554973822\n",
      "\n",
      "UP03_030 6731002.0 0.302943474863\n",
      "\n",
      "UP03_038 1331632.0 0.198871271164\n",
      "\n",
      "UP03_046 2671751.0 0.221406086044\n",
      "\n",
      "UP03_007 987402.0 0.185134014921\n",
      "\n",
      "UP03_015 686368.0 0.186626139818\n",
      "\n",
      "UP03_023 1569600.0 0.183780937335\n",
      "\n",
      "UP03_047 1167920.0 0.186292670019\n",
      "\n",
      "UP03_008 2908008.0 0.314868042853\n",
      "\n",
      "UP03_016 966256.0 0.203448275862\n",
      "\n",
      "UP03_032 968928.0 0.188937568456\n",
      "\n",
      "UP03_040 2498652.0 0.18091503268\n",
      "\n",
      "UP03_048 1488723.0 0.186003683241\n",
      "\n"
     ]
    }
   ],
   "source": [
    "!python hetVsReadDepth_gzip.py \\\n",
    "-l ../scripts/samples_fqfiles_filtered.txt \\\n",
    "-f ../stacks_wgenome/batch_1.filteredIndivids.filteredMAF_filteredLoci20p.gen \\\n",
    "-o ../analyses/batch1_HetvReadDepth_filtered \\\n",
    "-d 4"
   ]
  },
  {
   "cell_type": "code",
   "execution_count": 42,
   "metadata": {
    "collapsed": false
   },
   "outputs": [
    {
     "name": "stdout",
     "output_type": "stream",
     "text": [
      "/mnt/hgfs/Pacific cod/DataAnalysis/PCod-US-repo/analyses\n"
     ]
    }
   ],
   "source": [
    "cd ../analyses"
   ]
  },
  {
   "cell_type": "code",
   "execution_count": 45,
   "metadata": {
    "collapsed": false
   },
   "outputs": [
    {
     "name": "stdout",
     "output_type": "stream",
     "text": [
      "Processed  265  samples.\n"
     ]
    }
   ],
   "source": [
    "myfile = open(\"batch1_HetvReadDepth_filtered\", \"r\")\n",
    "\n",
    "count = 0\n",
    "read_depth = []\n",
    "prop_het = []\n",
    "\n",
    "for line in myfile: \n",
    "    if count > 1: \n",
    "        new_depth = line.strip().split()[1]\n",
    "        new_het = line.strip().split()[2]\n",
    "        read_depth.append(new_depth)\n",
    "        prop_het.append(new_het)\n",
    "        count += 1\n",
    "    else: \n",
    "        count += 1\n",
    "\n",
    "myfile.close()\n",
    "\n",
    "print \"Processed \", count, \" samples.\"\n"
   ]
  },
  {
   "cell_type": "code",
   "execution_count": 50,
   "metadata": {
    "collapsed": false
   },
   "outputs": [],
   "source": [
    "length = len(read_depth)\n",
    "for i in range(0,length):\n",
    "    read_depth[i] = float(read_depth[i])\n",
    "\n",
    "length = len(prop_het)\n",
    "for i in range(0,length):\n",
    "    prop_het[i] = float(prop_het[i])\n",
    "    "
   ]
  },
  {
   "cell_type": "code",
   "execution_count": 56,
   "metadata": {
    "collapsed": true
   },
   "outputs": [],
   "source": [
    "import numpy as np\n",
    "import matplotlib.pyplot as plt"
   ]
  },
  {
   "cell_type": "code",
   "execution_count": 57,
   "metadata": {
    "collapsed": false,
    "scrolled": true
   },
   "outputs": [
    {
     "data": {
      "image/png": "[encoded data removed]",
      "text/plain": [
       "<matplotlib.figure.Figure at 0x7ff8ca8bfe50>"
      ]
     },
     "metadata": {},
     "output_type": "display_data"
    }
   ],
   "source": [
    "plt.scatter(read_depth, prop_het)\n",
    "plt.suptitle(\"Heterozygosity by Read Depth\")\n",
    "plt.xlabel(\"Read depth\")\n",
    "plt.ylabel(\"Heterozygosity\")\n",
    "plt.show()"
   ]
  },
  {
   "cell_type": "code",
   "execution_count": 58,
   "metadata": {
    "collapsed": true
   },
   "outputs": [],
   "source": [
    "plt.close()"
   ]
  },
  {
   "cell_type": "markdown",
   "metadata": {},
   "source": [
    "To find the correlation between the two: "
   ]
  },
  {
   "cell_type": "code",
   "execution_count": 59,
   "metadata": {
    "collapsed": false,
    "scrolled": true
   },
   "outputs": [
    {
     "data": {
      "text/plain": [
       "array([[ 1.        ,  0.75939723],\n",
       "       [ 0.75939723,  1.        ]])"
      ]
     },
     "execution_count": 59,
     "metadata": {},
     "output_type": "execute_result"
    }
   ],
   "source": [
    "np.corrcoef(read_depth, prop_het)"
   ]
  },
  {
   "cell_type": "markdown",
   "metadata": {},
   "source": [
    "So the correlation is **0.7594**"
   ]
  },
  {
   "cell_type": "markdown",
   "metadata": {},
   "source": [
    "\n",
    "\n",
    "<br>\n",
    "I'm curious to see if this is different from the first runthrough of stacks, which did not use a reference genome. So I went back and did the filtering steps for the `stacks/batch_1.genepop` and then ran the steps above on that file: "
   ]
  },
  {
   "cell_type": "markdown",
   "metadata": {},
   "source": [
    "\n",
    "<br>\n",
    "<br>\n",
    "<br>\n",
    "<br>\n",
    "\n",
    "### (2) Haplotype Fis distribution \n",
    "\n",
    "**(1)** I ran this [r script](https://github.com/mfisher5/PCod-US-repo/blob/master/analyses/Fis.R) - borrowed from Natalie - to find per population Fis and heterozygosity. "
   ]
  },
  {
   "cell_type": "code",
   "execution_count": 12,
   "metadata": {
    "collapsed": false
   },
   "outputs": [
    {
     "data": {
      "text/plain": [
       "u'/mnt/hgfs/Pacific cod/DataAnalysis/PCod-US-repo/samplesT92'"
      ]
     },
     "execution_count": 12,
     "metadata": {},
     "output_type": "execute_result"
    }
   ],
   "source": [
    "pwd"
   ]
  },
  {
   "cell_type": "code",
   "execution_count": 13,
   "metadata": {
    "collapsed": false
   },
   "outputs": [
    {
     "name": "stdout",
     "output_type": "stream",
     "text": [
      "/mnt/hgfs/Pacific cod/DataAnalysis/PCod-US-repo/analyses\n"
     ]
    }
   ],
   "source": [
    "cd ../analyses"
   ]
  },
  {
   "cell_type": "markdown",
   "metadata": {},
   "source": [
    "<br>\n",
    "**(2)** Plot in frequency histogram based off of Natalie's [scallop notebook](https://github.com/nclowell/RAD_Scallops/blob/master/CRAGIG_run1/Notebooks/script_demos_notebooks/Plot%20num%20alleles%20per%20locus%20from%20catalog%20file.ipynb)."
   ]
  },
  {
   "cell_type": "code",
   "execution_count": 14,
   "metadata": {
    "collapsed": false
   },
   "outputs": [
    {
     "name": "stdout",
     "output_type": "stream",
     "text": [
      "Fis values recorded from  3848  loci.\n",
      "Removed  5117  NAs from  30784  Fis values\n"
     ]
    }
   ],
   "source": [
    "genepop = open(\"USpcod_Fis_3-24.txt\", \"r\")\n",
    "pops = [\"Kodiak03\", \"Adak06\", \"WashCoast05\", \"HecStrait04\", \"PugetSound12\", \"GeorgiaStrait13\", \"PWSound12\", \"UnimakPass03\"]\n",
    "fis_bypop = []\n",
    "fis_all = []\n",
    "\n",
    "counter = 1\n",
    "NA_count = 0\n",
    "total_count = 0\n",
    "for line in genepop: \n",
    "    if counter == 1: \n",
    "            counter += 1\n",
    "    else: \n",
    "        fis_values = line.strip().split()[1:]\n",
    "        for i in fis_values:\n",
    "            if i == \"NA\":\n",
    "                NA_count += 1\n",
    "                total_count += 1\n",
    "            else: \n",
    "                fis_all.append(float(i))\n",
    "                total_count += 1\n",
    "        counter += 1\n",
    "\n",
    "total_loci = counter - 2\n",
    "print \"Fis values recorded from \", total_loci, \" loci.\"\n",
    "print \"Removed \", NA_count, \" NAs from \", total_count, \" Fis values\"\n",
    "        "
   ]
  },
  {
   "cell_type": "code",
   "execution_count": 15,
   "metadata": {
    "collapsed": true
   },
   "outputs": [],
   "source": [
    "for i in range(0, len(fis_all)): \n",
    "    fis_all[i] = float(fis_all[i])"
   ]
  },
  {
   "cell_type": "code",
   "execution_count": 16,
   "metadata": {
    "collapsed": true
   },
   "outputs": [],
   "source": [
    "import numpy as np\n",
    "import matplotlib.pyplot as plt"
   ]
  },
  {
   "cell_type": "code",
   "execution_count": 61,
   "metadata": {
    "collapsed": false
   },
   "outputs": [
    {
     "data": {
      "image/png": "[encoded data removed]",
      "text/plain": [
       "<matplotlib.figure.Figure at 0x7ff8caa28350>"
      ]
     },
     "metadata": {},
     "output_type": "display_data"
    }
   ],
   "source": [
    "plt.hist(fis_all, bins = np.arange(-1, 1.1, .1)+0.05, color = \"darkcyan\")\n",
    "plt.suptitle(\"Haplotype-level Fis across populations\")\n",
    "plt.xlabel(\"Fis\")\n",
    "plt.ylabel(\"Frequency\")\n",
    "plt.show()"
   ]
  },
  {
   "cell_type": "code",
   "execution_count": 18,
   "metadata": {
    "collapsed": true
   },
   "outputs": [],
   "source": [
    "fis_file = open(\"USpcod_Fis_3-24.txt\", \"r\")\n",
    "lines = fis_file.readlines() # exclude header\n",
    "headerline = lines[0] # get header line\n",
    "restlines = lines[1:] # get rest of lines\n",
    "header_pops = headerline.strip().split(\"\\t\")\n",
    "header_pops = header_pops[1:]\n",
    "pops = [\"Kodiak03\", \"Adak06\", \"WashCoast05\", \"HecStrait04\", \"PugetSound12\", \"GeorgiaStrait13\", \"PWSound12\", \"UnimakPass03\"]"
   ]
  },
  {
   "cell_type": "code",
   "execution_count": 19,
   "metadata": {
    "collapsed": false
   },
   "outputs": [
    {
     "data": {
      "text/plain": [
       "['\"AD06_048\"',\n",
       " '\"WC05_048\"',\n",
       " '\"HS04_048\"',\n",
       " '\"PS12_009\"',\n",
       " '\"GS13_017\"',\n",
       " '\"PWS12_133\"',\n",
       " '\"UP03_048\"']"
      ]
     },
     "execution_count": 19,
     "metadata": {},
     "output_type": "execute_result"
    }
   ],
   "source": [
    "header_pops"
   ]
  },
  {
   "cell_type": "code",
   "execution_count": 20,
   "metadata": {
    "collapsed": false
   },
   "outputs": [
    {
     "name": "stdout",
     "output_type": "stream",
     "text": [
      "NA count: 4616\n",
      "NAs made up 17.13% of your Fis estimates.\n"
     ]
    }
   ],
   "source": [
    "fis_sets = []\n",
    "NA_count = 0\n",
    "total_count = 0\n",
    "\n",
    "snp_all_fis = []\n",
    "for pop in header_pops:\n",
    "    pop_fis = []\n",
    "    pop_index = header_pops.index(pop) + 1\n",
    "    for line in restlines:\n",
    "        linelist = line.strip().split(\"\\t\")\n",
    "        snp_fis = linelist[pop_index]\n",
    "        if snp_fis == \"NA\":\n",
    "            NA_count += 1\n",
    "            total_count += 1\n",
    "        elif snp_fis != \"NA\":\n",
    "            snp_fis = float(snp_fis)\n",
    "            pop_fis.append(snp_fis)\n",
    "            snp_all_fis.append(snp_fis)\n",
    "            total_count += 1\n",
    "    fis_sets.append(pop_fis)\n",
    "\n",
    "print \"NA count: \" + str(NA_count)\n",
    "print \"NAs made up \" + str(float(NA_count)/float(total_count)*100)[0:5] + \"% of your Fis estimates.\""
   ]
  },
  {
   "cell_type": "code",
   "execution_count": 60,
   "metadata": {
    "collapsed": false
   },
   "outputs": [
    {
     "data": {
      "image/png": "[encoded data removed]",
      "text/plain": [
       "<matplotlib.figure.Figure at 0x7ff8caa1ed50>"
      ]
     },
     "metadata": {},
     "output_type": "display_data"
    },
    {
     "data": {
      "image/png": "[encoded data removed]",
      "text/plain": [
       "<matplotlib.figure.Figure at 0x7ff8ca8909d0>"
      ]
     },
     "metadata": {},
     "output_type": "display_data"
    },
    {
     "data": {
      "image/png": "[encoded data removed]",
      "text/plain": [
       "<matplotlib.figure.Figure at 0x7ff8c808b1d0>"
      ]
     },
     "metadata": {},
     "output_type": "display_data"
    },
    {
     "data": {
      "image/png": "[encoded data removed]",
      "text/plain": [
       "<matplotlib.figure.Figure at 0x7ff8b3768990>"
      ]
     },
     "metadata": {},
     "output_type": "display_data"
    },
    {
     "data": {
      "image/png": "[encoded data removed]",
      "text/plain": [
       "<matplotlib.figure.Figure at 0x7ff8b36bda10>"
      ]
     },
     "metadata": {},
     "output_type": "display_data"
    },
    {
     "data": {
      "image/png": "[encoded data removed]",
      "text/plain": [
       "<matplotlib.figure.Figure at 0x7ff8b3563650>"
      ]
     },
     "metadata": {},
     "output_type": "display_data"
    },
    {
     "data": {
      "image/png": "[encoded data removed]",
      "text/plain": [
       "<matplotlib.figure.Figure at 0x7ff8b354fb10>"
      ]
     },
     "metadata": {},
     "output_type": "display_data"
    }
   ],
   "source": [
    "for i in range(0,len(header_pops)):\n",
    "    plt.hist(fis_sets[i], bins = np.arange(-1, 1.1, .1)+0.05, color = \"darkcyan\")\n",
    "    plt.suptitle(\"Haplotype-level Fis in population \" + pops[i])\n",
    "    plt.xlabel(\"Fis\")\n",
    "    plt.ylabel(\"Frequency\")\n",
    "    plt.show()"
   ]
  },
  {
   "cell_type": "code",
   "execution_count": 22,
   "metadata": {
    "collapsed": true
   },
   "outputs": [],
   "source": [
    "fis_file.close()"
   ]
  },
  {
   "cell_type": "markdown",
   "metadata": {},
   "source": [
    "\n",
    "<br>\n",
    "<br>\n",
    "<br>\n",
    "<br>\n",
    "\n",
    "### (3) Fis, Fst, Fit by locus\n",
    "\n",
    "**(1)** Ran option 6 >> 1 in GENEPOP\n",
    "\n",
    "![genepop](https://github.com/mfisher5/PCod-US-repo/blob/master/analyses/genepop/batch_1_filteredIndivids_home.png?raw=true)\n",
    "\n",
    "\n",
    "<br>\n",
    "**(2)** Used Dan's python script to parse genepop output"
   ]
  },
  {
   "cell_type": "code",
   "execution_count": 62,
   "metadata": {
    "collapsed": false
   },
   "outputs": [
    {
     "data": {
      "text/plain": [
       "u'/mnt/hgfs/Pacific cod/DataAnalysis/PCod-US-repo/analyses'"
      ]
     },
     "execution_count": 62,
     "metadata": {},
     "output_type": "execute_result"
    }
   ],
   "source": [
    "pwd"
   ]
  },
  {
   "cell_type": "code",
   "execution_count": 63,
   "metadata": {
    "collapsed": false
   },
   "outputs": [
    {
     "name": "stdout",
     "output_type": "stream",
     "text": [
      "/mnt/hgfs/Pacific cod/DataAnalysis/PCod-US-repo/analyses/genepop\n"
     ]
    }
   ],
   "source": [
    "cd genepop/"
   ]
  },
  {
   "cell_type": "code",
   "execution_count": 64,
   "metadata": {
    "collapsed": false
   },
   "outputs": [
    {
     "name": "stdout",
     "output_type": "stream",
     "text": [
      "################################################################################\r\n",
      "#\r\n",
      "# parseGenepopINF.py - this is a script used to parse output files created\r\n",
      "# by genepop\r\n",
      "#\r\n",
      "# 2017-March-21\r\n",
      "# Daniel Drinan (ddrinan@uw.edu)\r\n",
      "#\r\n",
      "# population - HWE, He (INF), Ho (INF), Fis_wc (INF), Fis_RH (INF)\r\n",
      "################################################################################\r\n"
     ]
    }
   ],
   "source": [
    "!head parseGenepopINFandFST.py"
   ]
  },
  {
   "cell_type": "code",
   "execution_count": 69,
   "metadata": {
    "collapsed": false
   },
   "outputs": [],
   "source": [
    "!python parseGenepopINFandFST.py \\\n",
    "-f batch_1_filteredIndivids_filteredMAFfilteredLoci20p.txt.FST \\\n",
    "-o batch_1_FSTgenepop_parsed_output.txt"
   ]
  },
  {
   "cell_type": "markdown",
   "metadata": {},
   "source": [
    "\n",
    "<br>\n",
    "**(3)** Plot in frequency histogram"
   ]
  },
  {
   "cell_type": "code",
   "execution_count": 73,
   "metadata": {
    "collapsed": false
   },
   "outputs": [
    {
     "name": "stdout",
     "output_type": "stream",
     "text": [
      "Processed  3849  loci.\n"
     ]
    }
   ],
   "source": [
    "myfile = open(\"batch_1_FSTgenepop_parsed_output.txt\", \"r\")\n",
    "\n",
    "count = 0\n",
    "loci = []\n",
    "fis = []\n",
    "fst = []\n",
    "fit = []\n",
    "\n",
    "for line in myfile: \n",
    "    if count > 1: \n",
    "        loci.append(line.strip().split()[0])\n",
    "        fis.append(float(line.strip().split()[1]))\n",
    "        fst.append(float(line.strip().split()[2]))\n",
    "        fit.append(float(line.strip().split()[3]))\n",
    "        count += 1\n",
    "    else: \n",
    "        count += 1\n",
    "\n",
    "myfile.close()\n",
    "\n",
    "print \"Processed \", count, \" loci.\""
   ]
  },
  {
   "cell_type": "code",
   "execution_count": 74,
   "metadata": {
    "collapsed": true
   },
   "outputs": [],
   "source": [
    "import numpy as np\n",
    "import matplotlib.pyplot as plt"
   ]
  },
  {
   "cell_type": "code",
   "execution_count": 85,
   "metadata": {
    "collapsed": false
   },
   "outputs": [
    {
     "data": {
      "image/png": "[encoded data removed]",
      "text/plain": [
       "<matplotlib.figure.Figure at 0x7ff8ca82c290>"
      ]
     },
     "metadata": {},
     "output_type": "display_data"
    }
   ],
   "source": [
    "plt.hist(fis, bins = np.arange(-1, 1.1, .1)+0.05, color = \"darkcyan\")\n",
    "plt.suptitle(\"Fis across loci\")\n",
    "plt.xlabel(\"Fis\")\n",
    "plt.ylabel(\"Frequency\")\n",
    "plt.show()"
   ]
  },
  {
   "cell_type": "code",
   "execution_count": 86,
   "metadata": {
    "collapsed": true
   },
   "outputs": [],
   "source": [
    "plt.close()"
   ]
  },
  {
   "cell_type": "code",
   "execution_count": 87,
   "metadata": {
    "collapsed": false
   },
   "outputs": [
    {
     "data": {
      "image/png": "[encoded data removed]",
      "text/plain": [
       "<matplotlib.figure.Figure at 0x7ff8c8082a10>"
      ]
     },
     "metadata": {},
     "output_type": "display_data"
    }
   ],
   "source": [
    "plt.hist(fst, bins = np.arange(-1, 1.1, .1)+0.05, color = \"palegreen\")\n",
    "plt.suptitle(\"Fst across loci\")\n",
    "plt.xlabel(\"Fst\")\n",
    "plt.ylabel(\"Frequency\")\n",
    "plt.show()"
   ]
  },
  {
   "cell_type": "code",
   "execution_count": 88,
   "metadata": {
    "collapsed": true
   },
   "outputs": [],
   "source": [
    "plt.close()"
   ]
  },
  {
   "cell_type": "code",
   "execution_count": 89,
   "metadata": {
    "collapsed": false
   },
   "outputs": [
    {
     "data": {
      "image/png": "[encoded data removed]",
      "text/plain": [
       "<matplotlib.figure.Figure at 0x7ff8caf54bd0>"
      ]
     },
     "metadata": {},
     "output_type": "display_data"
    }
   ],
   "source": [
    "plt.hist(fit, bins = np.arange(-1, 1.1, .1)+0.05, color = \"lightsteelblue\")\n",
    "plt.suptitle(\"Fit across loci\")\n",
    "plt.xlabel(\"Fit\")\n",
    "plt.ylabel(\"Frequency\")\n",
    "plt.show()"
   ]
  },
  {
   "cell_type": "code",
   "execution_count": 90,
   "metadata": {
    "collapsed": true
   },
   "outputs": [],
   "source": [
    "plt.close()"
   ]
  },
  {
   "cell_type": "markdown",
   "metadata": {},
   "source": [
    "\n",
    "\n",
    "\n",
    "<br>\n",
    "<br>\n",
    "<br>\n",
    "### (3) average distribution of read depth per tag ID\n",
    "\n",
    "\n",
    "Part of the following code was borrowed from Natalies [notebook](https://github.com/nclowell/RAD_Scallops/blob/master/CRAGIG_run1/Notebooks/data_processing_notebooks/plot_tagID_v_read_depth.ipynb). "
   ]
  },
  {
   "cell_type": "code",
   "execution_count": 2,
   "metadata": {
    "collapsed": false
   },
   "outputs": [
    {
     "name": "stdout",
     "output_type": "stream",
     "text": [
      "/mnt/hgfs/Pacific cod/DataAnalysis/PCod-US-repo/stacks_wgenome\n"
     ]
    }
   ],
   "source": [
    "cd ../stacks_wgenome"
   ]
  },
  {
   "cell_type": "code",
   "execution_count": 3,
   "metadata": {
    "collapsed": true
   },
   "outputs": [],
   "source": [
    "!printf \"%s\\n\" *.matches.tsv > list_matches_filenames.txt"
   ]
  },
  {
   "cell_type": "code",
   "execution_count": 4,
   "metadata": {
    "collapsed": false
   },
   "outputs": [
    {
     "name": "stdout",
     "output_type": "stream",
     "text": [
      "AD06_001.matches.tsv\r\n",
      "AD06_002.matches.tsv\r\n",
      "AD06_003.matches.tsv\r\n",
      "AD06_004.matches.tsv\r\n",
      "AD06_005.matches.tsv\r\n",
      "AD06_006.matches.tsv\r\n",
      "AD06_007.matches.tsv\r\n",
      "AD06_008.matches.tsv\r\n",
      "AD06_009.matches.tsv\r\n",
      "AD06_010.matches.tsv\r\n"
     ]
    }
   ],
   "source": [
    "!head list_matches_filenames.txt"
   ]
  },
  {
   "cell_type": "markdown",
   "metadata": {},
   "source": [
    "!!! Manually removed Pribilof Islands!!!"
   ]
  },
  {
   "cell_type": "code",
   "execution_count": 8,
   "metadata": {
    "collapsed": false
   },
   "outputs": [],
   "source": [
    "# create a list of .matches.tsv file names to open below\n",
    "file_of_filenames = open(\"list_matches_filenames.txt\",\"r\")\n",
    "lines = file_of_filenames.readlines()\n",
    "filename_list = []\n",
    "for line in lines:\n",
    "    filename = line.strip()\n",
    "    filename_list.append(filename)"
   ]
  },
  {
   "cell_type": "code",
   "execution_count": 9,
   "metadata": {
    "collapsed": false
   },
   "outputs": [
    {
     "name": "stdout",
     "output_type": "stream",
     "text": [
      "['AD06_001.matches.tsv', 'AD06_002.matches.tsv', 'AD06_003.matches.tsv', 'AD06_004.matches.tsv', 'AD06_005.matches.tsv']\n"
     ]
    }
   ],
   "source": [
    "print filename_list[0:5]"
   ]
  },
  {
   "cell_type": "code",
   "execution_count": 23,
   "metadata": {
    "collapsed": false
   },
   "outputs": [
    {
     "name": "stdout",
     "output_type": "stream",
     "text": [
      "file  AD06_001.matches.tsv  counted.\n",
      "file  AD06_002.matches.tsv  counted.\n",
      "file  AD06_003.matches.tsv  counted.\n",
      "file  AD06_004.matches.tsv  counted.\n",
      "file  AD06_005.matches.tsv  counted.\n",
      "file  AD06_006.matches.tsv  counted.\n",
      "file  AD06_007.matches.tsv  counted.\n",
      "file  AD06_008.matches.tsv  counted.\n",
      "file  AD06_009.matches.tsv  counted.\n",
      "file  AD06_010.matches.tsv  counted.\n",
      "file  AD06_011.matches.tsv  counted.\n",
      "file  AD06_012.matches.tsv  counted.\n",
      "file  AD06_013.matches.tsv  counted.\n",
      "file  AD06_014.matches.tsv  counted.\n",
      "file  AD06_015.matches.tsv  counted.\n",
      "file  AD06_016.matches.tsv  counted.\n",
      "file  AD06_017.matches.tsv  counted.\n",
      "file  AD06_018.matches.tsv  counted.\n",
      "file  AD06_019.matches.tsv  counted.\n",
      "file  AD06_020.matches.tsv  counted.\n",
      "file  AD06_021.matches.tsv  counted.\n",
      "file  AD06_022.matches.tsv  counted.\n",
      "file  AD06_023.matches.tsv  counted.\n",
      "file  AD06_024.matches.tsv  counted.\n",
      "file  AD06_025.matches.tsv  counted.\n",
      "file  AD06_026.matches.tsv  counted.\n",
      "file  AD06_027.matches.tsv  counted.\n",
      "file  AD06_028.matches.tsv  counted.\n",
      "file  AD06_029.matches.tsv  counted.\n",
      "file  AD06_030.matches.tsv  counted.\n",
      "file  AD06_031.matches.tsv  counted.\n",
      "file  AD06_032.matches.tsv  counted.\n",
      "file  AD06_033.matches.tsv  counted.\n",
      "file  AD06_034.matches.tsv  counted.\n",
      "file  AD06_035.matches.tsv  counted.\n",
      "file  AD06_036.matches.tsv  counted.\n",
      "file  AD06_037.matches.tsv  counted.\n",
      "file  AD06_038.matches.tsv  counted.\n",
      "file  AD06_039.matches.tsv  counted.\n",
      "file  AD06_040.matches.tsv  counted.\n",
      "file  AD06_041.matches.tsv  counted.\n",
      "file  AD06_042.matches.tsv  counted.\n",
      "file  AD06_043.matches.tsv  counted.\n",
      "file  AD06_044.matches.tsv  counted.\n",
      "file  AD06_045.matches.tsv  counted.\n",
      "file  AD06_046.matches.tsv  counted.\n",
      "file  AD06_047.matches.tsv  counted.\n",
      "file  AD06_048.matches.tsv  counted.\n",
      "file  GS13_001.matches.tsv  counted.\n",
      "file  GS13_002.matches.tsv  counted.\n",
      "file  GS13_003.matches.tsv  counted.\n",
      "file  GS13_004.matches.tsv  counted.\n",
      "file  GS13_005.matches.tsv  counted.\n",
      "file  GS13_006.matches.tsv  counted.\n",
      "file  GS13_007.matches.tsv  counted.\n",
      "file  GS13_008.matches.tsv  counted.\n",
      "file  GS13_009.matches.tsv  counted.\n",
      "file  GS13_010.matches.tsv  counted.\n",
      "file  GS13_011.matches.tsv  counted.\n",
      "file  GS13_012.matches.tsv  counted.\n",
      "file  GS13_013.matches.tsv  counted.\n",
      "file  GS13_014.matches.tsv  counted.\n",
      "file  GS13_015.matches.tsv  counted.\n",
      "file  GS13_016.matches.tsv  counted.\n",
      "file  GS13_017.matches.tsv  counted.\n",
      "file  HS04_001.matches.tsv  counted.\n",
      "file  HS04_002.matches.tsv  counted.\n",
      "file  HS04_003.matches.tsv  counted.\n",
      "file  HS04_004.matches.tsv  counted.\n",
      "file  HS04_005.matches.tsv  counted.\n",
      "file  HS04_006.matches.tsv  counted.\n",
      "file  HS04_007.matches.tsv  counted.\n",
      "file  HS04_008.matches.tsv  counted.\n",
      "file  HS04_009.matches.tsv  counted.\n",
      "file  HS04_010.matches.tsv  counted.\n",
      "file  HS04_011.matches.tsv  counted.\n",
      "file  HS04_012.matches.tsv  counted.\n",
      "file  HS04_013.matches.tsv  counted.\n",
      "file  HS04_014.matches.tsv  counted.\n",
      "file  HS04_015.matches.tsv  counted.\n",
      "file  HS04_016.matches.tsv  counted.\n",
      "file  HS04_017.matches.tsv  counted.\n",
      "file  HS04_018.matches.tsv  counted.\n",
      "file  HS04_019.matches.tsv  counted.\n",
      "file  HS04_020.matches.tsv  counted.\n",
      "file  HS04_021.matches.tsv  counted.\n",
      "file  HS04_022.matches.tsv  counted.\n",
      "file  HS04_023.matches.tsv  counted.\n",
      "file  HS04_024.matches.tsv  counted.\n",
      "file  HS04_025.matches.tsv  counted.\n",
      "file  HS04_026.matches.tsv  counted.\n",
      "file  HS04_027.matches.tsv  counted.\n",
      "file  HS04_028.matches.tsv  counted.\n",
      "file  HS04_029.matches.tsv  counted.\n",
      "file  HS04_030.matches.tsv  counted.\n",
      "file  HS04_031.matches.tsv  counted.\n",
      "file  HS04_032.matches.tsv  counted.\n",
      "file  HS04_033.matches.tsv  counted.\n",
      "file  HS04_034.matches.tsv  counted.\n",
      "file  HS04_035.matches.tsv  counted.\n",
      "file  HS04_036.matches.tsv  counted.\n",
      "file  HS04_037.matches.tsv  counted.\n",
      "file  HS04_038.matches.tsv  counted.\n",
      "file  HS04_039.matches.tsv  counted.\n",
      "file  HS04_040.matches.tsv  counted.\n",
      "file  HS04_041.matches.tsv  counted.\n",
      "file  HS04_042.matches.tsv  counted.\n",
      "file  HS04_043.matches.tsv  counted.\n",
      "file  HS04_044.matches.tsv  counted.\n",
      "file  HS04_045.matches.tsv  counted.\n",
      "file  HS04_046.matches.tsv  counted.\n",
      "file  HS04_047.matches.tsv  counted.\n",
      "file  HS04_048.matches.tsv  counted.\n",
      "file  KOD03_035.matches.tsv  counted.\n",
      "file  KOD03_051.matches.tsv  counted.\n",
      "file  KOD03_052.matches.tsv  counted.\n",
      "file  KOD03_053.matches.tsv  counted.\n",
      "file  KOD03_054.matches.tsv  counted.\n",
      "file  KOD03_055.matches.tsv  counted.\n",
      "file  KOD03_056.matches.tsv  counted.\n",
      "file  KOD03_057.matches.tsv  counted.\n",
      "file  KOD03_058.matches.tsv  counted.\n",
      "file  KOD03_059.matches.tsv  counted.\n",
      "file  KOD03_060.matches.tsv  counted.\n",
      "file  KOD03_061.matches.tsv  counted.\n",
      "file  KOD03_062.matches.tsv  counted.\n",
      "file  KOD03_063.matches.tsv  counted.\n",
      "file  KOD03_064.matches.tsv  counted.\n",
      "file  KOD03_065.matches.tsv  counted.\n",
      "file  KOD03_066.matches.tsv  counted.\n",
      "file  KOD03_067.matches.tsv  counted.\n",
      "file  KOD03_068.matches.tsv  counted.\n",
      "file  KOD03_069.matches.tsv  counted.\n",
      "file  KOD03_070.matches.tsv  counted.\n",
      "file  KOD03_071.matches.tsv  counted.\n",
      "file  KOD03_072.matches.tsv  counted.\n",
      "file  KOD03_073.matches.tsv  counted.\n",
      "file  KOD03_074.matches.tsv  counted.\n",
      "file  KOD03_075.matches.tsv  counted.\n",
      "file  KOD03_076.matches.tsv  counted.\n",
      "file  KOD03_077.matches.tsv  counted.\n",
      "file  KOD03_078.matches.tsv  counted.\n",
      "file  KOD03_079.matches.tsv  counted.\n",
      "file  KOD03_080.matches.tsv  counted.\n",
      "file  KOD03_081.matches.tsv  counted.\n",
      "file  KOD03_082.matches.tsv  counted.\n",
      "file  KOD03_083.matches.tsv  counted.\n",
      "file  KOD03_084.matches.tsv  counted.\n",
      "file  KOD03_085.matches.tsv  counted.\n",
      "file  KOD03_086.matches.tsv  counted.\n",
      "file  KOD03_087.matches.tsv  counted.\n",
      "file  KOD03_088.matches.tsv  counted.\n",
      "file  KOD03_089.matches.tsv  counted.\n",
      "file  KOD03_090.matches.tsv  counted.\n",
      "file  KOD03_091.matches.tsv  counted.\n",
      "file  KOD03_092.matches.tsv  counted.\n",
      "file  KOD03_093.matches.tsv  counted.\n",
      "file  KOD03_094.matches.tsv  counted.\n",
      "file  KOD03_095.matches.tsv  counted.\n",
      "file  KOD03_096.matches.tsv  counted.\n",
      "file  KOD03_097.matches.tsv  counted.\n",
      "file  PS12_001.matches.tsv  counted.\n",
      "file  PS12_002.matches.tsv  counted.\n",
      "file  PS12_003.matches.tsv  counted.\n",
      "file  PS12_004.matches.tsv  counted.\n",
      "file  PS12_005.matches.tsv  counted.\n",
      "file  PS12_006.matches.tsv  counted.\n",
      "file  PS12_007.matches.tsv  counted.\n",
      "file  PS12_008.matches.tsv  counted.\n",
      "file  PS12_009.matches.tsv  counted.\n",
      "file  PS12_010.matches.tsv  counted.\n",
      "file  PS12_011.matches.tsv  counted.\n",
      "file  PS12_012.matches.tsv  counted.\n",
      "file  PS12_013.matches.tsv  counted.\n",
      "file  PS12_014.matches.tsv  counted.\n",
      "file  PS12_015.matches.tsv  counted.\n",
      "file  PS12_016.matches.tsv  counted.\n",
      "file  PS12_017.matches.tsv  counted.\n",
      "file  PS12_018.matches.tsv  counted.\n",
      "file  PS12_019.matches.tsv  counted.\n",
      "file  PS12_020.matches.tsv  counted.\n",
      "file  PS12_021.matches.tsv  counted.\n",
      "file  PS12_022.matches.tsv  counted.\n",
      "file  PS12_023.matches.tsv  counted.\n",
      "file  PS12_024.matches.tsv  counted.\n",
      "file  PS12_025.matches.tsv  counted.\n",
      "file  PS12_026.matches.tsv  counted.\n",
      "file  PS12_027.matches.tsv  counted.\n",
      "file  PS12_028.matches.tsv  counted.\n",
      "file  PS12_029.matches.tsv  counted.\n",
      "file  PS12_030.matches.tsv  counted.\n",
      "file  PS12_031.matches.tsv  counted.\n",
      "file  PS12_032.matches.tsv  counted.\n",
      "file  PS12_033.matches.tsv  counted.\n",
      "file  PS12_034.matches.tsv  counted.\n",
      "file  PS12_035.matches.tsv  counted.\n",
      "file  PS12_036.matches.tsv  counted.\n",
      "file  PS12_037.matches.tsv  counted.\n",
      "file  PS12_038.matches.tsv  counted.\n",
      "file  PS12_039.matches.tsv  counted.\n",
      "file  PS12_040.matches.tsv  counted.\n",
      "file  PS12_041.matches.tsv  counted.\n",
      "file  PS12_042.matches.tsv  counted.\n",
      "file  PS12_043.matches.tsv  counted.\n",
      "file  PS12_044.matches.tsv  counted.\n",
      "file  PS12_045.matches.tsv  counted.\n",
      "file  PS12_046.matches.tsv  counted.\n",
      "file  PS12_047.matches.tsv  counted.\n",
      "file  PS12_048.matches.tsv  counted.\n",
      "file  PWS12_002.matches.tsv  counted.\n",
      "file  PWS12_003.matches.tsv  counted.\n",
      "file  PWS12_005.matches.tsv  counted.\n",
      "file  PWS12_006.matches.tsv  counted.\n",
      "file  PWS12_009.matches.tsv  counted.\n",
      "file  PWS12_010.matches.tsv  counted.\n",
      "file  PWS12_011.matches.tsv  counted.\n",
      "file  PWS12_014.matches.tsv  counted.\n",
      "file  PWS12_015.matches.tsv  counted.\n",
      "file  PWS12_016.matches.tsv  counted.\n",
      "file  PWS12_017.matches.tsv  counted.\n",
      "file  PWS12_018.matches.tsv  counted.\n",
      "file  PWS12_021.matches.tsv  counted.\n",
      "file  PWS12_022.matches.tsv  counted.\n",
      "file  PWS12_023.matches.tsv  counted.\n",
      "file  PWS12_063.matches.tsv  counted.\n",
      "file  PWS12_075.matches.tsv  counted.\n",
      "file  PWS12_079.matches.tsv  counted.\n",
      "file  PWS12_094.matches.tsv  counted.\n",
      "file  PWS12_095.matches.tsv  counted.\n",
      "file  PWS12_096.matches.tsv  counted.\n",
      "file  PWS12_097.matches.tsv  counted.\n",
      "file  PWS12_131.matches.tsv  counted.\n",
      "file  PWS12_133.matches.tsv  counted.\n",
      "file  UP03_001.matches.tsv  counted.\n",
      "file  UP03_002.matches.tsv  counted.\n",
      "file  UP03_003.matches.tsv  counted.\n",
      "file  UP03_004.matches.tsv  counted.\n",
      "file  UP03_005.matches.tsv  counted.\n",
      "file  UP03_006.matches.tsv  counted.\n",
      "file  UP03_007.matches.tsv  counted.\n",
      "file  UP03_008.matches.tsv  counted.\n",
      "file  UP03_009.matches.tsv  counted.\n",
      "file  UP03_010.matches.tsv  counted.\n",
      "file  UP03_011.matches.tsv  counted.\n",
      "file  UP03_012.matches.tsv  counted.\n",
      "file  UP03_013.matches.tsv  counted.\n",
      "file  UP03_014.matches.tsv  counted.\n",
      "file  UP03_015.matches.tsv  counted.\n",
      "file  UP03_016.matches.tsv  counted.\n",
      "file  UP03_017.matches.tsv  counted.\n",
      "file  UP03_018.matches.tsv  counted.\n",
      "file  UP03_019.matches.tsv  counted.\n",
      "file  UP03_020.matches.tsv  counted.\n",
      "file  UP03_021.matches.tsv  counted.\n",
      "file  UP03_022.matches.tsv  counted.\n",
      "file  UP03_023.matches.tsv  counted.\n",
      "file  UP03_024.matches.tsv  counted.\n",
      "file  UP03_025.matches.tsv  counted.\n",
      "file  UP03_026.matches.tsv  counted.\n",
      "file  UP03_027.matches.tsv  counted.\n",
      "file  UP03_028.matches.tsv  counted.\n",
      "file  UP03_029.matches.tsv  counted.\n",
      "file  UP03_030.matches.tsv  counted.\n",
      "file  UP03_031.matches.tsv  counted.\n",
      "file  UP03_032.matches.tsv  counted.\n",
      "file  UP03_033.matches.tsv  counted.\n",
      "file  UP03_034.matches.tsv  counted.\n",
      "file  UP03_035.matches.tsv  counted.\n",
      "file  UP03_036.matches.tsv  counted.\n",
      "file  UP03_037.matches.tsv  counted.\n",
      "file  UP03_038.matches.tsv  counted.\n",
      "file  UP03_039.matches.tsv  counted.\n",
      "file  UP03_040.matches.tsv  counted.\n",
      "file  UP03_041.matches.tsv  counted.\n",
      "file  UP03_042.matches.tsv  counted.\n",
      "file  UP03_043.matches.tsv  counted.\n",
      "file  UP03_044.matches.tsv  counted.\n",
      "file  UP03_045.matches.tsv  counted.\n",
      "file  UP03_046.matches.tsv  counted.\n",
      "file  UP03_047.matches.tsv  counted.\n",
      "file  UP03_048.matches.tsv  counted.\n",
      "file  WC05_001.matches.tsv  counted.\n",
      "file  WC05_002.matches.tsv  counted.\n",
      "file  WC05_003.matches.tsv  counted.\n",
      "file  WC05_004.matches.tsv  counted.\n",
      "file  WC05_005.matches.tsv  counted.\n",
      "file  WC05_006.matches.tsv  counted.\n",
      "file  WC05_007.matches.tsv  counted.\n",
      "file  WC05_008.matches.tsv  counted.\n",
      "file  WC05_009.matches.tsv  counted.\n",
      "file  WC05_010.matches.tsv  counted.\n",
      "file  WC05_011.matches.tsv  counted.\n",
      "file  WC05_012.matches.tsv  counted.\n",
      "file  WC05_013.matches.tsv  counted.\n",
      "file  WC05_014.matches.tsv  counted.\n",
      "file  WC05_015.matches.tsv  counted.\n",
      "file  WC05_016.matches.tsv  counted.\n",
      "file  WC05_017.matches.tsv  counted.\n",
      "file  WC05_018.matches.tsv  counted.\n",
      "file  WC05_019.matches.tsv  counted.\n",
      "file  WC05_020.matches.tsv  counted.\n",
      "file  WC05_021.matches.tsv  counted.\n",
      "file  WC05_022.matches.tsv  counted.\n",
      "file  WC05_023.matches.tsv  counted.\n",
      "file  WC05_024.matches.tsv  counted.\n",
      "file  WC05_025.matches.tsv  counted.\n",
      "file  WC05_026.matches.tsv  counted.\n",
      "file  WC05_027.matches.tsv  counted.\n",
      "file  WC05_028.matches.tsv  counted.\n",
      "file  WC05_029.matches.tsv  counted.\n",
      "file  WC05_030.matches.tsv  counted.\n",
      "file  WC05_031.matches.tsv  counted.\n",
      "file  WC05_032.matches.tsv  counted.\n",
      "file  WC05_033.matches.tsv  counted.\n",
      "file  WC05_034.matches.tsv  counted.\n",
      "file  WC05_035.matches.tsv  counted.\n",
      "file  WC05_036.matches.tsv  counted.\n",
      "file  WC05_037.matches.tsv  counted.\n",
      "file  WC05_038.matches.tsv  counted.\n",
      "file  WC05_039.matches.tsv  counted.\n",
      "file  WC05_040.matches.tsv  counted.\n",
      "file  WC05_041.matches.tsv  counted.\n",
      "file  WC05_042.matches.tsv  counted.\n",
      "file  WC05_043.matches.tsv  counted.\n",
      "file  WC05_044.matches.tsv  counted.\n",
      "file  WC05_045.matches.tsv  counted.\n",
      "file  WC05_046.matches.tsv  counted.\n",
      "file  WC05_047.matches.tsv  counted.\n",
      "file  WC05_048.matches.tsv  counted.\n"
     ]
    }
   ],
   "source": [
    "#initiate dictionary\n",
    "rd_final_dict = {}\n",
    "reps = 0\n",
    "\n",
    "for file in filename_list:\n",
    "    rd_dict = {}\n",
    "    indfile = open(file,\"r\")\n",
    "    lines = indfile.readlines()[1:]   #read all of file except header\n",
    "    newcount = 0\n",
    "    #create the individual's dictionary of read depths per locus\n",
    "    for line in lines:\n",
    "        linelist = line.strip().split()\n",
    "        locus = int(linelist[2])\n",
    "        count = int(linelist[6])\n",
    "        if locus not in rd_dict:\n",
    "            rd_dict[locus] = int(count) \n",
    "        elif locus in rd_dict:\n",
    "            oldcount = rd_dict[locus]\n",
    "            newcount = oldcount + count\n",
    "            rd_dict[locus] = newcount\n",
    "        else:\n",
    "            print \"Something funky is going on.\"\n",
    "    #append all individual's counts to the final dictionary by locus\n",
    "    locus_list = rd_dict.keys()\n",
    "    for locus in locus_list: \n",
    "        reads = rd_dict[locus]\n",
    "        if locus not in rd_final_dict: \n",
    "            rd_final_dict[locus] = [reads]\n",
    "        else: \n",
    "            averages = rd_final_dict[locus]\n",
    "            averages.append(reads)\n",
    "            rd_final_dict[locus] = averages\n",
    "    reps += 1\n",
    "    print \"file \", file, \" counted.\"\n",
    "    indfile.close()"
   ]
  },
  {
   "cell_type": "code",
   "execution_count": 26,
   "metadata": {
    "collapsed": false
   },
   "outputs": [
    {
     "name": "stdout",
     "output_type": "stream",
     "text": [
      "[121, 48, 60, 43, 54, 93, 21, 22, 72, 29, 10, 12, 96, 81, 29, 30, 32, 39, 15, 39, 20, 83, 78, 36, 13, 49, 89, 23, 21, 15, 44, 88, 25, 84, 31, 42, 59, 75, 98, 28, 14, 98, 108, 17, 69, 12, 16, 62, 108, 48, 18, 14, 72, 60, 56, 20, 82, 56, 110, 22, 136, 27, 82, 68, 236, 220, 230, 118, 13, 85, 20, 136, 19, 28, 54, 46, 34, 97, 16, 26, 111, 71, 36, 42, 12, 43, 11, 171, 30, 19, 14, 59, 36, 24, 67, 45, 77, 28, 59, 15, 20, 67, 40, 258, 29, 15, 15, 130, 15, 60, 276, 75, 146, 168, 10, 62, 15, 121, 12, 17, 47, 18, 47, 38, 192, 13, 17, 107, 95, 40, 105, 83, 22, 85, 38, 14, 45, 18, 69, 32, 23, 82, 15, 46, 91, 24, 252, 23, 20, 106, 21, 66, 206, 133, 289, 83, 23, 93, 23, 173, 21, 59, 76, 12, 69, 24, 88, 22, 24, 79, 26, 36, 72, 49, 52, 13, 167, 50, 17, 44, 21, 51, 42, 25, 294, 32, 243, 144, 67, 316, 59, 291, 40, 80, 343, 70, 52, 98, 37, 42, 191, 135, 45, 57, 74, 44, 87, 30, 119, 21, 87, 49, 36, 27, 37, 69, 39, 96, 281, 43, 97, 60, 21, 21, 17, 77, 49, 16, 100, 49, 32, 15, 37, 13, 23, 24, 149, 215, 23, 12, 34, 142, 51, 18, 11, 63, 73, 29, 27, 165, 51, 76, 30, 53, 64, 33, 55, 16, 24, 43, 15, 204, 40, 32, 11, 76, 10, 69, 269, 128, 107, 166, 28, 124, 34, 11, 63, 23, 12, 159, 18, 46, 87, 52, 22, 58, 16, 27, 14, 142, 45, 18, 28, 14, 27]\n"
     ]
    }
   ],
   "source": [
    "#checking final dictionary counts to make sure they are appending\n",
    "#and not summing\n",
    "print rd_final_dict[100]"
   ]
  },
  {
   "cell_type": "code",
   "execution_count": 28,
   "metadata": {
    "collapsed": false
   },
   "outputs": [],
   "source": [
    "#take averages at each locus\n",
    "locus_list = rd_final_dict.keys()\n",
    "rd_avg_dict = {}\n",
    "for locus in locus_list: \n",
    "    newlist = rd_final_dict[locus]\n",
    "    average = float(sum(newlist))/float(len(newlist))\n",
    "    rd_avg_dict[locus] = average\n",
    "        "
   ]
  },
  {
   "cell_type": "code",
   "execution_count": 31,
   "metadata": {
    "collapsed": false
   },
   "outputs": [],
   "source": [
    "#create a list of the read depth averages \n",
    "#by extracting values from dictionary\n",
    "count_list = []\n",
    "for locus in locus_list:\n",
    "    avg_reads = rd_avg_dict[locus]\n",
    "    count_list.append(avg_reads)"
   ]
  },
  {
   "cell_type": "code",
   "execution_count": 32,
   "metadata": {
    "collapsed": true
   },
   "outputs": [],
   "source": [
    "#import plotting packages\n",
    "import matplotlib.pyplot as plt\n",
    "import numpy as np"
   ]
  },
  {
   "cell_type": "code",
   "execution_count": 33,
   "metadata": {
    "collapsed": false,
    "scrolled": false
   },
   "outputs": [
    {
     "data": {
      "image/png": "[encoded data removed]",
      "text/plain": [
       "<matplotlib.figure.Figure at 0x7f5ed7908410>"
      ]
     },
     "metadata": {},
     "output_type": "display_data"
    }
   ],
   "source": [
    "#create scatterplot\n",
    "plt.scatter(locus_list, count_list)\n",
    "plt.suptitle(\"Read depth of tag v. Tag ID\")\n",
    "plt.xlabel(\"Tag ID\")\n",
    "plt.ylabel(\"Read depth of tag across individuals\")\n",
    "plt.show()"
   ]
  },
  {
   "cell_type": "code",
   "execution_count": 34,
   "metadata": {
    "collapsed": true
   },
   "outputs": [],
   "source": [
    "plt.close()"
   ]
  },
  {
   "cell_type": "code",
   "execution_count": 35,
   "metadata": {
    "collapsed": true
   },
   "outputs": [],
   "source": [
    "# subset data to focus on read depths less than 1000\n",
    "count_less_1000 = [num for num in count_list if num < 1000]"
   ]
  },
  {
   "cell_type": "code",
   "execution_count": 36,
   "metadata": {
    "collapsed": false
   },
   "outputs": [
    {
     "data": {
      "text/plain": [
       "12062"
      ]
     },
     "execution_count": 36,
     "metadata": {},
     "output_type": "execute_result"
    }
   ],
   "source": [
    "# what number of tags have a read depth of less than 100,000\n",
    "len(count_less_1000)"
   ]
  },
  {
   "cell_type": "code",
   "execution_count": 37,
   "metadata": {
    "collapsed": false
   },
   "outputs": [
    {
     "data": {
      "text/plain": [
       "7"
      ]
     },
     "execution_count": 37,
     "metadata": {},
     "output_type": "execute_result"
    }
   ],
   "source": [
    "# what number of tags have a read depth of greater than 1000\n",
    "len(count_list) - len(count_less_1000)"
   ]
  },
  {
   "cell_type": "code",
   "execution_count": 39,
   "metadata": {
    "collapsed": false
   },
   "outputs": [
    {
     "data": {
      "image/png": "[encoded data removed]",
      "text/plain": [
       "<matplotlib.figure.Figure at 0x7f5ecd52e390>"
      ]
     },
     "metadata": {},
     "output_type": "display_data"
    }
   ],
   "source": [
    "plt.hist(count_less_1000, bins = np.arange(0,1000, 10),color = \"darkcyan\")\n",
    "plt.xlabel(\"Read depth bin\")\n",
    "plt.ylabel(\"Frequency\")\n",
    "plt.suptitle(\"Distribution of Average Read Depth of\\nindividual tags\")\n",
    "plt.show()"
   ]
  },
  {
   "cell_type": "code",
   "execution_count": 87,
   "metadata": {
    "collapsed": true
   },
   "outputs": [],
   "source": [
    "plt.close()"
   ]
  },
  {
   "cell_type": "code",
   "execution_count": 40,
   "metadata": {
    "collapsed": true
   },
   "outputs": [],
   "source": [
    "# subset read depths less than 400 (densest range in plot above)\n",
    "count_less_400 = [num for num in count_list if num < 400]"
   ]
  },
  {
   "cell_type": "code",
   "execution_count": 41,
   "metadata": {
    "collapsed": false
   },
   "outputs": [
    {
     "data": {
      "image/png": "[encoded data removed]",
      "text/plain": [
       "<matplotlib.figure.Figure at 0x7f5ed47e3910>"
      ]
     },
     "metadata": {},
     "output_type": "display_data"
    }
   ],
   "source": [
    "plt.hist(count_less_1000, bins = np.arange(0,400, 10),color = \"darkcyan\")\n",
    "plt.xlabel(\"Read depth bin\")\n",
    "plt.ylabel(\"Frequency\")\n",
    "plt.suptitle(\"Distribution of Average Read Depth of\\nindividual tags\")\n",
    "plt.show()"
   ]
  },
  {
   "cell_type": "code",
   "execution_count": 42,
   "metadata": {
    "collapsed": true
   },
   "outputs": [],
   "source": [
    "plt.close()"
   ]
  },
  {
   "cell_type": "code",
   "execution_count": null,
   "metadata": {
    "collapsed": true
   },
   "outputs": [],
   "source": []
  }
 ],
 "metadata": {
  "anaconda-cloud": {},
  "kernelspec": {
   "display_name": "Python [default]",
   "language": "python",
   "name": "python2"
  },
  "language_info": {
   "codemirror_mode": {
    "name": "ipython",
    "version": 2
   },
   "file_extension": ".py",
   "mimetype": "text/x-python",
   "name": "python",
   "nbconvert_exporter": "python",
   "pygments_lexer": "ipython2",
   "version": "2.7.12"
  }
 },
 "nbformat": 4,
 "nbformat_minor": 1
}
