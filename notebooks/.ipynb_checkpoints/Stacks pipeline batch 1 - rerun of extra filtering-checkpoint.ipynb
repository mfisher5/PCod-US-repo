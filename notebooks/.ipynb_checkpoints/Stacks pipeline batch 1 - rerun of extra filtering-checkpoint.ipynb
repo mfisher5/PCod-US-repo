{
 "cells": [
  {
   "cell_type": "markdown",
   "metadata": {
    "collapsed": true
   },
   "source": [
    "## Stacks pipeline Batch 1 (rerun of filtering steps)\n",
    "\n",
    "\n",
    "There appears to be a bottleneck at Marine's genotypes_verif script, when the genepop goes from containing 9,717 loci (a normal amount) to 5,864 loci. Since I used an edited script that took arguments, I'm going to repeat the filtering using Marine's original script. "
   ]
  },
  {
   "cell_type": "code",
   "execution_count": 1,
   "metadata": {
    "collapsed": false
   },
   "outputs": [
    {
     "name": "stdout",
     "output_type": "stream",
     "text": [
      "/mnt/hgfs/Pacific cod/DataAnalysis/PCod-US-repo/scripts/PostStacksFiltering\n"
     ]
    }
   ],
   "source": [
    "cd ../scripts/PostStacksFiltering/"
   ]
  },
  {
   "cell_type": "code",
   "execution_count": 2,
   "metadata": {
    "collapsed": false
   },
   "outputs": [
    {
     "name": "stdout",
     "output_type": "stream",
     "text": [
      "############## Marine Brieuc   mbrieuc <a> uw.edu\r\n",
      "### NEED: file with list of individuals (1 individual per line) check end of line and change line 38 if necessary                            - line 38 + check line 43\r\n",
      "###       catalog file: name of locus in first columns, haplotype1 and haplotype2 in second column, SNP positions in the following columns    - line 16\r\n",
      "###       name of output file                                                                                                                - line 12\r\n",
      "###       location of the indiv.tags.tsv files                                                                                               - line 58\r\n"
     ]
    }
   ],
   "source": [
    "!head -n 5 genotypes_verif_v2_no_ref_3-22.py"
   ]
  },
  {
   "cell_type": "code",
   "execution_count": 8,
   "metadata": {
    "collapsed": false
   },
   "outputs": [
    {
     "name": "stdout",
     "output_type": "stream",
     "text": [
      "KOD03_035\n",
      "KOD03_051\n",
      "KOD03_052\n",
      "KOD03_053\n",
      "KOD03_054\n",
      "KOD03_055\n",
      "KOD03_056\n",
      "KOD03_057\n",
      "KOD03_058\n",
      "KOD03_059\n",
      "KOD03_060\n",
      "KOD03_061\n",
      "KOD03_062\n",
      "KOD03_063\n",
      "KOD03_064\n",
      "KOD03_065\n",
      "KOD03_066\n",
      "KOD03_067\n",
      "KOD03_068\n",
      "KOD03_069\n",
      "KOD03_070\n",
      "KOD03_071\n",
      "KOD03_072\n",
      "KOD03_073\n",
      "KOD03_074\n",
      "KOD03_075\n",
      "KOD03_076\n",
      "KOD03_077\n",
      "KOD03_078\n",
      "KOD03_079\n",
      "KOD03_080\n",
      "KOD03_081\n",
      "KOD03_082\n",
      "KOD03_083\n",
      "KOD03_084\n",
      "KOD03_085\n",
      "KOD03_086\n",
      "KOD03_087\n",
      "KOD03_088\n",
      "KOD03_089\n",
      "KOD03_090\n",
      "KOD03_091\n",
      "KOD03_092\n",
      "KOD03_093\n",
      "KOD03_094\n",
      "KOD03_095\n",
      "KOD03_096\n",
      "KOD03_097\n",
      "AD06_001\n",
      "AD06_002\n",
      "AD06_003\n",
      "AD06_004\n",
      "AD06_005\n",
      "AD06_006\n",
      "AD06_007\n",
      "AD06_008\n",
      "AD06_009\n",
      "AD06_010\n",
      "AD06_011\n",
      "AD06_012\n",
      "AD06_013\n",
      "AD06_014\n",
      "AD06_015\n",
      "AD06_016\n",
      "AD06_017\n",
      "AD06_018\n",
      "AD06_019\n",
      "AD06_020\n",
      "AD06_021\n",
      "AD06_022\n",
      "AD06_023\n",
      "AD06_024\n",
      "AD06_025\n",
      "AD06_026\n",
      "AD06_027\n",
      "AD06_028\n",
      "AD06_029\n",
      "AD06_030\n",
      "AD06_031\n",
      "AD06_032\n",
      "AD06_033\n",
      "AD06_034\n",
      "AD06_035\n",
      "AD06_036\n",
      "AD06_037\n",
      "AD06_038\n",
      "AD06_039\n",
      "AD06_040\n",
      "AD06_041\n",
      "AD06_042\n",
      "AD06_043\n",
      "AD06_044\n",
      "AD06_045\n",
      "AD06_046\n",
      "AD06_047\n",
      "AD06_048\n",
      "WC05_001\n",
      "WC05_002\n",
      "WC05_003\n",
      "WC05_004\n",
      "WC05_005\n",
      "WC05_006\n",
      "WC05_007\n",
      "WC05_008\n",
      "WC05_009\n",
      "WC05_010\n",
      "WC05_011\n",
      "WC05_012\n",
      "WC05_013\n",
      "WC05_014\n",
      "WC05_015\n",
      "WC05_016\n",
      "WC05_017\n",
      "WC05_018\n",
      "WC05_019\n",
      "WC05_020\n",
      "WC05_021\n",
      "WC05_022\n",
      "WC05_023\n",
      "WC05_024\n",
      "WC05_025\n",
      "WC05_026\n",
      "WC05_027\n",
      "WC05_028\n",
      "WC05_029\n",
      "WC05_030\n",
      "WC05_031\n",
      "WC05_032\n",
      "WC05_033\n",
      "WC05_034\n",
      "WC05_035\n",
      "WC05_036\n",
      "WC05_037\n",
      "WC05_038\n",
      "WC05_039\n",
      "WC05_040\n",
      "WC05_041\n",
      "WC05_042\n",
      "WC05_043\n",
      "WC05_044\n",
      "WC05_045\n",
      "WC05_046\n",
      "WC05_047\n",
      "WC05_048\n",
      "HS04_001\n",
      "HS04_002\n",
      "HS04_003\n",
      "HS04_004\n",
      "HS04_005\n",
      "HS04_006\n",
      "HS04_007\n",
      "HS04_008\n",
      "HS04_009\n",
      "HS04_010\n",
      "HS04_011\n",
      "HS04_012\n",
      "HS04_013\n",
      "HS04_014\n",
      "HS04_015\n",
      "HS04_016\n",
      "HS04_017\n",
      "HS04_018\n",
      "HS04_019\n",
      "HS04_020\n",
      "HS04_021\n",
      "HS04_022\n",
      "HS04_023\n",
      "HS04_024\n",
      "HS04_025\n",
      "HS04_026\n",
      "HS04_027\n",
      "HS04_028\n",
      "HS04_029\n",
      "HS04_030\n",
      "HS04_031\n",
      "HS04_032\n",
      "HS04_033\n",
      "HS04_034\n",
      "HS04_035\n",
      "HS04_036\n",
      "HS04_037\n",
      "HS04_038\n",
      "HS04_039\n",
      "HS04_040\n",
      "HS04_041\n",
      "HS04_042\n",
      "HS04_043\n",
      "HS04_044\n",
      "HS04_045\n",
      "HS04_046\n",
      "HS04_047\n",
      "HS04_048\n",
      "PI04_001\n",
      "PI04_002\n",
      "PI04_003\n",
      "PI04_004\n",
      "PI04_005\n",
      "PI04_006\n",
      "PI04_007\n",
      "PI04_008\n",
      "PI04_009\n",
      "PI04_010\n",
      "PI04_011\n",
      "PI04_012\n",
      "PI04_013\n",
      "PI04_014\n",
      "PI04_015\n",
      "PI04_016\n",
      "PI04_017\n",
      "PI04_018\n",
      "PI04_019\n",
      "PI04_020\n",
      "PI04_021\n",
      "PI04_022\n",
      "PI04_023\n",
      "PI04_024\n",
      "PI04_025\n",
      "PI04_026\n",
      "PI04_027\n",
      "PI04_028\n",
      "PI04_029\n",
      "PI04_030\n",
      "PI04_031\n",
      "PI04_032\n",
      "PI04_033\n",
      "PI04_034\n",
      "PI04_035\n",
      "PI04_036\n",
      "PI04_037\n",
      "PI04_038\n",
      "PI04_039\n",
      "PI04_040\n",
      "PI04_041\n",
      "PI04_042\n",
      "PI04_043\n",
      "PI04_044\n",
      "PI04_045\n",
      "PI04_046\n",
      "PI04_047\n",
      "PI04_048\n",
      "PS12_008\n",
      "PS12_048\n",
      "PS12_031\n",
      "PS12_036\n",
      "PS12_030\n",
      "PS12_006\n",
      "PS12_016\n",
      "PS12_033\n",
      "PS12_015\n",
      "PS12_014\n",
      "PS12_044\n",
      "PS12_037\n",
      "PS12_004\n",
      "PS12_040\n",
      "PS12_023\n",
      "PS12_042\n",
      "PS12_024\n",
      "PS12_034\n",
      "PS12_003\n",
      "PS12_002\n",
      "PS12_001\n",
      "PS12_041\n",
      "PS12_013\n",
      "PS12_027\n",
      "PS12_039\n",
      "PS12_020\n",
      "PS12_012\n",
      "PS12_029\n",
      "PS12_022\n",
      "PS12_007\n",
      "PS12_046\n",
      "PS12_043\n",
      "PS12_045\n",
      "PS12_011\n",
      "PS12_028\n",
      "PS12_021\n",
      "PS12_026\n",
      "PS12_010\n",
      "PS12_025\n",
      "PS12_019\n",
      "PS12_038\n",
      "PS12_017\n",
      "PS12_047\n",
      "PS12_032\n",
      "PS12_018\n",
      "PS12_035\n",
      "PS12_005\n",
      "PS12_009\n",
      "GS13_001\n",
      "GS13_002\n",
      "GS13_003\n",
      "GS13_004\n",
      "GS13_005\n",
      "GS13_006\n",
      "GS13_007\n",
      "GS13_008\n",
      "GS13_009\n",
      "GS13_010\n",
      "GS13_011\n",
      "GS13_012\n",
      "GS13_013\n",
      "GS13_014\n",
      "GS13_015\n",
      "GS13_016\n",
      "GS13_017\n",
      "PWS12_002\n",
      "PWS12_003\n",
      "PWS12_005\n",
      "PWS12_006\n",
      "PWS12_009\n",
      "PWS12_010\n",
      "PWS12_011\n",
      "PWS12_014\n",
      "PWS12_015\n",
      "PWS12_016\n",
      "PWS12_017\n",
      "PWS12_018\n",
      "PWS12_021\n",
      "PWS12_022\n",
      "PWS12_023\n",
      "PWS12_063\n",
      "PWS12_075\n",
      "PWS12_079\n",
      "PWS12_094\n",
      "PWS12_095\n",
      "PWS12_096\n",
      "PWS12_097\n",
      "PWS12_131\n",
      "PWS12_133\n",
      "UP03_001\n",
      "UP03_009\n",
      "UP03_017\n",
      "UP03_025\n",
      "UP03_033\n",
      "UP03_041\n",
      "UP03_002\n",
      "UP03_010\n",
      "UP03_018\n",
      "UP03_026\n",
      "UP03_034\n",
      "UP03_042\n",
      "UP03_003\n",
      "UP03_011\n",
      "UP03_019\n",
      "UP03_027\n",
      "UP03_035\n",
      "UP03_043\n",
      "UP03_004\n",
      "UP03_012\n",
      "UP03_020\n",
      "UP03_028\n",
      "UP03_036\n",
      "UP03_044\n",
      "UP03_005\n",
      "UP03_013\n",
      "UP03_021\n",
      "UP03_029\n",
      "UP03_037\n",
      "UP03_045\n",
      "UP03_006\n",
      "UP03_014\n",
      "UP03_022\n",
      "UP03_030\n",
      "UP03_038\n",
      "UP03_046\n",
      "UP03_007\n",
      "UP03_015\n",
      "UP03_023\n",
      "UP03_031\n",
      "UP03_039\n",
      "UP03_047\n",
      "UP03_008\n",
      "UP03_016\n",
      "UP03_024\n",
      "UP03_032\n",
      "UP03_040\n",
      "UP03_048\n"
     ]
    }
   ],
   "source": [
    "!python genotypes_verif_v2_no_ref_3-22.py"
   ]
  },
  {
   "cell_type": "markdown",
   "metadata": {},
   "source": [
    "\n",
    "\n",
    "There are still **5,864 loci** retained after this script. So my `_takeARGS.py` version works!\n",
    "\n",
    "\n",
    "<br>\n",
    "Since the next greatest bottleneck occurs between this step and MAF / MAF and loci missing data filtering, I looked at the distribution of missing data by locus and by individual, AFTER Marine' genotype verification / biallelic filtering script. The following is based on the file \n",
    "\n",
    "`batch_1.CorrectedGenotypes_biallelic.txt` \n",
    "\n",
    "<br>\n",
    "\n",
    "**First Graph:** Missing Data per locus: The proportion of missing genotypes at that locus, across ALL individuals. Loss of **3,059** loci with 0.20 cutoff\n",
    "![img-md_perlocus](https://github.com/mfisher5/PCod-US-repo/blob/master/analyses/stacks_pipeline_visuals/missing_data_perLocus_all.png?raw=true)\n",
    "\n",
    "**Second Graph:** Missing Data per individual: The proportion of missing genotypes in that individual, across all loci\n",
    "![img-md_perindivid](https://github.com/mfisher5/PCod-US-repo/blob/master/analyses/stacks_pipeline_visuals/missing_data_perIndivid.png?raw=true)\n",
    "\n",
    "\n",
    "**Third Graph:** Missing Data per locus: The proportion of missing genotypes at that locus, across individuals with less than 90% missing data. Loss of **1,499 loci** with 0.20 cutoff. Removes **39 individuals**\n",
    "![img-md_perlocus_lte90](https://github.com/mfisher5/PCod-US-repo/blob/master/analyses/stacks_pipeline_visuals/missing_data_perLocus_lte90.png?raw=true)\n",
    "\n",
    "\n",
    "**Fourth Graph:** Missing Data per locus: The proportion of missing genotypes at that locus, across individuals with less than 80% missing data. Loss of **1,239** loci with 0.20 cutoff. Removes **47 individuals**\n",
    "![img-md_perlocus_lte80](https://github.com/mfisher5/PCod-US-repo/blob/master/analyses/stacks_pipeline_visuals/missing_data_perLocus_lte80.png?raw=true)\n",
    "\n",
    "\n",
    "**Fifth Graph:** Missing Data per locus: The proportion of missing genotypes at that locus, across individuals iwith less than 20% missing data. Loss of **55** loci with 0.20 cutoff. Removes **112 individuals**\n",
    "![img-md_perlocus_lte20](https://github.com/mfisher5/PCod-US-repo/blob/master/analyses/stacks_pipeline_visuals/missing_data_perLocus_lte20.png?raw=true)"
   ]
  },
  {
   "cell_type": "markdown",
   "metadata": {},
   "source": [
    "<br>\n",
    "\n",
    "Individuals removed: 113\n",
    "\n",
    "*Note - only had to remove 112 with the cutoff, but there was only 1 individual left in the Pribilof Islands so I removed that one too. *"
   ]
  },
  {
   "cell_type": "code",
   "execution_count": 9,
   "metadata": {
    "collapsed": false
   },
   "outputs": [
    {
     "data": {
      "text/plain": [
       "u'/mnt/hgfs/Pacific cod/DataAnalysis/PCod-US-repo/scripts/PostStacksFiltering'"
      ]
     },
     "execution_count": 9,
     "metadata": {},
     "output_type": "execute_result"
    }
   ],
   "source": [
    "pwd"
   ]
  },
  {
   "cell_type": "code",
   "execution_count": 12,
   "metadata": {
    "collapsed": false
   },
   "outputs": [
    {
     "name": "stdout",
     "output_type": "stream",
     "text": [
      "#individuals to remove because they have more than 20% missing data across loci\r",
      "\r\n",
      "KOD03_053\r\n",
      "KOD03_060\r\n",
      "KOD03_062\r\n",
      "KOD03_087\r\n",
      "KOD03_088\r\n",
      "KOD03_091\r\n",
      "KOD03_092\r\n",
      "AD06_002\r\n",
      "AD06_005\r\n"
     ]
    }
   ],
   "source": [
    "!head individs_remove_gte20md.txt"
   ]
  },
  {
   "cell_type": "markdown",
   "metadata": {},
   "source": [
    "\n",
    "<br>\n",
    "I removed these individuals from the \n",
    "\n",
    "`batch_1.CorrectedGenotypes_biallelic.txt`\n",
    "\n",
    "to make the new file\n",
    "\n",
    "`batch_1.CorrectedGenotypes_biallelic.filteredIndivids.txt`\n",
    "\n",
    "excel file, and then re-ran the MAF and the Missing Data filtering steps. \n",
    "\n",
    "<br>\n",
    "Number of loci retained: **5,864 loci**"
   ]
  },
  {
   "cell_type": "markdown",
   "metadata": {},
   "source": [
    "\n",
    "**Step Four: **Run Charlie's genepop_conversion_corrected.py script"
   ]
  },
  {
   "cell_type": "code",
   "execution_count": 13,
   "metadata": {
    "collapsed": false
   },
   "outputs": [
    {
     "data": {
      "text/plain": [
       "u'/mnt/hgfs/Pacific cod/DataAnalysis/PCod-US-repo/scripts/PostStacksFiltering'"
      ]
     },
     "execution_count": 13,
     "metadata": {},
     "output_type": "execute_result"
    }
   ],
   "source": [
    "pwd"
   ]
  },
  {
   "cell_type": "code",
   "execution_count": 14,
   "metadata": {
    "collapsed": true
   },
   "outputs": [],
   "source": [
    "!python Genepop_conversion_corrected.py \\\n",
    "../../stacks_wgenome/batch_1.CorrectedGenotypes_biallelic.filteredIndivids.txt \\\n",
    "../../stacks_wgenome/batch_1.CorrectedGenotypes_biallelic.filteredIndivids.genepop"
   ]
  },
  {
   "cell_type": "markdown",
   "metadata": {},
   "source": [
    "\n",
    "<br>\n",
    "**Step Five:** transpose genepop into a 2x2 chart"
   ]
  },
  {
   "cell_type": "code",
   "execution_count": 16,
   "metadata": {
    "collapsed": false
   },
   "outputs": [
    {
     "name": "stdout",
     "output_type": "stream",
     "text": [
      "adding 'sample' as the first column header\r\n"
     ]
    }
   ],
   "source": [
    "#changed file paths within script\n",
    "!python add_sample_to_genepop.py ../../stacks_wgenome 1"
   ]
  },
  {
   "cell_type": "code",
   "execution_count": 17,
   "metadata": {
    "collapsed": true
   },
   "outputs": [],
   "source": [
    "!python transpose.py \\\n",
    "../../stacks_wgenome/batch_1.CorrectedGenotypes_biallelic_edit.filteredIndivids.genepop \\\n",
    "../../stacks_wgenome/batch_1.CorrectedGenotypes_biallelic_TRANSPOSED.filteredIndivids.txt"
   ]
  },
  {
   "cell_type": "markdown",
   "metadata": {},
   "source": [
    "\n",
    "**Step 6:** Filter for MAF"
   ]
  },
  {
   "cell_type": "code",
   "execution_count": 19,
   "metadata": {
    "collapsed": false
   },
   "outputs": [],
   "source": [
    "#changed file paths within script\n",
    "!python convert_genepop_to_csv.py ../../stacks_wgenome 1"
   ]
  },
  {
   "cell_type": "markdown",
   "metadata": {},
   "source": [
    "<br>\n",
    "For the next part, I have to create a new population map that excludes the samples that were removed. "
   ]
  },
  {
   "cell_type": "code",
   "execution_count": 20,
   "metadata": {
    "collapsed": false
   },
   "outputs": [
    {
     "name": "stdout",
     "output_type": "stream",
     "text": [
      "You have 8 populations.\r\n",
      "These are your populations, with the number of samples in each:\r\n",
      "OrderedDict([('Kodiak03', 41), ('Adak06', 31), ('WashCoast05', 33), ('HecStrait04', 40), ('PugetSound12', 41), ('GeorgiaStrait13', 12), ('PWSound12', 24), ('UnimakPass03', 42)])\r\n"
     ]
    }
   ],
   "source": [
    "!python genMAFfiltering.py ../PopMap_removed_gt20md.txt"
   ]
  },
  {
   "cell_type": "markdown",
   "metadata": {},
   "source": [
    "\n",
    "I checked all of the columns in the csv file to make sure they line up with the column indices in the filtering script. "
   ]
  },
  {
   "cell_type": "code",
   "execution_count": 21,
   "metadata": {
    "collapsed": false
   },
   "outputs": [
    {
     "name": "stdout",
     "output_type": "stream",
     "text": [
      "You filtered out: \r\n",
      "1776 loci\r\n",
      "You retained: \r\n",
      "4088 loci\r\n"
     ]
    }
   ],
   "source": [
    "!python Eleni_filter_by_MinorAlleleFrequency_takeARGS.py \\\n",
    "../../stacks_wgenome/batch_1.CorrectedGenotypes_biallelic_TRANSPOSED.filteredIndivids.csv \\\n",
    "../../stacks_wgenome/batch_1.filteredIndivids.MAFfiltering_outputFreqs \\\n",
    "../../stacks_wgenome/batch_1.filteredIndivids.filteredMAF \\\n",
    "../../stacks_wgenome/batch_1.filteredIndivids.MAFfiltering_BADgenotypes \\\n",
    "../../stacks_wgenome/batch_1.filteredIndivids.MAFfiltering_blacklistedMAF"
   ]
  },
  {
   "cell_type": "markdown",
   "metadata": {},
   "source": [
    "<br>\n",
    "\n",
    "**Step 7:** filter loci for missing data"
   ]
  },
  {
   "cell_type": "code",
   "execution_count": 22,
   "metadata": {
    "collapsed": false
   },
   "outputs": [
    {
     "name": "stdout",
     "output_type": "stream",
     "text": [
      "You have 8 populations.\r\n",
      "These are your populations, with the number of samples in each:\r\n",
      "OrderedDict([('Kodiak03', 41), ('Adak06', 31), ('WashCoast05', 33), ('HecStrait04', 40), ('PugetSound12', 41), ('GeorgiaStrait13', 12), ('PWSound12', 24), ('UnimakPass03', 42)])\r\n"
     ]
    }
   ],
   "source": [
    "!python genMissingLoci.py ../PopMap_removed_gt20md.txt"
   ]
  },
  {
   "cell_type": "markdown",
   "metadata": {},
   "source": [
    "Manually changed the loci missing data cutoff to 20%"
   ]
  },
  {
   "cell_type": "code",
   "execution_count": 23,
   "metadata": {
    "collapsed": false
   },
   "outputs": [
    {
     "name": "stdout",
     "output_type": "stream",
     "text": [
      "processed 4088 loci\r\n",
      "Number of loci removed: 240\r\n"
     ]
    }
   ],
   "source": [
    "!python FilterLoci_by_MissingValues_20p.py \\\n",
    "../../stacks_wgenome/batch_1.filteredIndivids.filteredMAF \\\n",
    "../../stacks_wgenome/batch_1.filteredIndivids.filteredMAF_filteredLoci20p \\\n",
    "../../stacks_wgenome/batch_1.filteredIndivids.filteredLoci_blacklisted20p"
   ]
  },
  {
   "cell_type": "markdown",
   "metadata": {},
   "source": [
    "_______________________________\n",
    "\n",
    "**Total number of loci: 3,848**\n",
    "    \n",
    "Genepop file:  \n",
    "`batch_1.filteredIndivids.filteredMAF_filteredLoci20p`\n",
    "\n",
    "___________________________________"
   ]
  },
  {
   "cell_type": "markdown",
   "metadata": {},
   "source": [
    "\n",
    "\n",
    "<BR>\n",
    "just out of curiosity - the Georgia Strait population has a small number of individuals. What if I filter loci missing data without this population? "
   ]
  },
  {
   "cell_type": "code",
   "execution_count": 24,
   "metadata": {
    "collapsed": false
   },
   "outputs": [
    {
     "name": "stdout",
     "output_type": "stream",
     "text": [
      "processed 4088 loci\r\n",
      "Number of loci removed: 204\r\n",
      "Number of loci retained: 3884.0\r\n"
     ]
    }
   ],
   "source": [
    "!python FilterLoci_by_MissingValues_20p_noGS.py \\\n",
    "../../stacks_wgenome/batch_1.filteredIndivids.filteredMAF \\\n",
    "../../stacks_wgenome/batch_1.filteredIndivids.filteredMAF_filteredLoci20p_noGS \\\n",
    "../../stacks_wgenome/batch_1.filteredIndivids.filteredLoci_blacklisted20p_noGS"
   ]
  },
  {
   "cell_type": "markdown",
   "metadata": {},
   "source": [
    "\n",
    "\n",
    "<br>\n",
    "Changed the filtering output file into a genepop text file that could be run through some `R` scripts: "
   ]
  },
  {
   "cell_type": "code",
   "execution_count": 1,
   "metadata": {
    "collapsed": false
   },
   "outputs": [
    {
     "data": {
      "text/plain": [
       "u'/mnt/hgfs/Pacific cod/DataAnalysis/PCod-US-repo/notebooks'"
      ]
     },
     "execution_count": 1,
     "metadata": {},
     "output_type": "execute_result"
    }
   ],
   "source": [
    "pwd"
   ]
  },
  {
   "cell_type": "code",
   "execution_count": 2,
   "metadata": {
    "collapsed": false
   },
   "outputs": [
    {
     "name": "stdout",
     "output_type": "stream",
     "text": [
      "/mnt/hgfs/Pacific cod/DataAnalysis/PCod-US-repo/scripts/PostStacksFiltering\n"
     ]
    }
   ],
   "source": [
    "cd ../scripts/PostStacksFiltering/"
   ]
  },
  {
   "cell_type": "code",
   "execution_count": 3,
   "metadata": {
    "collapsed": false
   },
   "outputs": [
    {
     "name": "stdout",
     "output_type": "stream",
     "text": [
      "#### This script converts the FINAL filtered .csv document (corrected genotypes, MAF filtered, low coverage loci filtered, low coverage individuals filtered) into a genepop file format ####\r",
      "\r\n",
      "\r",
      "\r\n",
      "## MF 12/13/2016\r",
      "\r\n",
      "\r",
      "\r\n",
      "## ARG1 : .csv file\r",
      "\r\n",
      "## ARG2 : name of genepop file (must be .gen)\r",
      "\r\n",
      "### Note -- LEAVE the \"sample\" header in the .csv file. Edit the correct title line AND the population indices in the script below. \r",
      "\r\n",
      "#############################################################################################\r",
      "\r\n",
      "\r",
      "\r\n",
      "import sys\r",
      "\r\n"
     ]
    }
   ],
   "source": [
    "!head genepop_conversion_forR.py"
   ]
  },
  {
   "cell_type": "markdown",
   "metadata": {},
   "source": [
    "\n",
    "*Changed the population names and the column indices*"
   ]
  },
  {
   "cell_type": "code",
   "execution_count": 18,
   "metadata": {
    "collapsed": false
   },
   "outputs": [],
   "source": [
    "!python genepop_conversion_forR_3-24.py \\\n",
    "../../stacks_wgenome/batch_1.filteredIndivids.filteredMAF_filteredLoci20p \\\n",
    "../../stacks_wgenome/batch_1.filteredIndivids.filteredMAF_filteredLoci20p.gen"
   ]
  },
  {
   "cell_type": "markdown",
   "metadata": {
    "collapsed": true
   },
   "source": [
    "\n",
    "\n",
    "<br>\n",
    "<br>\n",
    "<br>\n",
    "### Filtering steps on genepop file from first run-through of stacks (using `ustacks` instead of `pstacks`, no reference)\n",
    "\n",
    "\n"
   ]
  },
  {
   "cell_type": "code",
   "execution_count": 1,
   "metadata": {
    "collapsed": false,
    "scrolled": true
   },
   "outputs": [
    {
     "data": {
      "text/plain": [
       "u'/mnt/hgfs/Pacific cod/DataAnalysis/PCod-US-repo/notebooks'"
      ]
     },
     "execution_count": 1,
     "metadata": {},
     "output_type": "execute_result"
    }
   ],
   "source": [
    "pwd"
   ]
  },
  {
   "cell_type": "code",
   "execution_count": 3,
   "metadata": {
    "collapsed": false
   },
   "outputs": [
    {
     "name": "stdout",
     "output_type": "stream",
     "text": [
      "/mnt/hgfs/Pacific cod/DataAnalysis/PCod-US-repo/stacks\n"
     ]
    }
   ],
   "source": [
    "cd ../../stacks"
   ]
  },
  {
   "cell_type": "code",
   "execution_count": 5,
   "metadata": {
    "collapsed": true
   },
   "outputs": [],
   "source": [
    "!gzip -d batch_1.catalog.snps.tsv.gz"
   ]
  },
  {
   "cell_type": "code",
   "execution_count": 6,
   "metadata": {
    "collapsed": false
   },
   "outputs": [
    {
     "name": "stdout",
     "output_type": "stream",
     "text": [
      "/mnt/hgfs/Pacific cod/DataAnalysis/PCod-US-repo/scripts/PostStacksFiltering\n"
     ]
    }
   ],
   "source": [
    "cd ../scripts/PostStacksFiltering/"
   ]
  },
  {
   "cell_type": "code",
   "execution_count": 9,
   "metadata": {
    "collapsed": false
   },
   "outputs": [],
   "source": [
    "!python prep_for_extraFilters.py \\\n",
    "../../stacks/batch_1.catalog.snps.tsv \\\n",
    "../../stacks/batch_1.catalog.snps2.tsv \\\n",
    "../../stacks/batch_1.haplotypes.tsv \\\n",
    "../../stacks/batch_1.haplotypes2.tsv \\"
   ]
  },
  {
   "cell_type": "code",
   "execution_count": 11,
   "metadata": {
    "collapsed": false
   },
   "outputs": [
    {
     "name": "stdout",
     "output_type": "stream",
     "text": [
      "Traceback (most recent call last):\r\n",
      "  File \"preparing_file_for_correcting_genotypes.py\", line 71, in <module>\r\n",
      "    print no_consensus[i]\r\n",
      "IndexError: list index out of range\r\n"
     ]
    }
   ],
   "source": [
    "!python preparing_file_for_correcting_genotypes.py \\\n",
    "../../stacks/batch_1.haplotypes2.tsv \\\n",
    "../../stacks/batch_1.biallelic_catalog.tsv \\\n",
    "../../stacks/batch_1.catalog.snps2.tsv \\\n",
    "1"
   ]
  },
  {
   "cell_type": "markdown",
   "metadata": {},
   "source": [
    "\n",
    "<br>\n",
    "For some reason the haplotypes file is empty???? \n",
    "\n",
    "Will re-run populations on these samples"
   ]
  },
  {
   "cell_type": "code",
   "execution_count": 12,
   "metadata": {
    "collapsed": false
   },
   "outputs": [
    {
     "name": "stdout",
     "output_type": "stream",
     "text": [
      "/mnt/hgfs/Pacific cod/DataAnalysis/PCod-US-repo/stacks\n"
     ]
    }
   ],
   "source": [
    "cd ../../stacks"
   ]
  },
  {
   "cell_type": "code",
   "execution_count": 13,
   "metadata": {
    "collapsed": true
   },
   "outputs": [],
   "source": [
    "!gzip batch_1.catalog.alleles.tsv"
   ]
  },
  {
   "cell_type": "code",
   "execution_count": 14,
   "metadata": {
    "collapsed": true
   },
   "outputs": [],
   "source": [
    "!gzip batch_1.catalog.snps.tsv"
   ]
  },
  {
   "cell_type": "code",
   "execution_count": 15,
   "metadata": {
    "collapsed": true
   },
   "outputs": [],
   "source": [
    "!gzip batch_1.catalog.tags.tsv"
   ]
  },
  {
   "cell_type": "code",
   "execution_count": 16,
   "metadata": {
    "collapsed": false
   },
   "outputs": [
    {
     "name": "stdout",
     "output_type": "stream",
     "text": [
      "/mnt/hgfs/Pacific cod/DataAnalysis/PCod-US-repo/scripts\n"
     ]
    }
   ],
   "source": [
    "cd ../scripts"
   ]
  },
  {
   "cell_type": "code",
   "execution_count": null,
   "metadata": {
    "collapsed": true
   },
   "outputs": [],
   "source": [
    "#run in command line\n",
    "populations -b 1 -P ../stacks -M PopMap.txt -t 36 -r 0.75 -p 4 -m 10 --genepop --fasta"
   ]
  },
  {
   "cell_type": "code",
   "execution_count": 1,
   "metadata": {
    "collapsed": false
   },
   "outputs": [
    {
     "name": "stdout",
     "output_type": "stream",
     "text": [
      "/mnt/hgfs/Pacific cod/DataAnalysis/PCod-US-repo/stacks\n"
     ]
    }
   ],
   "source": [
    "cd ../stacks"
   ]
  },
  {
   "cell_type": "code",
   "execution_count": 2,
   "metadata": {
    "collapsed": true
   },
   "outputs": [],
   "source": [
    "!gzip -d batch_1.catalog.snps.tsv.gz"
   ]
  },
  {
   "cell_type": "code",
   "execution_count": 3,
   "metadata": {
    "collapsed": false
   },
   "outputs": [
    {
     "name": "stdout",
     "output_type": "stream",
     "text": [
      "/mnt/hgfs/Pacific cod/DataAnalysis/PCod-US-repo/scripts/PostStacksFiltering\n"
     ]
    }
   ],
   "source": [
    "cd ../scripts/PostStacksFiltering/"
   ]
  },
  {
   "cell_type": "code",
   "execution_count": 4,
   "metadata": {
    "collapsed": true
   },
   "outputs": [],
   "source": [
    "!python prep_for_extraFilters.py \\\n",
    "../../stacks/batch_1.catalog.snps.tsv \\\n",
    "../../stacks/batch_1.catalog.snps2.tsv \\\n",
    "../../stacks/batch_1.haplotypes.tsv \\\n",
    "../../stacks/batch_1.haplotypes2.tsv \\"
   ]
  },
  {
   "cell_type": "code",
   "execution_count": 5,
   "metadata": {
    "collapsed": false
   },
   "outputs": [
    {
     "name": "stdout",
     "output_type": "stream",
     "text": [
      "7 304 T T T T T T T T T T T T T T T T T T T T T T T T T T T T T T T T T T T T T T T T T T T T T T T T T T T T T T T T T T T T T T T T T T T T T T T T T T T T T T T T T T T T T T T T T T T T T T T T T T T T T T T T T T T T T T T T T T T T T T T T T T T T T T T T T T T T T T T T T T T T T T T T T T T T T T T T T T T T T T T T T T T T T T T T T T T T T T T T T T T T T T T T T T T T T T T T T T T T T T T T T T T T T T T T T T T T T T T T T T T T T T T T T T T T T T T T T T T T T T T T T T T T T T T T T T T T T T T T T T T T T T T T T T T T T T A T T T T T T T T T T T T T T T T T T T T T T T T T T T T T T T T T T\r\n",
      "8 149 T T T T T T T T T T T T T T T T T T T T T C T T T T C T T T T T T T T T T T T T T T T T T T T T T T T C T T T T C T T T T T T T T T T T T T T T T T T T T T T T T T C T T C T T T T T T T T T T T T T T T T T T T T T T T T T T T T T T T T T T T T T T T T T T T T T T T T T T T T C T T C T C T T T T T T T T T T T T\r\n",
      "9 286 T T C T C T C T C T T C C T T T C T C T C T T T C T T C C C T C C C T T C T T C T T C T C T C T T C T C C T T T C T C T C T C T C T T T C C T C T T T T T T T C T C T T T C T T T C C T T T T C T C T C T C T C T T T C T T T C T T T C T C T C T C T T T C T T T T C T T T T C T C T T T C T C T T T T C T C C T C T C T C T T T T T T T C T T T T T C T T C T T T C T C T C T C T C T T C T C T T C C T T T T T C T T T C T T T T T T C C T C T C T C T C T T T T T T T T C T T C C C T C T T C T C T T C T C T C T C T C T C T C T C C T T C T T T T T C T C C T T T T C T C T T C C T C T T T T T T T T T C T C T T T C T T T T T T C T T T T T C T T T T C T C T C T T C T C T T T C T C T T T C T T T C T T T T C T C T T C T C T C T T C T C T T T C T T T C T T T T C T T C T T T C T T T C T\r\n",
      "10 190 C C C C C C C T C C C C T C T C C T C C C C T C C C C C C C C C C C C C C C C C C C C C C C C T C C C C T C C C C C C T C C C C C C C C C T C C C C C C T C C C T C C C C C C C C C C C C C C C C C T C C C C C C T C C T C C C C C C C C C T C C C T C C C T C C C C C C T C C C C C C C C C C C C C C C T C C C C C T C T C C C C C T C C C C C C C C C C C C C T C C C C C T C C C C C C T C C C T C T C C C T C C T C C C C C T C C C C C C C C T C\r\n",
      "11 240 TGG CGG CGG CGG CGG TGG CGG TGG CGG TGG CGG CGG CGG CGG CGG TGG CGG TGG CGG CGT CGG TGG TGG CGG TGG TGG CGG CGG TGG CGG CGG CGG TGG CGG CGG CGG CGG TGG CGG CGG CGG CGG CGG TGG CGG CGG CGG CGG CGG CGG CGG CGG CGG CGG CGG CGG TGG CGG CGG CGG CGG CGG TGG CGG CGG TGG CGG TGG CGG TGG CGG TGG CGG TGG CGG CGG CGG CGG CGG CGG CGG TGG CGG CGG CGG CGG TGG CGG CGG TGG TGG CGG TGG CGG CGG CGG TGG CGG CGG CGG CGG CGG TGG CGG CGG CGG TGG CGG CGG TGG CGG CGT CGG TGG TGG CGG CGG CGG TGG CGG TGG CAG CGG CGG CGG CGG TGG CGG TGG CGG TGG CGG CGG CGG CGG TGG CGG CGG CGG CGG TGG CGG TGG CGG CGG CGG CGG CGG CGG CGG CGG TGG CGG CGG CGG CGG CGG CGG CGG CGG CGG TGG CGG CGG TGG CGG CGG CGG CGG CGG CGG CGG TGG CGG TGG CGG CGG TGG CGG TGG CGG TGG CGG TGG CGG CGG TGG CGG TGG CAG CGG CGG CGG CGG CGT CGG CGG CGG CGG CGG CGG CGG TGG TGG CGG CGG CGG CGG TGG CGG CGG TGG CGG CGG CGG CGG CGG CGG CGG CGG CGG CGG CGG CGG CGG TGG CGG TGG CGG CGG CGG CGG CGG TGG CGG TGG CGG CGG CGG CGG CGG CGG CGG TGG CGG CGG TGG CGG CGG CGG CGG CGG TGG CGG CGG TGG CGG CGG TGG CGG TGG CGG CGG CGG CGG CGG CGG CGG CGG CGG TGG CGG TGG CGG CGG CGG CGG CGG CGG TGG CGG CGG CGG CGG CGG CGG TGG CGG CGG CGG TGG CGG CGG CGG CGG TGG CGG CGG CGG CGG CGG CGG CGG TGG CGG TGG CGG CGG\r\n",
      "12 323 C C C C C C C C C C C C C C C C C C C C C C C C C C C C C C C C C C C C C C C C C C C C C C C C C C C C C C C C C C C C C C C C C C C C C C C C C C C C C C C C C C C C C C C C C C C C C C C C C C C C C C C C C C C C C C C C C C C C C C C C C C C C C C C C C C C C C C C C C C C C C C C C C C C C C C C C C C T C C C C C C C C C C C C C C C C C C C C C C C C C C C C C C C C C C C C C C C C C C C C C C C C C C C C C C C C C C C C C C C C C C C C C C C C C C C C C C C C C C C C C C C C C C C C C C C C C C C C C C C C C C C C C C C C C C C C C C C C C C C C C C C C C C C C C C C C C C C C C C C C C C C C C C C C T C C C C C C C C C C C C C C C C C\r\n",
      "13 234 A A A A A A A A A A A A A A A A A A A A A A A A A A A A A A A A A A A A A A A A A A A A A A A A A A A A A A A A A A T A A A A A A A A A A A A A A A A A A A A A A A A A A A A A A A A A A A A A A A A A A A A A A A A A A A A A A A A A A A A A A A A A A A A A A A A A A A A A A A A A A A A A A A A A A A A A A A A A A A A A A A A A A A A A A A A A A A A A A A A A A A A A A A A A A A A A A A A A A A A A A A A A A A A A A A A A A A A A A A A A A A A A A A A A A A A A A A\r\n",
      "15 245 T T T T T T T T T T T T T T T T T T T T T T T T T T T T T T T T T T T T T T T T T T T T T T T T T T T T T T T T T T T T T T T T T T T T T T T T T T T T T T T T T T T T T T T T T T T T T T T T T T T T T T T T T T T T T T T T T T T T T T T T T T T T T T T T T T T T T T T T T T T T T T T T T T T T T T T T T T T T T T T T T T T T T T T T T T T T T T T T T T C T T T T T T T T T T T T T T T T T T T T T T T T T T T T T T T T T T T T T T T T T T T T T T T T T T T T T T T T T T T T T T T T T T T\r\n",
      "17 289 CTC TCC TCC TCC TCC CTC TCC TCC CCC CTC TCC TCC CTC CTC TCC CCC CTC TCC CTC TCC CTC TCC TCC CTC CTC TCC TCC CTC TCC CTC TCC CTC TCC CTC TCC TCC CTC TCC TCC TCC TCC CTC TCC TCC TCC CCC CTC TCC TCC TCC CTC CTC TCC TCC TCC TCC TCC TCC CTC TCC TCC CTC TCC TCC CTC TCC TCC TCC TCC CTC TCC TCC TCC TCC TCC TCC TCC TCC CTC TCC TCC CTC TCC CTC TCC TCC CTC TCC CTC TCC CTC TCC CTC CTC TCC CTC TCC TCC TCC CTC TCC CTC TCC TCC TCA TCC CTC TCC TCC CTC TCC TCC TCC CTC TCC TCC CTC TCC CTC TCC CTC TCC CTC TCC CTC TCC CTC TCC CTC TCC TCC CTC TCC CTC TCC TCC TCC CTC TCC CTC CTC TCC CTC TCC TCC CTC TCC CTC TCC CTC TCC CTC TCC CTC TCC CTC TCC TCC CTC TCC TCC CTC TCC TCC CTC TCC TCC TCC CTC TCC CTC TCC TCC CTC TCC TCC TCC TCC CTC CTC TCC CTC TCC TCC CTC TCC TCC TCC CTC TCC TCC CTC TCC TCC CTC TCC TCC CTC TCC CTC TCC CTC TCC CTC TCC CTC CTC TCC CTC TCC TCC CTC TCC TCC TCC CTC TCC TCC TCC TCC TCC TCC CTC TCC CTC TCC CTC TCC TCC CTC CTC TCC CTC CTC TCC TCC TCC CTC TCC TCC CTC CTC TCC TCC CTC TCC CTC TCC TCC TCC TCC TCC TCC TCC TCC TCC CTC TCC CTC CTC TCC TCC CTC TCC CTC TCC CTC TCC TCC TCC TCC CTC CTC TCC CTC TCC CTC TCC CTC TCC TCC CTC TCC CTC CTC TCC TCC CTC TCC TCC CTC CTC TCC CTC TCC CTC TCC TCC CTC TCC TCC CTC TCC TCC TCC CTC TCC TCC CTC TCC TCC TCC CTC TCC TCC CTC TCC TCC CTC CTC TCC TCC CTC TCC TCC TCC CTC TCC CTC TCC CTC TCC CTC TCC TCC CTC TCC TCC CTC TCC CTC TCC TCC TCC TCC CTC TCC CTC TCC TCC CTC TCC TCC TCC CTC CTC TCC TCC CTC TCC TCC CTC TCC CTC TCC CTC CTC CTC TCC CCC CTC TCC TCC CTC TCC CTC TCC CTC TCC CTC TCC TCC CTC CTC TCC CTC TCC TCC CTC CTC CTC TCC CTC TCC TCC TCC TCC CTC TCC TCC CTC TCC CTC TCC TCC TCC CTC TCC CTC TCC\r\n",
      "22 270 CG GG CG GG CG GG CG GG CG GG CG GG CG GG CG GG CG GG CA CG GG CG GG CG GG CG GG CG GG CG GG CG GG CG GG CG GG CG GG CG GG CG GG CG GG CG GG CG GG CG GG CG GG CA CG GG CG GG CG GG CG GG CG GG CG GG CG GG GG CG GG CG GG CG GG CG GG CG GG CG GG CG GG CG GG CG GG CG GG CG GG CG GG CG GG CG GG CG GG CG GG CG GG CG GG CG GG CG GG CG GG CG GG CG GG CG GG CG GG CG GG CG GG CG GG CG GG CG GG CG GG CG GG CG GG CG GG CG GG CG GG CG GG CG GG CG GG CG GG CG GG CG GG CG GG CG GG CG GG CG GG CG GG CG GG CG GG CG GG CG GG CG GG CG GG CG GG CG GG CG GG CG GG CG GG CG GG CG GG CG GG CG GG CG GG CG GG CG GG CG GG CG GG CG GG CG GG CG GG CG GG CG GG CG GG CG GG CG GG CG GG CG GG CG GG CG GG CG GG CG GG CG GG CG GG CG GG CG GG CG GG CG GG CG GG CG GG CG GG CG GG CG GG CG GG CG GG CG GG CG GG CG GG CG GG CG GG CG GG CG GG CG GG CG GG CG GG CG GG CG GG CG GG CG GG CG GG CG GG CG GG CG GG CG GG CG GG CG GG CG GG CG GG CG GG CG GG CG GG CG GG CG GG CG GG CG GG CG GG CG GG CG GG GG CG GG CG GG CG GG CG GG CG GG CG GG CG GG CG GG CG GG CG GG CG GG CG GG CG GG CG GG CG GG CG GG CG GG CG GG CG GG CG GG CG GG CG GG CG GG CG GG CG GG CG GG CG GG CG GG CG GG CG GG CG GG CG GG CG GG CG GG CG GG CG GG CG GG CG GG CG GG CG GG CG GG CG GG CG GG CG GG CG GG CG GG CG GG CG GG CG GG CG GG CG GG CG GG CG GG CG GG CG GG CG GG CG GG CG GG CG GG CG GG CG GG CG GG CG GG CG GG CG GG CG GG CG GG CG GG CG GG CG GG CG GG CG GG CG GG CG GG CG GG CG GG CG GG CG GG CG GG CG GG CG GG CG GG CG GG CG GG CG GG CG GG CG GG CG GG CG GG CG GG CG GG CG GG CG GG CA CG GG GG CG GG CG GG CG GG CG GG CG GG CG GG CG GG CG GG CG GG CG GG CG GG CG GG CG GG\r\n",
      "23 312 G G G G G G G G G G G G G G G G G G G G G G G G G G G G G G G G G G G G G G G G G G G G G G G G G G G G G G G G G G G G G G G G G G G G G G G G G G G G G G G G G G G G G G G G G G G G G G G G G G G G G G G G G G G G G G G G G G G G G G G G G G G G G G G G G G G G G G G G G G G G G G G G G G G G G A G G G G G G G G G G G G G G G G G G G G G G G G G G G G G G G G G G G G G G G G G G G G G G G G G G G G G G G G G G G G G G G G G G A G G G G G G G G G G G G G G G G G G G G G G G G G G G G G G G G G G G G G G G G G G G G G G G G G G G G G G G G G G G G G G G G G G G G G G G G G G G G G G G G G G G G G G G G G G G G G G G G G\r\n",
      "27 202 C C C G C C C G G C C C G C C G C C C G C C G C G C C G C G C C C C C C C C C G C C C C G C G C C C C C G C G C C C G C C G C G C G C C C G C G G C G C C C G C C C C C G C G C C C C C C C C G C G C G C G C C C G C C G C G C C C C C C C C C C C C C C C C C C C C C C C C G C C C G C C C C C C C C C C C C G C G C C C C C C C C C C C C C G C C G C C C G C G C G C G C C C C C C C C G C C C G C G C C C C C C C C C C C C G C C G C G C G C C C C G G C C C C C C C G C C C G C G G C G C G C C C C C C G C G C G C\r\n",
      "33 280 C T T T C C T T T C T C T C T C T T C T T C T C T C T T T C T T T T T T C T T C T C C T T T T C T C T C T T C T C C T C T C T T T T C T T T T T C T T C T T C C T C T T T T T C T C T T T T T C C T C C T C T C T T C T C T C T T C T C T T C T T T T C T T T T C T T T T T T T C T C T T T T C T C T C T T C T T C T T T C T C T C T T C T T T C C T C T C T C T C C T T C T C T T C C T C T C T T C C T C T C T C T C T T C C T T C C T T T T T T C T T C T C T T C T T T C C T C T C T C T T C T T T T T C T T T C T C T T C T T T T C T T C T C T C T C T C T C C C T T T T T T T C C C T C C T T C T C T C T C T T C C T T T C T C T C T C T C T T C C T C C T T C T T T C T C T C T T T T T T C T C T C T T T T T T T C T C T T C T T C T T T C T C C T T T T T T C T T C T C T C T\r\n",
      "36 308 CT CT CT CT CT TT CT CT CT CT CT CT CT CT CT CT CT CT CT CT CT CT CT CT CT CT CT CT CT CT CT CT CT TT CT CT CT CT CT CT CT CT CT CT CT CT CT CT CT CT CT CT CT CT CT CT CT CT CT CT CT CT CT CT CT CT CT CT CT CT CT CT CT CT CT CT CT CT CT CT CT CT CT CT CT CT CT CT CT CT CT CT CT CT CT CT CT CT TT CT CT CT CT CT CT CT CT CT CT CT CT CT CT CT CT CT CT CT CT CT CT CT CT CT CT CT CT CT CT CT CT CT CT CT CT CT CT TT CT CT CT CT CT CT TT CT CT CT CT CT CT CT CT CT TT CT CT CT CT TT CT CT TT CT CT CT CT CT CT CT CT CT CT CT CT CT CT CT CT CT CT CT CT CT CT CT CT CT CT CT TT CT CT CT CT CT CT CT CT CT CT CT CT CT CT CT CT CT CT CT CT CT TT CT CT CT CT CT CT CT CT CT CT CT CT CT CT CT CT CT CT CT CT CT CT CT CT CT CT CT CT CT CT CT CT CT CT CT CT CT CT CT CG CT CT CT CT CT CT CT CT CT CT CT CT CT CT CT CT TT CT CT CT CT CT CT CT CT CT CT CT CT CT CT CT CT CT CT CT TT CT CT CT CT CT CT CT CT CT CT CT CT CT CT CT CT CT CT CT CT CT CT CT CT CT TT CT CT CT CT CT CT\r\n",
      "37 311 C C C C C C T C C T C C T C C C C C C C T C C C C C C C C C C C C C C C C C C C C C C C C C C C C C C C C C C C C C C C T C T C C C C C T C C C C C C C C C C T C C C C C C C C T C T C C C C C C C C C C C C C C T C C C C C C T C C C C C C C C C C C C C C C C C C C C C C C C C C C C C C C C T C C C C C C C C C C C C C C C C C C C C C C T C C C C C C C C C C C C T C C C C C C C C C C C C C C C C C C C C C C C C C C C C C C C C C C C T C C C C C C C C C C C T C C C C C T C C C C C C C C C C T C C C C C C C C C C C C C T C C C T C C C C C C C C C C C C C C C C C C C C C C C C C C C C C C C C C C C T C C C C T C C C C C C C C T C C C C C C T C C T C C T C T C C C T C C C C T\r\n",
      "39 303 CCT CCT CCT CCT CCT CCT CCT CCT CCT CCT CCT CCT CCA CCT CCT CCT CCT CCT CCT CCT CCT CCT CCT CCT CCT CCT CCT CCT CCT TCT CCT CCT CCA CCT CCT CCT CCT CCT CCT TCT CCT CCT CCT CCT CCT CCT CCT CCT TCT CCT CCT CCT CCT CCT CCT CCT CCT CCT CCT CCT CCT CCT CCT CCT CCT CCT CCT CCT CCT CCT CCT CCT TCT CCT CCT CCT CCT CCT CCT CCT CCT CCT CCT CCT CCT CCT CCT CCT CCT CCT CCT CCT CCT CCT CCT CCT CCT CCT CCT CCT CCT CCT CCT CCT CCT CCT CCT CCT CTT CCT CCT CCT CCA CCT CCT CCT CCA CCT CCT CCT CCT CCT CCT CCT CCT CCT CCT CCT CCT CCT CCT CCT CCT CCT CCT CCT CCA CCT CCT CCT CCT TCT CCT CCT CCT CCT CCT CCT CCT CCT CCT CCT CCT CCT CCT CCT CCA CCT CCT CCT CCT CCT CCT CCT CCT CCT CCT CCT CCT CCT CCT CCT CCT CCT CCT CCT CCT CCT CCT CCT CCT CCT CCT CCT CCT CCA CCT CCT CCT CCT CCT CCT CCT CCA CCT CCT CCT CCT CCT CCA CCT CCT CCT CCT CCT CCT CCT CTT CCT CCT CCT CCT CCA CCT CCT CCT CCT CCT CCT CCT CCT CCT CTT CCT CCT CCT CCT CCT CCT CCT CCT CCT CCT CCT CCT TCT CCA CCT CCA CCT CCT CCT CCT CCT CCT CCT CTT CCT CCT CCT CCT CCT CCT CCT CCT CCT CCT CCT CCT CCT CCT CCT CCT CCT TCT CCT CCT CCT CCT CCT TCT CCT CCT CCT CCT CCT CCT CCT CCT CCT CCT CCT CCT CCT CCT CCT CCT CCT CCT CCT CCT CCT CCT CCT CCA CCT CCT CCT CCT CCT CCT CCT CCT CCT CCT CCT CCT CCT CCT CCT CTT CCT CCT CCT CCT CCT CCT CCT CCT CCT CCT CCT CCT CCT CCA CCT CCT CCT CCT CCT\r\n",
      "43 292 TT TT TT AT TT AT TT AA AT TT AA TT TT TT TT TT AT TT AA AT TT AA TT TT AA AT TT AT TT TT TT AT TT TT TT AT TT TT TT TT AA TT TT TT TT TT AT TT TT TT TT AT TT AT AT TT TT TT AT TT AT TT TT TT AA TT AA TT AA TT AT TT TT TT TT TT TT TT TT TT TT TT TT TT TT AT TT TT TT TT TT AT TT AA TT AT TT AT TT AT TT TT TT TT AA TT TT TT AT TT TT TT TT TT TT TT TT AT TT TT TT TT TT TT TT TT TT TT AT TT TT TT AT TT TT TT AA TT TT TT TT TT AA TT TT TT AA TT AT TT TT TT TT AT TT AA TT AT TT TT AT TT TT TT TT TT TT TT TT TT TT AT TT AT TT AA TT TT TT TT TT TA TT TT TT TT TT TT TT AA TT TT AT TT TT TT TT AT TT TT TT TT TT AA AT TT TT TT AT AT TT TT AA TT TT TT TT TT TT TT TT TT TT TT TT TT TT TT TT TT TT AT TT AT TT TT TT TT AT TT AA TT AT TT TT TT TT TT TT AT TT TT TT TT TT TT TT TT AT AT TT AT TT TT AT TT TT AT TT TT TT TT TT AA TT TT AT TT TT TT TT TT TT TT AA AT TT AA TT TT TT TT TT TT TT TT TT TT TT TT AA TT TT TT TT TT TT TT AT TT TT TT TT AA TT AA TT TT AA TT TT TT AA TT AA TT TT TT TT TT AA TT TT AA TT TT AA TT AA TT AA TT AA TT TT AT TT AA TT TT AT TT TT TT TT AT TT TT TT TT AT TT AA TT TT TT TT TT TT TT AA AT TT\r\n",
      "44 323 T T T T T T T T T T T T T T T T T T T T T T T T T T T T T T T T T T T T T T T T T T T T T T T T T T T T T T T T T T T T T T T T T T T T T T T T T T T T T T T T T T T T T T T T T T T T T T T T T T T T T T T T T T T T T T T T T T T T T T T T T T T T T T T T T T T T T T T T T T T T T T T T T T C T T T T T T T T T T T T T T T T T T T T T T T T T T T T T T T T T T T T T T T T T T T T T T T T T T T T T T T T T T T T T T T T T T T T T T T T T T T T T T T T T T T T T T T T T T T T T T T T T T T T T T T T T T T T T T T T T T T T T T T T T T T T T T T T T T T T T T T T T T T T T T T T T T T T T T T T T T T T T T T T T T T T T T T T T T T T T T T T T\r\n",
      "46 180 A A A A A A A A A A A A A A A A A A A A A A C A A A A A A A A A A A A A C A A A A A A A A A A C A A A A A A A A A A A A A A A A A A A A C A A A A A A A A A A A A A A A A A A A A A A A A A A A A A A A A A A A A A A A A A A A A A A A A A A A A A A A A A A A A A A A A A A A A A A A A A A A A A A A A A A A A C A A A A A A A A A A A A A A A A A A A A A A C A A A A A A A A\r\n"
     ]
    }
   ],
   "source": [
    "!python preparing_file_for_correcting_genotypes.py \\\n",
    "../../stacks/batch_1.haplotypes2.tsv \\\n",
    "../../stacks/batch_1.biallelic_catalog.tsv \\\n",
    "../../stacks/batch_1.catalog.snps2.tsv \\\n",
    "1"
   ]
  },
  {
   "cell_type": "code",
   "execution_count": 6,
   "metadata": {
    "collapsed": false
   },
   "outputs": [
    {
     "name": "stdout",
     "output_type": "stream",
     "text": [
      "/mnt/hgfs/Pacific cod/DataAnalysis/PCod-US-repo/stacks\n"
     ]
    }
   ],
   "source": [
    "cd ../../stacks"
   ]
  },
  {
   "cell_type": "code",
   "execution_count": 7,
   "metadata": {
    "collapsed": false
   },
   "outputs": [
    {
     "name": "stdout",
     "output_type": "stream",
     "text": [
      "^C\r\n"
     ]
    }
   ],
   "source": [
    "!gzip -d *.tags.tsv.gz"
   ]
  },
  {
   "cell_type": "code",
   "execution_count": null,
   "metadata": {
    "collapsed": true
   },
   "outputs": [],
   "source": [
    "!gzip -d *.matches.tsv.gz"
   ]
  },
  {
   "cell_type": "code",
   "execution_count": 8,
   "metadata": {
    "collapsed": false
   },
   "outputs": [
    {
     "name": "stdout",
     "output_type": "stream",
     "text": [
      "/mnt/hgfs/Pacific cod/DataAnalysis/PCod-US-repo/scripts/PostStacksFiltering\n"
     ]
    }
   ],
   "source": [
    "cd ../scripts/PostStacksFiltering"
   ]
  },
  {
   "cell_type": "code",
   "execution_count": 9,
   "metadata": {
    "collapsed": false
   },
   "outputs": [
    {
     "name": "stdout",
     "output_type": "stream",
     "text": [
      "KOD03_035\n",
      "KOD03_051\n",
      "KOD03_052\n",
      "KOD03_053\n",
      "KOD03_054\n",
      "KOD03_055\n",
      "KOD03_056\n",
      "KOD03_057\n",
      "KOD03_058\n",
      "KOD03_059\n",
      "KOD03_060\n",
      "KOD03_061\n",
      "KOD03_062\n",
      "KOD03_063\n",
      "KOD03_064\n",
      "KOD03_065\n",
      "KOD03_066\n",
      "KOD03_067\n",
      "KOD03_068\n",
      "KOD03_069\n",
      "KOD03_070\n",
      "KOD03_071\n",
      "KOD03_072\n",
      "KOD03_073\n",
      "KOD03_074\n",
      "KOD03_075\n",
      "KOD03_076\n",
      "KOD03_077\n",
      "KOD03_078\n",
      "KOD03_079\n",
      "KOD03_080\n",
      "KOD03_081\n",
      "KOD03_082\n",
      "KOD03_083\n",
      "KOD03_084\n",
      "KOD03_085\n",
      "KOD03_086\n",
      "KOD03_087\n",
      "KOD03_088\n",
      "KOD03_089\n",
      "KOD03_090\n",
      "KOD03_091\n",
      "KOD03_092\n",
      "KOD03_093\n",
      "KOD03_094\n",
      "KOD03_095\n",
      "KOD03_096\n",
      "KOD03_097\n",
      "AD06_001\n",
      "AD06_002\n",
      "AD06_003\n",
      "AD06_004\n",
      "AD06_005\n",
      "AD06_006\n",
      "AD06_007\n",
      "AD06_008\n",
      "AD06_009\n",
      "AD06_010\n",
      "AD06_011\n",
      "AD06_012\n",
      "AD06_013\n",
      "AD06_014\n",
      "AD06_015\n",
      "AD06_016\n",
      "AD06_017\n",
      "AD06_018\n",
      "AD06_019\n",
      "AD06_020\n",
      "AD06_021\n",
      "AD06_022\n",
      "AD06_023\n",
      "AD06_024\n",
      "AD06_025\n",
      "AD06_026\n",
      "AD06_027\n",
      "AD06_028\n",
      "AD06_029\n",
      "AD06_030\n",
      "AD06_031\n",
      "AD06_032\n",
      "AD06_033\n",
      "AD06_034\n",
      "AD06_035\n",
      "AD06_036\n",
      "AD06_037\n",
      "AD06_038\n",
      "AD06_039\n",
      "AD06_040\n",
      "AD06_041\n",
      "AD06_042\n",
      "AD06_043\n",
      "AD06_044\n",
      "AD06_045\n",
      "AD06_046\n",
      "AD06_047\n",
      "AD06_048\n",
      "WC05_001\n",
      "WC05_002\n",
      "WC05_003\n",
      "WC05_004\n",
      "WC05_005\n",
      "WC05_006\n",
      "WC05_007\n",
      "WC05_008\n",
      "WC05_009\n",
      "WC05_010\n",
      "WC05_011\n",
      "WC05_012\n",
      "WC05_013\n",
      "WC05_014\n",
      "WC05_015\n",
      "WC05_016\n",
      "WC05_017\n",
      "WC05_018\n",
      "WC05_019\n",
      "WC05_020\n",
      "WC05_021\n",
      "WC05_022\n",
      "WC05_023\n",
      "WC05_024\n",
      "WC05_025\n",
      "WC05_026\n",
      "WC05_027\n",
      "WC05_028\n",
      "WC05_029\n",
      "WC05_030\n",
      "WC05_031\n",
      "WC05_032\n",
      "WC05_033\n",
      "WC05_034\n",
      "WC05_035\n",
      "WC05_036\n",
      "WC05_037\n",
      "WC05_038\n",
      "WC05_039\n",
      "WC05_040\n",
      "WC05_041\n",
      "WC05_042\n",
      "WC05_043\n",
      "WC05_044\n",
      "WC05_045\n",
      "WC05_046\n",
      "WC05_047\n",
      "WC05_048\n",
      "HS04_001\n",
      "HS04_002\n",
      "HS04_003\n",
      "HS04_004\n",
      "HS04_005\n",
      "HS04_006\n",
      "HS04_007\n",
      "HS04_008\n",
      "HS04_009\n",
      "HS04_010\n",
      "HS04_011\n",
      "HS04_012\n",
      "HS04_013\n",
      "HS04_014\n",
      "HS04_015\n",
      "HS04_016\n",
      "HS04_017\n",
      "HS04_018\n",
      "HS04_019\n",
      "HS04_020\n",
      "HS04_021\n",
      "HS04_022\n",
      "HS04_023\n",
      "HS04_024\n",
      "HS04_025\n",
      "HS04_026\n",
      "HS04_027\n",
      "HS04_028\n",
      "HS04_029\n",
      "HS04_030\n",
      "HS04_031\n",
      "HS04_032\n",
      "HS04_033\n",
      "HS04_034\n",
      "HS04_035\n",
      "HS04_036\n",
      "HS04_037\n",
      "HS04_038\n",
      "HS04_039\n",
      "HS04_040\n",
      "HS04_041\n",
      "HS04_042\n",
      "HS04_043\n",
      "HS04_044\n",
      "HS04_045\n",
      "HS04_046\n",
      "HS04_047\n",
      "HS04_048\n",
      "PI04_001\n",
      "PI04_002\n",
      "PI04_003\n",
      "PI04_004\n",
      "PI04_005\n",
      "PI04_006\n",
      "PI04_007\n",
      "PI04_008\n",
      "PI04_009\n",
      "PI04_010\n",
      "PI04_011\n",
      "PI04_012\n",
      "PI04_013\n",
      "PI04_014\n",
      "PI04_015\n",
      "PI04_016\n",
      "PI04_017\n",
      "PI04_018\n",
      "PI04_019\n",
      "PI04_020\n",
      "PI04_021\n",
      "PI04_022\n",
      "PI04_023\n",
      "PI04_024\n",
      "PI04_025\n",
      "PI04_026\n",
      "PI04_027\n",
      "PI04_028\n",
      "PI04_029\n",
      "PI04_030\n",
      "PI04_031\n",
      "PI04_032\n",
      "PI04_033\n",
      "PI04_034\n",
      "PI04_035\n",
      "PI04_036\n",
      "PI04_037\n",
      "PI04_038\n",
      "PI04_039\n",
      "PI04_040\n",
      "PI04_041\n",
      "PI04_042\n",
      "PI04_043\n",
      "PI04_044\n",
      "PI04_045\n",
      "PI04_046\n",
      "PI04_047\n",
      "PI04_048\n",
      "PS12_008\n",
      "PS12_048\n",
      "PS12_031\n",
      "PS12_036\n",
      "PS12_030\n",
      "PS12_006\n",
      "PS12_016\n",
      "PS12_033\n",
      "PS12_015\n",
      "PS12_014\n",
      "PS12_044\n",
      "PS12_037\n",
      "PS12_004\n",
      "PS12_040\n",
      "PS12_023\n",
      "PS12_042\n",
      "PS12_024\n",
      "PS12_034\n",
      "PS12_003\n",
      "PS12_002\n",
      "PS12_001\n",
      "PS12_041\n",
      "PS12_013\n",
      "PS12_027\n",
      "PS12_039\n",
      "PS12_020\n",
      "PS12_012\n",
      "PS12_029\n",
      "PS12_022\n",
      "PS12_007\n",
      "PS12_046\n",
      "PS12_043\n",
      "PS12_045\n",
      "PS12_011\n",
      "PS12_028\n",
      "PS12_021\n",
      "PS12_026\n",
      "PS12_010\n",
      "PS12_025\n",
      "PS12_019\n",
      "PS12_038\n",
      "PS12_017\n",
      "PS12_047\n",
      "PS12_032\n",
      "PS12_018\n",
      "PS12_035\n",
      "PS12_005\n",
      "PS12_009\n",
      "GS13_001\n",
      "GS13_002\n",
      "GS13_003\n",
      "GS13_004\n",
      "GS13_005\n",
      "GS13_006\n",
      "GS13_007\n",
      "GS13_008\n",
      "GS13_009\n",
      "GS13_010\n",
      "GS13_011\n",
      "GS13_012\n",
      "GS13_013\n",
      "GS13_014\n",
      "GS13_015\n",
      "GS13_016\n",
      "GS13_017\n",
      "PWS12_002\n",
      "PWS12_003\n",
      "PWS12_005\n",
      "PWS12_006\n",
      "PWS12_009\n",
      "PWS12_010\n",
      "PWS12_011\n",
      "PWS12_014\n",
      "PWS12_015\n",
      "PWS12_016\n",
      "PWS12_017\n",
      "PWS12_018\n",
      "PWS12_021\n",
      "PWS12_022\n",
      "PWS12_023\n",
      "PWS12_063\n",
      "PWS12_075\n",
      "PWS12_079\n",
      "PWS12_094\n",
      "PWS12_095\n",
      "PWS12_096\n",
      "PWS12_097\n",
      "PWS12_131\n",
      "PWS12_133\n",
      "UP03_001\n",
      "UP03_009\n",
      "UP03_017\n",
      "UP03_025\n",
      "UP03_033\n",
      "UP03_041\n",
      "UP03_002\n",
      "UP03_010\n",
      "UP03_018\n",
      "UP03_026\n",
      "UP03_034\n",
      "UP03_042\n",
      "UP03_003\n",
      "UP03_011\n",
      "UP03_019\n",
      "UP03_027\n",
      "UP03_035\n",
      "UP03_043\n",
      "UP03_004\n",
      "UP03_012\n",
      "UP03_020\n",
      "UP03_028\n",
      "UP03_036\n",
      "UP03_044\n",
      "UP03_005\n",
      "UP03_013\n",
      "UP03_021\n",
      "UP03_029\n",
      "UP03_037\n",
      "UP03_045\n",
      "UP03_006\n",
      "UP03_014\n",
      "UP03_022\n",
      "UP03_030\n",
      "UP03_038\n",
      "UP03_046\n",
      "UP03_007\n",
      "UP03_015\n",
      "UP03_023\n",
      "UP03_031\n",
      "UP03_039\n",
      "UP03_047\n",
      "UP03_008\n",
      "UP03_016\n",
      "UP03_024\n",
      "UP03_032\n",
      "UP03_040\n",
      "UP03_048\n"
     ]
    }
   ],
   "source": [
    "!python genotypes_verif_v2_no_ref_takeARGS.py \\\n",
    "../../stacks \\\n",
    "../PopMap.txt \\\n",
    "1 \\\n",
    "10"
   ]
  },
  {
   "cell_type": "markdown",
   "metadata": {},
   "source": [
    "\n",
    "\n",
    "<br>\n",
    "Removed individuals from the file using `individs_remove_gte20md.txt`. "
   ]
  },
  {
   "cell_type": "code",
   "execution_count": 10,
   "metadata": {
    "collapsed": true
   },
   "outputs": [],
   "source": [
    "!python Genepop_conversion_corrected.py \\\n",
    "../../stacks/batch_1.CorrectedGenotypes_biallelic.filteredIndivids.txt \\\n",
    "../../stacks/batch_1.CorrectedGenotypes_biallelic.filteredIndivids.genepop"
   ]
  },
  {
   "cell_type": "code",
   "execution_count": 14,
   "metadata": {
    "collapsed": false
   },
   "outputs": [
    {
     "name": "stdout",
     "output_type": "stream",
     "text": [
      "adding 'sample' as the first column header\r\n"
     ]
    }
   ],
   "source": [
    "!python add_sample_to_genepop.py ../../stacks 1"
   ]
  },
  {
   "cell_type": "code",
   "execution_count": 15,
   "metadata": {
    "collapsed": true
   },
   "outputs": [],
   "source": [
    "!python transpose.py \\\n",
    "../../stacks/batch_1.CorrectedGenotypes_biallelic_edit.filteredIndivids.genepop \\\n",
    "../../stacks/batch_1.CorrectedGenotypes_biallelic_TRANSPOSED.filteredIndivids.txt"
   ]
  },
  {
   "cell_type": "code",
   "execution_count": 16,
   "metadata": {
    "collapsed": true
   },
   "outputs": [],
   "source": [
    "!python convert_genepop_to_csv.py ../../stacks 1"
   ]
  },
  {
   "cell_type": "code",
   "execution_count": 17,
   "metadata": {
    "collapsed": false
   },
   "outputs": [
    {
     "name": "stdout",
     "output_type": "stream",
     "text": [
      "You have 8 populations.\r\n",
      "These are your populations, with the number of samples in each:\r\n",
      "OrderedDict([('Kodiak03', 41), ('Adak06', 31), ('WashCoast05', 33), ('HecStrait04', 40), ('PugetSound12', 41), ('GeorgiaStrait13', 12), ('PWSound12', 24), ('UnimakPass03', 42)])\r\n"
     ]
    }
   ],
   "source": [
    "!python genMAFfiltering.py ../PopMap_removed_gt20md.txt"
   ]
  },
  {
   "cell_type": "code",
   "execution_count": 18,
   "metadata": {
    "collapsed": false
   },
   "outputs": [
    {
     "name": "stdout",
     "output_type": "stream",
     "text": [
      "You filtered out: \r\n",
      "2017 loci\r\n",
      "You retained: \r\n",
      "4700 loci\r\n"
     ]
    }
   ],
   "source": [
    "!python Eleni_filter_by_MinorAlleleFrequency_takeARGS.py \\\n",
    "../../stacks/batch_1.CorrectedGenotypes_biallelic_TRANSPOSED.filteredIndivids.csv \\\n",
    "../../stacks/batch_1.filteredIndivids.MAFfiltering_outputFreqs \\\n",
    "../../stacks/batch_1.filteredIndivids.filteredMAF \\\n",
    "../../stacks/batch_1.filteredIndivids.MAFfiltering_BADgenotypes \\\n",
    "../../stacks/batch_1.filteredIndivids.MAFfiltering_blacklistedMAF"
   ]
  },
  {
   "cell_type": "code",
   "execution_count": 19,
   "metadata": {
    "collapsed": false
   },
   "outputs": [
    {
     "name": "stdout",
     "output_type": "stream",
     "text": [
      "You have 8 populations.\r\n",
      "These are your populations, with the number of samples in each:\r\n",
      "OrderedDict([('Kodiak03', 41), ('Adak06', 31), ('WashCoast05', 33), ('HecStrait04', 40), ('PugetSound12', 41), ('GeorgiaStrait13', 12), ('PWSound12', 24), ('UnimakPass03', 42)])\r\n"
     ]
    }
   ],
   "source": [
    "!python genMissingLoci.py ../PopMap_removed_gt20md.txt"
   ]
  },
  {
   "cell_type": "code",
   "execution_count": null,
   "metadata": {
    "collapsed": true
   },
   "outputs": [],
   "source": [
    "# changed proportion from 0.50 to 0.20"
   ]
  },
  {
   "cell_type": "code",
   "execution_count": 20,
   "metadata": {
    "collapsed": false
   },
   "outputs": [
    {
     "name": "stdout",
     "output_type": "stream",
     "text": [
      "processed 4700 loci\r\n",
      "Number of loci removed: 578\r\n"
     ]
    }
   ],
   "source": [
    "!python FilterLoci_by_MissingValues.py \\\n",
    "../../stacks/batch_1.filteredIndivids.filteredMAF \\\n",
    "../../stacks/batch_1.filteredIndivids.filteredMAF_filteredLoci20p \\\n",
    "../../stacks/batch_1.filteredIndivids.filteredLoci_blacklisted20p"
   ]
  },
  {
   "cell_type": "code",
   "execution_count": 21,
   "metadata": {
    "collapsed": false
   },
   "outputs": [
    {
     "data": {
      "text/plain": [
       "4122"
      ]
     },
     "execution_count": 21,
     "metadata": {},
     "output_type": "execute_result"
    }
   ],
   "source": [
    "4700-578"
   ]
  },
  {
   "cell_type": "markdown",
   "metadata": {},
   "source": [
    "\n",
    "\n",
    "Ended up with **4122 loci**"
   ]
  },
  {
   "cell_type": "code",
   "execution_count": null,
   "metadata": {
    "collapsed": true
   },
   "outputs": [],
   "source": []
  }
 ],
 "metadata": {
  "anaconda-cloud": {},
  "kernelspec": {
   "display_name": "Python [default]",
   "language": "python",
   "name": "python2"
  },
  "language_info": {
   "codemirror_mode": {
    "name": "ipython",
    "version": 2
   },
   "file_extension": ".py",
   "mimetype": "text/x-python",
   "name": "python",
   "nbconvert_exporter": "python",
   "pygments_lexer": "ipython2",
   "version": "2.7.12"
  }
 },
 "nbformat": 4,
 "nbformat_minor": 1
}
