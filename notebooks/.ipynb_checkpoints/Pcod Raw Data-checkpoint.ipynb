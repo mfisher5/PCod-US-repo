{
 "cells": [
  {
   "cell_type": "markdown",
   "metadata": {},
   "source": [
    "# Raw Data from northeastern Pcod populations\n",
    "<br>\n",
    "\n",
    "Data from: Kristen Gruenthal\n",
    "\n",
    "Locations: Lab fire proof hard drive, Pcod hard drive\n",
    "\n",
    "Barcodes: Found on merlab desktop, in Kristen (E:) > Pcod > RAD_run_2 > barcodes > barcodes_with_IDs_2. \n",
    "\n",
    "*Note - cross-referenced the populations listed in the RAD run 2 barcodes file with a \"popmap_2_readfiltered\" file also in RAD run 2*\n",
    "\n",
    "<br>\n",
    "<br>\n",
    "Working off of the Pcod hard drive: \n",
    "\n",
    "### File location and structure"
   ]
  },
  {
   "cell_type": "code",
   "execution_count": 2,
   "metadata": {
    "collapsed": false
   },
   "outputs": [
    {
     "name": "stdout",
     "output_type": "stream",
     "text": [
      "/home/mfisher5\n"
     ]
    }
   ],
   "source": [
    "cd ~"
   ]
  },
  {
   "cell_type": "code",
   "execution_count": 3,
   "metadata": {
    "collapsed": false
   },
   "outputs": [
    {
     "name": "stdout",
     "output_type": "stream",
     "text": [
      "/\n"
     ]
    }
   ],
   "source": [
    "cd ../../"
   ]
  },
  {
   "cell_type": "code",
   "execution_count": 4,
   "metadata": {
    "collapsed": false
   },
   "outputs": [
    {
     "name": "stdout",
     "output_type": "stream",
     "text": [
      "/media/mfisher5/New Volume/Kristen\n"
     ]
    }
   ],
   "source": [
    "cd media/mfisher5/New\\ Volume/Kristen"
   ]
  },
  {
   "cell_type": "code",
   "execution_count": 5,
   "metadata": {
    "collapsed": false
   },
   "outputs": [
    {
     "name": "stdout",
     "output_type": "stream",
     "text": [
      "\u001b[0m\u001b[34;42mData\u001b[0m/  \u001b[34;42mStacks_Analyses\u001b[0m/\r\n"
     ]
    }
   ],
   "source": [
    "ls"
   ]
  },
  {
   "cell_type": "code",
   "execution_count": 6,
   "metadata": {
    "collapsed": false
   },
   "outputs": [
    {
     "name": "stdout",
     "output_type": "stream",
     "text": [
      "/media/mfisher5/New Volume/Kristen/Data\n"
     ]
    }
   ],
   "source": [
    "cd Data"
   ]
  },
  {
   "cell_type": "code",
   "execution_count": 7,
   "metadata": {
    "collapsed": false
   },
   "outputs": [
    {
     "name": "stdout",
     "output_type": "stream",
     "text": [
      "\u001b[0m\u001b[34;42mAD06\u001b[0m/  \u001b[34;42mHS04\u001b[0m/  \u001b[34;42mKOD03\u001b[0m/  \u001b[34;42mPI04\u001b[0m/  \u001b[34;42mPS12\u001b[0m/  \u001b[34;42mPWS12_GS13\u001b[0m/  \u001b[34;42mPWS12_test\u001b[0m/  \u001b[34;42mUP03\u001b[0m/  \u001b[34;42mWC05\u001b[0m/\r\n"
     ]
    }
   ],
   "source": [
    "ls"
   ]
  },
  {
   "cell_type": "code",
   "execution_count": 9,
   "metadata": {
    "collapsed": false
   },
   "outputs": [
    {
     "name": "stdout",
     "output_type": "stream",
     "text": [
      "/media/mfisher5/New Volume/Kristen/Data/AD06\n"
     ]
    }
   ],
   "source": [
    "cd AD06/"
   ]
  },
  {
   "cell_type": "code",
   "execution_count": 10,
   "metadata": {
    "collapsed": false
   },
   "outputs": [
    {
     "name": "stdout",
     "output_type": "stream",
     "text": [
      "\u001b[0m\u001b[01;32mAD06_lane2_NoIndex_L002_R1_001.fastq.gz\u001b[0m*\r\n",
      "\u001b[01;32mAD06_lane2_NoIndex_L002_R1_002.fastq.gz\u001b[0m*\r\n",
      "\u001b[01;32mAD06_lane2_NoIndex_L002_R1_003.fastq.gz\u001b[0m*\r\n",
      "\u001b[01;32mAD06_lane2_NoIndex_L002_R1_004.fastq.gz\u001b[0m*\r\n",
      "\u001b[01;32mAD06_lane2_NoIndex_L002_R1_005.fastq.gz\u001b[0m*\r\n",
      "\u001b[01;32mAD06_lane2_NoIndex_L002_R1_006.fastq.gz\u001b[0m*\r\n",
      "\u001b[01;32mAD06_lane2_NoIndex_L002_R1_007.fastq.gz\u001b[0m*\r\n",
      "\u001b[01;32mAD06_lane2_NoIndex_L002_R1_008.fastq.gz\u001b[0m*\r\n",
      "\u001b[01;32mAD06_lane2_NoIndex_L002_R1_009.fastq.gz\u001b[0m*\r\n",
      "\u001b[01;32mAD06_lane2_NoIndex_L002_R1_010.fastq.gz\u001b[0m*\r\n",
      "\u001b[01;32mAD06_lane2_NoIndex_L002_R1_011.fastq.gz\u001b[0m*\r\n",
      "\u001b[01;32mAD06_lane2_NoIndex_L002_R1_012.fastq.gz\u001b[0m*\r\n"
     ]
    }
   ],
   "source": [
    "ls"
   ]
  },
  {
   "cell_type": "code",
   "execution_count": 11,
   "metadata": {
    "collapsed": false
   },
   "outputs": [
    {
     "name": "stdout",
     "output_type": "stream",
     "text": [
      "/media/mfisher5/New Volume/Kristen/Data/HS04\n"
     ]
    }
   ],
   "source": [
    "cd ../HS04/"
   ]
  },
  {
   "cell_type": "code",
   "execution_count": 12,
   "metadata": {
    "collapsed": false
   },
   "outputs": [
    {
     "name": "stdout",
     "output_type": "stream",
     "text": [
      "\u001b[0m\u001b[01;32mHS04_lane3_NoIndex_L003_R1_001.fastq.gz\u001b[0m*\r\n",
      "\u001b[01;32mHS04_lane3_NoIndex_L003_R1_002.fastq.gz\u001b[0m*\r\n",
      "\u001b[01;32mHS04_lane3_NoIndex_L003_R1_003.fastq.gz\u001b[0m*\r\n",
      "\u001b[01;32mHS04_lane3_NoIndex_L003_R1_004.fastq.gz\u001b[0m*\r\n",
      "\u001b[01;32mHS04_lane3_NoIndex_L003_R1_005.fastq.gz\u001b[0m*\r\n",
      "\u001b[01;32mHS04_lane3_NoIndex_L003_R1_006.fastq.gz\u001b[0m*\r\n",
      "\u001b[01;32mHS04_lane3_NoIndex_L003_R1_007.fastq.gz\u001b[0m*\r\n",
      "\u001b[01;32mHS04_lane3_NoIndex_L003_R1_008.fastq.gz\u001b[0m*\r\n",
      "\u001b[01;32mHS04_lane3_NoIndex_L003_R1_009.fastq.gz\u001b[0m*\r\n",
      "\u001b[01;32mHS04_lane3_NoIndex_L003_R1_010.fastq.gz\u001b[0m*\r\n",
      "\u001b[01;32mHS04_lane3_NoIndex_L003_R1_011.fastq.gz\u001b[0m*\r\n",
      "\u001b[01;32mHS04_lane3_NoIndex_L003_R1_012.fastq.gz\u001b[0m*\r\n"
     ]
    }
   ],
   "source": [
    "ls"
   ]
  },
  {
   "cell_type": "markdown",
   "metadata": {},
   "source": [
    "<br>\n",
    "Using the file naming system, each population was sequenced in a specific lane: \n",
    "\n",
    "**AD06:** Lane 2\n",
    "\n",
    "**HS04:** Lane 3\n",
    "\n",
    "**KOD03:** Lane 1\n",
    "\n",
    "**PI04:** Lane 3\n",
    "\n",
    "**PS12:** Lane 4\n",
    "\n",
    "**PWS12_GS13:** Lane 4 \n",
    "\n",
    "**UP03:** Lane 5\n",
    "\n",
    "**WC05:** Lane 2\n",
    "\n",
    "\n",
    "<br>\n",
    "### Fastq Files\n",
    "\n",
    "all appear to be single read (R1)"
   ]
  },
  {
   "cell_type": "code",
   "execution_count": 15,
   "metadata": {
    "collapsed": false
   },
   "outputs": [
    {
     "name": "stdout",
     "output_type": "stream",
     "text": [
      "@HWI-ST0747:404:C552BACXX:3:1101:1227:2063 1:N:0:\r\n",
      "GANCGTTGCAGGACTGGCACCTGCTCATGTAGGAGGACATGTCGGAGCAGTCGCTCATGCACTCATAGGAGCGACCCTGGAAGTTCTTCTCCTCGTAGAAA\r\n",
      "+\r\n",
      "B@#4ADDBFHHHHJJIJJJJJIJJJJJJJJJJJJIJJJJIIIJJJJJJJJIJIJJJHHHHHFFFFFFEEEEDDDD@BDDDDDDDDEDDDDCCDDDD?BBC>\r\n",
      "@HWI-ST0747:404:C552BACXX:3:1101:1192:2067 1:N:0:\r\n",
      "TGNCAATGCAGGGAGCGATACATCATCACTATGAATCCCATTACGATACCATAGGTGATATAGTGGATAGACGCCCATTCCTGCTACTTTTAGAAACTGTT\r\n",
      "+\r\n",
      "@@#4:BDDFHHHF=BBDHGGCEH?GHGHIIHHGIGGIGHGGGHGHHICGFGGGEGCDGGDHGICECAEEE>;9A>9;?ADCCCCDCCDCDDDCC>CDCDDD\r\n",
      "@HWI-ST0747:404:C552BACXX:3:1101:1175:2068 1:Y:0:\r\n",
      "CANGCATGCACCTGTAAATTAGGGACTGCTCTTATGCCCCAAGGGGCGGGACGGCGAAAGGAGGAGGCGCGCTCTGGTGCAATCGCAATGTATATTAACTG\r\n",
      "+\r\n",
      "-(#2(@@@@@==<>9@?489@@###############################################################################\r\n",
      "@HWI-ST0747:404:C552BACXX:3:1101:1100:2073 1:N:0:\r\n",
      "TCNCGGTGCAGGTGTCGGGGTATATAGCCTTTTAACAATATGGTCAGTATTCTACAAATTAACAGCAGAATTATAAAGACCAAGGACCACATTTTTANNAA\r\n",
      "+\r\n",
      "CB#4BDDDHHHHHJJJIIJJEFGIJJJJJJJJJIIJJJJJJIJIIJJJJJJIIIIGGDHIJJJIJJHGHHHFFFFFFFEEEC?BDDDBDDDDDEEDD####\r\n",
      "@HWI-ST0747:404:C552BACXX:3:1101:1171:2087 1:N:0:\r\n",
      "TGGGGATGCAGGCTAAATAGAGTTGCCACCGGTAGAAAATAATCCCGCTTTGTCAGCCGCTGTGTACGACGCCGGCCAAAGATTTCTCACCTGGCTTATTA\r\n",
      "+\r\n",
      "CCCFFFFDFHHHHJJJJJJJIIJJJJJJJJJIGHIIJJJJJJJJJJIJJJJJJIIIJJJGHFEFFDEDDD@DBDDBBDDDCCDDDDDDEDDDDDBDDDCEC\r\n",
      "\r\n",
      "gzip: stdout: Broken pipe\r\n"
     ]
    }
   ],
   "source": [
    "!zcat HS04_lane3_NoIndex_L003_R1_001.fastq.gz | head -n 20"
   ]
  },
  {
   "cell_type": "code",
   "execution_count": 16,
   "metadata": {
    "collapsed": false
   },
   "outputs": [
    {
     "name": "stdout",
     "output_type": "stream",
     "text": [
      "@HWI-ST0747:404:C552BACXX:3:2310:19733:75330 1:N:0:\r\n",
      "ATCAAATGCACAGGGAGCTCAGCGGTTGGCCGAAGAGGTCGCCCCGGGGACCGGCGTTGGAGGCGGGGTCATTGAGCTGGTGGCCGGGGCCTCGCCAGAAG\r\n",
      "+\r\n",
      "CCCFFFFFHHHHHJIIJJJJJJJJJHJJIJJJJJGIIIHFIJJJHEBCDBDDDDDD@DDDCDDDDDDB;>BDEDDCDCCCADB@BDDB@9>DDBDDDBDDC\r\n",
      "@HWI-ST0747:404:C552BACXX:3:2310:19591:75332 1:N:0:\r\n",
      "TTTAATTGCAGGCAGAGGCATGGTTCTGACACCAGAACGAAGCGGGGGTGGGCTGCTCTCAGTCTCATGCCCACCTCGTACCTCCATGCCTGTCCATCATT\r\n",
      "+\r\n",
      "@CCDFEFBFFFHHH:E;BFHIIGFHFGIIJGIGHHIGJGIIGGFAHDD355BBCBDDCDDCCACDDEEDCC?ABB<?B?BDDDDDAC>ACCCC@CDCCCC:\r\n",
      "@HWI-ST0747:404:C552BACXX:3:2310:19704:75335 1:N:0:\r\n",
      "AATATCTGCAGGATGATCAAGTGCCAGCCTCAAGAGTACGGCTTCATCCCCAAGACCTGGATCTTCCCGGCCGAGTACACCCAGTTCCAGAACTACGTCAA\r\n",
      "+\r\n",
      "CCCFFFFFHHHHHJJJIJJJJGIIJGIJJJJJIJJJFHIJJGIJJJIJJJJIJJJJGJJJJJJJIGHGHFFDDBDDBDDDCDDDDDDDDCCDDDDDDDDDB\r\n",
      "@HWI-ST0747:404:C552BACXX:3:2310:19632:75345 1:N:0:\r\n",
      "GCAGATTGCAGGTCCCTCTAAACCCAGCAGGTCCCTCTAAACCCAGCAGGTCCCTGGTCGCCCCAGCAGGTCCCTCTAAACCAAGCAGGTCCGTCTAAACC\r\n",
      "+\r\n",
      "CCCFFFFFHHHHHJJJJJJJJJJJJJIJJJJGHIJJJIIIJJJJJIJIJIHIJJIJJHHIIHHFFFEEEDECDDDCCD@CCCABBBDDD?CCDDBDDC@C3\r\n",
      "@HWI-ST0747:404:C552BACXX:3:2310:19574:75347 1:N:0:\r\n",
      "ACAGCGTGCAGGGGTGTCCATTAGTGGGTACATTGATTCTGGGCCTTCATTCTGGTCGCGGTCCATCCGGTGGCTGGGGGCTTGGTTCCTTTGGGACCCGG\r\n",
      "+\r\n",
      "@@@DDDDDHHHFA:<C?FHGHIGF?CFA?BGFHIEHICDAG@B2BFHEIGICFF==@HE>/9>8A>5=:?B@BABBBB@B9>?5<>ACCC@A>?5<ABB35\r\n",
      "\r\n",
      "gzip: stdout: Broken pipe\r\n"
     ]
    }
   ],
   "source": [
    "!zcat HS04_lane3_NoIndex_L003_R1_012.fastq.gz | head -n 20"
   ]
  },
  {
   "cell_type": "markdown",
   "metadata": {},
   "source": [
    "<br>\n",
    "I am unsure why there are 12 `fq.gz` per population. \n",
    "\n",
    "<br>\n",
    "**FASTQC Output**\n",
    "\n",
    "I ran FastQC on two raw data files (001 and 012) for each population. \n",
    "\n",
    "[Adak 001](), [Adak 012]()\n",
    "\n",
    "[Hecate Strait 001](), [Hecate Strait 012]()\n",
    "\n",
    "[Kodiak 001](), [Kodiak 012]()\n",
    "\n",
    "[Pribilof 001](), [Pribilof 012]()\n",
    "\n",
    "[Puget Sound 001](), [Puget Sound 012]()\n",
    "\n",
    "[Prince William Sound/Georgia Strait 001](), [Prince William Sound/Georgia Strait 012]()\n",
    "\n",
    "[Unimak 001](), [Unimak 012]()\n",
    "\n",
    "[Washington Coast 001](), [Washington Coast 012]()\n",
    "\n",
    "<br>\n",
    "<br>\n",
    "\n",
    "\n",
    "### Barcodes\n",
    "\n",
    "Kristen's barcodes excel file has the barcodes for each population on a different tab. I created text files for each of the sequencing lanes (inferred by her naming scheme in her raw data above) and copied in the appropriate populations' barcodes. "
   ]
  },
  {
   "cell_type": "code",
   "execution_count": 10,
   "metadata": {
    "collapsed": false
   },
   "outputs": [
    {
     "name": "stdout",
     "output_type": "stream",
     "text": [
      "/mnt/hgfs/Pacific cod/DataAnalysis/PCod-US-repo\n"
     ]
    }
   ],
   "source": [
    "cd PCod-US-repo/"
   ]
  },
  {
   "cell_type": "code",
   "execution_count": 11,
   "metadata": {
    "collapsed": false,
    "scrolled": true
   },
   "outputs": [
    {
     "name": "stdout",
     "output_type": "stream",
     "text": [
      "/mnt/hgfs/Pacific cod/DataAnalysis/PCod-US-repo/scripts\n"
     ]
    }
   ],
   "source": [
    "cd scripts"
   ]
  },
  {
   "cell_type": "code",
   "execution_count": 12,
   "metadata": {
    "collapsed": false
   },
   "outputs": [
    {
     "name": "stdout",
     "output_type": "stream",
     "text": [
      "\u001b[0m\u001b[01;32mbarcodes_KGoriginal_file.xlsx\u001b[0m*  \u001b[01;32mbarcodesL3_PI.txt\u001b[0m*\r\n",
      "\u001b[01;32mbarcodesL1.txt\u001b[0m*                 \u001b[01;32mbarcodesL4_PS.txt\u001b[0m*\r\n",
      "\u001b[01;32mbarcodesL2_AD.txt\u001b[0m*              \u001b[01;32mbarcodesL4_PWSGS.txt\u001b[0m*\r\n",
      "\u001b[01;32mbarcodesL2_WC.txt\u001b[0m*              \u001b[01;32mbarcodesL5.txt\u001b[0m*\r\n",
      "\u001b[01;32mbarcodesL3_HS.txt\u001b[0m*              \u001b[01;32mradtags_ustacks_genShell_3-6.py\u001b[0m*\r\n"
     ]
    }
   ],
   "source": [
    "ls"
   ]
  },
  {
   "cell_type": "code",
   "execution_count": 13,
   "metadata": {
    "collapsed": false
   },
   "outputs": [
    {
     "name": "stdout",
     "output_type": "stream",
     "text": [
      "CGCAGA\tKOD03_035\r",
      "\r\n",
      "CGAGGC\tKOD03_051\r",
      "\r\n",
      "CCGCAT\tKOD03_052\r",
      "\r\n",
      "ATTCCG\tKOD03_053\r",
      "\r\n",
      "TTCTAG\tKOD03_054\r",
      "\r\n"
     ]
    }
   ],
   "source": [
    "!head -n 5 barcodesL1.txt"
   ]
  },
  {
   "cell_type": "markdown",
   "metadata": {},
   "source": [
    "<br>\n",
    "\n",
    "### Cross reference with lab notebook"
   ]
  },
  {
   "cell_type": "code",
   "execution_count": null,
   "metadata": {
    "collapsed": true
   },
   "outputs": [],
   "source": []
  }
 ],
 "metadata": {
  "anaconda-cloud": {},
  "kernelspec": {
   "display_name": "Python [default]",
   "language": "python",
   "name": "python2"
  },
  "language_info": {
   "codemirror_mode": {
    "name": "ipython",
    "version": 2
   },
   "file_extension": ".py",
   "mimetype": "text/x-python",
   "name": "python",
   "nbconvert_exporter": "python",
   "pygments_lexer": "ipython2",
   "version": "2.7.12"
  }
 },
 "nbformat": 4,
 "nbformat_minor": 1
}
