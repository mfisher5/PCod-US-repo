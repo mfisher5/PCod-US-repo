{
 "cells": [
  {
   "cell_type": "markdown",
   "metadata": {},
   "source": [
    "## Stacks batch 2 - nb1\n",
    "\n",
    "This notebook contains ustacks --> reference genome building for US Cod batch 2 of the stacks pipeline. \n",
    "\n",
    "The major difference between batch 2 and batch 1 is that in batch 2 I am using a **stack depth of 5** for the first run-through of stacks, rather than a stack depth of 10. \n",
    "\n",
    "\n",
    "### 4/30/2017\n",
    "\n",
    "### ustacks\n",
    "\n",
    "I set up ustacks to run batch 2 (**-m 5**)"
   ]
  },
  {
   "cell_type": "code",
   "execution_count": 1,
   "metadata": {
    "collapsed": false
   },
   "outputs": [
    {
     "name": "stdout",
     "output_type": "stream",
     "text": [
      "/mnt/hgfs/Pacific cod/DataAnalysis/PCod-US-repo/scripts\n"
     ]
    }
   ],
   "source": [
    "cd ../scripts"
   ]
  },
  {
   "cell_type": "code",
   "execution_count": 2,
   "metadata": {
    "collapsed": false
   },
   "outputs": [
    {
     "name": "stdout",
     "output_type": "stream",
     "text": [
      "#!/bin/bash\r\n",
      "\r\n",
      "mkdir ../stacks_b2\r\n",
      "\r\n",
      "\r\n",
      "#ustacks\r\n",
      "ustacks -t gzfastq -f ../samplesT92/KOD03_035.fq.gz -r -d -o ../stacks_b2 -i 001 -m 5 -M 3 -p 6 --model_type bounded\r\n",
      "ustacks -t gzfastq -f ../samplesT92/KOD03_051.fq.gz -r -d -o ../stacks_b2 -i 002 -m 5 -M 3 -p 6 --model_type bounded\r\n",
      "ustacks -t gzfastq -f ../samplesT92/KOD03_052.fq.gz -r -d -o ../stacks_b2 -i 003 -m 5 -M 3 -p 6 --model_type bounded\r\n",
      "ustacks -t gzfastq -f ../samplesT92/KOD03_053.fq.gz -r -d -o ../stacks_b2 -i 004 -m 5 -M 3 -p 6 --model_type bounded\r\n"
     ]
    }
   ],
   "source": [
    "!head ustacks_counts_4-30.sh"
   ]
  },
  {
   "cell_type": "code",
   "execution_count": null,
   "metadata": {
    "collapsed": true
   },
   "outputs": [],
   "source": [
    "# run at command line\n",
    "\n",
    "./ustacks_counts_4-30.sh"
   ]
  },
  {
   "cell_type": "markdown",
   "metadata": {},
   "source": [
    "For some reason the counts code did not run, so I will have to do that separately. "
   ]
  },
  {
   "cell_type": "code",
   "execution_count": null,
   "metadata": {
    "collapsed": true
   },
   "outputs": [],
   "source": []
  }
 ],
 "metadata": {
  "kernelspec": {
   "display_name": "Python [default]",
   "language": "python",
   "name": "python2"
  },
  "language_info": {
   "codemirror_mode": {
    "name": "ipython",
    "version": 2
   },
   "file_extension": ".py",
   "mimetype": "text/x-python",
   "name": "python",
   "nbconvert_exporter": "python",
   "pygments_lexer": "ipython2",
   "version": "2.7.12"
  }
 },
 "nbformat": 4,
 "nbformat_minor": 1
}
