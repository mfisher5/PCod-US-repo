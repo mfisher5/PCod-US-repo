{
 "cells": [
  {
   "cell_type": "markdown",
   "metadata": {},
   "source": [
    "## Stacks pipeline batch 2 - data exploration & visualization\n",
    "\n",
    "<br>\n",
    "This notebook includes: \n",
    "1. heterozygosity v. read depth\n",
    "2. Haplotype Fis distribution\n",
    "4. read depth by tag number, distribution of read depth per tag\n",
    "5. Histogram of SNP position in read\n",
    "6. Fst v. SNP position (for haplotypes with only 1 SNP)\n",
    "7. Het v. SNP position \n",
    "8. Fis v. heterozygosity\n",
    "\n",
    "<br>\n",
    "<br>\n",
    "#### 6/14/2017\n",
    "<br>\n",
    "### (1) heterozygosity v. read depth \n",
    "\n",
    "**This uses a script from Dan Drinan to compare average observed heterozygosity v. read depth by individual. I ran the script on all individuals that were *retained after the filtering steps***\n",
    "\n",
    "**Observed heterozygosity was calculated using `genepop`**\n",
    "\n",
    "**Read depth was calculated as the number of sequences in the original `fastq` file. **"
   ]
  },
  {
   "cell_type": "code",
   "execution_count": 1,
   "metadata": {
    "collapsed": false
   },
   "outputs": [
    {
     "data": {
      "text/plain": [
       "u'/mnt/hgfs/Pacific cod/DataAnalysis/PCod-US-repo/notebooks'"
      ]
     },
     "execution_count": 1,
     "metadata": {},
     "output_type": "execute_result"
    }
   ],
   "source": [
    "pwd"
   ]
  },
  {
   "cell_type": "code",
   "execution_count": 4,
   "metadata": {
    "collapsed": false
   },
   "outputs": [
    {
     "name": "stdout",
     "output_type": "stream",
     "text": [
      "/mnt/hgfs/Pacific cod/DataAnalysis/PCod-US-repo/scripts\n"
     ]
    }
   ],
   "source": [
    "cd ../scripts"
   ]
  },
  {
   "cell_type": "code",
   "execution_count": 8,
   "metadata": {
    "collapsed": false
   },
   "outputs": [
    {
     "name": "stdout",
     "output_type": "stream",
     "text": [
      "\r\n",
      "\r\n",
      "################################################################################\r\n",
      "#\r\n",
      "# hetVsReadDepth.py - this is a script used to compare heterozygosity vs.\r\n",
      "# read depth in an individual or list of individuals\r\n",
      "#\r\n",
      "# 2017-March-28\r\n",
      "# Daniel Drinan (ddrinan@uw.edu)\r\n",
      "#\r\n",
      "################################################################################\r\n",
      "\r\n",
      "import argparse, subprocess\r\n",
      "\r\n",
      "parser = argparse.ArgumentParser()\r\n",
      "# it is either run with '-l' if you want to compare heterozygosity and read depth\r\n",
      "# of a bunch of individuals\r\n",
      "#\r\n",
      "# or, if you are only interested in a single individual, you run with '-i' and\r\n",
      "# '-f' \r\n",
      "parser.add_argument(\"-l\", \"--list\", help=\"white space delimited list of individuals \\\r\n",
      "                                          (column1) and corresponding sequence file \\\r\n",
      "                                          (column2; FASTA or FASTQ) to investigate\")\r\n",
      "parser.add_argument(\"-i\", \"--ind\", help=\"name of individual to investigate (mutually \\\r\n",
      "                                         exclusive to '-l' and requires '-f') - \\\r\n",
      "                                         UNTESTED\")\r\n",
      "parser.add_argument(\"-q\", \"--fastq\", help=\"location of fastq file where read depth \\\r\n",
      "                                           can be calculated - UNTESTED\")\r\n",
      "parser.add_argument(\"-f\", \"--file\", help=\"location of file with genotypes (assumes \\\r\n",
      "                                          genepop format)\")\r\n"
     ]
    }
   ],
   "source": [
    "!head -n 30 hetVsReadDepth.py"
   ]
  },
  {
   "cell_type": "code",
   "execution_count": 9,
   "metadata": {
    "collapsed": true
   },
   "outputs": [],
   "source": [
    "!mv hetVsReadDepth.py ../samplesT92/hetVsReadDepth.py"
   ]
  },
  {
   "cell_type": "code",
   "execution_count": 10,
   "metadata": {
    "collapsed": false
   },
   "outputs": [
    {
     "name": "stdout",
     "output_type": "stream",
     "text": [
      "/mnt/hgfs/Pacific cod/DataAnalysis/PCod-US-repo/samplesT92\n"
     ]
    }
   ],
   "source": [
    "cd ../samplesT92/"
   ]
  },
  {
   "cell_type": "code",
   "execution_count": null,
   "metadata": {
    "collapsed": true
   },
   "outputs": [],
   "source": [
    "!python hetVsReadDepth.py \\\n",
    "-l ../analyses/batch_2_FinalFilteredIndivids.txt \\\n",
    "-f ../stacks_b2_wgenome/batch_2.filteredMAF_filteredLoci_filteredIndivids_filteredHWE.gen \\\n",
    "-o ../analyses/batch2_HetvReadDepth_filtered \\\n",
    "-d 4"
   ]
  },
  {
   "cell_type": "code",
   "execution_count": 1,
   "metadata": {
    "collapsed": false
   },
   "outputs": [
    {
     "name": "stdout",
     "output_type": "stream",
     "text": [
      "/mnt/hgfs/Pacific cod/DataAnalysis/PCod-US-repo/analyses\n"
     ]
    }
   ],
   "source": [
    "cd ../analyses"
   ]
  },
  {
   "cell_type": "code",
   "execution_count": 2,
   "metadata": {
    "collapsed": false
   },
   "outputs": [
    {
     "name": "stdout",
     "output_type": "stream",
     "text": [
      "Processed  287  samples.\n"
     ]
    }
   ],
   "source": [
    "myfile = open(\"batch2_HetvReadDepth_filtered\", \"r\")\n",
    "\n",
    "count = 0\n",
    "read_depth = []\n",
    "prop_het = []\n",
    "\n",
    "for line in myfile: \n",
    "    if count > 1: \n",
    "        new_depth = line.strip().split()[1]\n",
    "        new_het = line.strip().split()[2]\n",
    "        read_depth.append(new_depth)\n",
    "        prop_het.append(new_het)\n",
    "        count += 1\n",
    "    else: \n",
    "        count += 1\n",
    "\n",
    "myfile.close()\n",
    "\n",
    "print \"Processed \", count, \" samples.\"\n"
   ]
  },
  {
   "cell_type": "code",
   "execution_count": 3,
   "metadata": {
    "collapsed": false
   },
   "outputs": [],
   "source": [
    "length = len(read_depth)\n",
    "for i in range(0,length):\n",
    "    read_depth[i] = float(read_depth[i])\n",
    "\n",
    "length = len(prop_het)\n",
    "for i in range(0,length):\n",
    "    prop_het[i] = float(prop_het[i])\n",
    "    "
   ]
  },
  {
   "cell_type": "code",
   "execution_count": 4,
   "metadata": {
    "collapsed": true
   },
   "outputs": [],
   "source": [
    "import numpy as np\n",
    "import matplotlib.pyplot as plt"
   ]
  },
  {
   "cell_type": "code",
   "execution_count": 5,
   "metadata": {
    "collapsed": false,
    "scrolled": true
   },
   "outputs": [
    {
     "data": {
      "image/png": "[encoded data removed]",
      "text/plain": [
       "<matplotlib.figure.Figure at 0x7fe2ecb775d0>"
      ]
     },
     "metadata": {},
     "output_type": "display_data"
    }
   ],
   "source": [
    "plt.scatter(read_depth, prop_het)\n",
    "plt.suptitle(\"Heterozygosity by Read Depth\")\n",
    "plt.xlabel(\"Read depth\")\n",
    "plt.ylabel(\"Heterozygosity\")\n",
    "plt.show()"
   ]
  },
  {
   "cell_type": "code",
   "execution_count": 6,
   "metadata": {
    "collapsed": true
   },
   "outputs": [],
   "source": [
    "plt.close()"
   ]
  },
  {
   "cell_type": "markdown",
   "metadata": {},
   "source": [
    "To find the correlation between the two: "
   ]
  },
  {
   "cell_type": "code",
   "execution_count": 7,
   "metadata": {
    "collapsed": false,
    "scrolled": true
   },
   "outputs": [
    {
     "data": {
      "text/plain": [
       "array([[ 1.        ,  0.76704982],\n",
       "       [ 0.76704982,  1.        ]])"
      ]
     },
     "execution_count": 7,
     "metadata": {},
     "output_type": "execute_result"
    }
   ],
   "source": [
    "np.corrcoef(read_depth, prop_het)"
   ]
  },
  {
   "cell_type": "markdown",
   "metadata": {},
   "source": [
    "<br>\n",
    "\n",
    "**The correlation between heterozygosity and read depth is 0.7594**"
   ]
  },
  {
   "cell_type": "markdown",
   "metadata": {},
   "source": [
    "\n",
    "<br>\n",
    "<br>\n",
    "<br>\n",
    "<br>\n",
    "\n",
    "### (2) Haplotype Fis distribution \n",
    "\n",
    "**This looks at the frequency of Fis values across haplotypes - first overall, and then in each population. The haplotype is the combination of biallelic SNPs that is genotyped by stacks**\n",
    "\n",
    "**This Fis was calculated using hierfstat and adegenet in R. **\n",
    "\n",
    "\n",
    "<br>\n",
    "<br>\n",
    "\n",
    "\n",
    "\n",
    "\n",
    "**(1)** I ran this [r script](https://github.com/mfisher5/PCod-US-repo/blob/master/analyses/Fis.R) - borrowed from Natalie - to find per population Fis and heterozygosity. "
   ]
  },
  {
   "cell_type": "markdown",
   "metadata": {},
   "source": [
    "<br>\n",
    "**(2)** Plot in frequency histogram based off of Natalie's [scallop notebook](https://github.com/nclowell/RAD_Scallops/blob/master/CRAGIG_run1/Notebooks/script_demos_notebooks/Plot%20num%20alleles%20per%20locus%20from%20catalog%20file.ipynb)."
   ]
  },
  {
   "cell_type": "code",
   "execution_count": 10,
   "metadata": {
    "collapsed": false
   },
   "outputs": [
    {
     "name": "stdout",
     "output_type": "stream",
     "text": [
      "Fis values recorded from  2410  loci.\n",
      "Removed  3462  NAs from  19280  Fis values\n"
     ]
    }
   ],
   "source": [
    "genepop = open(\"USpcod_Fis_batch2.txt\", \"r\")\n",
    "pops = [\"Kodiak03\", \"Adak06\", \"WashCoast05\", \"HecStrait04\", \"PugetSound12\", \"GeorgiaStrait13\", \"PWSound12\", \"UnimakPass03\"]\n",
    "fis_bypop = []\n",
    "fis_all = []\n",
    "\n",
    "counter = 1\n",
    "NA_count = 0\n",
    "total_count = 0\n",
    "for line in genepop: \n",
    "    if counter == 1: \n",
    "            counter += 1\n",
    "    else: \n",
    "        fis_values = line.strip().split()[1:]\n",
    "        for i in fis_values:\n",
    "            if i == \"NA\":\n",
    "                NA_count += 1\n",
    "                total_count += 1\n",
    "            else: \n",
    "                fis_all.append(float(i))\n",
    "                total_count += 1\n",
    "        counter += 1\n",
    "\n",
    "total_loci = counter - 2\n",
    "print \"Fis values recorded from \", total_loci, \" loci.\"\n",
    "print \"Removed \", NA_count, \" NAs from \", total_count, \" Fis values\"\n",
    "        "
   ]
  },
  {
   "cell_type": "code",
   "execution_count": 11,
   "metadata": {
    "collapsed": true
   },
   "outputs": [],
   "source": [
    "for i in range(0, len(fis_all)): \n",
    "    fis_all[i] = float(fis_all[i])"
   ]
  },
  {
   "cell_type": "code",
   "execution_count": 12,
   "metadata": {
    "collapsed": true
   },
   "outputs": [],
   "source": [
    "import numpy as np\n",
    "import matplotlib.pyplot as plt"
   ]
  },
  {
   "cell_type": "code",
   "execution_count": 13,
   "metadata": {
    "collapsed": false
   },
   "outputs": [
    {
     "data": {
      "image/png": "[encoded data removed]",
      "text/plain": [
       "<matplotlib.figure.Figure at 0x7fe2ecb77b10>"
      ]
     },
     "metadata": {},
     "output_type": "display_data"
    }
   ],
   "source": [
    "plt.hist(fis_all, bins = np.arange(-1, 1.1, .1)+0.05, color = \"darkcyan\")\n",
    "plt.suptitle(\"Haplotype-level Fis across populations\")\n",
    "plt.xlabel(\"Fis\")\n",
    "plt.ylabel(\"Frequency\")\n",
    "plt.show()"
   ]
  },
  {
   "cell_type": "code",
   "execution_count": 14,
   "metadata": {
    "collapsed": true
   },
   "outputs": [],
   "source": [
    "fis_file = open(\"USpcod_Fis_3-24.txt\", \"r\")\n",
    "lines = fis_file.readlines() # exclude header\n",
    "headerline = lines[0] # get header line\n",
    "restlines = lines[1:] # get rest of lines\n",
    "header_pops = headerline.strip().split(\"\\t\")\n",
    "header_pops = header_pops[1:]\n",
    "pops = [\"Kodiak03\", \"Adak06\", \"WashCoast05\", \"HecStrait04\", \"PugetSound12\", \"GeorgiaStrait13\", \"PWSound12\", \"UnimakPass03\"]"
   ]
  },
  {
   "cell_type": "code",
   "execution_count": 15,
   "metadata": {
    "collapsed": false
   },
   "outputs": [
    {
     "data": {
      "text/plain": [
       "['\"AD06_048\"',\n",
       " '\"WC05_048\"',\n",
       " '\"HS04_048\"',\n",
       " '\"PS12_009\"',\n",
       " '\"GS13_017\"',\n",
       " '\"PWS12_133\"',\n",
       " '\"UP03_048\"']"
      ]
     },
     "execution_count": 15,
     "metadata": {},
     "output_type": "execute_result"
    }
   ],
   "source": [
    "header_pops"
   ]
  },
  {
   "cell_type": "code",
   "execution_count": 16,
   "metadata": {
    "collapsed": false
   },
   "outputs": [
    {
     "name": "stdout",
     "output_type": "stream",
     "text": [
      "NA count: 4616\n",
      "NAs made up 17.13% of your Fis estimates.\n"
     ]
    }
   ],
   "source": [
    "fis_sets = []\n",
    "NA_count = 0\n",
    "total_count = 0\n",
    "\n",
    "snp_all_fis = []\n",
    "for pop in header_pops:\n",
    "    pop_fis = []\n",
    "    pop_index = header_pops.index(pop) + 1\n",
    "    for line in restlines:\n",
    "        linelist = line.strip().split(\"\\t\")\n",
    "        snp_fis = linelist[pop_index]\n",
    "        if snp_fis == \"NA\":\n",
    "            NA_count += 1\n",
    "            total_count += 1\n",
    "        elif snp_fis != \"NA\":\n",
    "            snp_fis = float(snp_fis)\n",
    "            pop_fis.append(snp_fis)\n",
    "            snp_all_fis.append(snp_fis)\n",
    "            total_count += 1\n",
    "    fis_sets.append(pop_fis)\n",
    "\n",
    "print \"NA count: \" + str(NA_count)\n",
    "print \"NAs made up \" + str(float(NA_count)/float(total_count)*100)[0:5] + \"% of your Fis estimates.\""
   ]
  },
  {
   "cell_type": "code",
   "execution_count": 17,
   "metadata": {
    "collapsed": false
   },
   "outputs": [
    {
     "data": {
      "image/png": "[encoded data removed]",
      "text/plain": [
       "<matplotlib.figure.Figure at 0x7fe2ea179790>"
      ]
     },
     "metadata": {},
     "output_type": "display_data"
    },
    {
     "data": {
      "image/png": "[encoded data removed]",
      "text/plain": [
       "<matplotlib.figure.Figure at 0x7fe2ea641d50>"
      ]
     },
     "metadata": {},
     "output_type": "display_data"
    },
    {
     "data": {
      "image/png": "[encoded data removed]",
      "text/plain": [
       "<matplotlib.figure.Figure at 0x7fe2e89540d0>"
      ]
     },
     "metadata": {},
     "output_type": "display_data"
    },
    {
     "data": {
      "image/png": "[encoded data removed]",
      "text/plain": [
       "<matplotlib.figure.Figure at 0x7fe2e88206d0>"
      ]
     },
     "metadata": {},
     "output_type": "display_data"
    },
    {
     "data": {
      "image/png": "[encoded data removed]",
      "text/plain": [
       "<matplotlib.figure.Figure at 0x7fe2e8a95290>"
      ]
     },
     "metadata": {},
     "output_type": "display_data"
    },
    {
     "data": {
      "image/png": "[encoded data removed]",
      "text/plain": [
       "<matplotlib.figure.Figure at 0x7fe2e8b0fa90>"
      ]
     },
     "metadata": {},
     "output_type": "display_data"
    },
    {
     "data": {
      "image/png": "[encoded data removed]",
      "text/plain": [
       "<matplotlib.figure.Figure at 0x7fe2e88dbc90>"
      ]
     },
     "metadata": {},
     "output_type": "display_data"
    }
   ],
   "source": [
    "for i in range(0,len(header_pops)):\n",
    "    plt.hist(fis_sets[i], bins = np.arange(-1, 1.1, .1)+0.05, color = \"darkcyan\")\n",
    "    plt.suptitle(\"Haplotype-level Fis in population \" + pops[i])\n",
    "    plt.xlabel(\"Fis\")\n",
    "    plt.ylabel(\"Frequency\")\n",
    "    plt.show()"
   ]
  },
  {
   "cell_type": "code",
   "execution_count": 18,
   "metadata": {
    "collapsed": true
   },
   "outputs": [],
   "source": [
    "fis_file.close()"
   ]
  },
  {
   "cell_type": "markdown",
   "metadata": {},
   "source": [
    "\n",
    "\n",
    "\n",
    "<br>\n",
    "<br>\n",
    "<br>\n",
    "### (3) Distribution of average read depth per tag ID\n",
    "\n",
    "**I found the read depth of each catalog tag (aka each locus from the reference \"genome\") in each individual, and then took an average of those read depths for each catalog tag. I then plotted this against tag ID, and as a frequency histogram.**\n",
    "\n",
    "**Read depth was calculated as the sum of the number of reads listed for that tag in the `.matches` files after `sstacks`**\n",
    "\n",
    "<br>\n",
    "\n",
    "\n",
    "Part of the following code was borrowed from Natalies [notebook](https://github.com/nclowell/RAD_Scallops/blob/master/CRAGIG_run1/Notebooks/data_processing_notebooks/plot_tagID_v_read_depth.ipynb). "
   ]
  },
  {
   "cell_type": "code",
   "execution_count": 19,
   "metadata": {
    "collapsed": false
   },
   "outputs": [
    {
     "name": "stdout",
     "output_type": "stream",
     "text": [
      "/mnt/hgfs/Pacific cod/DataAnalysis/PCod-US-repo/stacks_b2_wgenome\n"
     ]
    }
   ],
   "source": [
    "cd ../stacks_b2_wgenome"
   ]
  },
  {
   "cell_type": "code",
   "execution_count": 23,
   "metadata": {
    "collapsed": false
   },
   "outputs": [],
   "source": [
    "myfile = open(\"../analyses/batch_2_FinalFilteredIndivids.txt\", \"r\")\n",
    "newfile = open(\"../analyses/batch2_list_matches_filenames.txt\", \"w\")\n",
    "for line in myfile:\n",
    "    newfile.write(line.strip().split()[0] + \"\\n\")\n",
    "myfile.close()\n",
    "newfile.close()"
   ]
  },
  {
   "cell_type": "code",
   "execution_count": 24,
   "metadata": {
    "collapsed": false
   },
   "outputs": [
    {
     "name": "stdout",
     "output_type": "stream",
     "text": [
      "AD06_001.matches.tsv\r\n",
      "AD06_002.matches.tsv\r\n",
      "AD06_003.matches.tsv\r\n",
      "AD06_004.matches.tsv\r\n",
      "AD06_005.matches.tsv\r\n",
      "AD06_006.matches.tsv\r\n",
      "AD06_007.matches.tsv\r\n",
      "AD06_008.matches.tsv\r\n",
      "AD06_009.matches.tsv\r\n",
      "AD06_010.matches.tsv\r\n"
     ]
    }
   ],
   "source": [
    "!head list_matches_filenames.txt"
   ]
  },
  {
   "cell_type": "code",
   "execution_count": 25,
   "metadata": {
    "collapsed": false
   },
   "outputs": [],
   "source": [
    "# create a list of .matches.tsv file names to open below\n",
    "file_of_filenames = open(\"list_matches_filenames.txt\",\"r\")\n",
    "lines = file_of_filenames.readlines()\n",
    "filename_list = []\n",
    "for line in lines:\n",
    "    filename = line.strip()\n",
    "    filename_list.append(filename)"
   ]
  },
  {
   "cell_type": "code",
   "execution_count": 26,
   "metadata": {
    "collapsed": false
   },
   "outputs": [
    {
     "name": "stdout",
     "output_type": "stream",
     "text": [
      "['AD06_001.matches.tsv', 'AD06_002.matches.tsv', 'AD06_003.matches.tsv', 'AD06_004.matches.tsv', 'AD06_005.matches.tsv']\n"
     ]
    }
   ],
   "source": [
    "print filename_list[0:5]"
   ]
  },
  {
   "cell_type": "code",
   "execution_count": 27,
   "metadata": {
    "collapsed": false
   },
   "outputs": [
    {
     "name": "stdout",
     "output_type": "stream",
     "text": [
      "file  AD06_001.matches.tsv  counted.\n",
      "file  AD06_002.matches.tsv  counted.\n",
      "file  AD06_003.matches.tsv  counted.\n",
      "file  AD06_004.matches.tsv  counted.\n",
      "file  AD06_005.matches.tsv  counted.\n",
      "file  AD06_006.matches.tsv  counted.\n",
      "file  AD06_007.matches.tsv  counted.\n",
      "file  AD06_008.matches.tsv  counted.\n",
      "file  AD06_009.matches.tsv  counted.\n",
      "file  AD06_010.matches.tsv  counted.\n",
      "file  AD06_011.matches.tsv  counted.\n",
      "file  AD06_012.matches.tsv  counted.\n",
      "file  AD06_013.matches.tsv  counted.\n",
      "file  AD06_014.matches.tsv  counted.\n",
      "file  AD06_015.matches.tsv  counted.\n",
      "file  AD06_016.matches.tsv  counted.\n",
      "file  AD06_017.matches.tsv  counted.\n",
      "file  AD06_018.matches.tsv  counted.\n",
      "file  AD06_019.matches.tsv  counted.\n",
      "file  AD06_020.matches.tsv  counted.\n",
      "file  AD06_021.matches.tsv  counted.\n",
      "file  AD06_022.matches.tsv  counted.\n",
      "file  AD06_023.matches.tsv  counted.\n",
      "file  AD06_024.matches.tsv  counted.\n",
      "file  AD06_025.matches.tsv  counted.\n",
      "file  AD06_026.matches.tsv  counted.\n",
      "file  AD06_027.matches.tsv  counted.\n",
      "file  AD06_028.matches.tsv  counted.\n",
      "file  AD06_029.matches.tsv  counted.\n",
      "file  AD06_030.matches.tsv  counted.\n",
      "file  AD06_031.matches.tsv  counted.\n",
      "file  AD06_032.matches.tsv  counted.\n",
      "file  AD06_033.matches.tsv  counted.\n",
      "file  AD06_034.matches.tsv  counted.\n",
      "file  AD06_035.matches.tsv  counted.\n",
      "file  AD06_036.matches.tsv  counted.\n",
      "file  AD06_037.matches.tsv  counted.\n",
      "file  AD06_038.matches.tsv  counted.\n",
      "file  AD06_039.matches.tsv  counted.\n",
      "file  AD06_040.matches.tsv  counted.\n",
      "file  AD06_041.matches.tsv  counted.\n",
      "file  AD06_042.matches.tsv  counted.\n",
      "file  AD06_043.matches.tsv  counted.\n",
      "file  AD06_044.matches.tsv  counted.\n",
      "file  AD06_045.matches.tsv  counted.\n",
      "file  AD06_046.matches.tsv  counted.\n",
      "file  AD06_047.matches.tsv  counted.\n",
      "file  AD06_048.matches.tsv  counted.\n",
      "file  GS13_001.matches.tsv  counted.\n",
      "file  GS13_002.matches.tsv  counted.\n",
      "file  GS13_003.matches.tsv  counted.\n",
      "file  GS13_004.matches.tsv  counted.\n",
      "file  GS13_005.matches.tsv  counted.\n",
      "file  GS13_006.matches.tsv  counted.\n",
      "file  GS13_007.matches.tsv  counted.\n",
      "file  GS13_008.matches.tsv  counted.\n",
      "file  GS13_009.matches.tsv  counted.\n",
      "file  GS13_010.matches.tsv  counted.\n",
      "file  GS13_011.matches.tsv  counted.\n",
      "file  GS13_012.matches.tsv  counted.\n",
      "file  GS13_013.matches.tsv  counted.\n",
      "file  GS13_014.matches.tsv  counted.\n",
      "file  GS13_015.matches.tsv  counted.\n",
      "file  GS13_016.matches.tsv  counted.\n",
      "file  GS13_017.matches.tsv  counted.\n",
      "file  HS04_001.matches.tsv  counted.\n",
      "file  HS04_002.matches.tsv  counted.\n",
      "file  HS04_003.matches.tsv  counted.\n",
      "file  HS04_004.matches.tsv  counted.\n",
      "file  HS04_005.matches.tsv  counted.\n",
      "file  HS04_006.matches.tsv  counted.\n",
      "file  HS04_007.matches.tsv  counted.\n",
      "file  HS04_008.matches.tsv  counted.\n",
      "file  HS04_009.matches.tsv  counted.\n",
      "file  HS04_010.matches.tsv  counted.\n",
      "file  HS04_011.matches.tsv  counted.\n",
      "file  HS04_012.matches.tsv  counted.\n",
      "file  HS04_013.matches.tsv  counted.\n",
      "file  HS04_014.matches.tsv  counted.\n",
      "file  HS04_015.matches.tsv  counted.\n",
      "file  HS04_016.matches.tsv  counted.\n",
      "file  HS04_017.matches.tsv  counted.\n",
      "file  HS04_018.matches.tsv  counted.\n",
      "file  HS04_019.matches.tsv  counted.\n",
      "file  HS04_020.matches.tsv  counted.\n",
      "file  HS04_021.matches.tsv  counted.\n",
      "file  HS04_022.matches.tsv  counted.\n",
      "file  HS04_023.matches.tsv  counted.\n",
      "file  HS04_024.matches.tsv  counted.\n",
      "file  HS04_025.matches.tsv  counted.\n",
      "file  HS04_026.matches.tsv  counted.\n",
      "file  HS04_027.matches.tsv  counted.\n",
      "file  HS04_028.matches.tsv  counted.\n",
      "file  HS04_029.matches.tsv  counted.\n",
      "file  HS04_030.matches.tsv  counted.\n",
      "file  HS04_031.matches.tsv  counted.\n",
      "file  HS04_032.matches.tsv  counted.\n",
      "file  HS04_033.matches.tsv  counted.\n",
      "file  HS04_034.matches.tsv  counted.\n",
      "file  HS04_035.matches.tsv  counted.\n",
      "file  HS04_036.matches.tsv  counted.\n",
      "file  HS04_037.matches.tsv  counted.\n",
      "file  HS04_038.matches.tsv  counted.\n",
      "file  HS04_039.matches.tsv  counted.\n",
      "file  HS04_040.matches.tsv  counted.\n",
      "file  HS04_041.matches.tsv  counted.\n",
      "file  HS04_042.matches.tsv  counted.\n",
      "file  HS04_043.matches.tsv  counted.\n",
      "file  HS04_044.matches.tsv  counted.\n",
      "file  HS04_045.matches.tsv  counted.\n",
      "file  HS04_046.matches.tsv  counted.\n",
      "file  HS04_047.matches.tsv  counted.\n",
      "file  HS04_048.matches.tsv  counted.\n",
      "file  KOD03_035.matches.tsv  counted.\n",
      "file  KOD03_051.matches.tsv  counted.\n",
      "file  KOD03_052.matches.tsv  counted.\n",
      "file  KOD03_053.matches.tsv  counted.\n",
      "file  KOD03_054.matches.tsv  counted.\n",
      "file  KOD03_055.matches.tsv  counted.\n",
      "file  KOD03_056.matches.tsv  counted.\n",
      "file  KOD03_057.matches.tsv  counted.\n",
      "file  KOD03_058.matches.tsv  counted.\n",
      "file  KOD03_059.matches.tsv  counted.\n",
      "file  KOD03_060.matches.tsv  counted.\n",
      "file  KOD03_061.matches.tsv  counted.\n",
      "file  KOD03_062.matches.tsv  counted.\n",
      "file  KOD03_063.matches.tsv  counted.\n",
      "file  KOD03_064.matches.tsv  counted.\n",
      "file  KOD03_065.matches.tsv  counted.\n",
      "file  KOD03_066.matches.tsv  counted.\n",
      "file  KOD03_067.matches.tsv  counted.\n",
      "file  KOD03_068.matches.tsv  counted.\n",
      "file  KOD03_069.matches.tsv  counted.\n",
      "file  KOD03_070.matches.tsv  counted.\n",
      "file  KOD03_071.matches.tsv  counted.\n",
      "file  KOD03_072.matches.tsv  counted.\n",
      "file  KOD03_073.matches.tsv  counted.\n",
      "file  KOD03_074.matches.tsv  counted.\n",
      "file  KOD03_075.matches.tsv  counted.\n",
      "file  KOD03_076.matches.tsv  counted.\n",
      "file  KOD03_077.matches.tsv  counted.\n",
      "file  KOD03_078.matches.tsv  counted.\n",
      "file  KOD03_079.matches.tsv  counted.\n",
      "file  KOD03_080.matches.tsv  counted.\n",
      "file  KOD03_081.matches.tsv  counted.\n",
      "file  KOD03_082.matches.tsv  counted.\n",
      "file  KOD03_083.matches.tsv  counted.\n",
      "file  KOD03_084.matches.tsv  counted.\n",
      "file  KOD03_085.matches.tsv  counted.\n",
      "file  KOD03_086.matches.tsv  counted.\n",
      "file  KOD03_087.matches.tsv  counted.\n",
      "file  KOD03_088.matches.tsv  counted.\n",
      "file  KOD03_089.matches.tsv  counted.\n",
      "file  KOD03_090.matches.tsv  counted.\n",
      "file  KOD03_091.matches.tsv  counted.\n",
      "file  KOD03_092.matches.tsv  counted.\n",
      "file  KOD03_093.matches.tsv  counted.\n",
      "file  KOD03_094.matches.tsv  counted.\n",
      "file  KOD03_095.matches.tsv  counted.\n",
      "file  KOD03_096.matches.tsv  counted.\n",
      "file  KOD03_097.matches.tsv  counted.\n",
      "file  PI04_001.matches.tsv  counted.\n",
      "file  PI04_002.matches.tsv  counted.\n",
      "file  PI04_003.matches.tsv  counted.\n",
      "file  PI04_004.matches.tsv  counted.\n",
      "file  PI04_005.matches.tsv  counted.\n",
      "file  PI04_006.matches.tsv  counted.\n",
      "file  PI04_007.matches.tsv  counted.\n",
      "file  PI04_008.matches.tsv  counted.\n",
      "file  PI04_009.matches.tsv  counted.\n",
      "file  PI04_010.matches.tsv  counted.\n",
      "file  PI04_011.matches.tsv  counted.\n",
      "file  PI04_012.matches.tsv  counted.\n",
      "file  PI04_013.matches.tsv  counted.\n",
      "file  PI04_014.matches.tsv  counted.\n",
      "file  PI04_015.matches.tsv  counted.\n",
      "file  PI04_016.matches.tsv  counted.\n",
      "file  PI04_017.matches.tsv  counted.\n",
      "file  PI04_018.matches.tsv  counted.\n",
      "file  PI04_019.matches.tsv  counted.\n",
      "file  PI04_020.matches.tsv  counted.\n",
      "file  PI04_021.matches.tsv  counted.\n",
      "file  PI04_022.matches.tsv  counted.\n",
      "file  PI04_023.matches.tsv  counted.\n",
      "file  PI04_024.matches.tsv  counted.\n",
      "file  PI04_025.matches.tsv  counted.\n",
      "file  PI04_026.matches.tsv  counted.\n",
      "file  PI04_027.matches.tsv  counted.\n",
      "file  PI04_028.matches.tsv  counted.\n",
      "file  PI04_029.matches.tsv  counted.\n",
      "file  PI04_030.matches.tsv  counted.\n",
      "file  PI04_031.matches.tsv  counted.\n",
      "file  PI04_032.matches.tsv  counted.\n",
      "file  PI04_033.matches.tsv  counted.\n",
      "file  PI04_034.matches.tsv  counted.\n",
      "file  PI04_035.matches.tsv  counted.\n",
      "file  PI04_036.matches.tsv  counted.\n",
      "file  PI04_037.matches.tsv  counted.\n",
      "file  PI04_038.matches.tsv  counted.\n",
      "file  PI04_039.matches.tsv  counted.\n",
      "file  PI04_040.matches.tsv  counted.\n",
      "file  PI04_041.matches.tsv  counted.\n",
      "file  PI04_042.matches.tsv  counted.\n",
      "file  PI04_043.matches.tsv  counted.\n",
      "file  PI04_044.matches.tsv  counted.\n",
      "file  PI04_045.matches.tsv  counted.\n",
      "file  PI04_046.matches.tsv  counted.\n",
      "file  PI04_047.matches.tsv  counted.\n",
      "file  PI04_048.matches.tsv  counted.\n",
      "file  PS12_001.matches.tsv  counted.\n",
      "file  PS12_002.matches.tsv  counted.\n",
      "file  PS12_003.matches.tsv  counted.\n",
      "file  PS12_004.matches.tsv  counted.\n",
      "file  PS12_005.matches.tsv  counted.\n",
      "file  PS12_006.matches.tsv  counted.\n",
      "file  PS12_007.matches.tsv  counted.\n",
      "file  PS12_008.matches.tsv  counted.\n",
      "file  PS12_009.matches.tsv  counted.\n",
      "file  PS12_010.matches.tsv  counted.\n",
      "file  PS12_011.matches.tsv  counted.\n",
      "file  PS12_012.matches.tsv  counted.\n",
      "file  PS12_013.matches.tsv  counted.\n",
      "file  PS12_014.matches.tsv  counted.\n",
      "file  PS12_015.matches.tsv  counted.\n",
      "file  PS12_016.matches.tsv  counted.\n",
      "file  PS12_017.matches.tsv  counted.\n",
      "file  PS12_018.matches.tsv  counted.\n",
      "file  PS12_019.matches.tsv  counted.\n",
      "file  PS12_020.matches.tsv  counted.\n",
      "file  PS12_021.matches.tsv  counted.\n",
      "file  PS12_022.matches.tsv  counted.\n",
      "file  PS12_023.matches.tsv  counted.\n",
      "file  PS12_024.matches.tsv  counted.\n",
      "file  PS12_025.matches.tsv  counted.\n",
      "file  PS12_026.matches.tsv  counted.\n",
      "file  PS12_027.matches.tsv  counted.\n",
      "file  PS12_028.matches.tsv  counted.\n",
      "file  PS12_029.matches.tsv  counted.\n",
      "file  PS12_030.matches.tsv  counted.\n",
      "file  PS12_031.matches.tsv  counted.\n",
      "file  PS12_032.matches.tsv  counted.\n",
      "file  PS12_033.matches.tsv  counted.\n",
      "file  PS12_034.matches.tsv  counted.\n",
      "file  PS12_035.matches.tsv  counted.\n",
      "file  PS12_036.matches.tsv  counted.\n",
      "file  PS12_037.matches.tsv  counted.\n",
      "file  PS12_038.matches.tsv  counted.\n",
      "file  PS12_039.matches.tsv  counted.\n",
      "file  PS12_040.matches.tsv  counted.\n",
      "file  PS12_041.matches.tsv  counted.\n",
      "file  PS12_042.matches.tsv  counted.\n",
      "file  PS12_043.matches.tsv  counted.\n",
      "file  PS12_044.matches.tsv  counted.\n",
      "file  PS12_045.matches.tsv  counted.\n",
      "file  PS12_046.matches.tsv  counted.\n",
      "file  PS12_047.matches.tsv  counted.\n",
      "file  PS12_048.matches.tsv  counted.\n",
      "file  PWS12_002.matches.tsv  counted.\n",
      "file  PWS12_003.matches.tsv  counted.\n",
      "file  PWS12_005.matches.tsv  counted.\n",
      "file  PWS12_006.matches.tsv  counted.\n",
      "file  PWS12_009.matches.tsv  counted.\n",
      "file  PWS12_010.matches.tsv  counted.\n",
      "file  PWS12_011.matches.tsv  counted.\n",
      "file  PWS12_014.matches.tsv  counted.\n",
      "file  PWS12_015.matches.tsv  counted.\n",
      "file  PWS12_016.matches.tsv  counted.\n",
      "file  PWS12_017.matches.tsv  counted.\n",
      "file  PWS12_018.matches.tsv  counted.\n",
      "file  PWS12_021.matches.tsv  counted.\n",
      "file  PWS12_022.matches.tsv  counted.\n",
      "file  PWS12_023.matches.tsv  counted.\n",
      "file  PWS12_063.matches.tsv  counted.\n",
      "file  PWS12_075.matches.tsv  counted.\n",
      "file  PWS12_079.matches.tsv  counted.\n",
      "file  PWS12_094.matches.tsv  counted.\n",
      "file  PWS12_095.matches.tsv  counted.\n",
      "file  PWS12_096.matches.tsv  counted.\n",
      "file  PWS12_097.matches.tsv  counted.\n",
      "file  PWS12_131.matches.tsv  counted.\n",
      "file  PWS12_133.matches.tsv  counted.\n",
      "file  UP03_001.matches.tsv  counted.\n",
      "file  UP03_002.matches.tsv  counted.\n",
      "file  UP03_003.matches.tsv  counted.\n",
      "file  UP03_004.matches.tsv  counted.\n",
      "file  UP03_005.matches.tsv  counted.\n",
      "file  UP03_006.matches.tsv  counted.\n",
      "file  UP03_007.matches.tsv  counted.\n",
      "file  UP03_008.matches.tsv  counted.\n",
      "file  UP03_009.matches.tsv  counted.\n",
      "file  UP03_010.matches.tsv  counted.\n",
      "file  UP03_011.matches.tsv  counted.\n",
      "file  UP03_012.matches.tsv  counted.\n",
      "file  UP03_013.matches.tsv  counted.\n",
      "file  UP03_014.matches.tsv  counted.\n",
      "file  UP03_015.matches.tsv  counted.\n",
      "file  UP03_016.matches.tsv  counted.\n",
      "file  UP03_017.matches.tsv  counted.\n",
      "file  UP03_018.matches.tsv  counted.\n",
      "file  UP03_019.matches.tsv  counted.\n",
      "file  UP03_020.matches.tsv  counted.\n",
      "file  UP03_021.matches.tsv  counted.\n",
      "file  UP03_022.matches.tsv  counted.\n",
      "file  UP03_023.matches.tsv  counted.\n",
      "file  UP03_024.matches.tsv  counted.\n",
      "file  UP03_025.matches.tsv  counted.\n",
      "file  UP03_026.matches.tsv  counted.\n",
      "file  UP03_027.matches.tsv  counted.\n",
      "file  UP03_028.matches.tsv  counted.\n",
      "file  UP03_029.matches.tsv  counted.\n",
      "file  UP03_030.matches.tsv  counted.\n",
      "file  UP03_031.matches.tsv  counted.\n",
      "file  UP03_032.matches.tsv  counted.\n",
      "file  UP03_033.matches.tsv  counted.\n",
      "file  UP03_034.matches.tsv  counted.\n",
      "file  UP03_035.matches.tsv  counted.\n",
      "file  UP03_036.matches.tsv  counted.\n",
      "file  UP03_037.matches.tsv  counted.\n",
      "file  UP03_038.matches.tsv  counted.\n",
      "file  UP03_039.matches.tsv  counted.\n",
      "file  UP03_040.matches.tsv  counted.\n",
      "file  UP03_041.matches.tsv  counted.\n",
      "file  UP03_042.matches.tsv  counted.\n",
      "file  UP03_043.matches.tsv  counted.\n",
      "file  UP03_044.matches.tsv  counted.\n",
      "file  UP03_045.matches.tsv  counted.\n",
      "file  UP03_046.matches.tsv  counted.\n",
      "file  UP03_047.matches.tsv  counted.\n",
      "file  UP03_048.matches.tsv  counted.\n",
      "file  WC05_001.matches.tsv  counted.\n",
      "file  WC05_002.matches.tsv  counted.\n",
      "file  WC05_003.matches.tsv  counted.\n",
      "file  WC05_004.matches.tsv  counted.\n",
      "file  WC05_005.matches.tsv  counted.\n",
      "file  WC05_006.matches.tsv  counted.\n",
      "file  WC05_007.matches.tsv  counted.\n",
      "file  WC05_008.matches.tsv  counted.\n",
      "file  WC05_009.matches.tsv  counted.\n",
      "file  WC05_010.matches.tsv  counted.\n",
      "file  WC05_011.matches.tsv  counted.\n",
      "file  WC05_012.matches.tsv  counted.\n",
      "file  WC05_013.matches.tsv  counted.\n",
      "file  WC05_014.matches.tsv  counted.\n",
      "file  WC05_015.matches.tsv  counted.\n",
      "file  WC05_016.matches.tsv  counted.\n",
      "file  WC05_017.matches.tsv  counted.\n",
      "file  WC05_018.matches.tsv  counted.\n",
      "file  WC05_019.matches.tsv  counted.\n",
      "file  WC05_020.matches.tsv  counted.\n",
      "file  WC05_021.matches.tsv  counted.\n",
      "file  WC05_022.matches.tsv  counted.\n",
      "file  WC05_023.matches.tsv  counted.\n",
      "file  WC05_024.matches.tsv  counted.\n",
      "file  WC05_025.matches.tsv  counted.\n",
      "file  WC05_026.matches.tsv  counted.\n",
      "file  WC05_027.matches.tsv  counted.\n",
      "file  WC05_028.matches.tsv  counted.\n",
      "file  WC05_029.matches.tsv  counted.\n",
      "file  WC05_030.matches.tsv  counted.\n",
      "file  WC05_031.matches.tsv  counted.\n",
      "file  WC05_032.matches.tsv  counted.\n",
      "file  WC05_033.matches.tsv  counted.\n",
      "file  WC05_034.matches.tsv  counted.\n",
      "file  WC05_035.matches.tsv  counted.\n",
      "file  WC05_036.matches.tsv  counted.\n",
      "file  WC05_037.matches.tsv  counted.\n",
      "file  WC05_038.matches.tsv  counted.\n",
      "file  WC05_039.matches.tsv  counted.\n",
      "file  WC05_040.matches.tsv  counted.\n",
      "file  WC05_041.matches.tsv  counted.\n",
      "file  WC05_042.matches.tsv  counted.\n",
      "file  WC05_043.matches.tsv  counted.\n",
      "file  WC05_044.matches.tsv  counted.\n",
      "file  WC05_045.matches.tsv  counted.\n",
      "file  WC05_046.matches.tsv  counted.\n",
      "file  WC05_047.matches.tsv  counted.\n",
      "file  WC05_048.matches.tsv  counted.\n"
     ]
    }
   ],
   "source": [
    "#initiate dictionary\n",
    "rd_final_dict = {}\n",
    "reps = 0\n",
    "\n",
    "for file in filename_list:\n",
    "    rd_dict = {}\n",
    "    indfile = open(file,\"r\")\n",
    "    lines = indfile.readlines()[1:]   #read all of file except header\n",
    "    newcount = 0\n",
    "    #create the individual's dictionary of read depths per locus\n",
    "    for line in lines:\n",
    "        linelist = line.strip().split()\n",
    "        locus = int(linelist[2])\n",
    "        count = int(linelist[6])\n",
    "        if locus not in rd_dict:\n",
    "            rd_dict[locus] = int(count) \n",
    "        elif locus in rd_dict:\n",
    "            oldcount = rd_dict[locus]\n",
    "            newcount = oldcount + count\n",
    "            rd_dict[locus] = newcount\n",
    "        else:\n",
    "            print \"Something funky is going on.\"\n",
    "    #append all individual's counts to the final dictionary by locus\n",
    "    locus_list = rd_dict.keys()\n",
    "    for locus in locus_list: \n",
    "        reads = rd_dict[locus]\n",
    "        if locus not in rd_final_dict: \n",
    "            rd_final_dict[locus] = [reads]\n",
    "        else: \n",
    "            averages = rd_final_dict[locus]\n",
    "            averages.append(reads)\n",
    "            rd_final_dict[locus] = averages\n",
    "    reps += 1\n",
    "    print \"file \", file, \" counted.\"\n",
    "    indfile.close()"
   ]
  },
  {
   "cell_type": "code",
   "execution_count": 28,
   "metadata": {
    "collapsed": false
   },
   "outputs": [
    {
     "name": "stdout",
     "output_type": "stream",
     "text": [
      "[28, 11, 28, 20, 23, 28, 11, 15, 34, 14, 60, 23, 16, 37, 43, 15, 27, 18, 21, 10, 45, 11, 16, 28, 24, 13, 17, 11, 36, 68, 10, 42, 11, 35, 66, 56, 83, 24, 19, 68, 71, 13, 21, 31, 36, 41, 12, 21, 35, 18, 32, 10, 40, 53, 43, 52, 19, 53, 35, 13, 19, 15, 15, 35, 100, 25, 14, 24, 14, 43, 37, 14, 15, 14, 19, 27, 16, 14, 12, 14, 34, 10, 30, 57, 13, 48, 34, 25, 84, 16, 36, 23, 49, 13, 75, 30, 12, 66, 85, 15, 24, 41, 11, 16, 22, 10, 12, 13, 11, 25, 15, 10, 14, 70, 14, 43, 57, 30, 10, 11, 50, 21, 32, 10, 111, 10, 12, 21, 12, 51, 10, 31, 72, 38, 27, 13, 41, 16, 25, 19, 16, 59, 27, 41, 28, 84, 34, 71, 17, 83, 27, 45, 36, 16, 25, 84, 40, 32, 18, 26, 14, 50, 14, 45, 31, 12, 11, 19, 16, 43, 74, 28, 113, 59, 12, 11, 27, 17, 15, 22, 12, 24, 65, 51, 46, 15, 11, 19, 13, 39, 43, 28, 30, 15, 92, 50, 22, 113, 14, 28, 15, 45, 64, 31, 34, 30, 70, 38, 12, 44, 10, 56, 42, 17, 10, 45, 104, 10, 19, 70, 26, 39, 25, 16, 13, 17, 11, 22, 10, 17, 17]\n"
     ]
    }
   ],
   "source": [
    "#checking final dictionary counts to make sure they are appending\n",
    "#and not summing\n",
    "print rd_final_dict[100]"
   ]
  },
  {
   "cell_type": "code",
   "execution_count": 29,
   "metadata": {
    "collapsed": false
   },
   "outputs": [],
   "source": [
    "#take averages at each locus\n",
    "locus_list = rd_final_dict.keys()\n",
    "rd_avg_dict = {}\n",
    "for locus in locus_list: \n",
    "    newlist = rd_final_dict[locus]\n",
    "    average = float(sum(newlist))/float(len(newlist))\n",
    "    rd_avg_dict[locus] = average\n",
    "        "
   ]
  },
  {
   "cell_type": "code",
   "execution_count": 30,
   "metadata": {
    "collapsed": false
   },
   "outputs": [],
   "source": [
    "#create a list of the read depth averages \n",
    "#by extracting values from dictionary\n",
    "count_list = []\n",
    "for locus in locus_list:\n",
    "    avg_reads = rd_avg_dict[locus]\n",
    "    count_list.append(avg_reads)"
   ]
  },
  {
   "cell_type": "code",
   "execution_count": 31,
   "metadata": {
    "collapsed": true
   },
   "outputs": [],
   "source": [
    "#import plotting packages\n",
    "import matplotlib.pyplot as plt\n",
    "import numpy as np"
   ]
  },
  {
   "cell_type": "code",
   "execution_count": 32,
   "metadata": {
    "collapsed": false,
    "scrolled": false
   },
   "outputs": [
    {
     "data": {
      "image/png": "[encoded data removed]",
      "text/plain": [
       "<matplotlib.figure.Figure at 0x7fe2e8082590>"
      ]
     },
     "metadata": {},
     "output_type": "display_data"
    }
   ],
   "source": [
    "#create scatterplot\n",
    "plt.scatter(locus_list, count_list)\n",
    "plt.suptitle(\"Read depth of tag v. Tag ID\")\n",
    "plt.xlabel(\"Tag ID\")\n",
    "plt.ylabel(\"Read depth of tag across individuals\")\n",
    "plt.show()"
   ]
  },
  {
   "cell_type": "code",
   "execution_count": 33,
   "metadata": {
    "collapsed": true
   },
   "outputs": [],
   "source": [
    "plt.close()"
   ]
  },
  {
   "cell_type": "code",
   "execution_count": 34,
   "metadata": {
    "collapsed": true
   },
   "outputs": [],
   "source": [
    "# subset data to focus on read depths less than 1000\n",
    "count_less_1000 = [num for num in count_list if num < 1000]"
   ]
  },
  {
   "cell_type": "code",
   "execution_count": 35,
   "metadata": {
    "collapsed": false
   },
   "outputs": [
    {
     "data": {
      "text/plain": [
       "19464"
      ]
     },
     "execution_count": 35,
     "metadata": {},
     "output_type": "execute_result"
    }
   ],
   "source": [
    "# what number of tags have a read depth of less than 100,000\n",
    "len(count_less_1000)"
   ]
  },
  {
   "cell_type": "code",
   "execution_count": 36,
   "metadata": {
    "collapsed": false
   },
   "outputs": [
    {
     "data": {
      "text/plain": [
       "11"
      ]
     },
     "execution_count": 36,
     "metadata": {},
     "output_type": "execute_result"
    }
   ],
   "source": [
    "# what number of tags have a read depth of greater than 1000\n",
    "len(count_list) - len(count_less_1000)"
   ]
  },
  {
   "cell_type": "code",
   "execution_count": 37,
   "metadata": {
    "collapsed": false
   },
   "outputs": [
    {
     "data": {
      "image/png": "[encoded data removed]",
      "text/plain": [
       "<matplotlib.figure.Figure at 0x7fe2ea0a8ed0>"
      ]
     },
     "metadata": {},
     "output_type": "display_data"
    }
   ],
   "source": [
    "plt.hist(count_less_1000, bins = np.arange(0,1000, 10),color = \"darkcyan\")\n",
    "plt.xlabel(\"Read depth bin\")\n",
    "plt.ylabel(\"Frequency\")\n",
    "plt.suptitle(\"Distribution of Average Read Depth of\\nindividual tags (subset, r depths < 1000)\")\n",
    "plt.show()"
   ]
  },
  {
   "cell_type": "code",
   "execution_count": 38,
   "metadata": {
    "collapsed": true
   },
   "outputs": [],
   "source": [
    "plt.close()"
   ]
  },
  {
   "cell_type": "code",
   "execution_count": 39,
   "metadata": {
    "collapsed": true
   },
   "outputs": [],
   "source": [
    "# subset read depths less than 400 (densest range in plot above)\n",
    "count_less_400 = [num for num in count_list if num < 400]"
   ]
  },
  {
   "cell_type": "code",
   "execution_count": 40,
   "metadata": {
    "collapsed": false
   },
   "outputs": [
    {
     "data": {
      "image/png": "[encoded data removed]",
      "text/plain": [
       "<matplotlib.figure.Figure at 0x7fe2d3af5dd0>"
      ]
     },
     "metadata": {},
     "output_type": "display_data"
    }
   ],
   "source": [
    "plt.hist(count_less_1000, bins = np.arange(0,400, 10),color = \"darkcyan\")\n",
    "plt.xlabel(\"Read depth bin\")\n",
    "plt.ylabel(\"Frequency\")\n",
    "plt.suptitle(\"Distribution of Average Read Depth of\\nindividual tags (subset - r depths < 400)\")\n",
    "plt.show()"
   ]
  },
  {
   "cell_type": "code",
   "execution_count": 41,
   "metadata": {
    "collapsed": true
   },
   "outputs": [],
   "source": [
    "plt.close()"
   ]
  },
  {
   "cell_type": "markdown",
   "metadata": {
    "collapsed": true
   },
   "source": [
    "\n",
    "<br>\n",
    "<br>\n",
    "<br>\n",
    "<br>\n",
    "### Distribution of SNP Positions along Read Length\n",
    "\n",
    "\n",
    "**I plotted all of the SNP positions across the 92 bp read**\n",
    "\n",
    "**SNP position was found using the catalog of biallelic, polymorphic loci produced by Marine's filtering script.**\n"
   ]
  },
  {
   "cell_type": "code",
   "execution_count": 42,
   "metadata": {
    "collapsed": false
   },
   "outputs": [
    {
     "name": "stdout",
     "output_type": "stream",
     "text": [
      "/mnt/hgfs/Pacific cod/DataAnalysis/PCod-US-repo/analyses/stacks_pipeline_visuals\n"
     ]
    }
   ],
   "source": [
    "cd ../analyses/stacks_pipeline_visuals/"
   ]
  },
  {
   "cell_type": "code",
   "execution_count": 43,
   "metadata": {
    "collapsed": true
   },
   "outputs": [],
   "source": [
    "# create a list of snp position using marine's catalog file\n",
    "infile = open(\"../../stacks_b2_wgenome/batch_2.biallelic_catalog.tsv\", \"r\")\n",
    "\n",
    "snp_positions = []\n",
    "\n",
    "for line in infile:\n",
    "    linelist = line.strip().split(\"\\t\")\n",
    "    if len(linelist) == 4:\n",
    "        snp_pos = int(linelist[3])\n",
    "        snp_positions.append(snp_pos)\n",
    "    elif len(linelist) == 5:\n",
    "        snp_pos = int(linelist[3])\n",
    "        snp_positions.append(snp_pos)\n",
    "        snp_pos = int(linelist[4])\n",
    "        snp_positions.append(snp_pos)\n",
    "        \n",
    "infile.close()\n",
    "\n"
   ]
  },
  {
   "cell_type": "code",
   "execution_count": 44,
   "metadata": {
    "collapsed": false
   },
   "outputs": [
    {
     "data": {
      "text/plain": [
       "6542"
      ]
     },
     "execution_count": 44,
     "metadata": {},
     "output_type": "execute_result"
    }
   ],
   "source": [
    "len(snp_positions)"
   ]
  },
  {
   "cell_type": "code",
   "execution_count": 45,
   "metadata": {
    "collapsed": true
   },
   "outputs": [],
   "source": [
    "#import plotting packages\n",
    "import matplotlib.pyplot as plt\n",
    "import numpy as np"
   ]
  },
  {
   "cell_type": "code",
   "execution_count": 46,
   "metadata": {
    "collapsed": false
   },
   "outputs": [
    {
     "data": {
      "image/png": "[encoded data removed]",
      "text/plain": [
       "<matplotlib.figure.Figure at 0x7fe2e9f70ed0>"
      ]
     },
     "metadata": {},
     "output_type": "display_data"
    }
   ],
   "source": [
    "# plot histogram\n",
    "plt.hist(snp_positions, bins = np.arange(0,100, 5), color = \"darkcyan\")\n",
    "plt.xlabel(\"SNP position along read\")\n",
    "plt.ylabel(\"Number of SNPs\")\n",
    "plt.suptitle(\"Distribution of SNP positions\")\n",
    "plt.show()"
   ]
  },
  {
   "cell_type": "code",
   "execution_count": 47,
   "metadata": {
    "collapsed": true
   },
   "outputs": [],
   "source": [
    "plt.close()"
   ]
  },
  {
   "cell_type": "markdown",
   "metadata": {},
   "source": [
    "<br>\n",
    "\n",
    "<br>\n",
    "<br>\n",
    "\n",
    "### Fst v. SNP position\n",
    "\n",
    "** I plotted the Fst of each locus against the position of the SNP along the 92 bp read**\n",
    "\n",
    "** Fst of each locus was found by running `genepop` and then using Dan Drinan's parsing script.**\n",
    "\n",
    "\n",
    "<br>"
   ]
  },
  {
   "cell_type": "code",
   "execution_count": 90,
   "metadata": {
    "collapsed": false,
    "scrolled": true
   },
   "outputs": [
    {
     "data": {
      "text/plain": [
       "u'/mnt/hgfs/Pacific cod/DataAnalysis/PCod-US-repo/analyses'"
      ]
     },
     "execution_count": 90,
     "metadata": {},
     "output_type": "execute_result"
    }
   ],
   "source": [
    "pwd"
   ]
  },
  {
   "cell_type": "markdown",
   "metadata": {},
   "source": [
    "I first have to parse genepop output with Dan's script. \n",
    "\n",
    "**(1)** Ran genepop option **6** >> **1**\n",
    "\n",
    "**(2)** Used Dan's python script to parse genepop output"
   ]
  },
  {
   "cell_type": "code",
   "execution_count": 91,
   "metadata": {
    "collapsed": false
   },
   "outputs": [
    {
     "name": "stdout",
     "output_type": "stream",
     "text": [
      "/mnt/hgfs/Pacific cod/DataAnalysis/PCod-US-repo/analyses/genepop\n"
     ]
    }
   ],
   "source": [
    "cd genepop"
   ]
  },
  {
   "cell_type": "code",
   "execution_count": 92,
   "metadata": {
    "collapsed": false,
    "scrolled": true
   },
   "outputs": [
    {
     "name": "stdout",
     "output_type": "stream",
     "text": [
      "################################################################################\r\n",
      "#\r\n",
      "# parseGenepopINF.py - this is a script used to parse output files created\r\n",
      "# by genepop\r\n",
      "#\r\n",
      "# 2017-March-21\r\n",
      "# Daniel Drinan (ddrinan@uw.edu)\r\n",
      "#\r\n",
      "# population - HWE, He (INF), Ho (INF), Fis_wc (INF), Fis_RH (INF)\r\n",
      "################################################################################\r\n"
     ]
    }
   ],
   "source": [
    "!head parseGenepopINFandFST.py"
   ]
  },
  {
   "cell_type": "code",
   "execution_count": 53,
   "metadata": {
    "collapsed": false
   },
   "outputs": [],
   "source": [
    "!mv ../../stacks_b2_wgenome/batch_2_filteredMAF_filteredLoci_filteredIndivids_filteredHWE.txt.FST batch_2_filteredMAF_filteredLoci_filteredIndivids_filteredHWE.txt.FST"
   ]
  },
  {
   "cell_type": "code",
   "execution_count": 93,
   "metadata": {
    "collapsed": true
   },
   "outputs": [],
   "source": [
    "!python parseGenepopINFandFST.py \\\n",
    "-f batch_2_filteredMAF_filteredLoci_filteredIndivids_filteredHWE.txt.FST \\\n",
    "-o batch_2_FSTgenepop_parsed_output.txt"
   ]
  },
  {
   "cell_type": "code",
   "execution_count": 55,
   "metadata": {
    "collapsed": false
   },
   "outputs": [
    {
     "data": {
      "text/plain": [
       "u'/mnt/hgfs/Pacific cod/DataAnalysis/PCod-US-repo/analyses/genepop'"
      ]
     },
     "execution_count": 55,
     "metadata": {},
     "output_type": "execute_result"
    }
   ],
   "source": [
    "pwd"
   ]
  },
  {
   "cell_type": "code",
   "execution_count": 56,
   "metadata": {
    "collapsed": false
   },
   "outputs": [],
   "source": [
    "# create a dictionary with snp positions at each locus\n",
    "# uses marine's catalog file, only for haplotypes with a single snp\n",
    "\n",
    "infile = open(\"../../stacks_b2_wgenome/batch_2.biallelic_catalog.tsv\", \"r\")\n",
    "\n",
    "#create dictionary of snp positions by locus\n",
    "snp_pos_dict = {}\n",
    "\n",
    "for line in infile:\n",
    "    linelist = line.strip().split(\"\\t\")\n",
    "    if len(linelist) == 4:\n",
    "        snp_pos = int(linelist[3])\n",
    "        locus = linelist[0]\n",
    "        snp_pos_dict[locus] = snp_pos\n",
    "    \n",
    "        \n",
    "infile.close()\n",
    "\n",
    "\n",
    "infile2 = open(\"batch_2_FSTgenepop_parsed_output.txt\", \"r\")\n",
    "\n",
    "# create dictionary of fst values by locus\n",
    "fst_dict = {}\n",
    "\n",
    "for line in infile2:\n",
    "    if \"locus\" not in line:\n",
    "        locus = line.strip().split()[0]\n",
    "        fst = float(line.strip().split()[2])\n",
    "        fst_dict[locus] = fst\n",
    "\n",
    "infile2.close()\n"
   ]
  },
  {
   "cell_type": "code",
   "execution_count": 57,
   "metadata": {
    "collapsed": false
   },
   "outputs": [
    {
     "name": "stdout",
     "output_type": "stream",
     "text": [
      "These are the loci that have two SNPs, and so were taken out of this analysis:\n",
      "['2260', '1225', '4724', '1143', '7686', '3829', '12033', '17296', '16838', '4838', '14861', '6513', '2509', '3026', '5079', '11124', '7148', '9008', '8496', '7484', '1455', '8400', '8338', '16416', '10784', '17424', '11300', '18309', '4237', '11514', '10919', '13358', '5114', '11998', '13177', '17320', '12161', '11220', '9065', '8978', '2908', '7137', '6588', '18061', '11154', '4667', '10940', '6008', '6312', '17495', '2933', '17649', '14382', '1788']\n"
     ]
    }
   ],
   "source": [
    "# check to make sure that all SNPs from the FST genepop file are in the \n",
    "#SNP list from the biallelic catalog.\n",
    "\n",
    "loci_2snps = []\n",
    "fst_loci_list = fst_dict.keys()\n",
    "snp_loci_list = snp_pos_dict.keys()\n",
    "for locus in fst_loci_list:\n",
    "    if locus not in snp_loci_list:\n",
    "        loci_2snps.append(locus)\n",
    "print \"These are the loci that have two SNPs, and so were taken out of this analysis:\"\n",
    "print loci_2snps\n",
    "        "
   ]
  },
  {
   "cell_type": "code",
   "execution_count": 58,
   "metadata": {
    "collapsed": false
   },
   "outputs": [],
   "source": [
    "\n",
    "# create list of loci\n",
    "# from the Fis file b/c of extra filtering done AFTER marine's file generated.\n",
    "\n",
    "loci_list = fst_dict.keys()\n",
    "snp_loci_list = snp_pos_dict.keys()\n",
    "snp_pos_list = []\n",
    "fst_list = []\n",
    "\n",
    "for locus in loci_list:\n",
    "    if locus in snp_loci_list:\n",
    "        snp_pos = int(snp_pos_dict[locus])\n",
    "        snp_pos_list.append(snp_pos)\n",
    "        fst = float(fst_dict[locus])\n",
    "        fst_list.append(fst)\n"
   ]
  },
  {
   "cell_type": "code",
   "execution_count": 59,
   "metadata": {
    "collapsed": false
   },
   "outputs": [
    {
     "data": {
      "image/png": "[encoded data removed]",
      "text/plain": [
       "<matplotlib.figure.Figure at 0x7fe2ea042e10>"
      ]
     },
     "metadata": {},
     "output_type": "display_data"
    }
   ],
   "source": [
    "#create scatterplot\n",
    "plt.scatter(snp_pos_list, fst_list)\n",
    "plt.suptitle(\"Fst by SNP position\")\n",
    "plt.xlabel(\"SNP position along read\")\n",
    "plt.ylabel(\"Fst of SNP\")\n",
    "plt.show()"
   ]
  },
  {
   "cell_type": "code",
   "execution_count": 60,
   "metadata": {
    "collapsed": true
   },
   "outputs": [],
   "source": [
    "plt.close()"
   ]
  },
  {
   "cell_type": "markdown",
   "metadata": {},
   "source": [
    "\n",
    "<br>\n",
    "\n",
    "\n",
    "<br>\n",
    "### Heterozygosity v. SNP position\n",
    "\n",
    "** This plots the observed heterozygosity of the haplotype against the SNP position in the 92 bp read**\n",
    "\n",
    "**SNP position was found using Marine's filtering script output for biallelic, polymorphic SNPs**\n",
    "\n",
    "**Heterozygosity was found using `genepop` and then parsing the output with Dan Drinan's script.**\n",
    "\n",
    "<br>\n",
    "\n",
    "<br>\n",
    "\n",
    "<br>\n",
    "I first need a parsed .INF genepop file...\n",
    "\n",
    "**(1)** Genepop option **5** >> **1**\n",
    "\n",
    "**(2)** Use Dan's script to parse out the .INF output file."
   ]
  },
  {
   "cell_type": "code",
   "execution_count": 61,
   "metadata": {
    "collapsed": false
   },
   "outputs": [
    {
     "data": {
      "text/plain": [
       "u'/mnt/hgfs/Pacific cod/DataAnalysis/PCod-US-repo/analyses/genepop'"
      ]
     },
     "execution_count": 61,
     "metadata": {},
     "output_type": "execute_result"
    }
   ],
   "source": [
    "pwd"
   ]
  },
  {
   "cell_type": "code",
   "execution_count": 62,
   "metadata": {
    "collapsed": true
   },
   "outputs": [],
   "source": [
    "!mv ../../stacks_b2_wgenome/batch_2_filteredMAF_filteredLoci_filteredIndivids_filteredHWE.txt.INF batch_2_filteredMAF_filteredLoci_filteredIndivids_filteredHWE.txt.INF "
   ]
  },
  {
   "cell_type": "code",
   "execution_count": 64,
   "metadata": {
    "collapsed": false
   },
   "outputs": [
    {
     "name": "stdout",
     "output_type": "stream",
     "text": [
      "^CTraceback (most recent call last):\r\n",
      "  File \"parseGenepopINFandFST.py\", line 51, in <module>\r\n",
      "    line = input_file.readline()\r\n",
      "KeyboardInterrupt\r\n",
      "\r\n"
     ]
    }
   ],
   "source": [
    "!python parseGenepopINFandFST.py \\\n",
    "-i batch_2_filteredMAF_filteredLoci_filteredIndivids_filteredHWE.txt.INF \\\n",
    "-o batch_2_INFgenepop_parsed_output.txt"
   ]
  },
  {
   "cell_type": "code",
   "execution_count": 67,
   "metadata": {
    "collapsed": false
   },
   "outputs": [
    {
     "name": "stdout",
     "output_type": "stream",
     "text": [
      "/mnt/hgfs/Pacific cod/DataAnalysis/PCod-US-repo\n"
     ]
    }
   ],
   "source": [
    "cd ../"
   ]
  },
  {
   "cell_type": "code",
   "execution_count": 72,
   "metadata": {
    "collapsed": false
   },
   "outputs": [
    {
     "name": "stdout",
     "output_type": "stream",
     "text": [
      "/mnt/hgfs/Pacific cod/DataAnalysis/PCod-US-repo/analyses\n"
     ]
    }
   ],
   "source": [
    "cd analyses"
   ]
  },
  {
   "cell_type": "code",
   "execution_count": 73,
   "metadata": {
    "collapsed": false
   },
   "outputs": [],
   "source": [
    "infile = open(\"genepop/batch_2_INFgenepop_parsed_output.txt\", \"r\")\n",
    "\n",
    "# create a list of populations and a dictionary \n",
    "# dictionary keys are loci, values are list of He by population\n",
    "\n",
    "h_dict = {}\n",
    "pop_list = []\n",
    "\n",
    "for line in infile: \n",
    "    if \"pop\" not in line:\n",
    "        #create population list\n",
    "        linelist = line.strip().split()\n",
    "        population = linelist[0]\n",
    "        if population not in pop_list:\n",
    "            pop_list.append(population)\n",
    "        # create new dictionary entry to append to existing entry\n",
    "        locus = linelist[1]\n",
    "        if locus not in h_dict.keys():\n",
    "            Ho = float(linelist[3])\n",
    "            h_dict[locus] = [Ho]\n",
    "        elif locus in h_dict.keys():\n",
    "            het_list = h_dict[locus]\n",
    "            Ho = float(linelist[3])\n",
    "            het_list.append(Ho)\n",
    "            h_dict[locus] = het_list\n",
    "\n",
    "infile.close()"
   ]
  },
  {
   "cell_type": "code",
   "execution_count": 74,
   "metadata": {
    "collapsed": false
   },
   "outputs": [
    {
     "data": {
      "text/plain": [
       "['16073', '16075', '13732', '11545', '11549']"
      ]
     },
     "execution_count": 74,
     "metadata": {},
     "output_type": "execute_result"
    }
   ],
   "source": [
    "loci_list = h_dict.keys()\n",
    "loci_list[0:5]"
   ]
  },
  {
   "cell_type": "markdown",
   "metadata": {},
   "source": [
    "Some of the loci don't have the heterozygosity measurements for all of the populations, while others do:"
   ]
  },
  {
   "cell_type": "code",
   "execution_count": 76,
   "metadata": {
    "collapsed": false,
    "scrolled": false
   },
   "outputs": [
    {
     "data": {
      "text/plain": [
       "[0.0952380952381,\n",
       " 0.117647058824,\n",
       " 0.027027027027,\n",
       " 0.0714285714286,\n",
       " 0.386363636364,\n",
       " 0.0714285714286,\n",
       " 0.0416666666667,\n",
       " 0.136363636364]"
      ]
     },
     "execution_count": 76,
     "metadata": {},
     "output_type": "execute_result"
    }
   ],
   "source": [
    "h_dict['16075']"
   ]
  },
  {
   "cell_type": "markdown",
   "metadata": {},
   "source": [
    "*this locus has calculated heterozygosities for all populations*"
   ]
  },
  {
   "cell_type": "code",
   "execution_count": 77,
   "metadata": {
    "collapsed": false
   },
   "outputs": [
    {
     "data": {
      "text/plain": [
       "[0.105263157895,\n",
       " 0.212121212121,\n",
       " 0.0526315789474,\n",
       " 0.0526315789474,\n",
       " 0.0416666666667,\n",
       " 0.232558139535]"
      ]
     },
     "execution_count": 77,
     "metadata": {},
     "output_type": "execute_result"
    }
   ],
   "source": [
    "h_dict['13732']"
   ]
  },
  {
   "cell_type": "markdown",
   "metadata": {},
   "source": [
    "*this locus has calculated heterozygosities for only 7 / 8 populations*"
   ]
  },
  {
   "cell_type": "markdown",
   "metadata": {},
   "source": [
    "This was an error while parsing the genepop output because of the stupid way that genepop formats its output files. It's not expected to greatly impact the graphs that I made, so I won't worry about this too much, but will just have to keep it in mind going forward. "
   ]
  },
  {
   "cell_type": "code",
   "execution_count": 79,
   "metadata": {
    "collapsed": false
   },
   "outputs": [],
   "source": [
    "# create a dictionary with snp positions at each locus\n",
    "# uses marine's catalog file, only for haplotypes with a single snp\n",
    "\n",
    "infile = open(\"../stacks_b2_wgenome/batch_2.biallelic_catalog.tsv\", \"r\")\n",
    "\n",
    "#create dictionary of snp positions by locus\n",
    "snp_pos_dict = {}\n",
    "\n",
    "for line in infile:\n",
    "    linelist = line.strip().split(\"\\t\")\n",
    "    if len(linelist) == 4:\n",
    "        snp_pos = int(linelist[3])\n",
    "        locus = linelist[0]\n",
    "        snp_pos_dict[locus] = snp_pos\n",
    "    \n",
    "        \n",
    "infile.close()\n",
    "\n",
    "snp_loci_list = snp_pos_dict.keys()"
   ]
  },
  {
   "cell_type": "code",
   "execution_count": 80,
   "metadata": {
    "collapsed": false
   },
   "outputs": [],
   "source": [
    "# get list of loci\n",
    "loci_list = h_dict.keys()\n",
    "avg_he_list = []\n",
    "snp_pos_list = []\n",
    "\n",
    "#find average he at each locus\n",
    "for locus in loci_list:\n",
    "    if locus in snp_loci_list:\n",
    "        snp_pos = int(snp_pos_dict[locus])\n",
    "        snp_pos_list.append(snp_pos)\n",
    "        he_list = h_dict[locus]\n",
    "        sum = 0\n",
    "        for he in he_list:\n",
    "            sum += float(he)\n",
    "        average = float(sum)/float(len(he_list))\n",
    "        avg_he_list.append(average)"
   ]
  },
  {
   "cell_type": "code",
   "execution_count": 81,
   "metadata": {
    "collapsed": false,
    "scrolled": true
   },
   "outputs": [
    {
     "data": {
      "text/plain": [
       "2356"
      ]
     },
     "execution_count": 81,
     "metadata": {},
     "output_type": "execute_result"
    }
   ],
   "source": [
    "len(avg_he_list)"
   ]
  },
  {
   "cell_type": "code",
   "execution_count": 82,
   "metadata": {
    "collapsed": false
   },
   "outputs": [
    {
     "data": {
      "text/plain": [
       "2356"
      ]
     },
     "execution_count": 82,
     "metadata": {},
     "output_type": "execute_result"
    }
   ],
   "source": [
    "len(snp_pos_list)"
   ]
  },
  {
   "cell_type": "code",
   "execution_count": 83,
   "metadata": {
    "collapsed": true
   },
   "outputs": [],
   "source": [
    "#import plotting packages\n",
    "import matplotlib.pyplot as plt\n",
    "import numpy as np"
   ]
  },
  {
   "cell_type": "code",
   "execution_count": 84,
   "metadata": {
    "collapsed": false
   },
   "outputs": [
    {
     "data": {
      "image/png": "[encoded data removed]",
      "text/plain": [
       "<matplotlib.figure.Figure at 0x7fe2d3a55350>"
      ]
     },
     "metadata": {},
     "output_type": "display_data"
    }
   ],
   "source": [
    "#create scatterplot\n",
    "plt.scatter(snp_pos_list, avg_he_list)\n",
    "plt.suptitle(\"Heterozygosity by SNP position\")\n",
    "plt.xlabel(\"SNP position along read\")\n",
    "plt.ylabel(\"Ho of SNP\")\n",
    "plt.show()"
   ]
  },
  {
   "cell_type": "code",
   "execution_count": 29,
   "metadata": {
    "collapsed": true
   },
   "outputs": [],
   "source": [
    "plt.close()"
   ]
  },
  {
   "cell_type": "markdown",
   "metadata": {},
   "source": [
    "\n",
    "\n",
    "\n",
    "<br>\n",
    "<br>\n",
    "<br>\n",
    "\n",
    "### Fis v. Heterozygosity\n",
    "<br>\n",
    "From the last two visualizations, I already have He and Fis lists. The indices should be the same since they are both listed in order of SNP position. "
   ]
  },
  {
   "cell_type": "code",
   "execution_count": 85,
   "metadata": {
    "collapsed": false
   },
   "outputs": [
    {
     "data": {
      "text/plain": [
       "2356"
      ]
     },
     "execution_count": 85,
     "metadata": {},
     "output_type": "execute_result"
    }
   ],
   "source": [
    "len(avg_he_list)"
   ]
  },
  {
   "cell_type": "code",
   "execution_count": 94,
   "metadata": {
    "collapsed": false
   },
   "outputs": [],
   "source": [
    "# create a dictionary with snp positions at each locus\n",
    "# uses marine's catalog file, only for haplotypes with a single snp\n",
    "\n",
    "infile = open(\"../../stacks_b2_wgenome/batch_2.biallelic_catalog.tsv\", \"r\")\n",
    "\n",
    "#create dictionary of snp positions by locus\n",
    "snp_pos_dict = {}\n",
    "\n",
    "for line in infile:\n",
    "    linelist = line.strip().split(\"\\t\")\n",
    "    if len(linelist) == 4:\n",
    "        snp_pos = int(linelist[3])\n",
    "        locus = linelist[0]\n",
    "        snp_pos_dict[locus] = snp_pos\n",
    "    \n",
    "        \n",
    "infile.close()\n",
    "\n",
    "\n",
    "infile2 = open(\"batch_2_FSTgenepop_parsed_output.txt\", \"r\")\n",
    "\n",
    "# create dictionary of fis values by locus\n",
    "fis_dict = {}\n",
    "\n",
    "for line in infile2:\n",
    "    if \"locus\" not in line:\n",
    "        locus = line.strip().split()[0]\n",
    "        fis = float(line.strip().split()[1])\n",
    "        fis_dict[locus] = fis\n",
    "\n",
    "infile2.close()"
   ]
  },
  {
   "cell_type": "code",
   "execution_count": 98,
   "metadata": {
    "collapsed": false,
    "scrolled": true
   },
   "outputs": [
    {
     "name": "stdout",
     "output_type": "stream",
     "text": [
      "These are the loci that have two SNPs, and so were taken out of this analysis:\n",
      "['2260', '1225', '4724', '1143', '7686', '3829', '12033', '17296', '16838', '4838', '14861', '6513', '2509', '3026', '5079', '11124', '7148', '9008', '8496', '7484', '1455', '8400', '8338', '16416', '10784', '17424', '11300', '18309', '4237', '11514', '10919', '13358', '5114', '11998', '13177', '17320', '12161', '11220', '9065', '8978', '2908', '7137', '6588', '18061', '11154', '4667', '10940', '6008', '6312', '17495', '2933', '17649', '14382', '1788']\n"
     ]
    }
   ],
   "source": [
    "# check to make sure that all SNPs from the FST genepop file are in the \n",
    "#SNP list from the biallelic catalog.\n",
    "\n",
    "loci_2snps = []\n",
    "fis_loci_list = fis_dict.keys()\n",
    "snp_loci_list = snp_pos_dict.keys()\n",
    "for locus in fis_loci_list:\n",
    "    if locus not in snp_loci_list:\n",
    "        loci_2snps.append(locus)\n",
    "print \"These are the loci that have two SNPs, and so were taken out of this analysis:\"\n",
    "print loci_2snps\n",
    "        "
   ]
  },
  {
   "cell_type": "code",
   "execution_count": 99,
   "metadata": {
    "collapsed": true
   },
   "outputs": [],
   "source": [
    "\n",
    "# create list of loci\n",
    "# from the Fis file b/c of extra filtering done AFTER marine's file generated.\n",
    "\n",
    "loci_list = fis_dict.keys()\n",
    "snp_loci_list = snp_pos_dict.keys()\n",
    "snp_pos_list = []\n",
    "fis_list = []\n",
    "\n",
    "for locus in loci_list:\n",
    "    if locus in snp_loci_list:\n",
    "        snp_pos = int(snp_pos_dict[locus])\n",
    "        snp_pos_list.append(snp_pos)\n",
    "        fis = float(fis_dict[locus])\n",
    "        fis_list.append(fis)\n"
   ]
  },
  {
   "cell_type": "code",
   "execution_count": 100,
   "metadata": {
    "collapsed": true
   },
   "outputs": [],
   "source": [
    "#import plotting packages\n",
    "import matplotlib.pyplot as plt\n",
    "import numpy as np"
   ]
  },
  {
   "cell_type": "code",
   "execution_count": 101,
   "metadata": {
    "collapsed": false
   },
   "outputs": [
    {
     "data": {
      "image/png": "[encoded data removed]",
      "text/plain": [
       "<matplotlib.figure.Figure at 0x7fe2e89d5d90>"
      ]
     },
     "metadata": {},
     "output_type": "display_data"
    }
   ],
   "source": [
    "#create scatterplot\n",
    "plt.scatter(avg_he_list, fis_list)\n",
    "plt.suptitle(\"Fis by Heterozygosity\")\n",
    "plt.xlabel(\"Ho of SNP\")\n",
    "plt.ylabel(\"Fis of SNP\")\n",
    "plt.show()"
   ]
  },
  {
   "cell_type": "code",
   "execution_count": 102,
   "metadata": {
    "collapsed": true
   },
   "outputs": [],
   "source": [
    "plt.close()"
   ]
  },
  {
   "cell_type": "code",
   "execution_count": null,
   "metadata": {
    "collapsed": true
   },
   "outputs": [],
   "source": []
  }
 ],
 "metadata": {
  "anaconda-cloud": {},
  "kernelspec": {
   "display_name": "Python [default]",
   "language": "python",
   "name": "python2"
  },
  "language_info": {
   "codemirror_mode": {
    "name": "ipython",
    "version": 2
   },
   "file_extension": ".py",
   "mimetype": "text/x-python",
   "name": "python",
   "nbconvert_exporter": "python",
   "pygments_lexer": "ipython2",
   "version": "2.7.12"
  }
 },
 "nbformat": 4,
 "nbformat_minor": 1
}
