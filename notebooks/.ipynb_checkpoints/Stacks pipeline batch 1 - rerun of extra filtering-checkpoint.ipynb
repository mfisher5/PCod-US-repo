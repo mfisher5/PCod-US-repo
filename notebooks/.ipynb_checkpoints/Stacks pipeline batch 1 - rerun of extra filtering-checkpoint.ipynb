{
 "cells": [
  {
   "cell_type": "markdown",
   "metadata": {
    "collapsed": true
   },
   "source": [
    "## Stacks pipeline Batch 1 (rerun of filtering steps)\n",
    "\n",
    "\n",
    "There appears to be a bottleneck at Marine's genotypes_verif script, when the genepop goes from containing 9,717 loci (a normal amount) to 5,864 loci. Since I used an edited script that took arguments, I'm going to repeat the filtering using Marine's original script. "
   ]
  },
  {
   "cell_type": "code",
   "execution_count": 1,
   "metadata": {
    "collapsed": false
   },
   "outputs": [
    {
     "name": "stdout",
     "output_type": "stream",
     "text": [
      "/mnt/hgfs/Pacific cod/DataAnalysis/PCod-US-repo/scripts/PostStacksFiltering\n"
     ]
    }
   ],
   "source": [
    "cd ../scripts/PostStacksFiltering/"
   ]
  },
  {
   "cell_type": "code",
   "execution_count": 2,
   "metadata": {
    "collapsed": false
   },
   "outputs": [
    {
     "name": "stdout",
     "output_type": "stream",
     "text": [
      "############## Marine Brieuc   mbrieuc <a> uw.edu\r\n",
      "### NEED: file with list of individuals (1 individual per line) check end of line and change line 38 if necessary                            - line 38 + check line 43\r\n",
      "###       catalog file: name of locus in first columns, haplotype1 and haplotype2 in second column, SNP positions in the following columns    - line 16\r\n",
      "###       name of output file                                                                                                                - line 12\r\n",
      "###       location of the indiv.tags.tsv files                                                                                               - line 58\r\n"
     ]
    }
   ],
   "source": [
    "!head -n 5 genotypes_verif_v2_no_ref_3-22.py"
   ]
  },
  {
   "cell_type": "code",
   "execution_count": null,
   "metadata": {
    "collapsed": false
   },
   "outputs": [
    {
     "name": "stdout",
     "output_type": "stream",
     "text": [
      "KOD03_035\n",
      "KOD03_051\n",
      "KOD03_052\n",
      "KOD03_053\n",
      "KOD03_054\n",
      "KOD03_055\n",
      "KOD03_056\n",
      "KOD03_057\n"
     ]
    }
   ],
   "source": [
    "!python genotypes_verif_v2_no_ref_3-22.py"
   ]
  },
  {
   "cell_type": "code",
   "execution_count": null,
   "metadata": {
    "collapsed": true
   },
   "outputs": [],
   "source": []
  }
 ],
 "metadata": {
  "anaconda-cloud": {},
  "kernelspec": {
   "display_name": "Python [default]",
   "language": "python",
   "name": "python2"
  },
  "language_info": {
   "codemirror_mode": {
    "name": "ipython",
    "version": 2
   },
   "file_extension": ".py",
   "mimetype": "text/x-python",
   "name": "python",
   "nbconvert_exporter": "python",
   "pygments_lexer": "ipython2",
   "version": "2.7.12"
  }
 },
 "nbformat": 4,
 "nbformat_minor": 1
}
