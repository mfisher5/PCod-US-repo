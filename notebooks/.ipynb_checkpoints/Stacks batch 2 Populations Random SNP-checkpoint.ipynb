{
 "cells": [
  {
   "cell_type": "markdown",
   "metadata": {},
   "source": [
    "## Stacks batch 2, new Populations run with write_random_snp model\n",
    "\n",
    "The main difference between Kristen's and my data analysis was that she chose a random SNP at a locus to genotype, whereas I used the entire locus as a haplotype and then filtered for biallelic haplotypes. This may be causing the discrepancy in the number of loci that she and I are getting from stacks (she is getting far more loci). \n",
    "\n",
    "In this notebook:\n",
    "\n",
    "1. Re-run my Alaskan cod stacks pipeline with the `write_random_snp` option in populations, which will choose a random snp to genotype. Then compare the number of loci in that output to the number of loci after filtering for biallelic haplotypes. \n",
    "2. Also make a comparison with the number of loci that come out of populations NOT using the `write_random_snp` option, but also NOT doing biallelic filtering. \n",
    "3. Re-run my Korean cod stacks pipeline with the `write_random_snp` option in populations, which will choose a random snp to genotype. Then compare the number of loci in that output to the number of loci after filtering for biallelic haplotypes.\n",
    "\n",
    "\n",
    "<br>\n",
    "<br>\n",
    "### ONE: Choosing a single random SNP per locus, Alaskan data\n",
    "#### 7/25/2017\n",
    "\n",
    "\n",
    "I am going to use the batch 2 files to re-run populations with the write_random_snp model, to see how many loci I end up with compared to Kristen's run. But first, I need to \n",
    "\n",
    "**unzip the `.matches` files**"
   ]
  },
  {
   "cell_type": "code",
   "execution_count": 1,
   "metadata": {
    "collapsed": false
   },
   "outputs": [
    {
     "name": "stdout",
     "output_type": "stream",
     "text": [
      "/mnt/hgfs/Pacific cod/DataAnalysis/PCod-US-repo/stacks_b2_wgenome\n"
     ]
    }
   ],
   "source": [
    "cd ../stacks_b2_wgenome/"
   ]
  },
  {
   "cell_type": "code",
   "execution_count": 2,
   "metadata": {
    "collapsed": true
   },
   "outputs": [],
   "source": [
    "!gzip -d *.matches.tsv.gz"
   ]
  },
  {
   "cell_type": "markdown",
   "metadata": {},
   "source": [
    "Then I have to put all of the old populations files into a folder (for now)."
   ]
  },
  {
   "cell_type": "code",
   "execution_count": 3,
   "metadata": {
    "collapsed": true
   },
   "outputs": [],
   "source": [
    "!mkdir populations_original"
   ]
  },
  {
   "cell_type": "code",
   "execution_count": 4,
   "metadata": {
    "collapsed": false
   },
   "outputs": [
    {
     "name": "stdout",
     "output_type": "stream",
     "text": [
      "/mnt/hgfs/Pacific cod/DataAnalysis/PCod-US-repo\n"
     ]
    }
   ],
   "source": [
    "cd ../"
   ]
  },
  {
   "cell_type": "markdown",
   "metadata": {},
   "source": [
    "**run `populations` using the write_random_snp model**"
   ]
  },
  {
   "cell_type": "code",
   "execution_count": 7,
   "metadata": {
    "collapsed": false
   },
   "outputs": [
    {
     "name": "stdout",
     "output_type": "stream",
     "text": [
      "/mnt/hgfs/Pacific cod/DataAnalysis/PCod-US-repo/scripts\n"
     ]
    }
   ],
   "source": [
    "cd scripts"
   ]
  },
  {
   "cell_type": "code",
   "execution_count": 8,
   "metadata": {
    "collapsed": false
   },
   "outputs": [],
   "source": [
    "!populations -b 2 -P ../stacks_b2_wgenome \\\n",
    "-M PopMap.txt \\\n",
    "-t 36 -r 0.75 -p 4 -m 10 \\\n",
    "--write_random_snp \\\n",
    "--genepop --fasta \\\n",
    "2>> populations_out_batch2_wgenome_randomSNP"
   ]
  },
  {
   "cell_type": "markdown",
   "metadata": {},
   "source": [
    "#### 7/26/2017\n",
    "**convert the `populations` genepop output to a fasta file**\n",
    "\n",
    "`populations` puts out a file where each locus is technically a locus_snp. I use the script below to turn this into a fasta file, which allows me to count the number of true loci in the file. "
   ]
  },
  {
   "cell_type": "code",
   "execution_count": 33,
   "metadata": {
    "collapsed": false
   },
   "outputs": [
    {
     "data": {
      "text/plain": [
       "u'/mnt/hgfs/Pacific cod/DataAnalysis/PCod-US-repo/scripts'"
      ]
     },
     "execution_count": 33,
     "metadata": {},
     "output_type": "execute_result"
    }
   ],
   "source": [
    "pwd"
   ]
  },
  {
   "cell_type": "code",
   "execution_count": 34,
   "metadata": {
    "collapsed": false
   },
   "outputs": [
    {
     "name": "stdout",
     "output_type": "stream",
     "text": [
      "### This python script will create a list of loci from the `populations` output genepop file ###\r\n",
      "\r\n",
      "## ARGUMENTS: \r\n",
      "#ARG 1 - genepop file from `populations`. \r\n",
      "#ARG 2 - the .catalog file output from `cstacks` (unzipped)\r\n",
      "\r\n",
      "### output will appear in the same folder as this script and will automatically be named \"seqsforBOWTIE.fa\"\r\n",
      "\r\n",
      "import sys\r\n",
      "\r\n"
     ]
    }
   ],
   "source": [
    "!head genBOWTIEfasta_fromGENEPOP.py"
   ]
  },
  {
   "cell_type": "code",
   "execution_count": 36,
   "metadata": {
    "collapsed": false
   },
   "outputs": [
    {
     "name": "stdout",
     "output_type": "stream",
     "text": [
      "-----\n",
      "Reading loci from file:\n",
      "../stacks_b2_wgenome/populations_randomSNP/batch_2.genepop\n",
      "Stacks version 1.44; Genepop version 4.1.3; July 25, 2017\n",
      "\n",
      "Done reading loci\n",
      "\n",
      "Using sequences from catalog file:\n",
      "../stacks_b2_wgenome/batch_2.catalog.tags.tsv\n",
      "\n",
      "Writing new fasta file...\n",
      "Done.\n"
     ]
    }
   ],
   "source": [
    "!python genBOWTIEfasta_fromGENEPOP.py \\\n",
    "../stacks_b2_wgenome/populations_randomSNP/batch_2.genepop \\\n",
    "../stacks_b2_wgenome/batch_2.catalog.tags.tsv"
   ]
  },
  {
   "cell_type": "code",
   "execution_count": 37,
   "metadata": {
    "collapsed": false
   },
   "outputs": [],
   "source": [
    "!mv seqsforBOWTIE.fa ../stacks_b2_wgenome/populations_randomSNP/batch_2_wgenome_randomSNP.fa"
   ]
  },
  {
   "cell_type": "markdown",
   "metadata": {},
   "source": [
    "**Count the number of loci right out of populations:**"
   ]
  },
  {
   "cell_type": "code",
   "execution_count": 38,
   "metadata": {
    "collapsed": false
   },
   "outputs": [
    {
     "name": "stdout",
     "output_type": "stream",
     "text": [
      "10715\r\n"
     ]
    }
   ],
   "source": [
    "!grep \">\" ../stacks_b2_wgenome/populations_randomSNP/batch_2_wgenome_randomSNP.fa | wc -l"
   ]
  },
  {
   "cell_type": "markdown",
   "metadata": {},
   "source": [
    "**Compare to the number of unfiltered biallelic loci:** \n",
    "\n",
    "*(after Marine's script to re-call genotypes based on stack depth and to filter for biallelic loci)*"
   ]
  },
  {
   "cell_type": "code",
   "execution_count": 39,
   "metadata": {
    "collapsed": false
   },
   "outputs": [
    {
     "name": "stdout",
     "output_type": "stream",
     "text": [
      "/mnt/hgfs/Pacific cod/DataAnalysis/PCod-US-repo/stacks_b2_wgenome\n"
     ]
    }
   ],
   "source": [
    "cd ../stacks_b2_wgenome/"
   ]
  },
  {
   "cell_type": "code",
   "execution_count": 40,
   "metadata": {
    "collapsed": false
   },
   "outputs": [
    {
     "name": "stdout",
     "output_type": "stream",
     "text": [
      "/mnt/hgfs/Pacific cod/DataAnalysis/PCod-US-repo/stacks_b2_wgenome/populations_original\n"
     ]
    }
   ],
   "source": [
    "cd populations_original/"
   ]
  },
  {
   "cell_type": "code",
   "execution_count": 41,
   "metadata": {
    "collapsed": false
   },
   "outputs": [
    {
     "name": "stdout",
     "output_type": "stream",
     "text": [
      "6377\n"
     ]
    }
   ],
   "source": [
    "infile = open(\"batch_2.CorrectedGenotypes_biallelic.txt\", \"r\")\n",
    "loci_line = infile.readline()\n",
    "infile.close()\n",
    "\n",
    "loci_list = loci_line.strip().split(\"\\t\")\n",
    "print len(loci_list)"
   ]
  },
  {
   "cell_type": "markdown",
   "metadata": {},
   "source": [
    "<br>\n",
    "<br>\n",
    "\n",
    "**Using the `write_random_snp` model, the number of unfiltered loci out of `populations` if 10,715.**\n",
    "\n",
    "**Using the haplotype method and filtering for biallelic loci, the number of unfiltered loci out of `populations` is 6,377**"
   ]
  },
  {
   "cell_type": "markdown",
   "metadata": {},
   "source": [
    "\n",
    "\n",
    "<br>\n",
    "<br>\n",
    "### TWO: Is this a result of using haplotypes instead of single SNPs, or is it a result of filtering for biallelic?\n",
    "\n",
    "I found how many loci were in the genepop file *right* out of populations without using the `write_random_snp` option, before I filtered for biallelic loci."
   ]
  },
  {
   "cell_type": "code",
   "execution_count": 42,
   "metadata": {
    "collapsed": false
   },
   "outputs": [
    {
     "data": {
      "text/plain": [
       "u'/mnt/hgfs/Pacific cod/DataAnalysis/PCod-US-repo/stacks_b2_wgenome/populations_original'"
      ]
     },
     "execution_count": 42,
     "metadata": {},
     "output_type": "execute_result"
    }
   ],
   "source": [
    "pwd"
   ]
  },
  {
   "cell_type": "code",
   "execution_count": 43,
   "metadata": {
    "collapsed": false
   },
   "outputs": [
    {
     "name": "stdout",
     "output_type": "stream",
     "text": [
      "-----\n",
      "Reading loci from file:\n",
      "batch_2.genepop\n",
      "Stacks version 1.44; Genepop version 4.1.3; May 25, 2017\n",
      "\n",
      "Done reading loci\n",
      "\n",
      "Using sequences from catalog file:\n",
      "../batch_2.catalog.tags.tsv\n",
      "\n",
      "Writing new fasta file...\n",
      "Done.\n"
     ]
    }
   ],
   "source": [
    "!python ../../scripts/genBOWTIEfasta_fromGENEPOP.py \\\n",
    "batch_2.genepop \\\n",
    "../batch_2.catalog.tags.tsv"
   ]
  },
  {
   "cell_type": "code",
   "execution_count": 45,
   "metadata": {
    "collapsed": false
   },
   "outputs": [],
   "source": [
    "!mv seqsforBOWTIE.fa batch_2_wgenome_prefilter.fa"
   ]
  },
  {
   "cell_type": "code",
   "execution_count": 47,
   "metadata": {
    "collapsed": false
   },
   "outputs": [
    {
     "name": "stdout",
     "output_type": "stream",
     "text": [
      "10729\r\n"
     ]
    }
   ],
   "source": [
    "!grep \">\" batch_2_wgenome_prefilter.fa | wc -l"
   ]
  },
  {
   "cell_type": "markdown",
   "metadata": {},
   "source": [
    "** Using and not using the `write_random_snp` model, with NO BIALLELIC FILTERING, both provides me with ~10,000 loci**\n",
    "<br>\n",
    "<br>\n",
    "<br>\n",
    "\n",
    "### THREE: Running the write_random_snp model on the Korean data, batch 6"
   ]
  },
  {
   "cell_type": "code",
   "execution_count": 48,
   "metadata": {
    "collapsed": false
   },
   "outputs": [
    {
     "name": "stdout",
     "output_type": "stream",
     "text": [
      "/mnt/hgfs/Pacific cod/DataAnalysis/PCod-US-repo\n"
     ]
    }
   ],
   "source": [
    "cd ../../"
   ]
  },
  {
   "cell_type": "code",
   "execution_count": 49,
   "metadata": {
    "collapsed": false
   },
   "outputs": [
    {
     "name": "stdout",
     "output_type": "stream",
     "text": [
      "/mnt/hgfs/Pacific cod/DataAnalysis/PCod-Korea-repo/stacks_b6_wgenome\n"
     ]
    }
   ],
   "source": [
    "cd ../PCod-Korea-repo/stacks_b6_wgenome/"
   ]
  },
  {
   "cell_type": "markdown",
   "metadata": {},
   "source": [
    "Temporarily moved `populations` output files into a new folder. "
   ]
  },
  {
   "cell_type": "code",
   "execution_count": 50,
   "metadata": {
    "collapsed": true
   },
   "outputs": [],
   "source": [
    "!mkdir populations_orig"
   ]
  },
  {
   "cell_type": "code",
   "execution_count": 51,
   "metadata": {
    "collapsed": false
   },
   "outputs": [
    {
     "name": "stdout",
     "output_type": "stream",
     "text": [
      "/mnt/hgfs/Pacific cod/DataAnalysis/PCod-Korea-repo/scripts\n"
     ]
    }
   ],
   "source": [
    "cd ../scripts"
   ]
  },
  {
   "cell_type": "code",
   "execution_count": 52,
   "metadata": {
    "collapsed": true
   },
   "outputs": [],
   "source": [
    "#run populations\n",
    "!populations -b 6 -P ../stacks_b6_wgenome \\\n",
    "-M PopMap_L1-4.txt \\\n",
    "-t 36 -r 0.75 -p 4 -m 10 \\\n",
    "--write_random_snp \\\n",
    "--genepop --fasta \\\n",
    "2>> populations_out_batch6_wgenome_randomSNP"
   ]
  },
  {
   "cell_type": "markdown",
   "metadata": {},
   "source": [
    "I put the new populations files into a folder:"
   ]
  },
  {
   "cell_type": "code",
   "execution_count": 56,
   "metadata": {
    "collapsed": false
   },
   "outputs": [
    {
     "name": "stdout",
     "output_type": "stream",
     "text": [
      "/mnt/hgfs/Pacific cod/DataAnalysis/PCod-Korea-repo/stacks_b6_wgenome\n"
     ]
    }
   ],
   "source": [
    "cd ../stacks_b6_wgenome/"
   ]
  },
  {
   "cell_type": "code",
   "execution_count": 57,
   "metadata": {
    "collapsed": true
   },
   "outputs": [],
   "source": [
    "!mkdir populations_randomSNP"
   ]
  },
  {
   "cell_type": "code",
   "execution_count": 58,
   "metadata": {
    "collapsed": false
   },
   "outputs": [
    {
     "name": "stdout",
     "output_type": "stream",
     "text": [
      "/mnt/hgfs/Pacific cod/DataAnalysis/PCod-Korea-repo/scripts\n"
     ]
    }
   ],
   "source": [
    "cd ../scripts"
   ]
  },
  {
   "cell_type": "code",
   "execution_count": 60,
   "metadata": {
    "collapsed": false
   },
   "outputs": [
    {
     "name": "stdout",
     "output_type": "stream",
     "text": [
      "-----\n",
      "Reading loci from file:\n",
      "../stacks_b6_wgenome/populations_randomSNP/batch_6.genepop\n",
      "Stacks version 1.44; Genepop version 4.1.3; July 26, 2017\n",
      "\n",
      "Done reading loci\n",
      "\n",
      "Using sequences from catalog file:\n",
      "../stacks_b6_wgenome/batch_6.catalog.tags.tsv\n",
      "\n",
      "Writing new fasta file...\n",
      "Done.\n"
     ]
    }
   ],
   "source": [
    "#convert populations output to fasta file\n",
    "!python genBOWTIEfasta_fromGENEPOP.py \\\n",
    "../stacks_b6_wgenome/populations_randomSNP/batch_6.genepop \\\n",
    "../stacks_b6_wgenome/batch_6.catalog.tags.tsv"
   ]
  },
  {
   "cell_type": "code",
   "execution_count": 61,
   "metadata": {
    "collapsed": false
   },
   "outputs": [
    {
     "name": "stdout",
     "output_type": "stream",
     "text": [
      "/mnt/hgfs/Pacific cod/DataAnalysis/PCod-Korea-repo/stacks_b6_wgenome\n"
     ]
    }
   ],
   "source": [
    "cd ../stacks_b6_wgenome/"
   ]
  },
  {
   "cell_type": "code",
   "execution_count": 62,
   "metadata": {
    "collapsed": false
   },
   "outputs": [
    {
     "name": "stdout",
     "output_type": "stream",
     "text": [
      "/mnt/hgfs/Pacific cod/DataAnalysis/PCod-Korea-repo/stacks_b6_wgenome/populations_randomSNP\n"
     ]
    }
   ],
   "source": [
    "cd populations_randomSNP/"
   ]
  },
  {
   "cell_type": "code",
   "execution_count": 64,
   "metadata": {
    "collapsed": false
   },
   "outputs": [],
   "source": [
    "!mv ../../scripts/seqsforBOWTIE.fa batch_6_wgenome_randomSNP.fa"
   ]
  },
  {
   "cell_type": "code",
   "execution_count": 65,
   "metadata": {
    "collapsed": false
   },
   "outputs": [
    {
     "name": "stdout",
     "output_type": "stream",
     "text": [
      "22026\r\n"
     ]
    }
   ],
   "source": [
    "!grep \">\" batch_6_wgenome_randomSNP.fa | wc -l"
   ]
  },
  {
   "cell_type": "markdown",
   "metadata": {},
   "source": [
    "**Before filtering, using the `write_random_snp` model gives me 22,026 loci right out of `populations`. So my Korean data still gives me more loci than the Alaskan data (about twice as much)**"
   ]
  },
  {
   "cell_type": "markdown",
   "metadata": {},
   "source": [
    "<br>\n",
    "<br>\n",
    "<br>\n",
    "\n",
    "\n",
    "### Kristen's stacks parameters compared to my stacks parameters\n",
    "\n",
    "*This is according to the February 2017 draft manuscript*\n",
    "\n",
    "| Parameter/Filter    | Kristen    | Mary    | Comments    |\n",
    "|:------:|:------:|:------:|:-------|\n",
    "| M | 2 | 3 | M - max # of nucleotide differences between sequences in a single stack. Since I used larger M value, would expect fewer stacks. But in parameter testing runs, M did not produce such a larger difference in # of loci as is seen here. |\n",
    "| m | 3 | 5 / 10 | m - minimum # sequences required to make a stack. This would definitely lead to more loci in Kristen's data than in my data. However, I am hesitant to put this parameter so low. | \n",
    "| N | 4 | 4 | default | \n",
    "| n | 3 | 3 | default | \n",
    "| max_locus_stacks | 3 | 3 | default |\n",
    "| SNPs present in x% of samples per site | >= 80% | >= 75% | Kristen's is more stringent here.|\n",
    "| choosing SNPs | write_random_snp | haplotypes, biallelic snps only | See above; this could be a big source of the discrepancy |\n",
    "| Minor allele freq | MAF < 0.05 | MAF < 0.05 in all populations | Not sure if Kristen did MAF < 0.05 in all populations, in any population; assuming she did the same as our lab, which is what I did. | \n",
    "| HWE | uncorrected p vales <= 0.05 | multiple testing method | Wouldn't expect this to lead to large difference in retained loci. |"
   ]
  },
  {
   "cell_type": "code",
   "execution_count": null,
   "metadata": {
    "collapsed": true
   },
   "outputs": [],
   "source": []
  }
 ],
 "metadata": {
  "anaconda-cloud": {},
  "kernelspec": {
   "display_name": "Python [default]",
   "language": "python",
   "name": "python2"
  },
  "language_info": {
   "codemirror_mode": {
    "name": "ipython",
    "version": 2
   },
   "file_extension": ".py",
   "mimetype": "text/x-python",
   "name": "python",
   "nbconvert_exporter": "python",
   "pygments_lexer": "ipython2",
   "version": "2.7.12"
  }
 },
 "nbformat": 4,
 "nbformat_minor": 1
}
