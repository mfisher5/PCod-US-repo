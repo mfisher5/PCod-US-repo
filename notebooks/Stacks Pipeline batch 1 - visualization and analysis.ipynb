{
 "cells": [
  {
   "cell_type": "markdown",
   "metadata": {},
   "source": [
    "## Stacks Pipeline Batch 1 - Visualization and Analysis\n",
    "\n",
    "\n",
    "\n",
    "\n",
    "This notebook will keep track of and visualize the number of reads per individual, number of loci per individual, number of loci in the catalog or reference genome, etc. \n",
    "\n",
    "<br>\n",
    "### Raw read files\n",
    "**Fastqc of raw read files, per lane: **\n",
    "\n",
    "[Evernote notebook]() contains HTML files. \n",
    "\n",
    "<br>\n",
    "### Post process_radtags"
   ]
  },
  {
   "cell_type": "markdown",
   "metadata": {},
   "source": [
    "**Number of reads per individual, post-process radtags**\n",
    "\n",
    "![graph](https://github.com/mfisher5/PCod-US-repo/blob/master/analyses/n_reads_radtags.png?raw=true)\n",
    "\n",
    "\n",
    "<br>\n",
    "**Fastqc of some sample fastq files: **\n",
    "\n",
    "[Evernote notebook]() contains HTML files. "
   ]
  },
  {
   "cell_type": "markdown",
   "metadata": {},
   "source": [
    "\n",
    "<br>\n",
    "### Post ustacks\n",
    "\n",
    "<br>\n",
    "**Number of stacks per individual**\n",
    "\n",
    "The following script finds all `.alleles` files in the given folder and counts the number of unique \"loci\" (aka stacks) per individual. It saves this to a list, then plots the distribution of the number of loci per individual by population. \n",
    "\n",
    "<br>\n",
    "\n",
    "\n",
    "**Frequency of stack depth:**\n",
    "\n",
    "I looked through a few individuals and used [this R script]() to look at the distribution of stack depth by locus. \n",
    "\n",
    "<br>\n",
    "**AD06_001:** This population had a standard distribution of total reads after process_radtags\n",
    "\n",
    "\n",
    "![img AD06_001](https://github.com/mfisher5/PCod-US-repo/blob/master/analyses/ustacks_depth_perstackALL_AD06-001.png?raw=true)\n",
    "\n",
    "\n",
    "![img2 AD06_001](https://github.com/mfisher5/PCod-US-repo/blob/master/analyses/ustacks_depth_perstacks_AD06-001.png?raw=true)\n",
    "\n",
    "\n",
    "**PI04_033:** This population had a LOWER than standard distribution of total reads after process_radtags"
   ]
  },
  {
   "cell_type": "code",
   "execution_count": null,
   "metadata": {
    "collapsed": true
   },
   "outputs": [],
   "source": []
  }
 ],
 "metadata": {
  "anaconda-cloud": {},
  "kernelspec": {
   "display_name": "Python [default]",
   "language": "python",
   "name": "python2"
  },
  "language_info": {
   "codemirror_mode": {
    "name": "ipython",
    "version": 2
   },
   "file_extension": ".py",
   "mimetype": "text/x-python",
   "name": "python",
   "nbconvert_exporter": "python",
   "pygments_lexer": "ipython2",
   "version": "2.7.12"
  }
 },
 "nbformat": 4,
 "nbformat_minor": 1
}
