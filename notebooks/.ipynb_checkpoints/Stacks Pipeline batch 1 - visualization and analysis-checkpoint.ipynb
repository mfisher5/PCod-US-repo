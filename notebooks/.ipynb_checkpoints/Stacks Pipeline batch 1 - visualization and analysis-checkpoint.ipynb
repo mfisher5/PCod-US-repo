{
 "cells": [
  {
   "cell_type": "markdown",
   "metadata": {},
   "source": [
    "## Stacks Pipeline Batch 1 - Visualization and Analysis\n",
    "\n",
    "\n",
    "\n",
    "\n",
    "This notebook will keep track of and visualize the number of reads per individual, number of loci per individual, number of loci in the catalog or reference genome, etc. \n",
    "\n",
    "<br>\n",
    "### Raw read files\n",
    "**Fastqc of raw read files, per lane: **\n",
    "\n",
    "[Evernote notebook]() contains HTML files. \n",
    "\n",
    "<br>\n",
    "### Post process_radtags"
   ]
  },
  {
   "cell_type": "markdown",
   "metadata": {},
   "source": [
    "**Number of reads per individual, post-process radtags**\n",
    "\n",
    "![graph](https://github.com/mfisher5/PCod-US-repo/blob/master/analyses/stacks_pipeline_visuals/n_reads_radtags.png?raw=true)\n",
    "\n",
    "\n",
    "<br>\n",
    "**Fastqc of some sample fastq files: **\n",
    "\n",
    "[Evernote notebook]() contains HTML files. "
   ]
  },
  {
   "cell_type": "markdown",
   "metadata": {},
   "source": [
    "\n",
    "<br>\n",
    "### From the FIRST round of stacks\n",
    "### Post ustacks\n",
    "\n",
    "<br>\n",
    "**Number of stacks per individual**\n",
    "\n",
    "The following script finds all `.alleles` files in the given folder and counts the number of unique \"loci\" (aka stacks) per individual. It saves this to a list, then plots the distribution of the number of loci per individual by population. \n",
    "\n",
    "<br>\n",
    "\n",
    "\n",
    "**Frequency of stack depth:**\n",
    "\n",
    "I looked through a few individuals and used [this R script-pipeline_viz.R](https://github.com/mfisher5/PCod-US-repo/blob/master/analyses/stacks_pipeline_visuals/pipeline_viz.R) to look at the distribution of stack depth by locus. Note the values on the y axis (read depths) between the two individuals below. \n",
    "\n",
    "<br>\n",
    "**AD06_001:** This population had a standard distribution of total reads after process_radtags\n",
    "\n",
    "\n",
    "![img AD06_001](https://github.com/mfisher5/PCod-US-repo/blob/master/analyses/stacks_pipeline_visuals/ustacks_depth_perstackALL_AD06-001.png?raw=true)\n",
    "\n",
    "\n",
    "![img2 AD06_001](https://github.com/mfisher5/PCod-US-repo/blob/master/analyses/stacks_pipeline_visuals/ustacks_depth_perstacks_AD06-001.png?raw=true)\n",
    "\n",
    "\n",
    "**PI04_033:** This population had a LOWER than standard distribution of total reads after process_radtags\n",
    "\n",
    "\n",
    "![img PI04_033](https://github.com/mfisher5/PCod-US-repo/blob/master/analyses/stacks_pipeline_visuals/ustacks_depth_perstackALL_PI04-033.png?raw=true)\n",
    "\n",
    "\n",
    "![img2 PI04_033](https://github.com/mfisher5/PCod-US-repo/blob/master/analyses/stacks_pipeline_visuals/ustacks_depth_perstack_PI04-033.png?raw=true)"
   ]
  },
  {
   "cell_type": "markdown",
   "metadata": {},
   "source": [
    "\n",
    "\n",
    "### cstacks\n",
    "\n",
    "Number of loci in the catalog: "
   ]
  },
  {
   "cell_type": "code",
   "execution_count": null,
   "metadata": {
    "collapsed": true
   },
   "outputs": [],
   "source": []
  },
  {
   "cell_type": "code",
   "execution_count": 1,
   "metadata": {
    "collapsed": false
   },
   "outputs": [
    {
     "data": {
      "text/plain": [
       "u'/mnt/hgfs/Pacific cod/DataAnalysis/PCod-US-repo/notebooks'"
      ]
     },
     "execution_count": 1,
     "metadata": {},
     "output_type": "execute_result"
    }
   ],
   "source": [
    "pwd"
   ]
  },
  {
   "cell_type": "code",
   "execution_count": 2,
   "metadata": {
    "collapsed": false
   },
   "outputs": [
    {
     "name": "stdout",
     "output_type": "stream",
     "text": [
      "/mnt/hgfs/Pacific cod/DataAnalysis/PCod-US-repo/stacks\n"
     ]
    }
   ],
   "source": [
    "cd ../stacks"
   ]
  },
  {
   "cell_type": "code",
   "execution_count": 4,
   "metadata": {
    "collapsed": false
   },
   "outputs": [
    {
     "name": "stdout",
     "output_type": "stream",
     "text": [
      "gzip: batch_1.catalog.tags.tsv.gz: No such file or directory\r\n"
     ]
    }
   ],
   "source": [
    "!gzip -d batch_1.catalog.tags.tsv.gz"
   ]
  },
  {
   "cell_type": "markdown",
   "metadata": {},
   "source": [
    "I must have unzipped that file already..."
   ]
  },
  {
   "cell_type": "code",
   "execution_count": 6,
   "metadata": {
    "collapsed": false,
    "scrolled": true
   },
   "outputs": [
    {
     "name": "stdout",
     "output_type": "stream",
     "text": [
      "74721\r\n"
     ]
    }
   ],
   "source": [
    "!grep \"consensus\" batch_1.catalog.tags.tsv | wc -l"
   ]
  },
  {
   "cell_type": "markdown",
   "metadata": {},
   "source": [
    "There are **74,721 loci in the cstacks catalog (r1)**"
   ]
  },
  {
   "cell_type": "markdown",
   "metadata": {},
   "source": [
    "\n",
    "\n",
    "<br>\n",
    "### sstacks\n",
    "\n",
    "\n",
    "<br>\n",
    "### populations\n",
    "\n",
    "Number of loci output in the raw `populations` file:"
   ]
  },
  {
   "cell_type": "code",
   "execution_count": 7,
   "metadata": {
    "collapsed": false
   },
   "outputs": [
    {
     "name": "stdout",
     "output_type": "stream",
     "text": [
      "/mnt/hgfs/Pacific cod/DataAnalysis/PCod-US-repo/scripts\n"
     ]
    }
   ],
   "source": [
    "cd ../scripts"
   ]
  },
  {
   "cell_type": "code",
   "execution_count": 8,
   "metadata": {
    "collapsed": false,
    "scrolled": true
   },
   "outputs": [
    {
     "name": "stdout",
     "output_type": "stream",
     "text": [
      "#### Counts the number of unique loci in a text file containing the header of a .genepop file (Locus_SNP). To be used after running populations, to determine how many loci were retained ####\r",
      "\r\n",
      "\r",
      "\r\n",
      "## MF 12/12/2016\r",
      "\r\n",
      "\r",
      "\r\n",
      "\r",
      "\r\n",
      "\r",
      "\r\n",
      "\r",
      "\r\n",
      "import sys\r",
      "\r\n",
      "batchFile = open(sys.argv[1], \"r\")\r",
      "\r\n",
      "\r",
      "\r\n"
     ]
    }
   ],
   "source": [
    "!head UniqueLocusCount.py"
   ]
  },
  {
   "cell_type": "code",
   "execution_count": 9,
   "metadata": {
    "collapsed": false
   },
   "outputs": [
    {
     "name": "stdout",
     "output_type": "stream",
     "text": [
      "The number of unique loci in  ../stacks/batch_1.genepop is:  12625\r\n"
     ]
    }
   ],
   "source": [
    "!python UniqueLocusCount.py ../stacks/batch_1.genepop"
   ]
  },
  {
   "cell_type": "markdown",
   "metadata": {},
   "source": [
    "There are **12,625 loci** in the `populations` output genepop file. \n",
    "\n",
    "\n",
    "For some reason this doesn't match up with the number of sequences put into the \"seqs for bowtie\" file???\n",
    "\n"
   ]
  },
  {
   "cell_type": "code",
   "execution_count": 11,
   "metadata": {
    "collapsed": false
   },
   "outputs": [
    {
     "name": "stdout",
     "output_type": "stream",
     "text": [
      "/mnt/hgfs/Pacific cod/DataAnalysis/PCod-US-repo/stacks/refgenome\n"
     ]
    }
   ],
   "source": [
    "cd ../stacks/refgenome"
   ]
  },
  {
   "cell_type": "code",
   "execution_count": 13,
   "metadata": {
    "collapsed": false
   },
   "outputs": [
    {
     "name": "stdout",
     "output_type": "stream",
     "text": [
      "24558 batch_1_seqsforBOWTIE.fa\r\n"
     ]
    }
   ],
   "source": [
    "!wc -l batch_1_seqsforBOWTIE.fa"
   ]
  },
  {
   "cell_type": "code",
   "execution_count": 14,
   "metadata": {
    "collapsed": false
   },
   "outputs": [
    {
     "data": {
      "text/plain": [
       "12279"
      ]
     },
     "execution_count": 14,
     "metadata": {},
     "output_type": "execute_result"
    }
   ],
   "source": [
    "24558/2"
   ]
  },
  {
   "cell_type": "markdown",
   "metadata": {},
   "source": [
    "I'm going to try running both ways of counting \"unique\" loci and comparing..."
   ]
  },
  {
   "cell_type": "code",
   "execution_count": 17,
   "metadata": {
    "collapsed": false
   },
   "outputs": [
    {
     "name": "stdout",
     "output_type": "stream",
     "text": [
      "/mnt/hgfs/Pacific cod/DataAnalysis/PCod-US-repo/scripts\n"
     ]
    }
   ],
   "source": [
    "cd ../../scripts"
   ]
  },
  {
   "cell_type": "code",
   "execution_count": 20,
   "metadata": {
    "collapsed": false
   },
   "outputs": [
    {
     "name": "stdout",
     "output_type": "stream",
     "text": [
      "With the ORIGINAL script:\n",
      "The number of unique loci in  ../stacks/batch_1.genepop is:  12625\n",
      "\n",
      "\n",
      "With the NEW script, used in the pipeline:\n",
      "Stacks version 1.44; Genepop version 4.1.3; March 08, 2017\n",
      "\n",
      "Done reading loci\n",
      "\n",
      "The number of unique loci in  ../stacks/batch_1.genepop is:  12279\n"
     ]
    }
   ],
   "source": [
    "!python UniqueLocusCount.py ../stacks/batch_1.genepop"
   ]
  },
  {
   "cell_type": "markdown",
   "metadata": {},
   "source": [
    "<br>\n",
    "\n",
    "### Reference Genome\n",
    "\n",
    "<br>\n",
    "**12279 loci** after BOWTIE filtering\n",
    "\n",
    "\n",
    "**12084 loci** after BOWTIE and BLAST filtering"
   ]
  },
  {
   "cell_type": "markdown",
   "metadata": {},
   "source": [
    "<br>\n",
    "<br>\n",
    "\n",
    "### From the SECOND round of stacks\n",
    "### Post pstacks\n",
    "\n",
    "\n",
    "\n",
    "\n",
    "<br>\n",
    "### Post cstacks (r2)\n",
    "\n",
    "\n"
   ]
  },
  {
   "cell_type": "code",
   "execution_count": 21,
   "metadata": {
    "collapsed": false
   },
   "outputs": [
    {
     "name": "stdout",
     "output_type": "stream",
     "text": [
      "/mnt/hgfs/Pacific cod/DataAnalysis/PCod-US-repo/stacks_wgenome\n"
     ]
    }
   ],
   "source": [
    "cd ../stacks_wgenome"
   ]
  },
  {
   "cell_type": "code",
   "execution_count": 23,
   "metadata": {
    "collapsed": false
   },
   "outputs": [
    {
     "name": "stdout",
     "output_type": "stream",
     "text": [
      "12084\r\n"
     ]
    }
   ],
   "source": [
    "!grep \"consensus\" batch_1.catalog.tags.tsv | wc -l"
   ]
  },
  {
   "cell_type": "markdown",
   "metadata": {},
   "source": [
    "There are **12,084 loci ** in the cstacks catalog, r2"
   ]
  },
  {
   "cell_type": "markdown",
   "metadata": {},
   "source": [
    "<br>\n",
    "\n",
    "\n",
    "### populations"
   ]
  },
  {
   "cell_type": "code",
   "execution_count": 24,
   "metadata": {
    "collapsed": false
   },
   "outputs": [
    {
     "name": "stdout",
     "output_type": "stream",
     "text": [
      "/mnt/hgfs/Pacific cod/DataAnalysis/PCod-US-repo/scripts\n"
     ]
    }
   ],
   "source": [
    "cd ../scripts"
   ]
  },
  {
   "cell_type": "code",
   "execution_count": 25,
   "metadata": {
    "collapsed": false
   },
   "outputs": [
    {
     "name": "stdout",
     "output_type": "stream",
     "text": [
      "With the ORIGINAL script:\n",
      "The number of unique loci in  ../stacks_wgenome/batch_1.genepop is:  10081\n",
      "\n",
      "\n",
      "With the NEW script, used in the pipeline:\n",
      "Stacks version 1.44; Genepop version 4.1.3; March 11, 2017\n",
      "\n",
      "Done reading loci\n",
      "\n",
      "The number of unique loci in  ../stacks_wgenome/batch_1.genepop is:  9717\n"
     ]
    }
   ],
   "source": [
    "!python UniqueLocusCount.py ../stacks_wgenome/batch_1.genepop"
   ]
  },
  {
   "cell_type": "markdown",
   "metadata": {},
   "source": [
    "There are either **10,081** or **9,717** loci left after populations. "
   ]
  },
  {
   "cell_type": "markdown",
   "metadata": {},
   "source": [
    "\n",
    "<br>\n",
    "### post-stacks filtering\n",
    "\n",
    "**Marine's filtering / genotype correcting script: **\n",
    "\n",
    "Just by opening Excel, it looks like there are only **5,864 loci** left. \n",
    "\n",
    "<br>\n",
    "** Without filtering out individuals with >20% missing data: \n",
    "\n",
    "*MAF filtering:* 4,048 loci\n",
    "\n",
    "<br>\n",
    "*Missing Data filtering (loci with >20% missing were filtered out):* 2,098 loci\n",
    "\n",
    "<br>\n",
    "<br>\n",
    "**filtering out individuals with >20% missing data: **\n",
    "<br>\n",
    "\n",
    "*MAF filtering:* **4,088 loci**\n",
    "\n",
    "*Missing Data filtering (loci with >20% missing were filtered out:* **3,848 loci**"
   ]
  },
  {
   "cell_type": "markdown",
   "metadata": {
    "collapsed": true
   },
   "source": [
    "\n",
    "<br>\n",
    "### some final popgen stats\n",
    "\n",
    "**(1)** I ran this [r script]() - borrowed from Natalie - to find per population Fis and heterozygosity. "
   ]
  },
  {
   "cell_type": "code",
   "execution_count": 1,
   "metadata": {
    "collapsed": false
   },
   "outputs": [
    {
     "data": {
      "text/plain": [
       "u'/mnt/hgfs/Pacific cod/DataAnalysis/PCod-US-repo/notebooks'"
      ]
     },
     "execution_count": 1,
     "metadata": {},
     "output_type": "execute_result"
    }
   ],
   "source": [
    "pwd"
   ]
  },
  {
   "cell_type": "code",
   "execution_count": 2,
   "metadata": {
    "collapsed": false
   },
   "outputs": [
    {
     "name": "stdout",
     "output_type": "stream",
     "text": [
      "/mnt/hgfs/Pacific cod/DataAnalysis/PCod-US-repo/analyses\n"
     ]
    }
   ],
   "source": [
    "cd ../analyses"
   ]
  },
  {
   "cell_type": "code",
   "execution_count": 62,
   "metadata": {
    "collapsed": false
   },
   "outputs": [
    {
     "name": "stdout",
     "output_type": "stream",
     "text": [
      "Fis values recorded from  3848  loci.\n",
      "Removed  5117  NAs from  30784  Fis values\n"
     ]
    }
   ],
   "source": [
    "genepop = open(\"USpcod_Fis_3-24.txt\", \"r\")\n",
    "pops = [\"Kodiak03\", \"Adak06\", \"WashCoast05\", \"HecStrait04\", \"PugetSound12\", \"GeorgiaStrait13\", \"PWSound12\", \"UnimakPass03\"]\n",
    "fis_bypop = []\n",
    "fis_all = []\n",
    "\n",
    "counter = 1\n",
    "NA_count = 0\n",
    "total_count = 0\n",
    "for line in genepop: \n",
    "    if counter == 1: \n",
    "            counter += 1\n",
    "    else: \n",
    "        fis_values = line.strip().split()[1:]\n",
    "        for i in fis_values:\n",
    "            if i == \"NA\":\n",
    "                NA_count += 1\n",
    "                total_count += 1\n",
    "            else: \n",
    "                fis_all.append(float(i))\n",
    "                total_count += 1\n",
    "        counter += 1\n",
    "\n",
    "total_loci = counter - 2\n",
    "print \"Fis values recorded from \", total_loci, \" loci.\"\n",
    "print \"Removed \", NA_count, \" NAs from \", total_count, \" Fis values\"\n",
    "        "
   ]
  },
  {
   "cell_type": "code",
   "execution_count": 59,
   "metadata": {
    "collapsed": false
   },
   "outputs": [],
   "source": [
    "for i in range(0, len(fis_all)): \n",
    "    fis_all[i] = float(fis_all[i])"
   ]
  },
  {
   "cell_type": "code",
   "execution_count": 63,
   "metadata": {
    "collapsed": true
   },
   "outputs": [],
   "source": [
    "import numpy as np\n",
    "import matplotlib.pyplot as plt"
   ]
  },
  {
   "cell_type": "code",
   "execution_count": 70,
   "metadata": {
    "collapsed": false
   },
   "outputs": [
    {
     "data": {
      "image/png": "[encoded data removed]",
      "text/plain": [
       "<matplotlib.figure.Figure at 0x7fad397f5750>"
      ]
     },
     "metadata": {},
     "output_type": "display_data"
    }
   ],
   "source": [
    "plt.hist(fis_all, bins = np.arange(-1, 1.1, .1), color = \"darkcyan\")\n",
    "plt.suptitle(\"SNP- level Fis across populations\")\n",
    "plt.xlabel(\"Fis\")\n",
    "plt.ylabel(\"Frequency\")\n",
    "plt.show()"
   ]
  },
  {
   "cell_type": "code",
   "execution_count": null,
   "metadata": {
    "collapsed": true
   },
   "outputs": [],
   "source": []
  }
 ],
 "metadata": {
  "anaconda-cloud": {},
  "kernelspec": {
   "display_name": "Python [default]",
   "language": "python",
   "name": "python2"
  },
  "language_info": {
   "codemirror_mode": {
    "name": "ipython",
    "version": 2
   },
   "file_extension": ".py",
   "mimetype": "text/x-python",
   "name": "python",
   "nbconvert_exporter": "python",
   "pygments_lexer": "ipython2",
   "version": "2.7.12"
  }
 },
 "nbformat": 4,
 "nbformat_minor": 1
}
