{
 "cells": [
  {
   "cell_type": "markdown",
   "metadata": {},
   "source": [
    "## Stacks Pipeline rerun (batch 1) - nb 2\n",
    "\n",
    "\n",
    "This is a rerun of the stacks pipeline for all northeastern Pacific cod samples. This second notebook contains the run of `stacks` with a reference \"genome\" and end filtering steps of the `populations` genepop output file. \n",
    "\n",
    "<br>\n",
    "Key parameters for this run of stacks: \n",
    "1. using the bounded snp model, default error rate bounds\n",
    "2. stack depth of 10\n",
    "3. do not specify nucleotide differences between stacks (-n)\n",
    "4. cstacks catalog built based on genome location, not sequence ID (-g)\n",
    "5. sstacks files built based on genomeic location, not sequence ID (-g) \n",
    "6. locus must be present in 4/9 populations\n",
    "7. locus must be present in 75% of individuals in a population\n",
    "\n",
    "\n",
    "\n",
    "<br>\n",
    "### pstacks --> populations\n",
    "\n",
    "\n",
    "<br>\n",
    "*Note for later-* I have to rebuild the `cstacks` catalog, and I want to look at the overall read depth per individual in the `pstacks` output files to determine the \"top ten\" rather than the `process_radtags` output files that I assessed for the first set of \"top ten\". So later I will run a scripts to check overall sequence depth per individual after `pstacks` and `ustacks` to see if it has changed significantly."
   ]
  },
  {
   "cell_type": "code",
   "execution_count": 1,
   "metadata": {
    "collapsed": false
   },
   "outputs": [
    {
     "data": {
      "text/plain": [
       "u'/mnt/hgfs/Pacific cod/DataAnalysis/PCod-US-repo/notebooks'"
      ]
     },
     "execution_count": 1,
     "metadata": {},
     "output_type": "execute_result"
    }
   ],
   "source": [
    "pwd"
   ]
  },
  {
   "cell_type": "code",
   "execution_count": 2,
   "metadata": {
    "collapsed": false
   },
   "outputs": [
    {
     "name": "stdout",
     "output_type": "stream",
     "text": [
      "/mnt/hgfs/Pacific cod/DataAnalysis/PCod-US-repo/scripts\n"
     ]
    }
   ],
   "source": [
    "cd ../scripts"
   ]
  },
  {
   "cell_type": "markdown",
   "metadata": {},
   "source": [
    "\n",
    "I generated the shell: "
   ]
  },
  {
   "cell_type": "code",
   "execution_count": 4,
   "metadata": {
    "collapsed": false
   },
   "outputs": [
    {
     "name": "stdout",
     "output_type": "stream",
     "text": [
      "###### Generate Shell Script to Run pstacks --> populations ######\r\n",
      "\r\n",
      "## MF 3/10/2017\r\n",
      "## For US Cod Data\r\n",
      "\r\n",
      "\r\n",
      "\r\n",
      "## At Command Line: python cstacks_populations_genShell_3-8 ARG1 ARG2\r\n",
      "##---- ARG1 = complete sample list file\r\n",
      "##---- ARG2 = sample list for building cstacks catalog\r\n"
     ]
    }
   ],
   "source": [
    "!head pstacks_populations_genShell_3-10.py"
   ]
  },
  {
   "cell_type": "code",
   "execution_count": 5,
   "metadata": {
    "collapsed": true
   },
   "outputs": [],
   "source": [
    "!python pstacks_populations_genShell_3-10.py sampleList.txt samples_for_cstacks.txt"
   ]
  },
  {
   "cell_type": "code",
   "execution_count": 8,
   "metadata": {
    "collapsed": false
   },
   "outputs": [
    {
     "name": "stdout",
     "output_type": "stream",
     "text": [
      "\r\n",
      "#pstacks\r\n",
      "pstacks -t sam -f ../stacks_wgenome/KOD03_035.sam -o ../stacks_wgenome -i 001 -m 10 -p 6 --model_type bounded 2>> pstacks_out_b1_wgenome\r\n",
      "pstacks -t sam -f ../stacks_wgenome/KOD03_051.sam -o ../stacks_wgenome -i 002 -m 10 -p 6 --model_type bounded 2>> pstacks_out_b1_wgenome\r\n",
      "pstacks -t sam -f ../stacks_wgenome/KOD03_052.sam -o ../stacks_wgenome -i 003 -m 10 -p 6 --model_type bounded 2>> pstacks_out_b1_wgenome\r\n",
      "pstacks -t sam -f ../stacks_wgenome/KOD03_053.sam -o ../stacks_wgenome -i 004 -m 10 -p 6 --model_type bounded 2>> pstacks_out_b1_wgenome\r\n",
      "pstacks -t sam -f ../stacks_wgenome/KOD03_054.sam -o ../stacks_wgenome -i 005 -m 10 -p 6 --model_type bounded 2>> pstacks_out_b1_wgenome\r\n",
      "pstacks -t sam -f ../stacks_wgenome/KOD03_055.sam -o ../stacks_wgenome -i 006 -m 10 -p 6 --model_type bounded 2>> pstacks_out_b1_wgenome\r\n",
      "pstacks -t sam -f ../stacks_wgenome/KOD03_056.sam -o ../stacks_wgenome -i 007 -m 10 -p 6 --model_type bounded 2>> pstacks_out_b1_wgenome\r\n",
      "pstacks -t sam -f ../stacks_wgenome/KOD03_057.sam -o ../stacks_wgenome -i 008 -m 10 -p 6 --model_type bounded 2>> pstacks_out_b1_wgenome\r\n"
     ]
    }
   ],
   "source": [
    "!head pstacks_populations_3-10.sh"
   ]
  },
  {
   "cell_type": "code",
   "execution_count": 10,
   "metadata": {
    "collapsed": false
   },
   "outputs": [],
   "source": [
    "!chmod +x pstacks_populations_3-10.sh"
   ]
  },
  {
   "cell_type": "code",
   "execution_count": null,
   "metadata": {
    "collapsed": true
   },
   "outputs": [],
   "source": [
    "# run at command line: \n",
    "./pstacks_populations_3-10.sh"
   ]
  }
 ],
 "metadata": {
  "kernelspec": {
   "display_name": "Python [default]",
   "language": "python",
   "name": "python2"
  },
  "language_info": {
   "codemirror_mode": {
    "name": "ipython",
    "version": 2
   },
   "file_extension": ".py",
   "mimetype": "text/x-python",
   "name": "python",
   "nbconvert_exporter": "python",
   "pygments_lexer": "ipython2",
   "version": "2.7.12"
  }
 },
 "nbformat": 4,
 "nbformat_minor": 1
}
