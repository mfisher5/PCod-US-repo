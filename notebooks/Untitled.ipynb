{
 "cells": [
  {
   "cell_type": "code",
   "execution_count": 27,
   "metadata": {
    "collapsed": true
   },
   "outputs": [],
   "source": [
    "Pcod = list(\"AGCCTACTCATTCGAGCAGA\")\n",
    "Acod = list(\"CGGTGCACCAGATATAGCTT\")\n",
    "Tilapia = list(\"ATAGTAGCGACTGCACTAAG\")\n",
    "Pollock = list(\"CACAAAGACATTGGCACCCT\")\n",
    "fishes = [\"Pcod\", \"Acod\", \"Tilapia\",\"Pollock\"]"
   ]
  },
  {
   "cell_type": "code",
   "execution_count": 28,
   "metadata": {
    "collapsed": false
   },
   "outputs": [
    {
     "data": {
      "text/plain": [
       "20"
      ]
     },
     "execution_count": 28,
     "metadata": {},
     "output_type": "execute_result"
    }
   ],
   "source": [
    "len(Pcod)"
   ]
  },
  {
   "cell_type": "code",
   "execution_count": 29,
   "metadata": {
    "collapsed": false
   },
   "outputs": [
    {
     "name": "stdout",
     "output_type": "stream",
     "text": [
      "75.0  percent of base pairs are mismatches between Pacific and Atlantic cod\n",
      "55.0  percent of base pairs are mismatches between Pacific cod and Tilapia\n",
      "50.0  percent of base pairs are mismatches between Pacific cod and Pollock\n"
     ]
    }
   ],
   "source": [
    "PtoACOD = 0\n",
    "PCODtoTIL = 0\n",
    "PCODtoPOLL = 0\n",
    "TILtoPOLL = 0\n",
    "ACODtoTIL = 0\n",
    "ACODtoPOLL = 0\n",
    "TILtoPOLL = 0\n",
    "for i in range(0,18):\n",
    "    if Pcod[i] != Acod[i]:\n",
    "        PtoACOD = PtoACOD+1\n",
    "    if Pcod[i] != Tilapia[i]:\n",
    "        PCODtoTIL += 1\n",
    "    if Pcod[i] != Pollock[i]:\n",
    "        PCODtoPOLL += 1\n",
    "        \n",
    "mismatches = float(PtoACOD)/float(20) * float(100)\n",
    "print mismatches, \" percent of base pairs are mismatches between Pacific and Atlantic cod\"\n",
    "mismatches = float(PCODtoTIL)/float(20) * float(100)\n",
    "print mismatches, \" percent of base pairs are mismatches between Pacific cod and Tilapia\"\n",
    "mismatches = float(PCODtoPOLL)/float(20) * float(100)\n",
    "print mismatches, \" percent of base pairs are mismatches between Pacific cod and Pollock\"\n",
    "\n",
    "    "
   ]
  },
  {
   "cell_type": "code",
   "execution_count": null,
   "metadata": {
    "collapsed": true
   },
   "outputs": [],
   "source": []
  },
  {
   "cell_type": "code",
   "execution_count": null,
   "metadata": {
    "collapsed": true
   },
   "outputs": [],
   "source": []
  }
 ],
 "metadata": {
  "kernelspec": {
   "display_name": "Python [default]",
   "language": "python",
   "name": "python2"
  },
  "language_info": {
   "codemirror_mode": {
    "name": "ipython",
    "version": 2
   },
   "file_extension": ".py",
   "mimetype": "text/x-python",
   "name": "python",
   "nbconvert_exporter": "python",
   "pygments_lexer": "ipython2",
   "version": "2.7.12"
  }
 },
 "nbformat": 4,
 "nbformat_minor": 1
}
