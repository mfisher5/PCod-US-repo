{
 "cells": [
  {
   "cell_type": "markdown",
   "metadata": {},
   "source": [
    "## ML Relate File generation\n",
    "\n",
    "\n",
    "for some reason, ML relate has decided that it will only take genepops with two or fewer populations. This notebook breaks up a single genepop into a suite of two-population genepops."
   ]
  },
  {
   "cell_type": "code",
   "execution_count": 4,
   "metadata": {
    "collapsed": false
   },
   "outputs": [
    {
     "data": {
      "text/plain": [
       "u'/mnt/hgfs/Pacific cod/DataAnalysis/PCod-US-repo/notebooks'"
      ]
     },
     "execution_count": 4,
     "metadata": {},
     "output_type": "execute_result"
    }
   ],
   "source": [
    "pwd"
   ]
  },
  {
   "cell_type": "code",
   "execution_count": 6,
   "metadata": {
    "collapsed": false,
    "scrolled": true
   },
   "outputs": [
    {
     "name": "stdout",
     "output_type": "stream",
     "text": [
      "/mnt/hgfs/Pacific cod/DataAnalysis/PCod-Korea-repo/analyses/ml_relate\n"
     ]
    }
   ],
   "source": [
    "cd ../../PCod-Korea-repo/analyses/ml_relate"
   ]
  },
  {
   "cell_type": "markdown",
   "metadata": {},
   "source": [
    "#### PRODUCE GENEPOPS FOR ML RELATE, POHANG"
   ]
  },
  {
   "cell_type": "code",
   "execution_count": 8,
   "metadata": {
    "collapsed": false
   },
   "outputs": [],
   "source": [
    "infile = open(\"../batch_4.filteredMAF_filteredLoci_filteredIndivids_filteredHWE_noreps.gen\", \"r\")\n",
    "outfile = open(\"batch4_genepop_heading_temp.txt\", \"w\")\n",
    "\n",
    "for line in infile:\n",
    "    if not line.startswith(\"Pop\"):\n",
    "        outfile.write(line)\n",
    "    else:\n",
    "        outfile.write(line)\n",
    "        break\n",
    "\n",
    "        \n",
    "outfile.close()\n",
    "\n",
    "poplist = [\"PO\", \"GE\", \"JB\", \"YS\", \"JUK\",\"NA\", \"BOR\"]\n",
    "\n",
    "newgen = open(\"batch_4_final_filtered_po-ge14.gen\",\"w\")\n",
    "heading = open(\"batch4_genepop_heading_temp.txt\", \"r\")\n",
    "\n",
    "for line in heading:\n",
    "    newgen.write(line)\n",
    "heading.close()\n",
    "\n",
    "\n",
    "for line in infile:\n",
    "    if line.startswith(\"Pop\") or line.startswith(\"PO\") or line.startswith(\"GE\"):\n",
    "        newgen.write(line)\n",
    "infile.close()\n",
    "newgen.close()\n"
   ]
  },
  {
   "cell_type": "code",
   "execution_count": 9,
   "metadata": {
    "collapsed": true
   },
   "outputs": [],
   "source": [
    "infile = open(\"../batch_4.filteredMAF_filteredLoci_filteredIndivids_filteredHWE_noreps.gen\", \"r\")\n",
    "outfile = open(\"batch4_genepop_heading_temp.txt\", \"w\")\n",
    "\n",
    "for line in infile:\n",
    "    if not line.startswith(\"Pop\"):\n",
    "        outfile.write(line)\n",
    "    else:\n",
    "        outfile.write(line)\n",
    "        break\n",
    "\n",
    "        \n",
    "outfile.close()\n",
    "\n",
    "poplist = [\"PO\", \"GE\", \"JB\", \"YS\", \"JUK\",\"NA\", \"BOR\"]\n",
    "\n",
    "newgen = open(\"batch_4_final_filtered_po-jb07.gen\",\"w\")\n",
    "heading = open(\"batch4_genepop_heading_temp.txt\", \"r\")\n",
    "\n",
    "for line in heading:\n",
    "    newgen.write(line)\n",
    "heading.close()\n",
    "\n",
    "\n",
    "for line in infile:\n",
    "    if line.startswith(\"Pop\") or line.startswith(\"PO\") or line.startswith(\"JB121807\"):\n",
    "        newgen.write(line)\n",
    "infile.close()\n",
    "newgen.close()"
   ]
  },
  {
   "cell_type": "code",
   "execution_count": 10,
   "metadata": {
    "collapsed": true
   },
   "outputs": [],
   "source": [
    "infile = open(\"../batch_4.filteredMAF_filteredLoci_filteredIndivids_filteredHWE_noreps.gen\", \"r\")\n",
    "outfile = open(\"batch4_genepop_heading_temp.txt\", \"w\")\n",
    "\n",
    "for line in infile:\n",
    "    if not line.startswith(\"Pop\"):\n",
    "        outfile.write(line)\n",
    "    else:\n",
    "        outfile.write(line)\n",
    "        break\n",
    "\n",
    "        \n",
    "outfile.close()\n",
    "\n",
    "poplist = [\"PO\", \"GE\", \"JB\", \"YS\", \"JUK\",\"NA\", \"BOR\"]\n",
    "\n",
    "newgen = open(\"batch_4_final_filtered_po-jb08.gen\",\"w\")\n",
    "heading = open(\"batch4_genepop_heading_temp.txt\", \"r\")\n",
    "\n",
    "for line in heading:\n",
    "    newgen.write(line)\n",
    "heading.close()\n",
    "\n",
    "\n",
    "for line in infile:\n",
    "    if line.startswith(\"Pop\") or line.startswith(\"PO\") or line.startswith(\"JB021108\"):\n",
    "        newgen.write(line)\n",
    "infile.close()\n",
    "newgen.close()"
   ]
  },
  {
   "cell_type": "code",
   "execution_count": 11,
   "metadata": {
    "collapsed": true
   },
   "outputs": [],
   "source": [
    "infile = open(\"../batch_4.filteredMAF_filteredLoci_filteredIndivids_filteredHWE_noreps.gen\", \"r\")\n",
    "outfile = open(\"batch4_genepop_heading_temp.txt\", \"w\")\n",
    "\n",
    "for line in infile:\n",
    "    if not line.startswith(\"Pop\"):\n",
    "        outfile.write(line)\n",
    "    else:\n",
    "        outfile.write(line)\n",
    "        break\n",
    "\n",
    "        \n",
    "outfile.close()\n",
    "\n",
    "poplist = [\"PO\", \"GE\", \"JB\", \"YS\", \"JUK\",\"NA\", \"BOR\"]\n",
    "\n",
    "newgen = open(\"batch_4_final_filtered_po-ys.gen\",\"w\")\n",
    "heading = open(\"batch4_genepop_heading_temp.txt\", \"r\")\n",
    "\n",
    "for line in heading:\n",
    "    newgen.write(line)\n",
    "heading.close()\n",
    "\n",
    "\n",
    "for line in infile:\n",
    "    if line.startswith(\"Pop\") or line.startswith(\"PO\") or line.startswith(\"YS\"):\n",
    "        newgen.write(line)\n",
    "infile.close()\n",
    "newgen.close()"
   ]
  },
  {
   "cell_type": "code",
   "execution_count": 12,
   "metadata": {
    "collapsed": true
   },
   "outputs": [],
   "source": [
    "infile = open(\"../batch_4.filteredMAF_filteredLoci_filteredIndivids_filteredHWE_noreps.gen\", \"r\")\n",
    "outfile = open(\"batch4_genepop_heading_temp.txt\", \"w\")\n",
    "\n",
    "for line in infile:\n",
    "    if not line.startswith(\"Pop\"):\n",
    "        outfile.write(line)\n",
    "    else:\n",
    "        outfile.write(line)\n",
    "        break\n",
    "\n",
    "        \n",
    "outfile.close()\n",
    "\n",
    "poplist = [\"PO\", \"GE\", \"JB\", \"YS\", \"JUK\",\"NA\", \"BOR\"]\n",
    "\n",
    "newgen = open(\"batch_4_final_filtered_po-juk.gen\",\"w\")\n",
    "heading = open(\"batch4_genepop_heading_temp.txt\", \"r\")\n",
    "\n",
    "for line in heading:\n",
    "    newgen.write(line)\n",
    "heading.close()\n",
    "\n",
    "\n",
    "for line in infile:\n",
    "    if line.startswith(\"Pop\") or line.startswith(\"PO\") or line.startswith(\"JUK\"):\n",
    "        newgen.write(line)\n",
    "infile.close()\n",
    "newgen.close()"
   ]
  },
  {
   "cell_type": "code",
   "execution_count": 13,
   "metadata": {
    "collapsed": true
   },
   "outputs": [],
   "source": [
    "infile = open(\"../batch_4.filteredMAF_filteredLoci_filteredIndivids_filteredHWE_noreps.gen\", \"r\")\n",
    "outfile = open(\"batch4_genepop_heading_temp.txt\", \"w\")\n",
    "\n",
    "for line in infile:\n",
    "    if not line.startswith(\"Pop\"):\n",
    "        outfile.write(line)\n",
    "    else:\n",
    "        outfile.write(line)\n",
    "        break\n",
    "\n",
    "        \n",
    "outfile.close()\n",
    "\n",
    "poplist = [\"PO\", \"GE\", \"JB\", \"YS\", \"JUK\",\"NA\", \"BOR\"]\n",
    "\n",
    "newgen = open(\"batch_4_final_filtered_po-na.gen\",\"w\")\n",
    "heading = open(\"batch4_genepop_heading_temp.txt\", \"r\")\n",
    "\n",
    "for line in heading:\n",
    "    newgen.write(line)\n",
    "heading.close()\n",
    "\n",
    "\n",
    "for line in infile:\n",
    "    if line.startswith(\"Pop\") or line.startswith(\"PO\") or line.startswith(\"NA\"):\n",
    "        newgen.write(line)\n",
    "infile.close()\n",
    "newgen.close()"
   ]
  },
  {
   "cell_type": "code",
   "execution_count": 14,
   "metadata": {
    "collapsed": true
   },
   "outputs": [],
   "source": [
    "infile = open(\"../batch_4.filteredMAF_filteredLoci_filteredIndivids_filteredHWE_noreps.gen\", \"r\")\n",
    "outfile = open(\"batch4_genepop_heading_temp.txt\", \"w\")\n",
    "\n",
    "for line in infile:\n",
    "    if not line.startswith(\"Pop\"):\n",
    "        outfile.write(line)\n",
    "    else:\n",
    "        outfile.write(line)\n",
    "        break\n",
    "\n",
    "        \n",
    "outfile.close()\n",
    "\n",
    "poplist = [\"PO\", \"GE\", \"JB\", \"YS\", \"JUK\",\"NA\", \"BOR\"]\n",
    "\n",
    "newgen = open(\"batch_4_final_filtered_po-bor.gen\",\"w\")\n",
    "heading = open(\"batch4_genepop_heading_temp.txt\", \"r\")\n",
    "\n",
    "for line in heading:\n",
    "    newgen.write(line)\n",
    "heading.close()\n",
    "\n",
    "\n",
    "for line in infile:\n",
    "    if line.startswith(\"Pop\") or line.startswith(\"PO\") or line.startswith(\"BOR\"):\n",
    "        newgen.write(line)\n",
    "infile.close()\n",
    "newgen.close()"
   ]
  },
  {
   "cell_type": "markdown",
   "metadata": {},
   "source": [
    "#### READ THROUGH ML RELATE OUTPUT FOR SIBS, POHANG COMPARISONS"
   ]
  },
  {
   "cell_type": "code",
   "execution_count": 23,
   "metadata": {
    "collapsed": false,
    "scrolled": true
   },
   "outputs": [
    {
     "name": "stdout",
     "output_type": "stream",
     "text": [
      "8  detected related individuals\n",
      "520  unrelated individuals\n"
     ]
    }
   ],
   "source": [
    "infile = open(\"batch_4_MLrelate_poh-ge.txt\", \"r\")\n",
    "outfile = open(\"batch_4_MLrelate_relatedIndivids.txt\", \"w\")\n",
    "\n",
    "outfile.write(\"relatedness\\tsample1\\tsample2\\n\")\n",
    "\n",
    "for line in infile:\n",
    "    if line.startswith(\"Ind1\"):\n",
    "        break\n",
    "\n",
    "r_count = 0\n",
    "u_count = 0\n",
    "\n",
    "\n",
    "for line in infile:\n",
    "    linelist = line.strip().split()\n",
    "    if len(linelist) > 2:\n",
    "        relate = linelist[2]\n",
    "        if relate == \"HS\" or relate == \"FS\":\n",
    "            outfile.write(relate + \"\\t\" + linelist[0] + \"\\t\" + linelist[1] + \"\\n\")\n",
    "            r_count += 1\n",
    "        else:\n",
    "            u_count += 1\n",
    "infile.close()\n",
    "outfile.close()\n",
    "\n",
    "print r_count, \" detected related individuals\"\n",
    "print u_count, \" unrelated individuals\""
   ]
  },
  {
   "cell_type": "code",
   "execution_count": 27,
   "metadata": {
    "collapsed": false
   },
   "outputs": [
    {
     "data": {
      "text/plain": [
       "u'/mnt/hgfs/Pacific cod/DataAnalysis/PCod-Korea-repo/analyses/ml_relate'"
      ]
     },
     "execution_count": 27,
     "metadata": {},
     "output_type": "execute_result"
    }
   ],
   "source": [
    "pwd"
   ]
  },
  {
   "cell_type": "code",
   "execution_count": 28,
   "metadata": {
    "collapsed": false
   },
   "outputs": [
    {
     "name": "stdout",
     "output_type": "stream",
     "text": [
      "\u001b[0m\u001b[01;32mbatch_4_final_filtered_po-bor.gen\u001b[0m*    \u001b[01;32mbatch_4_final_filtered_po-na.gen\u001b[0m*\r\n",
      "\u001b[01;32mbatch_4_final_filtered_po-ge14.gen\u001b[0m*   \u001b[01;32mbatch_4_final_filtered_po-ys.gen\u001b[0m*\r\n",
      "\u001b[01;32mbatch_4_final_filtered_poh_ge15.gen\u001b[0m*  \u001b[01;32mbatch4_genepop_heading_temp.txt\u001b[0m*\r\n",
      "\u001b[01;32mbatch_4_final_filtered_po-jb07.gen\u001b[0m*   \u001b[01;32mbatch_4_MLrelate_poh-ge.txt\u001b[0m*\r\n",
      "\u001b[01;32mbatch_4_final_filtered_po-jb08.gen\u001b[0m*   \u001b[01;32mbatch_4_MLrelate_relatedIndivids.txt\u001b[0m*\r\n",
      "\u001b[01;32mbatch_4_final_filtered_po-juk.gen\u001b[0m*\r\n"
     ]
    }
   ],
   "source": [
    "ls"
   ]
  },
  {
   "cell_type": "code",
   "execution_count": 30,
   "metadata": {
    "collapsed": false
   },
   "outputs": [
    {
     "name": "stdout",
     "output_type": "stream",
     "text": [
      "31  detected related individuals\n",
      "159  unrelated individuals\n"
     ]
    }
   ],
   "source": [
    "infile = open(\"batch_4_MLrelate_poh-bor.txt\", \"r\")\n",
    "outfile = open(\"batch_4_MLrelate_relatedIndivids.txt\", \"a\")\n",
    "\n",
    "for line in infile:\n",
    "    if line.startswith(\"Ind1\"):\n",
    "        break\n",
    "\n",
    "r_count = 0\n",
    "u_count = 0\n",
    "\n",
    "\n",
    "for line in infile:\n",
    "    linelist = line.strip().split()\n",
    "    if len(linelist) > 2:\n",
    "        relate = linelist[2]\n",
    "        if relate == \"HS\" or relate == \"FS\":\n",
    "            outfile.write(relate + \"\\t\" + linelist[0] + \"\\t\" + linelist[1] + \"\\n\")\n",
    "            r_count += 1\n",
    "        else:\n",
    "            u_count += 1\n",
    "infile.close()\n",
    "outfile.close()\n",
    "\n",
    "print r_count, \" detected related individuals\"\n",
    "print u_count, \" unrelated individuals\""
   ]
  },
  {
   "cell_type": "code",
   "execution_count": 31,
   "metadata": {
    "collapsed": false
   },
   "outputs": [
    {
     "name": "stdout",
     "output_type": "stream",
     "text": [
      "1  detected related individuals\n",
      "189  unrelated individuals\n"
     ]
    }
   ],
   "source": [
    "infile = open(\"batch_4_MLrelate_poh-ge14.txt\", \"r\")\n",
    "outfile = open(\"batch_4_MLrelate_relatedIndivids.txt\", \"a\")\n",
    "\n",
    "for line in infile:\n",
    "    if line.startswith(\"Ind1\"):\n",
    "        break\n",
    "\n",
    "r_count = 0\n",
    "u_count = 0\n",
    "\n",
    "\n",
    "for line in infile:\n",
    "    linelist = line.strip().split()\n",
    "    if len(linelist) > 2:\n",
    "        relate = linelist[2]\n",
    "        if relate == \"HS\" or relate == \"FS\":\n",
    "            outfile.write(relate + \"\\t\" + linelist[0] + \"\\t\" + linelist[1] + \"\\n\")\n",
    "            r_count += 1\n",
    "        else:\n",
    "            u_count += 1\n",
    "infile.close()\n",
    "outfile.close()\n",
    "\n",
    "print r_count, \" detected related individuals\"\n",
    "print u_count, \" unrelated individuals\""
   ]
  },
  {
   "cell_type": "code",
   "execution_count": 32,
   "metadata": {
    "collapsed": false
   },
   "outputs": [
    {
     "name": "stdout",
     "output_type": "stream",
     "text": [
      "1  detected related individuals\n",
      "189  unrelated individuals\n"
     ]
    }
   ],
   "source": [
    "infile = open(\"batch_4_MLrelate_poh-jb07.txt\", \"r\")\n",
    "outfile = open(\"batch_4_MLrelate_relatedIndivids.txt\", \"a\")\n",
    "\n",
    "for line in infile:\n",
    "    if line.startswith(\"Ind1\"):\n",
    "        break\n",
    "\n",
    "r_count = 0\n",
    "u_count = 0\n",
    "\n",
    "\n",
    "for line in infile:\n",
    "    linelist = line.strip().split()\n",
    "    if len(linelist) > 2:\n",
    "        relate = linelist[2]\n",
    "        if relate == \"HS\" or relate == \"FS\":\n",
    "            outfile.write(relate + \"\\t\" + linelist[0] + \"\\t\" + linelist[1] + \"\\n\")\n",
    "            r_count += 1\n",
    "        else:\n",
    "            u_count += 1\n",
    "infile.close()\n",
    "outfile.close()\n",
    "\n",
    "print r_count, \" detected related individuals\"\n",
    "print u_count, \" unrelated individuals\""
   ]
  },
  {
   "cell_type": "code",
   "execution_count": 33,
   "metadata": {
    "collapsed": false
   },
   "outputs": [
    {
     "name": "stdout",
     "output_type": "stream",
     "text": [
      "2  detected related individuals\n",
      "404  unrelated individuals\n"
     ]
    }
   ],
   "source": [
    "infile = open(\"batch_4_MLrelate_poh-jb08.txt\", \"r\")\n",
    "outfile = open(\"batch_4_MLrelate_relatedIndivids.txt\", \"a\")\n",
    "\n",
    "for line in infile:\n",
    "    if line.startswith(\"Ind1\"):\n",
    "        break\n",
    "\n",
    "r_count = 0\n",
    "u_count = 0\n",
    "\n",
    "\n",
    "for line in infile:\n",
    "    linelist = line.strip().split()\n",
    "    if len(linelist) > 2:\n",
    "        relate = linelist[2]\n",
    "        if relate == \"HS\" or relate == \"FS\":\n",
    "            outfile.write(relate + \"\\t\" + linelist[0] + \"\\t\" + linelist[1] + \"\\n\")\n",
    "            r_count += 1\n",
    "        else:\n",
    "            u_count += 1\n",
    "infile.close()\n",
    "outfile.close()\n",
    "\n",
    "print r_count, \" detected related individuals\"\n",
    "print u_count, \" unrelated individuals\""
   ]
  },
  {
   "cell_type": "code",
   "execution_count": 34,
   "metadata": {
    "collapsed": false
   },
   "outputs": [
    {
     "name": "stdout",
     "output_type": "stream",
     "text": [
      "69  detected related individuals\n",
      "162  unrelated individuals\n"
     ]
    }
   ],
   "source": [
    "infile = open(\"batch_4_MLrelate_poh-juk.txt\", \"r\")\n",
    "outfile = open(\"batch_4_MLrelate_relatedIndivids.txt\", \"a\")\n",
    "\n",
    "for line in infile:\n",
    "    if line.startswith(\"Ind1\"):\n",
    "        break\n",
    "\n",
    "r_count = 0\n",
    "u_count = 0\n",
    "\n",
    "\n",
    "for line in infile:\n",
    "    linelist = line.strip().split()\n",
    "    if len(linelist) > 2:\n",
    "        relate = linelist[2]\n",
    "        if relate == \"HS\" or relate == \"FS\":\n",
    "            outfile.write(relate + \"\\t\" + linelist[0] + \"\\t\" + linelist[1] + \"\\n\")\n",
    "            r_count += 1\n",
    "        else:\n",
    "            u_count += 1\n",
    "infile.close()\n",
    "outfile.close()\n",
    "\n",
    "print r_count, \" detected related individuals\"\n",
    "print u_count, \" unrelated individuals\""
   ]
  },
  {
   "cell_type": "code",
   "execution_count": 35,
   "metadata": {
    "collapsed": false
   },
   "outputs": [
    {
     "name": "stdout",
     "output_type": "stream",
     "text": [
      "3  detected related individuals\n",
      "117  unrelated individuals\n"
     ]
    }
   ],
   "source": [
    "infile = open(\"batch_4_MLrelate_poh-na.txt\", \"r\")\n",
    "outfile = open(\"batch_4_MLrelate_relatedIndivids.txt\", \"a\")\n",
    "\n",
    "for line in infile:\n",
    "    if line.startswith(\"Ind1\"):\n",
    "        break\n",
    "\n",
    "r_count = 0\n",
    "u_count = 0\n",
    "\n",
    "\n",
    "for line in infile:\n",
    "    linelist = line.strip().split()\n",
    "    if len(linelist) > 2:\n",
    "        relate = linelist[2]\n",
    "        if relate == \"HS\" or relate == \"FS\":\n",
    "            outfile.write(relate + \"\\t\" + linelist[0] + \"\\t\" + linelist[1] + \"\\n\")\n",
    "            r_count += 1\n",
    "        else:\n",
    "            u_count += 1\n",
    "infile.close()\n",
    "outfile.close()\n",
    "\n",
    "print r_count, \" detected related individuals\"\n",
    "print u_count, \" unrelated individuals\""
   ]
  },
  {
   "cell_type": "code",
   "execution_count": 36,
   "metadata": {
    "collapsed": false
   },
   "outputs": [
    {
     "name": "stdout",
     "output_type": "stream",
     "text": [
      "38  detected related individuals\n",
      "215  unrelated individuals\n"
     ]
    }
   ],
   "source": [
    "infile = open(\"batch_4_MLrelate_poh-ys.txt\", \"r\")\n",
    "outfile = open(\"batch_4_MLrelate_relatedIndivids.txt\", \"a\")\n",
    "\n",
    "for line in infile:\n",
    "    if line.startswith(\"Ind1\"):\n",
    "        break\n",
    "\n",
    "r_count = 0\n",
    "u_count = 0\n",
    "\n",
    "\n",
    "for line in infile:\n",
    "    linelist = line.strip().split()\n",
    "    if len(linelist) > 2:\n",
    "        relate = linelist[2]\n",
    "        if relate == \"HS\" or relate == \"FS\":\n",
    "            outfile.write(relate + \"\\t\" + linelist[0] + \"\\t\" + linelist[1] + \"\\n\")\n",
    "            r_count += 1\n",
    "        else:\n",
    "            u_count += 1\n",
    "infile.close()\n",
    "outfile.close()\n",
    "\n",
    "print r_count, \" detected related individuals\"\n",
    "print u_count, \" unrelated individuals\""
   ]
  },
  {
   "cell_type": "code",
   "execution_count": null,
   "metadata": {
    "collapsed": true
   },
   "outputs": [],
   "source": []
  }
 ],
 "metadata": {
  "kernelspec": {
   "display_name": "Python [default]",
   "language": "python",
   "name": "python2"
  },
  "language_info": {
   "codemirror_mode": {
    "name": "ipython",
    "version": 2
   },
   "file_extension": ".py",
   "mimetype": "text/x-python",
   "name": "python",
   "nbconvert_exporter": "python",
   "pygments_lexer": "ipython2",
   "version": "2.7.12"
  }
 },
 "nbformat": 4,
 "nbformat_minor": 1
}
