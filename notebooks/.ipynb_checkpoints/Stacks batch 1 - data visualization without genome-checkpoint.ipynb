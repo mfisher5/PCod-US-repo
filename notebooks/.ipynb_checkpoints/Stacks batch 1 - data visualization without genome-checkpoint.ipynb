{
 "cells": [
  {
   "cell_type": "markdown",
   "metadata": {},
   "source": [
    "## Stacks batch 1 - data visualization with first pipeline run (no genome)\n",
    "\n",
    "\n",
    "<br>\n",
    "I'm mostly interested to see what the read depth v. heterozygosity looks like before we use a reference genome for filtering. \n",
    "\n",
    "\n",
    "<br>\n"
   ]
  },
  {
   "cell_type": "code",
   "execution_count": 1,
   "metadata": {
    "collapsed": false
   },
   "outputs": [
    {
     "data": {
      "text/plain": [
       "u'/mnt/hgfs/Pacific cod/DataAnalysis/PCod-US-repo/notebooks'"
      ]
     },
     "execution_count": 1,
     "metadata": {},
     "output_type": "execute_result"
    }
   ],
   "source": [
    "pwd"
   ]
  },
  {
   "cell_type": "code",
   "execution_count": 3,
   "metadata": {
    "collapsed": false
   },
   "outputs": [
    {
     "name": "stdout",
     "output_type": "stream",
     "text": [
      "/mnt/hgfs/Pacific cod/DataAnalysis/PCod-US-repo/samplesT92\n"
     ]
    }
   ],
   "source": [
    "cd ../samplesT92"
   ]
  },
  {
   "cell_type": "code",
   "execution_count": 12,
   "metadata": {
    "collapsed": false
   },
   "outputs": [
    {
     "name": "stdout",
     "output_type": "stream",
     "text": [
      "KOD03_051 1353028.0 1.0\n",
      "\n",
      "KOD03_052 3604717.0 1.0\n",
      "\n",
      "KOD03_054 1783756.0 1.0\n",
      "\n",
      "KOD03_055 3668576.0 1.0\n",
      "\n",
      "KOD03_056 1196107.0 1.0\n",
      "\n",
      "KOD03_057 9225135.0 1.0\n",
      "\n",
      "KOD03_058 1736725.0 1.0\n",
      "\n",
      "KOD03_059 1153457.0 1.0\n",
      "\n",
      "KOD03_061 5100042.0 1.0\n",
      "\n",
      "KOD03_063 2796354.0 1.0\n",
      "\n",
      "KOD03_064 8943131.0 1.0\n",
      "\n",
      "KOD03_065 3613026.0 1.0\n",
      "\n",
      "KOD03_066 5240244.0 1.0\n",
      "\n",
      "KOD03_067 6279450.0 1.0\n",
      "\n",
      "KOD03_068 1158489.0 1.0\n",
      "\n",
      "KOD03_069 2271243.0 1.0\n",
      "\n",
      "KOD03_070 1027848.0 1.0\n",
      "\n",
      "KOD03_071 4874649.0 1.0\n",
      "\n",
      "KOD03_072 893099.0 1.0\n",
      "\n",
      "KOD03_073 818087.0 1.0\n",
      "\n",
      "KOD03_074 2681786.0 1.0\n",
      "\n",
      "KOD03_075 1064316.0 1.0\n",
      "\n",
      "KOD03_076 2305672.0 1.0\n",
      "\n",
      "KOD03_077 1722277.0 1.0\n",
      "\n",
      "KOD03_078 5446567.0 1.0\n",
      "\n",
      "KOD03_079 1019426.0 1.0\n",
      "\n",
      "KOD03_080 938589.0 1.0\n",
      "\n",
      "KOD03_081 4371260.0 1.0\n",
      "\n",
      "KOD03_082 3611611.0 1.0\n",
      "\n",
      "KOD03_083 1744057.0 1.0\n",
      "\n",
      "KOD03_084 3567750.0 1.0\n",
      "\n",
      "Traceback (most recent call last):\n",
      "  File \"hetVsReadDepth_gzip.py\", line 106, in <module>\n",
      "    tmp_proportion_het = countHet(sample_name)\n",
      "  File \"hetVsReadDepth_gzip.py\", line 70, in countHet\n",
      "    genotypes_out = genotypes_out.split(',')[1] # removing everything except genotypes\n",
      "IndexError: list index out of range\n"
     ]
    }
   ],
   "source": [
    "!python hetVsReadDepth_gzip.py \\\n",
    "-l ../scripts/samples_fqfiles_filtered.txt \\\n",
    "-f ../stacks/batch_1.filteredIndivids.filteredMAF_filteredLoci20p.gen \\\n",
    "-o ../analyses/batch1_HetvReadDepth_filtered_nogenome \\\n",
    "-d 4"
   ]
  },
  {
   "cell_type": "markdown",
   "metadata": {
    "collapsed": true
   },
   "source": [
    "\n",
    "\n",
    "<br>\n",
    " Not sure why it's returning heterozygosity so that it's all zero. I used my old read counts and then manually calculated heterozygosity. \n",
    " \n",
    " <br>"
   ]
  },
  {
   "cell_type": "code",
   "execution_count": 1,
   "metadata": {
    "collapsed": false
   },
   "outputs": [
    {
     "name": "stdout",
     "output_type": "stream",
     "text": [
      "/mnt/hgfs/Pacific cod/DataAnalysis/PCod-US-repo/analyses\n"
     ]
    }
   ],
   "source": [
    "cd ../analyses"
   ]
  },
  {
   "cell_type": "code",
   "execution_count": 3,
   "metadata": {
    "collapsed": false
   },
   "outputs": [
    {
     "name": "stdout",
     "output_type": "stream",
     "text": [
      "Processed  265  samples.\n"
     ]
    }
   ],
   "source": [
    "myfile = open(\"hetVreaddepth_nogenome.txt\", \"r\")\n",
    "\n",
    "count = 0\n",
    "read_depth = []\n",
    "prop_het = []\n",
    "\n",
    "\n",
    "# split each line into read depth and heterozygosity, and save to separate lists\n",
    "for line in myfile: \n",
    "        new_depth = line.strip().split()[1]\n",
    "        new_het = line.strip().split()[2]\n",
    "        read_depth.append(new_depth)\n",
    "        prop_het.append(new_het)\n",
    "        count += 1\n",
    "\n",
    "myfile.close()\n",
    "\n",
    "print \"Processed \", count, \" samples.\""
   ]
  },
  {
   "cell_type": "code",
   "execution_count": 4,
   "metadata": {
    "collapsed": true
   },
   "outputs": [],
   "source": [
    "# convert elements in both lists to strings\n",
    "length = len(read_depth)\n",
    "for i in range(0,length):\n",
    "    read_depth[i] = float(read_depth[i])\n",
    "\n",
    "length = len(prop_het)\n",
    "for i in range(0,length):\n",
    "    prop_het[i] = float(prop_het[i])"
   ]
  },
  {
   "cell_type": "code",
   "execution_count": 5,
   "metadata": {
    "collapsed": true
   },
   "outputs": [],
   "source": [
    "import numpy as np\n",
    "import matplotlib.pyplot as plt"
   ]
  },
  {
   "cell_type": "code",
   "execution_count": 6,
   "metadata": {
    "collapsed": false
   },
   "outputs": [
    {
     "data": {
      "image/png": "[encoded data removed]",
      "text/plain": [
       "<matplotlib.figure.Figure at 0x7fc7c531e590>"
      ]
     },
     "metadata": {},
     "output_type": "display_data"
    }
   ],
   "source": [
    "plt.scatter(read_depth, prop_het)\n",
    "plt.suptitle(\"Heterozygosity by Read Depth\")\n",
    "plt.xlabel(\"Read depth\")\n",
    "plt.ylabel(\"Heterozygosity\")\n",
    "plt.show()"
   ]
  },
  {
   "cell_type": "code",
   "execution_count": 7,
   "metadata": {
    "collapsed": true
   },
   "outputs": [],
   "source": [
    "plt.close()"
   ]
  },
  {
   "cell_type": "code",
   "execution_count": 8,
   "metadata": {
    "collapsed": false
   },
   "outputs": [
    {
     "data": {
      "text/plain": [
       "array([[ 1.        ,  0.77907856],\n",
       "       [ 0.77907856,  1.        ]])"
      ]
     },
     "execution_count": 8,
     "metadata": {},
     "output_type": "execute_result"
    }
   ],
   "source": [
    "np.corrcoef(read_depth, prop_het)"
   ]
  },
  {
   "cell_type": "markdown",
   "metadata": {},
   "source": [
    "\n",
    "The correlation coefficient is **0.7791**\n",
    "\n",
    "<br>\n",
    "So without the reference genome and second run-through of stacks, there is a slightly higher correlation between read depth and heterozygosity. Visually, it looks like a much stronger linear correlation. "
   ]
  },
  {
   "cell_type": "code",
   "execution_count": null,
   "metadata": {
    "collapsed": true
   },
   "outputs": [],
   "source": []
  }
 ],
 "metadata": {
  "anaconda-cloud": {},
  "kernelspec": {
   "display_name": "Python [default]",
   "language": "python",
   "name": "python2"
  },
  "language_info": {
   "codemirror_mode": {
    "name": "ipython",
    "version": 2
   },
   "file_extension": ".py",
   "mimetype": "text/x-python",
   "name": "python",
   "nbconvert_exporter": "python",
   "pygments_lexer": "ipython2",
   "version": "2.7.12"
  }
 },
 "nbformat": 4,
 "nbformat_minor": 1
}
