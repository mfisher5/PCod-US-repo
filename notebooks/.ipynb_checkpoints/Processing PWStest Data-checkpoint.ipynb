{
 "cells": [
  {
   "cell_type": "markdown",
   "metadata": {},
   "source": [
    "## Process Radtags for PWS Test Data\n",
    "\n",
    "The PWS (Prince William Sound) \"test\" data includes 200ng samples AND unique 500ng samples that need to be included in the final Prince William Sound dataset. \n",
    "\n",
    "\n",
    "<br>\n",
    "<br>\n",
    "\n",
    "#### 8/25/2017\n",
    "I actually ran radtags to pstacks on this data, using th eKorean reference genome (see PCod-Compare-repo)"
   ]
  },
  {
   "cell_type": "code",
   "execution_count": null,
   "metadata": {
    "collapsed": true
   },
   "outputs": [],
   "source": [
    "# in terminal\n",
    "./PWStest_radtags_pstacks.sh"
   ]
  }
 ],
 "metadata": {
  "anaconda-cloud": {},
  "kernelspec": {
   "display_name": "Python [default]",
   "language": "python",
   "name": "python2"
  },
  "language_info": {
   "codemirror_mode": {
    "name": "ipython",
    "version": 2
   },
   "file_extension": ".py",
   "mimetype": "text/x-python",
   "name": "python",
   "nbconvert_exporter": "python",
   "pygments_lexer": "ipython2",
   "version": "2.7.12"
  }
 },
 "nbformat": 4,
 "nbformat_minor": 1
}
