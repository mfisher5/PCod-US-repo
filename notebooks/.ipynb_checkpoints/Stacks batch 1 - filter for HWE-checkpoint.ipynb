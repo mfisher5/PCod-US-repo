{
 "cells": [
  {
   "cell_type": "markdown",
   "metadata": {},
   "source": [
    "## Filtering for Hardy-Weinberg equilibrium\n",
    "\n",
    "\n",
    "<br>\n",
    "\n",
    "This notebook filters loci that are out of Hardy-Weinberg equilibrium. \n",
    "\n",
    "### 1. Ran GENEPOP \n",
    "\n",
    "On the genepop file `batch_1_filteredIndivids_filteredMAFfilteredLoci20p.txt`\n",
    "\n",
    "Use the options: \n",
    "`1... Hardy-Weinberg exact tests >> 3...test for each locus in each population, Probability test`\n",
    "\n",
    "\n",
    "\n",
    "<br>\n",
    "\n",
    "### 2. Parse GENEPOP output\n",
    "\n",
    "Genepop put out a file `batch_1...txt.P` that contains, at the bottom, a list of by-locus p-values and Fis estimates by population. \n",
    "\n",
    "I created the following script to parse out this information into TWO tab-delimited files that are organized as 2x2 charts: locus in the first column, and population in the first row. The first file gives calculated HWE p-values, and the second file contains the W&C Fis estimates.  "
   ]
  },
  {
   "cell_type": "code",
   "execution_count": 1,
   "metadata": {
    "collapsed": false,
    "scrolled": true
   },
   "outputs": [
    {
     "data": {
      "text/plain": [
       "u'/mnt/hgfs/Pacific cod/DataAnalysis/PCod-US-repo/notebooks'"
      ]
     },
     "execution_count": 1,
     "metadata": {},
     "output_type": "execute_result"
    }
   ],
   "source": [
    "pwd"
   ]
  },
  {
   "cell_type": "code",
   "execution_count": 24,
   "metadata": {
    "collapsed": false
   },
   "outputs": [
    {
     "name": "stdout",
     "output_type": "stream",
     "text": [
      "/mnt/hgfs/Pacific cod/DataAnalysis/PCod-US-repo/analyses\n"
     ]
    }
   ],
   "source": [
    "cd ../analyses"
   ]
  },
  {
   "cell_type": "code",
   "execution_count": 25,
   "metadata": {
    "collapsed": false
   },
   "outputs": [
    {
     "name": "stdout",
     "output_type": "stream",
     "text": [
      "#### This script will take the output file from genepop's HWE by locus exact test (option 1 >>> 3) and create two files with 2x2 arrays to parse out the HWE p-value and the HWE Fis value per locus per population      ####\r\n",
      "\r\n",
      "## at command line: python parse_genepop_HWEbylocus.py ARG1 ##\r\n",
      "##---ARG\r\n",
      "\r\n",
      "\r\n",
      "\r\n",
      "import argparse\r\n",
      "\r\n",
      "parser = argparse.ArgumentParser()\r\n"
     ]
    }
   ],
   "source": [
    "!head parse_genepop_HWEbylocus.py"
   ]
  },
  {
   "cell_type": "code",
   "execution_count": 37,
   "metadata": {
    "collapsed": false
   },
   "outputs": [
    {
     "name": "stdout",
     "output_type": "stream",
     "text": [
      "generating dictionaries of pvalues and fis values...\n",
      "writing output to files...\n",
      "done.\n"
     ]
    }
   ],
   "source": [
    "!python parse_genepop_HWEbylocus.py \\\n",
    "-p ../stacks_wgenome/batch_1_filteredIndivids_filteredMAFfilteredLoci20p.txt.P \\\n",
    "-op batch_1_HWEpvals.txt \\\n",
    "-of batch_1_Fis.txt"
   ]
  },
  {
   "cell_type": "code",
   "execution_count": null,
   "metadata": {
    "collapsed": true
   },
   "outputs": [],
   "source": []
  }
 ],
 "metadata": {
  "anaconda-cloud": {},
  "kernelspec": {
   "display_name": "Python [default]",
   "language": "python",
   "name": "python2"
  },
  "language_info": {
   "codemirror_mode": {
    "name": "ipython",
    "version": 2
   },
   "file_extension": ".py",
   "mimetype": "text/x-python",
   "name": "python",
   "nbconvert_exporter": "python",
   "pygments_lexer": "ipython2",
   "version": "2.7.12"
  }
 },
 "nbformat": 4,
 "nbformat_minor": 1
}
