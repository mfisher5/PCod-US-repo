{
 "cells": [
  {
   "cell_type": "markdown",
   "metadata": {},
   "source": [
    "## Stacks Pipeline rerun (batch 1)\n",
    "\n",
    "\n",
    "This is a rerun of the stacks pipeline for all northeastern Pacific cod samples. \n",
    "\n",
    "<br>\n",
    "Key parameters for this run of stacks: \n",
    "1. trimming to 142 bp\n",
    "2. using bounded SNP model\n",
    "3. stack depth of 10\n",
    "4. nucleotide differences between stacks = 3\n",
    "5. cstacks catalog built with 10 individuals per population\n",
    "6. locus must be present in 4/9 populations\n",
    "7. locus must be present in 75% of individuals in a population\n",
    "8. \"v\" alignment mode in BOWTIE, with no more than 3 mismatches\n",
    "\n",
    "\n",
    "\n",
    "### process_radtags --> ustacks --> counting # sequences per file\n",
    "**3/7/2017**"
   ]
  },
  {
   "cell_type": "code",
   "execution_count": 1,
   "metadata": {
    "collapsed": false
   },
   "outputs": [
    {
     "data": {
      "text/plain": [
       "u'/mnt/hgfs/Pacific cod/DataAnalysis/PCod-US-repo/notebooks'"
      ]
     },
     "execution_count": 1,
     "metadata": {},
     "output_type": "execute_result"
    }
   ],
   "source": [
    "pwd"
   ]
  },
  {
   "cell_type": "code",
   "execution_count": 2,
   "metadata": {
    "collapsed": false
   },
   "outputs": [
    {
     "name": "stdout",
     "output_type": "stream",
     "text": [
      "/mnt/hgfs/Pacific cod/DataAnalysis/PCod-US-repo/scripts\n"
     ]
    }
   ],
   "source": [
    "cd ../scripts"
   ]
  },
  {
   "cell_type": "code",
   "execution_count": 9,
   "metadata": {
    "collapsed": false
   },
   "outputs": [],
   "source": [
    "!python radtags_ustacks_genShell_3-6.py"
   ]
  },
  {
   "cell_type": "code",
   "execution_count": 10,
   "metadata": {
    "collapsed": false
   },
   "outputs": [
    {
     "name": "stdout",
     "output_type": "stream",
     "text": [
      "#!/bin/bash\r\n",
      "\r\n",
      "# lane 1\r\n",
      "process_radtags -p /media/mfisher5/New\\ Volume/Kristen/Data/KOD03 -i gzfastq -y gzfastq -o ../samplesT142 -b barcodesL1.txt -e sbfI -E phred33 -r -c -q -t 142\r\n",
      "\r\n",
      "# lane 2\r\n",
      "process_radtags -p /media/mfisher5/New\\ Volume/Kristen/Data/AD06 -i gzfastq -y gzfastq -o ../samplesT142 -b barcodesL2_AD.txt -e sbfI -E phred33 -r -c -q -t 142\r\n",
      "\r\n",
      "process_radtags -p /media/mfisher5/New\\ Volume/Kristen/Data/WC05 -i gzfastq -y gzfastq -o ../samplesT142 -b barcodesL2_WC.txt -e sbfI -E phred33 -r -c -q -t 142\r\n",
      "\r\n"
     ]
    }
   ],
   "source": [
    "!head -n 10 radtags_ustacks_3-6.sh"
   ]
  },
  {
   "cell_type": "code",
   "execution_count": 11,
   "metadata": {
    "collapsed": false
   },
   "outputs": [
    {
     "name": "stdout",
     "output_type": "stream",
     "text": [
      "KOD03_035\r\n",
      "KOD03_051\r\n",
      "KOD03_052\r\n",
      "KOD03_053\r\n",
      "KOD03_054\r\n"
     ]
    }
   ],
   "source": [
    "!head -n 5 sampleList.txt"
   ]
  },
  {
   "cell_type": "code",
   "execution_count": null,
   "metadata": {
    "collapsed": true
   },
   "outputs": [],
   "source": [
    "# run in command line\n",
    "chmod +x ./radtags_ustacks_3-6.sh\n",
    "./radtags_ustacks_3-6.sh"
   ]
  },
  {
   "cell_type": "markdown",
   "metadata": {},
   "source": [
    "\n",
    "<br> \n",
    "**Number of reads per individual, post-process radtags**\n",
    "\n",
    "![graph](https://github.com/mfisher5/PCod-US-repo/blob/master/analyses/n_reads_radtags.png?raw=true)"
   ]
  },
  {
   "cell_type": "markdown",
   "metadata": {},
   "source": [
    "<br>\n",
    "\n",
    "### cstacks --> sstacks --> populations\n",
    "**3/8/2017**"
   ]
  },
  {
   "cell_type": "code",
   "execution_count": 1,
   "metadata": {
    "collapsed": false
   },
   "outputs": [
    {
     "data": {
      "text/plain": [
       "u'/mnt/hgfs/Pacific cod/DataAnalysis/PCod-US-repo/notebooks'"
      ]
     },
     "execution_count": 1,
     "metadata": {},
     "output_type": "execute_result"
    }
   ],
   "source": [
    "pwd"
   ]
  },
  {
   "cell_type": "code",
   "execution_count": 2,
   "metadata": {
    "collapsed": false
   },
   "outputs": [
    {
     "name": "stdout",
     "output_type": "stream",
     "text": [
      "/mnt/hgfs/Pacific cod/DataAnalysis/PCod-US-repo/scripts\n"
     ]
    }
   ],
   "source": [
    "cd ../scripts"
   ]
  },
  {
   "cell_type": "code",
   "execution_count": 7,
   "metadata": {
    "collapsed": false
   },
   "outputs": [],
   "source": [
    "!python cstacks_populations_genShell_3-8.py \\\n",
    "samples_for_cstacks.txt \\\n",
    "sampleList.txt"
   ]
  },
  {
   "cell_type": "markdown",
   "metadata": {},
   "source": [
    "This made a shell script to run cstacks to populations. "
   ]
  },
  {
   "cell_type": "code",
   "execution_count": 8,
   "metadata": {
    "collapsed": false
   },
   "outputs": [
    {
     "name": "stdout",
     "output_type": "stream",
     "text": [
      "\r\n",
      "#cstacks\r\n",
      "cstacks -b 1 -s ../stacks/KOD03_057 -s ../stacks/KOD03_064 -s ../stacks/KOD03_067 -s ../stacks/KOD03_078 -s ../stacks/KOD03_066 -s ../stacks/KOD03_061 -s ../stacks/KOD03_071 -s ../stacks/KOD03_081 -s ../stacks/KOD03_055 -s ../stacks/KOD03_065 -s ../stacks/AD06_017 -s ../stacks/AD06_001 -s ../stacks/AD06_008 -s ../stacks/AD06_048 -s ../stacks/AD06_036 -s ../stacks/AD06_018 -s ../stacks/AD06_011 -s ../stacks/AD06_044 -s ../stacks/AD06_035 -s ../stacks/AD06_041 -s ../stacks/WC05_015 -s ../stacks/WC05_008 -s ../stacks/WC05_018 -s ../stacks/WC05_029 -s ../stacks/WC05_040 -s ../stacks/WC05_022 -s ../stacks/WC05_016 -s ../stacks/WC05_017 -s ../stacks/WC05_032 -s ../stacks/WC05_025 -s ../stacks/HS04_015 -s ../stacks/HS04_016 -s ../stacks/HS04_017 -s ../stacks/HS04_040 -s ../stacks/HS04_008 -s ../stacks/HS04_032 -s ../stacks/HS04_022 -s ../stacks/HS04_006 -s ../stacks/HS04_018 -s ../stacks/HS04_014 -s ../stacks/PI04_017 -s ../stacks/PI04_016 -s ../stacks/PI04_038 -s ../stacks/PI04_040 -s ../stacks/PI04_007 -s ../stacks/PI04_034 -s ../stacks/PI04_036 -s ../stacks/PI04_023 -s ../stacks/PI04_032 -s ../stacks/PI04_006 -s ../stacks/PS12_017 -s ../stacks/PS12_008 -s ../stacks/PS12_015 -s ../stacks/PS12_040 -s ../stacks/PS12_022 -s ../stacks/PS12_016 -s ../stacks/PS12_012 -s ../stacks/PS12_006 -s ../stacks/PS12_018 -s ../stacks/PS12_020 -s ../stacks/GS13_001 -s ../stacks/GS13_006 -s ../stacks/GS13_012 -s ../stacks/GS13_005 -s ../stacks/GS13_016 -s ../stacks/GS13_008 -s ../stacks/GS13_017 -s ../stacks/GS13_011 -s ../stacks/GS13_013 -s ../stacks/GS13_003 -s ../stacks/PWS12_017 -s ../stacks/PWS12_002 -s ../stacks/PWS12_014 -s ../stacks/PWS12_010 -s ../stacks/PWS12_005 -s ../stacks/PWS12_075 -s ../stacks/PWS12_079 -s ../stacks/PWS12_006 -s ../stacks/PWS12_131 -s ../stacks/PWS12_022 -s ../stacks/UP03_011 -s ../stacks/UP03_030 -s ../stacks/UP03_029 -s ../stacks/UP03_044 -s ../stacks/UP03_036 -s ../stacks/UP03_001 -s ../stacks/UP03_013 -s ../stacks/UP03_019 -s ../stacks/UP03_010 -s ../stacks/UP03_014 -o ../stacks -n 3 -p 6\r\n",
      "\r\n",
      "\r\n",
      "#sstacks\r\n",
      "sstacks -b 1 -c ../stacks/batch_1 -s ../stacks/KOD03_035 -o ../stacks -p 6 2>> sstacks_out_b1\r\n",
      "sstacks -b 1 -c ../stacks/batch_1 -s ../stacks/KOD03_051 -o ../stacks -p 6 2>> sstacks_out_b1\r\n",
      "sstacks -b 1 -c ../stacks/batch_1 -s ../stacks/KOD03_052 -o ../stacks -p 6 2>> sstacks_out_b1\r\n",
      "sstacks -b 1 -c ../stacks/batch_1 -s ../stacks/KOD03_053 -o ../stacks -p 6 2>> sstacks_out_b1\r\n"
     ]
    }
   ],
   "source": [
    "!head cstacks_populations_3-8.sh"
   ]
  },
  {
   "cell_type": "markdown",
   "metadata": {},
   "source": [
    "I also created a populations map file for `populations`"
   ]
  },
  {
   "cell_type": "code",
   "execution_count": 9,
   "metadata": {
    "collapsed": false
   },
   "outputs": [
    {
     "name": "stdout",
     "output_type": "stream",
     "text": [
      "KOD03_035\tKodiak03\r",
      "\r\n",
      "KOD03_051\tKodiak03\r",
      "\r\n",
      "KOD03_052\tKodiak03\r",
      "\r\n",
      "KOD03_053\tKodiak03\r",
      "\r\n",
      "KOD03_054\tKodiak03\r",
      "\r\n"
     ]
    }
   ],
   "source": [
    "!head -n 5 PopMap.txt"
   ]
  },
  {
   "cell_type": "code",
   "execution_count": 11,
   "metadata": {
    "collapsed": false
   },
   "outputs": [],
   "source": [
    "!chmod +x cstacks_populations_3-8.sh"
   ]
  },
  {
   "cell_type": "code",
   "execution_count": null,
   "metadata": {
    "collapsed": true
   },
   "outputs": [],
   "source": [
    "#run at command line\n",
    "./cstacks_populations_3-8.sh"
   ]
  },
  {
   "cell_type": "markdown",
   "metadata": {},
   "source": [
    "\n",
    "I need to rename the samples folder, since Kristen's reads were 100bp. But I first added the following to my `.gitignore` file: \n",
    "\n",
    "`samplesT92/*.fq.gz`\n",
    "<br>\n",
    "`samplesT92/*.fq`\n",
    "<br>\n",
    "`stacks/*.genepop`\n",
    "<br>\n",
    "`stacks/*.fa`\n",
    "\n",
    "\n"
   ]
  },
  {
   "cell_type": "code",
   "execution_count": 1,
   "metadata": {
    "collapsed": false
   },
   "outputs": [
    {
     "name": "stdout",
     "output_type": "stream",
     "text": [
      "/mnt/hgfs/Pacific cod/DataAnalysis/PCod-US-repo\n"
     ]
    }
   ],
   "source": [
    "cd ../"
   ]
  },
  {
   "cell_type": "code",
   "execution_count": 4,
   "metadata": {
    "collapsed": true
   },
   "outputs": [],
   "source": [
    "mv samplesT142 samplesT92"
   ]
  },
  {
   "cell_type": "markdown",
   "metadata": {},
   "source": [
    "\n",
    "\n",
    "<br>\n",
    "### Reference genome building\n",
    "<br>\n",
    "\n",
    "\n",
    "**Step One: ** Build the fasta file for BOWTIE using the loci in the `populations` genepop file and the sequences in the `batch_1.catalog.tags.tsv.gz` file"
   ]
  },
  {
   "cell_type": "code",
   "execution_count": 2,
   "metadata": {
    "collapsed": false
   },
   "outputs": [
    {
     "name": "stdout",
     "output_type": "stream",
     "text": [
      "/mnt/hgfs/Pacific cod/DataAnalysis/PCod-US-repo/scripts\n"
     ]
    }
   ],
   "source": [
    "cd ../scripts/"
   ]
  },
  {
   "cell_type": "code",
   "execution_count": 3,
   "metadata": {
    "collapsed": false
   },
   "outputs": [
    {
     "name": "stdout",
     "output_type": "stream",
     "text": [
      "### This python script will create a list of loci from the `populations` output genepop file ###\r\n",
      "\r\n",
      "## ARGUMENTS: \r\n",
      "#ARG 1 - genepop file from `populations`. \r\n",
      "#ARG 2 - the .catalog file output from `cstacks` (unzipped)\r\n",
      "\r\n",
      "\r\n",
      "import sys\r\n",
      "\r\n",
      "#open the genepop file\r\n"
     ]
    }
   ],
   "source": [
    "!head genBOWTIEfasta_fromGENEPOP.py"
   ]
  },
  {
   "cell_type": "code",
   "execution_count": 5,
   "metadata": {
    "collapsed": false
   },
   "outputs": [],
   "source": [
    "!gzip -d ../stacks/batch_1.catalog.tags.tsv.gz"
   ]
  },
  {
   "cell_type": "code",
   "execution_count": 7,
   "metadata": {
    "collapsed": false
   },
   "outputs": [
    {
     "name": "stdout",
     "output_type": "stream",
     "text": [
      "-----\n",
      "Reading loci from file:\n",
      "../stacks/batch_1.genepop\n",
      "Stacks version 1.44; Genepop version 4.1.3; March 08, 2017\n",
      "\n",
      "Done reading loci\n",
      "\n",
      "Using sequences from catalog file:\n",
      "../stacks/batch_1.catalog.tags.tsv\n",
      "\n",
      "Writing new fasta file...\n"
     ]
    }
   ],
   "source": [
    "!python genBOWTIEfasta_fromGENEPOP.py \\\n",
    "../stacks/batch_1.genepop \\\n",
    "../stacks/batch_1.catalog.tags.tsv"
   ]
  },
  {
   "cell_type": "code",
   "execution_count": 8,
   "metadata": {
    "collapsed": false
   },
   "outputs": [
    {
     "name": "stdout",
     "output_type": "stream",
     "text": [
      ">1\r\n",
      "TGCAGGCAACAGAACGCAGTAGTGTAATGTGGACATCTTAATCACATTTAAGACCTGTTTGAAGCATTTAAACATCGTAAGACACCCTGAGG\r\n",
      ">7\r\n",
      "TGCAGGAATATAGTTAAAGTTGGTTGATTTGTAGTTTCAAGTATAAACATCTGAGAAATACTTATACGATCAAATGCTTTGTATCTGCCTTA\r\n",
      ">8\r\n",
      "TGCAGGCCAAGCAGCTCTCATCATGCTGTCATCATTCACTGCAAGTGTCACTGCTATTGTCTGAATGCTACTGCAGTGCCGCCTGTCCCCAA\r\n",
      ">9\r\n",
      "TGCAGGAGAAAGGCGAGGAAGCCTGTAAGGAGTTTTATCGTGCACTCCACTTGCACGTGGAAGAAGTTTATTACAGCTTGCCCACACGCCTC\r\n",
      ">10\r\n",
      "TGCAGGGTCGACCTCCCGCTGCTCCCCAGCCGGCTCCGCCCACCGGAGGCCACGCCCACAGAGGCCACGCCCCCCTCAGACGAGGAGGAGGA\r\n"
     ]
    }
   ],
   "source": [
    "!head seqsforBOWTIE.fa"
   ]
  },
  {
   "cell_type": "code",
   "execution_count": 9,
   "metadata": {
    "collapsed": true
   },
   "outputs": [],
   "source": [
    "!mv seqsforBOWTIE.fa ../stacks/batch_1_seqsforBOWTIE.fa"
   ]
  },
  {
   "cell_type": "markdown",
   "metadata": {},
   "source": [
    "\n",
    "<br>\n",
    "**Step Two:** Run BOWTIE filtering from within the stacks folder\n",
    "\n",
    "In order to run BOWTIE, the program must be held within the folder you are working. "
   ]
  },
  {
   "cell_type": "code",
   "execution_count": 10,
   "metadata": {
    "collapsed": false
   },
   "outputs": [
    {
     "name": "stdout",
     "output_type": "stream",
     "text": [
      "/mnt/hgfs/Pacific cod/DataAnalysis/PCod-US-repo/stacks\n"
     ]
    }
   ],
   "source": [
    "cd ../stacks"
   ]
  },
  {
   "cell_type": "code",
   "execution_count": 11,
   "metadata": {
    "collapsed": true
   },
   "outputs": [],
   "source": [
    "!mkdir refgenome"
   ]
  },
  {
   "cell_type": "code",
   "execution_count": 15,
   "metadata": {
    "collapsed": true
   },
   "outputs": [],
   "source": [
    "!mv refgenome/bowtie-1.1.2 ../../L1L2stacks_m10_boundSNP/bowtie-1.1.2"
   ]
  },
  {
   "cell_type": "code",
   "execution_count": 19,
   "metadata": {
    "collapsed": false
   },
   "outputs": [
    {
     "name": "stdout",
     "output_type": "stream",
     "text": [
      "skipping directory bowtie-1.1.2\r\n"
     ]
    }
   ],
   "source": [
    "!rsync ../../L1L2stacks_m10_boundSNP/bowtie-1.1.2 refgenome/bowtie-1.1.2"
   ]
  },
  {
   "cell_type": "markdown",
   "metadata": {},
   "source": [
    "for some reason that didn't work, so I manually copied bowtie in. "
   ]
  },
  {
   "cell_type": "code",
   "execution_count": 20,
   "metadata": {
    "collapsed": true
   },
   "outputs": [],
   "source": [
    "!mv batch_1_seqsforBOWTIE.fa refgenome/batch_1_seqsforBOWTIE.fa"
   ]
  },
  {
   "cell_type": "code",
   "execution_count": 21,
   "metadata": {
    "collapsed": false
   },
   "outputs": [
    {
     "name": "stdout",
     "output_type": "stream",
     "text": [
      "/mnt/hgfs/Pacific cod/DataAnalysis/PCod-US-repo/stacks/refgenome\n"
     ]
    }
   ],
   "source": [
    "cd refgenome"
   ]
  },
  {
   "cell_type": "code",
   "execution_count": 23,
   "metadata": {
    "collapsed": false
   },
   "outputs": [
    {
     "name": "stdout",
     "output_type": "stream",
     "text": [
      "Settings:\n",
      "  Output files: \"../batch_1.*.ebwt\"\n",
      "  Line rate: 6 (line is 64 bytes)\n",
      "  Lines per side: 1 (side is 64 bytes)\n",
      "  Offset rate: 5 (one in 32)\n",
      "  FTable chars: 10\n",
      "  Strings: unpacked\n",
      "  Max bucket size: default\n",
      "  Max bucket size, sqrt multiplier: default\n",
      "  Max bucket size, len divisor: 4\n",
      "  Difference-cover sample period: 1024\n",
      "  Endianness: little\n",
      "  Actual local endianness: little\n",
      "  Sanity checking: disabled\n",
      "  Assertions: disabled\n",
      "  Random seed: 0\n",
      "  Sizeofs: void*:8, int:4, long:8, size_t:8\n",
      "Input files DNA, FASTA:\n",
      "  batch_1_seqsforBOWTIE.fa\n",
      "Reading reference sizes\n",
      "  Time reading reference sizes: 00:00:00\n",
      "Calculating joined length\n",
      "Writing header\n",
      "Reserving space for joined string\n",
      "Joining reference sequences\n",
      "  Time to join reference sequences: 00:00:00\n",
      "bmax according to bmaxDivN setting: 282417\n",
      "Using parameters --bmax 211813 --dcv 1024\n",
      "  Doing ahead-of-time memory usage test\n",
      "  Passed!  Constructing with these parameters: --bmax 211813 --dcv 1024\n",
      "Constructing suffix-array element generator\n",
      "Building DifferenceCoverSample\n",
      "  Building sPrime\n",
      "  Building sPrimeOrder\n",
      "  V-Sorting samples\n",
      "  V-Sorting samples time: 00:00:00\n",
      "  Allocating rank array\n",
      "  Ranking v-sort output\n",
      "  Ranking v-sort output time: 00:00:00\n",
      "  Invoking Larsson-Sadakane on ranks\n",
      "  Invoking Larsson-Sadakane on ranks time: 00:00:00\n",
      "  Sanity-checking and returning\n",
      "Building samples\n",
      "Reserving space for 12 sample suffixes\n",
      "Generating random suffixes\n",
      "QSorting 12 sample offsets, eliminating duplicates\n",
      "QSorting sample offsets, eliminating duplicates time: 00:00:00\n",
      "Multikey QSorting 12 samples\n",
      "  (Using difference cover)\n",
      "  Multikey QSorting samples time: 00:00:00\n",
      "Calculating bucket sizes\n",
      "  Binary sorting into buckets\n",
      "  10%\n",
      "  20%\n",
      "  30%\n",
      "  40%\n",
      "  50%\n",
      "  60%\n",
      "  70%\n",
      "  80%\n",
      "  90%\n",
      "  100%\n",
      "  Binary sorting into buckets time: 00:00:00\n",
      "Splitting and merging\n",
      "  Splitting and merging time: 00:00:00\n",
      "Split 1, merged 7; iterating...\n",
      "  Binary sorting into buckets\n",
      "  10%\n",
      "  20%\n",
      "  30%\n",
      "  40%\n",
      "  50%\n",
      "  60%\n",
      "  70%\n",
      "  80%\n",
      "  90%\n",
      "  100%\n",
      "  Binary sorting into buckets time: 00:00:00\n",
      "Splitting and merging\n",
      "  Splitting and merging time: 00:00:00\n",
      "Split 1, merged 0; iterating...\n",
      "  Binary sorting into buckets\n",
      "  10%\n",
      "  20%\n",
      "  30%\n",
      "  40%\n",
      "  50%\n",
      "  60%\n",
      "  70%\n",
      "  80%\n",
      "  90%\n",
      "  100%\n",
      "  Binary sorting into buckets time: 00:00:00\n",
      "Splitting and merging\n",
      "  Splitting and merging time: 00:00:00\n",
      "Avg bucket size: 161380 (target: 211812)\n",
      "Converting suffix-array elements to index image\n",
      "Allocating ftab, absorbFtab\n",
      "Entering Ebwt loop\n",
      "Getting block 1 of 7\n",
      "  Reserving size (211813) for bucket\n",
      "  Calculating Z arrays\n",
      "  Calculating Z arrays time: 00:00:00\n",
      "  Entering block accumulator loop:\n",
      "  10%\n",
      "  20%\n",
      "  30%\n",
      "  40%\n",
      "  50%\n",
      "  60%\n",
      "  70%\n",
      "  80%\n",
      "  90%\n",
      "  100%\n",
      "  Block accumulator loop time: 00:00:00\n",
      "  Sorting block of length 154678\n",
      "  (Using difference cover)\n",
      "  Sorting block time: 00:00:00\n",
      "Returning block of 154679\n",
      "Getting block 2 of 7\n",
      "  Reserving size (211813) for bucket\n",
      "  Calculating Z arrays\n",
      "  Calculating Z arrays time: 00:00:00\n",
      "  Entering block accumulator loop:\n",
      "  10%\n",
      "  20%\n",
      "  30%\n",
      "  40%\n",
      "  50%\n",
      "  60%\n",
      "  70%\n",
      "  80%\n",
      "  90%\n",
      "  100%\n",
      "  Block accumulator loop time: 00:00:00\n",
      "  Sorting block of length 155522\n",
      "  (Using difference cover)\n",
      "  Sorting block time: 00:00:00\n",
      "Returning block of 155523\n",
      "Getting block 3 of 7\n",
      "  Reserving size (211813) for bucket\n",
      "  Calculating Z arrays\n",
      "  Calculating Z arrays time: 00:00:00\n",
      "  Entering block accumulator loop:\n",
      "  10%\n",
      "  20%\n",
      "  30%\n",
      "  40%\n",
      "  50%\n",
      "  60%\n",
      "  70%\n",
      "  80%\n",
      "  90%\n",
      "  100%\n",
      "  Block accumulator loop time: 00:00:00\n",
      "  Sorting block of length 196948\n",
      "  (Using difference cover)\n",
      "  Sorting block time: 00:00:00\n",
      "Returning block of 196949\n",
      "Getting block 4 of 7\n",
      "  Reserving size (211813) for bucket\n",
      "  Calculating Z arrays\n",
      "  Calculating Z arrays time: 00:00:00\n",
      "  Entering block accumulator loop:\n",
      "  10%\n",
      "  20%\n",
      "  30%\n",
      "  40%\n",
      "  50%\n",
      "  60%\n",
      "  70%\n",
      "  80%\n",
      "  90%\n",
      "  100%\n",
      "  Block accumulator loop time: 00:00:00\n",
      "  Sorting block of length 139970\n",
      "  (Using difference cover)\n",
      "  Sorting block time: 00:00:00\n",
      "Returning block of 139971\n",
      "Getting block 5 of 7\n",
      "  Reserving size (211813) for bucket\n",
      "  Calculating Z arrays\n",
      "  Calculating Z arrays time: 00:00:00\n",
      "  Entering block accumulator loop:\n",
      "  10%\n",
      "  20%\n",
      "  30%\n",
      "  40%\n",
      "  50%\n",
      "  60%\n",
      "  70%\n",
      "  80%\n",
      "  90%\n",
      "  100%\n",
      "  Block accumulator loop time: 00:00:00\n",
      "  Sorting block of length 189198\n",
      "  (Using difference cover)\n",
      "  Sorting block time: 00:00:00\n",
      "Returning block of 189199\n",
      "Getting block 6 of 7\n",
      "  Reserving size (211813) for bucket\n",
      "  Calculating Z arrays\n",
      "  Calculating Z arrays time: 00:00:00\n",
      "  Entering block accumulator loop:\n",
      "  10%\n",
      "  20%\n",
      "  30%\n",
      "  40%\n",
      "  50%\n",
      "  60%\n",
      "  70%\n",
      "  80%\n",
      "  90%\n",
      "  100%\n",
      "  Block accumulator loop time: 00:00:01\n",
      "  Sorting block of length 171987\n",
      "  (Using difference cover)\n",
      "  Sorting block time: 00:00:00\n",
      "Returning block of 171988\n",
      "Getting block 7 of 7\n",
      "  Reserving size (211813) for bucket\n",
      "  Calculating Z arrays\n",
      "  Calculating Z arrays time: 00:00:00\n",
      "  Entering block accumulator loop:\n",
      "  10%\n",
      "  20%\n",
      "  30%\n",
      "  40%\n",
      "  50%\n",
      "  60%\n",
      "  70%\n",
      "  80%\n",
      "  90%\n",
      "  100%\n",
      "  Block accumulator loop time: 00:00:00\n",
      "  Sorting block of length 121359\n",
      "  (Using difference cover)\n",
      "  Sorting block time: 00:00:00\n",
      "Returning block of 121360\n",
      "Exited Ebwt loop\n",
      "fchr[A]: 0\n",
      "fchr[C]: 280025\n",
      "fchr[G]: 556329\n",
      "fchr[T]: 859295\n",
      "fchr[$]: 1129668\n",
      "Exiting Ebwt::buildToDisk()\n",
      "Returning from initFromVector\n",
      "Wrote 4784163 bytes to primary EBWT file: ../batch_1.1.ebwt\n",
      "Wrote 141216 bytes to secondary EBWT file: ../batch_1.2.ebwt\n",
      "Re-opening _in1 and _in2 as input streams\n",
      "Returning from Ebwt constructor\n",
      "Headers:\n",
      "    len: 1129668\n",
      "    bwtLen: 1129669\n",
      "    sz: 282417\n",
      "    bwtSz: 282418\n",
      "    lineRate: 6\n",
      "    linesPerSide: 1\n",
      "    offRate: 5\n",
      "    offMask: 0xffffffe0\n",
      "    isaRate: -1\n",
      "    isaMask: 0xffffffff\n",
      "    ftabChars: 10\n",
      "    eftabLen: 20\n",
      "    eftabSz: 80\n",
      "    ftabLen: 1048577\n",
      "    ftabSz: 4194308\n",
      "    offsLen: 35303\n",
      "    offsSz: 141212\n",
      "    isaLen: 0\n",
      "    isaSz: 0\n",
      "    lineSz: 64\n",
      "    sideSz: 64\n",
      "    sideBwtSz: 56\n",
      "    sideBwtLen: 224\n",
      "    numSidePairs: 2522\n",
      "    numSides: 5044\n",
      "    numLines: 5044\n",
      "    ebwtTotLen: 322816\n",
      "    ebwtTotSz: 322816\n",
      "    reverse: 0\n",
      "Total time for call to driver() for forward index: 00:00:02\n",
      "Reading reference sizes\n",
      "  Time reading reference sizes: 00:00:00\n",
      "Calculating joined length\n",
      "Writing header\n",
      "Reserving space for joined string\n",
      "Joining reference sequences\n",
      "  Time to join reference sequences: 00:00:00\n",
      "bmax according to bmaxDivN setting: 282417\n",
      "Using parameters --bmax 211813 --dcv 1024\n",
      "  Doing ahead-of-time memory usage test\n",
      "  Passed!  Constructing with these parameters: --bmax 211813 --dcv 1024\n",
      "Constructing suffix-array element generator\n",
      "Building DifferenceCoverSample\n",
      "  Building sPrime\n",
      "  Building sPrimeOrder\n",
      "  V-Sorting samples\n",
      "  V-Sorting samples time: 00:00:00\n",
      "  Allocating rank array\n",
      "  Ranking v-sort output\n",
      "  Ranking v-sort output time: 00:00:00\n",
      "  Invoking Larsson-Sadakane on ranks\n",
      "  Invoking Larsson-Sadakane on ranks time: 00:00:00\n",
      "  Sanity-checking and returning\n",
      "Building samples\n",
      "Reserving space for 12 sample suffixes\n",
      "Generating random suffixes\n",
      "QSorting 12 sample offsets, eliminating duplicates\n",
      "QSorting sample offsets, eliminating duplicates time: 00:00:00\n",
      "Multikey QSorting 12 samples\n",
      "  (Using difference cover)\n",
      "  Multikey QSorting samples time: 00:00:00\n",
      "Calculating bucket sizes\n",
      "  Binary sorting into buckets\n",
      "  10%\n",
      "  20%\n",
      "  30%\n",
      "  40%\n",
      "  50%\n",
      "  60%\n",
      "  70%\n",
      "  80%\n",
      "  90%\n",
      "  100%\n",
      "  Binary sorting into buckets time: 00:00:00\n",
      "Splitting and merging\n",
      "  Splitting and merging time: 00:00:00\n",
      "Split 1, merged 7; iterating...\n",
      "  Binary sorting into buckets\n",
      "  10%\n",
      "  20%\n",
      "  30%\n",
      "  40%\n",
      "  50%\n",
      "  60%\n",
      "  70%\n",
      "  80%\n",
      "  90%\n",
      "  100%\n",
      "  Binary sorting into buckets time: 00:00:00\n",
      "Splitting and merging\n",
      "  Splitting and merging time: 00:00:00\n",
      "Split 1, merged 0; iterating...\n",
      "  Binary sorting into buckets\n",
      "  10%\n",
      "  20%\n",
      "  30%\n",
      "  40%\n",
      "  50%\n",
      "  60%\n",
      "  70%\n",
      "  80%\n",
      "  90%\n",
      "  100%\n",
      "  Binary sorting into buckets time: 00:00:00\n",
      "Splitting and merging\n",
      "  Splitting and merging time: 00:00:00\n",
      "Avg bucket size: 161380 (target: 211812)\n",
      "Converting suffix-array elements to index image\n",
      "Allocating ftab, absorbFtab\n",
      "Entering Ebwt loop\n",
      "Getting block 1 of 7\n",
      "  Reserving size (211813) for bucket\n",
      "  Calculating Z arrays\n",
      "  Calculating Z arrays time: 00:00:00\n",
      "  Entering block accumulator loop:\n",
      "  10%\n",
      "  20%\n",
      "  30%\n",
      "  40%\n",
      "  50%\n",
      "  60%\n",
      "  70%\n",
      "  80%\n",
      "  90%\n",
      "  100%\n",
      "  Block accumulator loop time: 00:00:00\n",
      "  Sorting block of length 176727\n",
      "  (Using difference cover)\n",
      "  Sorting block time: 00:00:00\n",
      "Returning block of 176728\n",
      "Getting block 2 of 7\n",
      "  Reserving size (211813) for bucket\n",
      "  Calculating Z arrays\n",
      "  Calculating Z arrays time: 00:00:00\n",
      "  Entering block accumulator loop:\n",
      "  10%\n",
      "  20%\n",
      "  30%\n",
      "  40%\n",
      "  50%\n",
      "  60%\n",
      "  70%\n",
      "  80%\n",
      "  90%\n",
      "  100%\n",
      "  Block accumulator loop time: 00:00:00\n",
      "  Sorting block of length 184321\n",
      "  (Using difference cover)\n",
      "  Sorting block time: 00:00:00\n",
      "Returning block of 184322\n",
      "Getting block 3 of 7\n",
      "  Reserving size (211813) for bucket\n",
      "  Calculating Z arrays\n",
      "  Calculating Z arrays time: 00:00:00\n",
      "  Entering block accumulator loop:\n",
      "  10%\n",
      "  20%\n",
      "  30%\n",
      "  40%\n",
      "  50%\n",
      "  60%\n",
      "  70%\n",
      "  80%\n",
      "  90%\n",
      "  100%\n",
      "  Block accumulator loop time: 00:00:00\n",
      "  Sorting block of length 123264\n",
      "  (Using difference cover)\n",
      "  Sorting block time: 00:00:00\n",
      "Returning block of 123265\n",
      "Getting block 4 of 7\n",
      "  Reserving size (211813) for bucket\n",
      "  Calculating Z arrays\n",
      "  Calculating Z arrays time: 00:00:00\n",
      "  Entering block accumulator loop:\n",
      "  10%\n",
      "  20%\n",
      "  30%\n",
      "  40%\n",
      "  50%\n",
      "  60%\n",
      "  70%\n",
      "  80%\n",
      "  90%\n",
      "  100%\n",
      "  Block accumulator loop time: 00:00:00\n",
      "  Sorting block of length 208413\n",
      "  (Using difference cover)\n",
      "  Sorting block time: 00:00:00\n",
      "Returning block of 208414\n",
      "Getting block 5 of 7\n",
      "  Reserving size (211813) for bucket\n",
      "  Calculating Z arrays\n",
      "  Calculating Z arrays time: 00:00:00\n",
      "  Entering block accumulator loop:\n",
      "  10%\n",
      "  20%\n",
      "  30%\n",
      "  40%\n",
      "  50%\n",
      "  60%\n",
      "  70%\n",
      "  80%\n",
      "  90%\n",
      "  100%\n",
      "  Block accumulator loop time: 00:00:00\n",
      "  Sorting block of length 178364\n",
      "  (Using difference cover)\n",
      "  Sorting block time: 00:00:00\n",
      "Returning block of 178365\n",
      "Getting block 6 of 7\n",
      "  Reserving size (211813) for bucket\n",
      "  Calculating Z arrays\n",
      "  Calculating Z arrays time: 00:00:00\n",
      "  Entering block accumulator loop:\n",
      "  10%\n",
      "  20%\n",
      "  30%\n",
      "  40%\n",
      "  50%\n",
      "  60%\n",
      "  70%\n",
      "  80%\n",
      "  90%\n",
      "  100%\n",
      "  Block accumulator loop time: 00:00:00\n",
      "  Sorting block of length 142144\n",
      "  (Using difference cover)\n",
      "  Sorting block time: 00:00:00\n",
      "Returning block of 142145\n",
      "Getting block 7 of 7\n",
      "  Reserving size (211813) for bucket\n",
      "  Calculating Z arrays\n",
      "  Calculating Z arrays time: 00:00:00\n",
      "  Entering block accumulator loop:\n",
      "  10%\n",
      "  20%\n",
      "  30%\n",
      "  40%\n",
      "  50%\n",
      "  60%\n",
      "  70%\n",
      "  80%\n",
      "  90%\n",
      "  100%\n",
      "  Block accumulator loop time: 00:00:00\n",
      "  Sorting block of length 116429\n",
      "  (Using difference cover)\n",
      "  Sorting block time: 00:00:00\n",
      "Returning block of 116430\n",
      "Exited Ebwt loop\n",
      "fchr[A]: 0\n",
      "fchr[C]: 280025\n",
      "fchr[G]: 556329\n",
      "fchr[T]: 859295\n",
      "fchr[$]: 1129668\n",
      "Exiting Ebwt::buildToDisk()\n",
      "Returning from initFromVector\n",
      "Wrote 4784163 bytes to primary EBWT file: ../batch_1.rev.1.ebwt\n",
      "Wrote 141216 bytes to secondary EBWT file: ../batch_1.rev.2.ebwt\n",
      "Re-opening _in1 and _in2 as input streams\n",
      "Returning from Ebwt constructor\n",
      "Headers:\n",
      "    len: 1129668\n",
      "    bwtLen: 1129669\n",
      "    sz: 282417\n",
      "    bwtSz: 282418\n",
      "    lineRate: 6\n",
      "    linesPerSide: 1\n",
      "    offRate: 5\n",
      "    offMask: 0xffffffe0\n",
      "    isaRate: -1\n",
      "    isaMask: 0xffffffff\n",
      "    ftabChars: 10\n",
      "    eftabLen: 20\n",
      "    eftabSz: 80\n",
      "    ftabLen: 1048577\n",
      "    ftabSz: 4194308\n",
      "    offsLen: 35303\n",
      "    offsSz: 141212\n",
      "    isaLen: 0\n",
      "    isaSz: 0\n",
      "    lineSz: 64\n",
      "    sideSz: 64\n",
      "    sideBwtSz: 56\n",
      "    sideBwtLen: 224\n",
      "    numSidePairs: 2522\n",
      "    numSides: 5044\n",
      "    numLines: 5044\n",
      "    ebwtTotLen: 322816\n",
      "    ebwtTotSz: 322816\n",
      "    reverse: 0\n",
      "Total time for backward call to driver() for mirror index: 00:00:02\n"
     ]
    }
   ],
   "source": [
    "!bowtie-build batch_1_seqsforBOWTIE.fa batch_1"
   ]
  },
  {
   "cell_type": "code",
   "execution_count": 26,
   "metadata": {
    "collapsed": false
   },
   "outputs": [
    {
     "name": "stdout",
     "output_type": "stream",
     "text": [
      "# reads processed: 12279\r\n",
      "# reads with at least one reported alignment: 12279 (100.00%)\r\n",
      "# reads that failed to align: 0 (0.00%)\r\n",
      "Reported 12279 alignments to 1 output stream(s)\r\n"
     ]
    }
   ],
   "source": [
    "!bowtie -f -v 3 --sam --sam-nohead \\\n",
    "batch_1 \\\n",
    "batch_1_seqsforBOWTIE.fa \\\n",
    "batch_1_BOWTIEout.sam"
   ]
  },
  {
   "cell_type": "code",
   "execution_count": 28,
   "metadata": {
    "collapsed": false
   },
   "outputs": [
    {
     "name": "stdout",
     "output_type": "stream",
     "text": [
      "Number of Bowtie output lines read: 12279\n",
      "Number of sequences written to output: 12279\n"
     ]
    }
   ],
   "source": [
    "!python ../../scripts/parseBowtie_DD.py \\\n",
    "batch_1_BOWTIEout.sam \\\n",
    "batch_1_BOWTIE_filtered.fa"
   ]
  },
  {
   "cell_type": "markdown",
   "metadata": {},
   "source": [
    "\n",
    "<br>\n",
    "**Step Three:** BLAST filtering"
   ]
  },
  {
   "cell_type": "code",
   "execution_count": 29,
   "metadata": {
    "collapsed": false
   },
   "outputs": [
    {
     "name": "stdout",
     "output_type": "stream",
     "text": [
      "\n",
      "\n",
      "Building a new DB, current time: 03/09/2017 13:57:20\n",
      "New DB name:   /mnt/hgfs/Pacific cod/DataAnalysis/PCod-US-repo/stacks/refgenome/batch_1_BOWTIEfilteredDB\n",
      "New DB title:  batch_1_BOWTIE_filtered.fa\n",
      "Sequence type: Nucleotide\n",
      "Keep Linkouts: T\n",
      "Keep MBits: T\n",
      "Maximum file size: 1000000000B\n",
      "Adding sequences from FASTA; added 12279 sequences in 0.257832 seconds.\n"
     ]
    }
   ],
   "source": [
    "!makeblastdb -in batch_1_BOWTIE_filtered.fa \\\n",
    "-parse_seqids \\\n",
    "-dbtype nucl \\\n",
    "-out batch_1_BOWTIEfilteredDB"
   ]
  },
  {
   "cell_type": "code",
   "execution_count": 30,
   "metadata": {
    "collapsed": true
   },
   "outputs": [],
   "source": [
    "!blastn -query batch_1_BOWTIE_filtered.fa \\\n",
    "-db batch_1_BOWTIEfilteredDB \\\n",
    "-out batch_1_BOWTIE_BLAST_filtered"
   ]
  },
  {
   "cell_type": "code",
   "execution_count": 31,
   "metadata": {
    "collapsed": false
   },
   "outputs": [
    {
     "name": "stdout",
     "output_type": "stream",
     "text": [
      "\n",
      "Identifying which loci are 'good' and 'bad' based on BLAST alignments...\n",
      "Writing 'good' and 'bad' loci to their respective files...\n"
     ]
    }
   ],
   "source": [
    "!python ../../scripts/checkBlastResults_DD.py \\\n",
    "batch_1_BOWTIE_BLAST_filtered \\\n",
    "batch_1_BOWTIE_filtered.fa \\\n",
    "batch_1_BOWTIE_BLAST_filtered.fa \\\n",
    "batch_1_BOWTIE_BLAST_output_bad.fa"
   ]
  },
  {
   "cell_type": "code",
   "execution_count": 33,
   "metadata": {
    "collapsed": false
   },
   "outputs": [
    {
     "name": "stdout",
     "output_type": "stream",
     "text": [
      "12084\r\n"
     ]
    }
   ],
   "source": [
    "!grep -c \"^>\" batch_1_BOWTIE_BLAST_filtered.fa\n",
    "# 12084"
   ]
  },
  {
   "cell_type": "markdown",
   "metadata": {},
   "source": [
    "\n",
    "<br>\n",
    "**Step Four:** Create final SAM file containing the reference database of loci"
   ]
  },
  {
   "cell_type": "code",
   "execution_count": 34,
   "metadata": {
    "collapsed": false
   },
   "outputs": [
    {
     "name": "stdout",
     "output_type": "stream",
     "text": [
      "Settings:\n",
      "  Output files: \"batch_1_ref_genome.*.ebwt\"\n",
      "  Line rate: 6 (line is 64 bytes)\n",
      "  Lines per side: 1 (side is 64 bytes)\n",
      "  Offset rate: 5 (one in 32)\n",
      "  FTable chars: 10\n",
      "  Strings: unpacked\n",
      "  Max bucket size: default\n",
      "  Max bucket size, sqrt multiplier: default\n",
      "  Max bucket size, len divisor: 4\n",
      "  Difference-cover sample period: 1024\n",
      "  Endianness: little\n",
      "  Actual local endianness: little\n",
      "  Sanity checking: disabled\n",
      "  Assertions: disabled\n",
      "  Random seed: 0\n",
      "  Sizeofs: void*:8, int:4, long:8, size_t:8\n",
      "Input files DNA, FASTA:\n",
      "  batch_1_BOWTIE_BLAST_filtered.fa\n",
      "Reading reference sizes\n",
      "  Time reading reference sizes: 00:00:00\n",
      "Calculating joined length\n",
      "Writing header\n",
      "Reserving space for joined string\n",
      "Joining reference sequences\n",
      "  Time to join reference sequences: 00:00:00\n",
      "bmax according to bmaxDivN setting: 277932\n",
      "Using parameters --bmax 208449 --dcv 1024\n",
      "  Doing ahead-of-time memory usage test\n",
      "  Passed!  Constructing with these parameters: --bmax 208449 --dcv 1024\n",
      "Constructing suffix-array element generator\n",
      "Building DifferenceCoverSample\n",
      "  Building sPrime\n",
      "  Building sPrimeOrder\n",
      "  V-Sorting samples\n",
      "  V-Sorting samples time: 00:00:00\n",
      "  Allocating rank array\n",
      "  Ranking v-sort output\n",
      "  Ranking v-sort output time: 00:00:00\n",
      "  Invoking Larsson-Sadakane on ranks\n",
      "  Invoking Larsson-Sadakane on ranks time: 00:00:00\n",
      "  Sanity-checking and returning\n",
      "Building samples\n",
      "Reserving space for 12 sample suffixes\n",
      "Generating random suffixes\n",
      "QSorting 12 sample offsets, eliminating duplicates\n",
      "QSorting sample offsets, eliminating duplicates time: 00:00:00\n",
      "Multikey QSorting 12 samples\n",
      "  (Using difference cover)\n",
      "  Multikey QSorting samples time: 00:00:00\n",
      "Calculating bucket sizes\n",
      "  Binary sorting into buckets\n",
      "  10%\n",
      "  20%\n",
      "  30%\n",
      "  40%\n",
      "  50%\n",
      "  60%\n",
      "  70%\n",
      "  80%\n",
      "  90%\n",
      "  100%\n",
      "  Binary sorting into buckets time: 00:00:00\n",
      "Splitting and merging\n",
      "  Splitting and merging time: 00:00:00\n",
      "Split 1, merged 6; iterating...\n",
      "  Binary sorting into buckets\n",
      "  10%\n",
      "  20%\n",
      "  30%\n",
      "  40%\n",
      "  50%\n",
      "  60%\n",
      "  70%\n",
      "  80%\n",
      "  90%\n",
      "  100%\n",
      "  Binary sorting into buckets time: 00:00:00\n",
      "Splitting and merging\n",
      "  Splitting and merging time: 00:00:00\n",
      "Avg bucket size: 138965 (target: 208448)\n",
      "Converting suffix-array elements to index image\n",
      "Allocating ftab, absorbFtab\n",
      "Entering Ebwt loop\n",
      "Getting block 1 of 8\n",
      "  Reserving size (208449) for bucket\n",
      "  Calculating Z arrays\n",
      "  Calculating Z arrays time: 00:00:00\n",
      "  Entering block accumulator loop:\n",
      "  10%\n",
      "  20%\n",
      "  30%\n",
      "  40%\n",
      "  50%\n",
      "  60%\n",
      "  70%\n",
      "  80%\n",
      "  90%\n",
      "  100%\n",
      "  Block accumulator loop time: 00:00:00\n",
      "  Sorting block of length 205406\n",
      "  (Using difference cover)\n",
      "  Sorting block time: 00:00:00\n",
      "Returning block of 205407\n",
      "Getting block 2 of 8\n",
      "  Reserving size (208449) for bucket\n",
      "  Calculating Z arrays\n",
      "  Calculating Z arrays time: 00:00:00\n",
      "  Entering block accumulator loop:\n",
      "  10%\n",
      "  20%\n",
      "  30%\n",
      "  40%\n",
      "  50%\n",
      "  60%\n",
      "  70%\n",
      "  80%\n",
      "  90%\n",
      "  100%\n",
      "  Block accumulator loop time: 00:00:00\n",
      "  Sorting block of length 180442\n",
      "  (Using difference cover)\n",
      "  Sorting block time: 00:00:00\n",
      "Returning block of 180443\n",
      "Getting block 3 of 8\n",
      "  Reserving size (208449) for bucket\n",
      "  Calculating Z arrays\n",
      "  Calculating Z arrays time: 00:00:00\n",
      "  Entering block accumulator loop:\n",
      "  10%\n",
      "  20%\n",
      "  30%\n",
      "  40%\n",
      "  50%\n",
      "  60%\n",
      "  70%\n",
      "  80%\n",
      "  90%\n",
      "  100%\n",
      "  Block accumulator loop time: 00:00:00\n",
      "  Sorting block of length 74219\n",
      "  (Using difference cover)\n",
      "  Sorting block time: 00:00:00\n",
      "Returning block of 74220\n",
      "Getting block 4 of 8\n",
      "  Reserving size (208449) for bucket\n",
      "  Calculating Z arrays\n",
      "  Calculating Z arrays time: 00:00:00\n",
      "  Entering block accumulator loop:\n",
      "  10%\n",
      "  20%\n",
      "  30%\n",
      "  40%\n",
      "  50%\n",
      "  60%\n",
      "  70%\n",
      "  80%\n",
      "  90%\n",
      "  100%\n",
      "  Block accumulator loop time: 00:00:00\n",
      "  Sorting block of length 165582\n",
      "  (Using difference cover)\n",
      "  Sorting block time: 00:00:00\n",
      "Returning block of 165583\n",
      "Getting block 5 of 8\n",
      "  Reserving size (208449) for bucket\n",
      "  Calculating Z arrays\n",
      "  Calculating Z arrays time: 00:00:00\n",
      "  Entering block accumulator loop:\n",
      "  10%\n",
      "  20%\n",
      "  30%\n",
      "  40%\n",
      "  50%\n",
      "  60%\n",
      "  70%\n",
      "  80%\n",
      "  90%\n",
      "  100%\n",
      "  Block accumulator loop time: 00:00:00\n",
      "  Sorting block of length 200467\n",
      "  (Using difference cover)\n",
      "  Sorting block time: 00:00:00\n",
      "Returning block of 200468\n",
      "Getting block 6 of 8\n",
      "  Reserving size (208449) for bucket\n",
      "  Calculating Z arrays\n",
      "  Calculating Z arrays time: 00:00:00\n",
      "  Entering block accumulator loop:\n",
      "  10%\n",
      "  20%\n",
      "  30%\n",
      "  40%\n",
      "  50%\n",
      "  60%\n",
      "  70%\n",
      "  80%\n",
      "  90%\n",
      "  100%\n",
      "  Block accumulator loop time: 00:00:00\n",
      "  Sorting block of length 59678\n",
      "  (Using difference cover)\n",
      "  Sorting block time: 00:00:00\n",
      "Returning block of 59679\n",
      "Getting block 7 of 8\n",
      "  Reserving size (208449) for bucket\n",
      "  Calculating Z arrays\n",
      "  Calculating Z arrays time: 00:00:00\n",
      "  Entering block accumulator loop:\n",
      "  10%\n",
      "  20%\n",
      "  30%\n",
      "  40%\n",
      "  50%\n",
      "  60%\n",
      "  70%\n",
      "  80%\n",
      "  90%\n",
      "  100%\n",
      "  Block accumulator loop time: 00:00:00\n",
      "  Sorting block of length 154416\n",
      "  (Using difference cover)\n",
      "  Sorting block time: 00:00:00\n",
      "Returning block of 154417\n",
      "Getting block 8 of 8\n",
      "  Reserving size (208449) for bucket\n",
      "  Calculating Z arrays\n",
      "  Calculating Z arrays time: 00:00:00\n",
      "  Entering block accumulator loop:\n",
      "  10%\n",
      "  20%\n",
      "  30%\n",
      "  40%\n",
      "  50%\n",
      "  60%\n",
      "  70%\n",
      "  80%\n",
      "  90%\n",
      "  100%\n",
      "  Block accumulator loop time: 00:00:00\n",
      "  Sorting block of length 71511\n",
      "  (Using difference cover)\n",
      "  Sorting block time: 00:00:00\n",
      "Returning block of 71512\n",
      "Exited Ebwt loop\n",
      "fchr[A]: 0\n",
      "fchr[C]: 275085\n",
      "fchr[G]: 547146\n",
      "fchr[T]: 844929\n",
      "fchr[$]: 1111728\n",
      "Exiting Ebwt::buildToDisk()\n",
      "Returning from initFromVector\n",
      "Wrote 4774805 bytes to primary EBWT file: batch_1_ref_genome.1.ebwt\n",
      "Wrote 138972 bytes to secondary EBWT file: batch_1_ref_genome.2.ebwt\n",
      "Re-opening _in1 and _in2 as input streams\n",
      "Returning from Ebwt constructor\n",
      "Headers:\n",
      "    len: 1111728\n",
      "    bwtLen: 1111729\n",
      "    sz: 277932\n",
      "    bwtSz: 277933\n",
      "    lineRate: 6\n",
      "    linesPerSide: 1\n",
      "    offRate: 5\n",
      "    offMask: 0xffffffe0\n",
      "    isaRate: -1\n",
      "    isaMask: 0xffffffff\n",
      "    ftabChars: 10\n",
      "    eftabLen: 20\n",
      "    eftabSz: 80\n",
      "    ftabLen: 1048577\n",
      "    ftabSz: 4194308\n",
      "    offsLen: 34742\n",
      "    offsSz: 138968\n",
      "    isaLen: 0\n",
      "    isaSz: 0\n",
      "    lineSz: 64\n",
      "    sideSz: 64\n",
      "    sideBwtSz: 56\n",
      "    sideBwtLen: 224\n",
      "    numSidePairs: 2482\n",
      "    numSides: 4964\n",
      "    numLines: 4964\n",
      "    ebwtTotLen: 317696\n",
      "    ebwtTotSz: 317696\n",
      "    reverse: 0\n",
      "Total time for call to driver() for forward index: 00:00:02\n",
      "Reading reference sizes\n",
      "  Time reading reference sizes: 00:00:00\n",
      "Calculating joined length\n",
      "Writing header\n",
      "Reserving space for joined string\n",
      "Joining reference sequences\n",
      "  Time to join reference sequences: 00:00:00\n",
      "bmax according to bmaxDivN setting: 277932\n",
      "Using parameters --bmax 208449 --dcv 1024\n",
      "  Doing ahead-of-time memory usage test\n",
      "  Passed!  Constructing with these parameters: --bmax 208449 --dcv 1024\n",
      "Constructing suffix-array element generator\n",
      "Building DifferenceCoverSample\n",
      "  Building sPrime\n",
      "  Building sPrimeOrder\n",
      "  V-Sorting samples\n",
      "  V-Sorting samples time: 00:00:00\n",
      "  Allocating rank array\n",
      "  Ranking v-sort output\n",
      "  Ranking v-sort output time: 00:00:00\n",
      "  Invoking Larsson-Sadakane on ranks\n",
      "  Invoking Larsson-Sadakane on ranks time: 00:00:00\n",
      "  Sanity-checking and returning\n",
      "Building samples\n",
      "Reserving space for 12 sample suffixes\n",
      "Generating random suffixes\n",
      "QSorting 12 sample offsets, eliminating duplicates\n",
      "QSorting sample offsets, eliminating duplicates time: 00:00:00\n",
      "Multikey QSorting 12 samples\n",
      "  (Using difference cover)\n",
      "  Multikey QSorting samples time: 00:00:00\n",
      "Calculating bucket sizes\n",
      "  Binary sorting into buckets\n",
      "  10%\n",
      "  20%\n",
      "  30%\n",
      "  40%\n",
      "  50%\n",
      "  60%\n",
      "  70%\n",
      "  80%\n",
      "  90%\n",
      "  100%\n",
      "  Binary sorting into buckets time: 00:00:00\n",
      "Splitting and merging\n",
      "  Splitting and merging time: 00:00:00\n",
      "Split 1, merged 5; iterating...\n",
      "  Binary sorting into buckets\n",
      "  10%\n",
      "  20%\n",
      "  30%\n",
      "  40%\n",
      "  50%\n",
      "  60%\n",
      "  70%\n",
      "  80%\n",
      "  90%\n",
      "  100%\n",
      "  Binary sorting into buckets time: 00:00:00\n",
      "Splitting and merging\n",
      "  Splitting and merging time: 00:00:00\n",
      "Avg bucket size: 138965 (target: 208448)\n",
      "Converting suffix-array elements to index image\n",
      "Allocating ftab, absorbFtab\n",
      "Entering Ebwt loop\n",
      "Getting block 1 of 8\n",
      "  Reserving size (208449) for bucket\n",
      "  Calculating Z arrays\n",
      "  Calculating Z arrays time: 00:00:00\n",
      "  Entering block accumulator loop:\n",
      "  10%\n",
      "  20%\n",
      "  30%\n",
      "  40%\n",
      "  50%\n",
      "  60%\n",
      "  70%\n",
      "  80%\n",
      "  90%\n",
      "  100%\n",
      "  Block accumulator loop time: 00:00:00\n",
      "  Sorting block of length 114703\n",
      "  (Using difference cover)\n",
      "  Sorting block time: 00:00:00\n",
      "Returning block of 114704\n",
      "Getting block 2 of 8\n",
      "  Reserving size (208449) for bucket\n",
      "  Calculating Z arrays\n",
      "  Calculating Z arrays time: 00:00:00\n",
      "  Entering block accumulator loop:\n",
      "  10%\n",
      "  20%\n",
      "  30%\n",
      "  40%\n",
      "  50%\n",
      "  60%\n",
      "  70%\n",
      "  80%\n",
      "  90%\n",
      "  100%\n",
      "  Block accumulator loop time: 00:00:00\n",
      "  Sorting block of length 169116\n",
      "  (Using difference cover)\n",
      "  Sorting block time: 00:00:00\n",
      "Returning block of 169117\n",
      "Getting block 3 of 8\n",
      "  Reserving size (208449) for bucket\n",
      "  Calculating Z arrays\n",
      "  Calculating Z arrays time: 00:00:00\n",
      "  Entering block accumulator loop:\n",
      "  10%\n",
      "  20%\n",
      "  30%\n",
      "  40%\n",
      "  50%\n",
      "  60%\n",
      "  70%\n",
      "  80%\n",
      "  90%\n",
      "  100%\n",
      "  Block accumulator loop time: 00:00:00\n",
      "  Sorting block of length 180481\n",
      "  (Using difference cover)\n",
      "  Sorting block time: 00:00:00\n",
      "Returning block of 180482\n",
      "Getting block 4 of 8\n",
      "  Reserving size (208449) for bucket\n",
      "  Calculating Z arrays\n",
      "  Calculating Z arrays time: 00:00:00\n",
      "  Entering block accumulator loop:\n",
      "  10%\n",
      "  20%\n",
      "  30%\n",
      "  40%\n",
      "  50%\n",
      "  60%\n",
      "  70%\n",
      "  80%\n",
      "  90%\n",
      "  100%\n",
      "  Block accumulator loop time: 00:00:00\n",
      "  Sorting block of length 163656\n",
      "  (Using difference cover)\n",
      "  Sorting block time: 00:00:00\n",
      "Returning block of 163657\n",
      "Getting block 5 of 8\n",
      "  Reserving size (208449) for bucket\n",
      "  Calculating Z arrays\n",
      "  Calculating Z arrays time: 00:00:00\n",
      "  Entering block accumulator loop:\n",
      "  10%\n",
      "  20%\n",
      "  30%\n",
      "  40%\n",
      "  50%\n",
      "  60%\n",
      "  70%\n",
      "  80%\n",
      "  90%\n",
      "  100%\n",
      "  Block accumulator loop time: 00:00:00\n",
      "  Sorting block of length 176576\n",
      "  (Using difference cover)\n",
      "  Sorting block time: 00:00:00\n",
      "Returning block of 176577\n",
      "Getting block 6 of 8\n",
      "  Reserving size (208449) for bucket\n",
      "  Calculating Z arrays\n",
      "  Calculating Z arrays time: 00:00:00\n",
      "  Entering block accumulator loop:\n",
      "  10%\n",
      "  20%\n",
      "  30%\n",
      "  40%\n",
      "  50%\n",
      "  60%\n",
      "  70%\n",
      "  80%\n",
      "  90%\n",
      "  100%\n",
      "  Block accumulator loop time: 00:00:01\n",
      "  Sorting block of length 96159\n",
      "  (Using difference cover)\n",
      "  Sorting block time: 00:00:00\n",
      "Returning block of 96160\n",
      "Getting block 7 of 8\n",
      "  Reserving size (208449) for bucket\n",
      "  Calculating Z arrays\n",
      "  Calculating Z arrays time: 00:00:00\n",
      "  Entering block accumulator loop:\n",
      "  10%\n",
      "  20%\n",
      "  30%\n",
      "  40%\n",
      "  50%\n",
      "  60%\n",
      "  70%\n",
      "  80%\n",
      "  90%\n",
      "  100%\n",
      "  Block accumulator loop time: 00:00:00\n",
      "  Sorting block of length 128210\n",
      "  (Using difference cover)\n",
      "  Sorting block time: 00:00:00\n",
      "Returning block of 128211\n",
      "Getting block 8 of 8\n",
      "  Reserving size (208449) for bucket\n",
      "  Calculating Z arrays\n",
      "  Calculating Z arrays time: 00:00:00\n",
      "  Entering block accumulator loop:\n",
      "  10%\n",
      "  20%\n",
      "  30%\n",
      "  40%\n",
      "  50%\n",
      "  60%\n",
      "  70%\n",
      "  80%\n",
      "  90%\n",
      "  100%\n",
      "  Block accumulator loop time: 00:00:00\n",
      "  Sorting block of length 82820\n",
      "  (Using difference cover)\n",
      "  Sorting block time: 00:00:00\n",
      "Returning block of 82821\n",
      "Exited Ebwt loop\n",
      "fchr[A]: 0\n",
      "fchr[C]: 275085\n",
      "fchr[G]: 547146\n",
      "fchr[T]: 844929\n",
      "fchr[$]: 1111728\n",
      "Exiting Ebwt::buildToDisk()\n",
      "Returning from initFromVector\n",
      "Wrote 4774805 bytes to primary EBWT file: batch_1_ref_genome.rev.1.ebwt\n",
      "Wrote 138972 bytes to secondary EBWT file: batch_1_ref_genome.rev.2.ebwt\n",
      "Re-opening _in1 and _in2 as input streams\n",
      "Returning from Ebwt constructor\n",
      "Headers:\n",
      "    len: 1111728\n",
      "    bwtLen: 1111729\n",
      "    sz: 277932\n",
      "    bwtSz: 277933\n",
      "    lineRate: 6\n",
      "    linesPerSide: 1\n",
      "    offRate: 5\n",
      "    offMask: 0xffffffe0\n",
      "    isaRate: -1\n",
      "    isaMask: 0xffffffff\n",
      "    ftabChars: 10\n",
      "    eftabLen: 20\n",
      "    eftabSz: 80\n",
      "    ftabLen: 1048577\n",
      "    ftabSz: 4194308\n",
      "    offsLen: 34742\n",
      "    offsSz: 138968\n",
      "    isaLen: 0\n",
      "    isaSz: 0\n",
      "    lineSz: 64\n",
      "    sideSz: 64\n",
      "    sideBwtSz: 56\n",
      "    sideBwtLen: 224\n",
      "    numSidePairs: 2482\n",
      "    numSides: 4964\n",
      "    numLines: 4964\n",
      "    ebwtTotLen: 317696\n",
      "    ebwtTotSz: 317696\n",
      "    reverse: 0\n",
      "Total time for backward call to driver() for mirror index: 00:00:02\n"
     ]
    }
   ],
   "source": [
    "!bowtie-build batch_1_BOWTIE_BLAST_filtered.fa \\\n",
    "batch_1_ref_genome"
   ]
  },
  {
   "cell_type": "markdown",
   "metadata": {},
   "source": [
    "\n",
    "<br>\n",
    "**Step Four:** Align process_radtags output to new reference \"genome\"\n",
    "\n",
    "\n",
    "*Note-* when aligning, you have to choose a `-v` value, or the number of mismatches allowed between reads. this should match the `-M` value chosen in ustacks. \n"
   ]
  },
  {
   "cell_type": "code",
   "execution_count": 4,
   "metadata": {
    "collapsed": false
   },
   "outputs": [
    {
     "data": {
      "text/plain": [
       "u'/mnt/hgfs/Pacific cod/DataAnalysis/scripts'"
      ]
     },
     "execution_count": 4,
     "metadata": {},
     "output_type": "execute_result"
    }
   ],
   "source": [
    "pwd"
   ]
  },
  {
   "cell_type": "code",
   "execution_count": 5,
   "metadata": {
    "collapsed": false
   },
   "outputs": [
    {
     "name": "stdout",
     "output_type": "stream",
     "text": [
      "/mnt/hgfs/Pacific cod/DataAnalysis/PCod-US-repo/scripts\n"
     ]
    }
   ],
   "source": [
    "cd ../PCod-US-repo/scripts"
   ]
  },
  {
   "cell_type": "code",
   "execution_count": 6,
   "metadata": {
    "collapsed": false,
    "scrolled": true
   },
   "outputs": [
    {
     "name": "stdout",
     "output_type": "stream",
     "text": [
      "###### Generate Shell Script to Align all FastQ Data Files to BOWTIE ref genome ######\r\n",
      "\r\n",
      "## MF 3/9/2017\r\n",
      "## For US Cod Data\r\n",
      "\r\n",
      "\r\n",
      "\r\n",
      "## At Command Line: python cstacks_populations_genShell_3-8 ARG1 ARG2\r\n",
      "##---- ARG1 = complete sample list file\r\n",
      "##---- ARG2 = relative path to bowtie ref database, including file name without filetype suffix\r\n",
      "##---- ARG3 = relative path to stacks fastq files, output from process_radtags\r\n",
      "##---- ARG4 = batch #\r\n",
      "\r\n",
      "############################################################################\r\n",
      "\r\n"
     ]
    }
   ],
   "source": [
    "!head -n 15 RefGenome_BOWTIEalign_genshell3-9.py"
   ]
  },
  {
   "cell_type": "code",
   "execution_count": 8,
   "metadata": {
    "collapsed": false
   },
   "outputs": [],
   "source": [
    "!python RefGenome_BOWTIEalign_genshell3-9.py \\\n",
    "sampleList.txt \\\n",
    "../stacks/refgenome/batch_1_ref_genome \\\n",
    "../samplesT92 \\\n",
    "1"
   ]
  },
  {
   "cell_type": "code",
   "execution_count": 9,
   "metadata": {
    "collapsed": false
   },
   "outputs": [
    {
     "name": "stdout",
     "output_type": "stream",
     "text": [
      "#!/bin/bash\r\n",
      "\r\n",
      "bowtie -q -v 3 -norc --sam ../stacks/refgenome/batch_1_ref_genome ../samplesT92/KOD03_035.fq.gz KOD03_035.sam\r\n",
      "bowtie -q -v 3 -norc --sam ../stacks/refgenome/batch_1_ref_genome ../samplesT92/KOD03_051.fq.gz KOD03_051.sam\r\n",
      "bowtie -q -v 3 -norc --sam ../stacks/refgenome/batch_1_ref_genome ../samplesT92/KOD03_052.fq.gz KOD03_052.sam\r\n",
      "bowtie -q -v 3 -norc --sam ../stacks/refgenome/batch_1_ref_genome ../samplesT92/KOD03_053.fq.gz KOD03_053.sam\r\n",
      "bowtie -q -v 3 -norc --sam ../stacks/refgenome/batch_1_ref_genome ../samplesT92/KOD03_054.fq.gz KOD03_054.sam\r\n",
      "bowtie -q -v 3 -norc --sam ../stacks/refgenome/batch_1_ref_genome ../samplesT92/KOD03_055.fq.gz KOD03_055.sam\r\n",
      "bowtie -q -v 3 -norc --sam ../stacks/refgenome/batch_1_ref_genome ../samplesT92/KOD03_056.fq.gz KOD03_056.sam\r\n",
      "bowtie -q -v 3 -norc --sam ../stacks/refgenome/batch_1_ref_genome ../samplesT92/KOD03_057.fq.gz KOD03_057.sam\r\n"
     ]
    }
   ],
   "source": [
    "!head -n 10 RefGenome_BOWTIEalign_1.sh"
   ]
  },
  {
   "cell_type": "markdown",
   "metadata": {},
   "source": [
    "<br>\n",
    "All fastq files must be unzipped! I pasted in the following code to my bash shell script to unzip my files:\n"
   ]
  },
  {
   "cell_type": "code",
   "execution_count": null,
   "metadata": {
    "collapsed": true
   },
   "outputs": [],
   "source": [
    "#cd ../samplesT92\n",
    "#echo \"finding all gzipped 'tags' files\"`\n",
    "#tags_file_array=\"$(find . -name '*.fq.gz')\"\n",
    "\n",
    "\n",
    "#echo \"unzipping all fastq files\"\n",
    "#for file in $tags_file_array\n",
    "#do\n",
    "#\techo $file\n",
    "#\tgzip -d $file\n",
    "#\techo \"file unzipped\"\n",
    "#done\n",
    "\n",
    "#cd ../scripts"
   ]
  },
  {
   "cell_type": "code",
   "execution_count": 11,
   "metadata": {
    "collapsed": false
   },
   "outputs": [
    {
     "name": "stdout",
     "output_type": "stream",
     "text": [
      "#!/bin/bash\r\n",
      "\r\n",
      "cd ../samplesT92\r\n",
      "echo \"finding all gzipped 'tags' files\"\r\n",
      "tags_file_array=\"$(find . -name '*.fq.gz')\"\r\n",
      "\r\n",
      "\r\n",
      "echo \"unzipping all fastq files\"\r\n",
      "for file in $tags_file_array\r\n",
      "do\r\n",
      "\techo $file\r\n",
      "\tgzip -d $file\r\n",
      "\techo \"file unzipped\"\r\n",
      "done\r\n",
      "\r\n",
      "cd ../scripts\r\n",
      "\r\n",
      "bowtie -q -v 3 -norc --sam ../stacks/refgenome/batch_1_ref_genome ../samplesT92/KOD03_035.fq.gz KOD03_035.sam\r\n",
      "bowtie -q -v 3 -norc --sam ../stacks/refgenome/batch_1_ref_genome ../samplesT92/KOD03_051.fq.gz KOD03_051.sam\r\n",
      "bowtie -q -v 3 -norc --sam ../stacks/refgenome/batch_1_ref_genome ../samplesT92/KOD03_052.fq.gz KOD03_052.sam\r\n"
     ]
    }
   ],
   "source": [
    "!head -n 20 RefGenome_BOWTIEalign_1.sh"
   ]
  },
  {
   "cell_type": "code",
   "execution_count": 12,
   "metadata": {
    "collapsed": true
   },
   "outputs": [],
   "source": [
    "!chmod +x RefGenome_BOWTIEalign_1.sh"
   ]
  },
  {
   "cell_type": "code",
   "execution_count": null,
   "metadata": {
    "collapsed": true
   },
   "outputs": [],
   "source": [
    "# ran the shell script at the command line \n",
    "#as it was expected to take overnight\n",
    "./RefGenome_BOWTIEalign_1.sh"
   ]
  }
 ],
 "metadata": {
  "anaconda-cloud": {},
  "kernelspec": {
   "display_name": "Python [default]",
   "language": "python",
   "name": "python2"
  },
  "language_info": {
   "codemirror_mode": {
    "name": "ipython",
    "version": 2
   },
   "file_extension": ".py",
   "mimetype": "text/x-python",
   "name": "python",
   "nbconvert_exporter": "python",
   "pygments_lexer": "ipython2",
   "version": "2.7.12"
  }
 },
 "nbformat": 4,
 "nbformat_minor": 1
}
