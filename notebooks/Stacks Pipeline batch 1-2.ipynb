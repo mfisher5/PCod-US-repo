{
 "cells": [
  {
   "cell_type": "markdown",
   "metadata": {},
   "source": [
    "## Stacks Pipeline rerun (batch 1) - nb 2\n",
    "\n",
    "\n",
    "This is a rerun of the stacks pipeline for all northeastern Pacific cod samples. This second notebook contains the run of `stacks` with a reference \"genome\" and end filtering steps of the `populations` genepop output file. \n",
    "\n",
    "<br>\n",
    "Key parameters for this run of stacks: \n",
    "1. using the bounded snp model, default error rate bounds\n",
    "2. stack depth of 10\n",
    "3. do not specify nucleotide differences between stacks (-n)\n",
    "4. cstacks catalog built based on genome location, not sequence ID (-g)\n",
    "5. sstacks files built based on genomeic location, not sequence ID (-g) \n",
    "6. locus must be present in 4/9 populations\n",
    "7. locus must be present in 75% of individuals in a population\n",
    "\n",
    "\n",
    "\n",
    "<br>\n",
    "### pstacks --> populations\n",
    "\n",
    "\n",
    "<br>\n",
    "*Note for later-* I have to rebuild the `cstacks` catalog, and I want to look at the overall read depth per individual in the `pstacks` output files to determine the \"top ten\" rather than the `process_radtags` output files that I assessed for the first set of \"top ten\". So later I will run a scripts to check overall sequence depth per individual after `pstacks` and `ustacks` to see if it has changed significantly."
   ]
  },
  {
   "cell_type": "code",
   "execution_count": 1,
   "metadata": {
    "collapsed": false
   },
   "outputs": [
    {
     "data": {
      "text/plain": [
       "u'/mnt/hgfs/Pacific cod/DataAnalysis/PCod-US-repo/notebooks'"
      ]
     },
     "execution_count": 1,
     "metadata": {},
     "output_type": "execute_result"
    }
   ],
   "source": [
    "pwd"
   ]
  },
  {
   "cell_type": "code",
   "execution_count": 2,
   "metadata": {
    "collapsed": false
   },
   "outputs": [
    {
     "name": "stdout",
     "output_type": "stream",
     "text": [
      "/mnt/hgfs/Pacific cod/DataAnalysis/PCod-US-repo/scripts\n"
     ]
    }
   ],
   "source": [
    "cd ../scripts"
   ]
  },
  {
   "cell_type": "markdown",
   "metadata": {},
   "source": [
    "\n",
    "I generated the shell: "
   ]
  },
  {
   "cell_type": "code",
   "execution_count": 4,
   "metadata": {
    "collapsed": false
   },
   "outputs": [
    {
     "name": "stdout",
     "output_type": "stream",
     "text": [
      "###### Generate Shell Script to Run pstacks --> populations ######\r\n",
      "\r\n",
      "## MF 3/10/2017\r\n",
      "## For US Cod Data\r\n",
      "\r\n",
      "\r\n",
      "\r\n",
      "## At Command Line: python cstacks_populations_genShell_3-8 ARG1 ARG2\r\n",
      "##---- ARG1 = complete sample list file\r\n",
      "##---- ARG2 = sample list for building cstacks catalog\r\n"
     ]
    }
   ],
   "source": [
    "!head pstacks_populations_genShell_3-10.py"
   ]
  },
  {
   "cell_type": "code",
   "execution_count": 5,
   "metadata": {
    "collapsed": true
   },
   "outputs": [],
   "source": [
    "!python pstacks_populations_genShell_3-10.py sampleList.txt samples_for_cstacks.txt"
   ]
  },
  {
   "cell_type": "code",
   "execution_count": 8,
   "metadata": {
    "collapsed": false
   },
   "outputs": [
    {
     "name": "stdout",
     "output_type": "stream",
     "text": [
      "\r\n",
      "#pstacks\r\n",
      "pstacks -t sam -f ../stacks_wgenome/KOD03_035.sam -o ../stacks_wgenome -i 001 -m 10 -p 6 --model_type bounded 2>> pstacks_out_b1_wgenome\r\n",
      "pstacks -t sam -f ../stacks_wgenome/KOD03_051.sam -o ../stacks_wgenome -i 002 -m 10 -p 6 --model_type bounded 2>> pstacks_out_b1_wgenome\r\n",
      "pstacks -t sam -f ../stacks_wgenome/KOD03_052.sam -o ../stacks_wgenome -i 003 -m 10 -p 6 --model_type bounded 2>> pstacks_out_b1_wgenome\r\n",
      "pstacks -t sam -f ../stacks_wgenome/KOD03_053.sam -o ../stacks_wgenome -i 004 -m 10 -p 6 --model_type bounded 2>> pstacks_out_b1_wgenome\r\n",
      "pstacks -t sam -f ../stacks_wgenome/KOD03_054.sam -o ../stacks_wgenome -i 005 -m 10 -p 6 --model_type bounded 2>> pstacks_out_b1_wgenome\r\n",
      "pstacks -t sam -f ../stacks_wgenome/KOD03_055.sam -o ../stacks_wgenome -i 006 -m 10 -p 6 --model_type bounded 2>> pstacks_out_b1_wgenome\r\n",
      "pstacks -t sam -f ../stacks_wgenome/KOD03_056.sam -o ../stacks_wgenome -i 007 -m 10 -p 6 --model_type bounded 2>> pstacks_out_b1_wgenome\r\n",
      "pstacks -t sam -f ../stacks_wgenome/KOD03_057.sam -o ../stacks_wgenome -i 008 -m 10 -p 6 --model_type bounded 2>> pstacks_out_b1_wgenome\r\n"
     ]
    }
   ],
   "source": [
    "!head pstacks_populations_3-10.sh"
   ]
  },
  {
   "cell_type": "code",
   "execution_count": 10,
   "metadata": {
    "collapsed": false
   },
   "outputs": [],
   "source": [
    "!chmod +x pstacks_populations_3-10.sh"
   ]
  },
  {
   "cell_type": "code",
   "execution_count": null,
   "metadata": {
    "collapsed": true
   },
   "outputs": [],
   "source": [
    "# run at command line: \n",
    "./pstacks_populations_3-10.sh"
   ]
  },
  {
   "cell_type": "markdown",
   "metadata": {},
   "source": [
    "\n",
    "The output of the pstacks, cstacks, sstacks, and populations run can be found in the `stacks_wgenome/` folder in text files. \n",
    "\n",
    "\n",
    "<br>\n",
    "### Post-stacks filtering steps\n",
    "**3/15/2017**\n",
    "\n",
    "I will be testing out my filtering shell script by first running each step individually, and then running the shell script. "
   ]
  },
  {
   "cell_type": "code",
   "execution_count": 1,
   "metadata": {
    "collapsed": false
   },
   "outputs": [
    {
     "data": {
      "text/plain": [
       "u'/mnt/hgfs/Pacific cod/DataAnalysis/PCod-US-repo/notebooks'"
      ]
     },
     "execution_count": 1,
     "metadata": {},
     "output_type": "execute_result"
    }
   ],
   "source": [
    "pwd"
   ]
  },
  {
   "cell_type": "code",
   "execution_count": 2,
   "metadata": {
    "collapsed": false
   },
   "outputs": [
    {
     "name": "stdout",
     "output_type": "stream",
     "text": [
      "/mnt/hgfs/Pacific cod/DataAnalysis\n"
     ]
    }
   ],
   "source": [
    "cd ../../"
   ]
  },
  {
   "cell_type": "code",
   "execution_count": 7,
   "metadata": {
    "collapsed": false
   },
   "outputs": [
    {
     "name": "stdout",
     "output_type": "stream",
     "text": [
      "/mnt/hgfs/Pacific cod/DataAnalysis/PCod-US-repo\n"
     ]
    }
   ],
   "source": [
    "cd PCod-US-repo"
   ]
  },
  {
   "cell_type": "code",
   "execution_count": 8,
   "metadata": {
    "collapsed": false
   },
   "outputs": [
    {
     "name": "stdout",
     "output_type": "stream",
     "text": [
      "/mnt/hgfs/Pacific cod/DataAnalysis/PCod-US-repo/scripts\n"
     ]
    }
   ],
   "source": [
    "cd scripts"
   ]
  },
  {
   "cell_type": "code",
   "execution_count": 9,
   "metadata": {
    "collapsed": true
   },
   "outputs": [],
   "source": [
    "!mkdir PostStacksFiltering"
   ]
  },
  {
   "cell_type": "code",
   "execution_count": 10,
   "metadata": {
    "collapsed": false
   },
   "outputs": [
    {
     "name": "stdout",
     "output_type": "stream",
     "text": [
      "/mnt/hgfs/Pacific cod\n"
     ]
    }
   ],
   "source": [
    "cd ../../../"
   ]
  },
  {
   "cell_type": "code",
   "execution_count": 11,
   "metadata": {
    "collapsed": false
   },
   "outputs": [
    {
     "name": "stdout",
     "output_type": "stream",
     "text": [
      "/mnt/hgfs/Pacific cod/DataAnalysis/PCod-Korea-repo\n"
     ]
    }
   ],
   "source": [
    "cd DataAnalysis/PCod-Korea-repo/"
   ]
  },
  {
   "cell_type": "code",
   "execution_count": 12,
   "metadata": {
    "collapsed": false
   },
   "outputs": [
    {
     "name": "stdout",
     "output_type": "stream",
     "text": [
      "cp: omitting directory 'scripts/PostStacksFiltering'\r\n"
     ]
    }
   ],
   "source": [
    "!cp scripts/PostStacksFiltering ../PCod-US-repo/scripts/PostStacksFiltering"
   ]
  },
  {
   "cell_type": "markdown",
   "metadata": {},
   "source": [
    "\n",
    "I don't know why this isn't working, I had to manually copy and paste all of the filtering script files from the Korean cod repo into this repo"
   ]
  },
  {
   "cell_type": "markdown",
   "metadata": {},
   "source": [
    "\n",
    "**Step One:** prep for scripts to make biallelic catalog reference. \n",
    "\n",
    "(1) remove heading from batch_1.catalog.snps file"
   ]
  },
  {
   "cell_type": "code",
   "execution_count": 14,
   "metadata": {
    "collapsed": false,
    "scrolled": true
   },
   "outputs": [
    {
     "data": {
      "text/plain": [
       "u'/mnt/hgfs/Pacific cod/DataAnalysis/PCod-Korea-repo'"
      ]
     },
     "execution_count": 14,
     "metadata": {},
     "output_type": "execute_result"
    }
   ],
   "source": [
    "pwd"
   ]
  },
  {
   "cell_type": "code",
   "execution_count": 15,
   "metadata": {
    "collapsed": false
   },
   "outputs": [
    {
     "name": "stdout",
     "output_type": "stream",
     "text": [
      "/mnt/hgfs/Pacific cod/DataAnalysis/PCod-US-repo/scripts\n"
     ]
    }
   ],
   "source": [
    "cd ../PCod-US-repo/scripts"
   ]
  },
  {
   "cell_type": "code",
   "execution_count": 17,
   "metadata": {
    "collapsed": false
   },
   "outputs": [],
   "source": [
    "snps = open(\"../stacks_wgenome/batch_1.catalog.snps.tsv\", \"r\")\n",
    "new_snps = open(\"../stacks_wgenome/batch_1.catalog.snps2.tsv\", \"w\")\n",
    "new_list = snps.readlines()[1:]\n",
    "new_str = ''.join(new_list)\n",
    "new_snps.write(new_str)\n",
    "snps.close()\n",
    "new_snps.close()"
   ]
  },
  {
   "cell_type": "code",
   "execution_count": 18,
   "metadata": {
    "collapsed": false
   },
   "outputs": [
    {
     "name": "stdout",
     "output_type": "stream",
     "text": [
      "0\t1\t1\t42\tE\t0\tC\tT\t-\t-\r\n"
     ]
    }
   ],
   "source": [
    "!head -n 1 ../stacks_wgenome/batch_1.catalog.snps2.tsv"
   ]
  },
  {
   "cell_type": "markdown",
   "metadata": {},
   "source": [
    "\n",
    "(2) add a '_' between Cat and ID in the batch_x.haplotypes file"
   ]
  },
  {
   "cell_type": "code",
   "execution_count": 19,
   "metadata": {
    "collapsed": true
   },
   "outputs": [],
   "source": [
    "haps = open(\"../stacks_wgenome/batch_1.haplotypes.tsv\", \"r\")\n",
    "new_haps = open(\"../stacks_wgenome/batch_1.haplotypes2.tsv\", \"w\")\n",
    "first_line = haps.readline()\n",
    "new_first_line = first_line.replace(\"Catalog ID\", \"Catalog_ID\")\n",
    "new_haps.write(new_first_line)\n",
    "rest_list = haps.readlines()[1:]\n",
    "rest_str = ''.join(rest_list)\n",
    "new_haps.write(rest_str)\n",
    "haps.close()\n",
    "new_haps.close()"
   ]
  },
  {
   "cell_type": "code",
   "execution_count": 21,
   "metadata": {
    "collapsed": false
   },
   "outputs": [
    {
     "name": "stdout",
     "output_type": "stream",
     "text": [
      "Catalog ID\tCnt\tKOD03_035\tKOD03_051\tKOD03_052\tKOD03_053\tKOD03_054\tKOD03_055\tKOD03_056\tKOD03_057\tKOD03_058\tKOD03_059\tKOD03_060\tKOD03_061\tKOD03_062\tKOD03_063\tKOD03_064\tKOD03_065\tKOD03_066\tKOD03_067\tKOD03_068\tKOD03_069\tKOD03_070\tKOD03_071\tKOD03_072\tKOD03_073\tKOD03_074\tKOD03_075\tKOD03_076\tKOD03_077\tKOD03_078\tKOD03_079\tKOD03_080\tKOD03_081\tKOD03_082\tKOD03_083\tKOD03_084\tKOD03_085\tKOD03_086\tKOD03_087\tKOD03_088\tKOD03_089\tKOD03_090\tKOD03_091\tKOD03_092\tKOD03_093\tKOD03_094\tKOD03_095\tKOD03_096\tKOD03_097\tAD06_001\tAD06_002\tAD06_003\tAD06_004\tAD06_005\tAD06_006\tAD06_007\tAD06_008\tAD06_009\tAD06_010\tAD06_011\tAD06_012\tAD06_013\tAD06_014\tAD06_015\tAD06_016\tAD06_017\tAD06_018\tAD06_019\tAD06_020\tAD06_021\tAD06_022\tAD06_023\tAD06_024\tAD06_025\tAD06_026\tAD06_027\tAD06_028\tAD06_029\tAD06_030\tAD06_031\tAD06_032\tAD06_033\tAD06_034\tAD06_035\tAD06_036\tAD06_037\tAD06_038\tAD06_039\tAD06_040\tAD06_041\tAD06_042\tAD06_043\tAD06_044\tAD06_045\tAD06_046\tAD06_047\tAD06_048\tWC05_001\tWC05_002\tWC05_003\tWC05_004\tWC05_005\tWC05_006\tWC05_007\tWC05_008\tWC05_009\tWC05_010\tWC05_011\tWC05_012\tWC05_013\tWC05_014\tWC05_015\tWC05_016\tWC05_017\tWC05_018\tWC05_019\tWC05_020\tWC05_021\tWC05_022\tWC05_023\tWC05_024\tWC05_025\tWC05_026\tWC05_027\tWC05_028\tWC05_029\tWC05_030\tWC05_031\tWC05_032\tWC05_033\tWC05_034\tWC05_035\tWC05_036\tWC05_037\tWC05_038\tWC05_039\tWC05_040\tWC05_041\tWC05_042\tWC05_043\tWC05_044\tWC05_045\tWC05_046\tWC05_047\tWC05_048\tHS04_001\tHS04_002\tHS04_003\tHS04_004\tHS04_005\tHS04_006\tHS04_007\tHS04_008\tHS04_009\tHS04_010\tHS04_011\tHS04_012\tHS04_013\tHS04_014\tHS04_015\tHS04_016\tHS04_017\tHS04_018\tHS04_019\tHS04_020\tHS04_021\tHS04_022\tHS04_023\tHS04_024\tHS04_025\tHS04_026\tHS04_027\tHS04_028\tHS04_029\tHS04_030\tHS04_031\tHS04_032\tHS04_033\tHS04_034\tHS04_035\tHS04_036\tHS04_037\tHS04_038\tHS04_039\tHS04_040\tHS04_041\tHS04_042\tHS04_043\tHS04_044\tHS04_045\tHS04_046\tHS04_047\tHS04_048\tPI04_001\tPI04_002\tPI04_003\tPI04_004\tPI04_005\tPI04_006\tPI04_007\tPI04_008\tPI04_009\tPI04_010\tPI04_011\tPI04_012\tPI04_013\tPI04_014\tPI04_015\tPI04_016\tPI04_017\tPI04_018\tPI04_019\tPI04_020\tPI04_021\tPI04_022\tPI04_023\tPI04_024\tPI04_025\tPI04_026\tPI04_027\tPI04_028\tPI04_029\tPI04_030\tPI04_031\tPI04_032\tPI04_033\tPI04_034\tPI04_035\tPI04_036\tPI04_037\tPI04_038\tPI04_039\tPI04_040\tPI04_041\tPI04_042\tPI04_043\tPI04_044\tPI04_045\tPI04_046\tPI04_047\tPI04_048\tPS12_001\tPS12_002\tPS12_003\tPS12_004\tPS12_005\tPS12_006\tPS12_007\tPS12_008\tPS12_009\tPS12_010\tPS12_011\tPS12_012\tPS12_013\tPS12_014\tPS12_015\tPS12_016\tPS12_017\tPS12_018\tPS12_019\tPS12_020\tPS12_021\tPS12_022\tPS12_023\tPS12_024\tPS12_025\tPS12_026\tPS12_027\tPS12_028\tPS12_029\tPS12_030\tPS12_031\tPS12_032\tPS12_033\tPS12_034\tPS12_035\tPS12_036\tPS12_037\tPS12_038\tPS12_039\tPS12_040\tPS12_041\tPS12_042\tPS12_043\tPS12_044\tPS12_045\tPS12_046\tPS12_047\tPS12_048\tGS13_001\tGS13_002\tGS13_003\tGS13_004\tGS13_005\tGS13_006\tGS13_007\tGS13_008\tGS13_009\tGS13_010\tGS13_011\tGS13_012\tGS13_013\tGS13_014\tGS13_015\tGS13_016\tGS13_017\tPWS12_002\tPWS12_003\tPWS12_005\tPWS12_006\tPWS12_009\tPWS12_010\tPWS12_011\tPWS12_014\tPWS12_015\tPWS12_016\tPWS12_017\tPWS12_018\tPWS12_021\tPWS12_022\tPWS12_023\tPWS12_063\tPWS12_075\tPWS12_079\tPWS12_094\tPWS12_095\tPWS12_096\tPWS12_097\tPWS12_131\tPWS12_133\tUP03_001\tUP03_002\tUP03_003\tUP03_004\tUP03_005\tUP03_006\tUP03_007\tUP03_008\tUP03_009\tUP03_010\tUP03_011\tUP03_012\tUP03_013\tUP03_014\tUP03_015\tUP03_016\tUP03_017\tUP03_018\tUP03_019\tUP03_020\tUP03_021\tUP03_022\tUP03_023\tUP03_024\tUP03_025\tUP03_026\tUP03_027\tUP03_028\tUP03_029\tUP03_030\tUP03_031\tUP03_032\tUP03_033\tUP03_034\tUP03_035\tUP03_036\tUP03_037\tUP03_038\tUP03_039\tUP03_040\tUP03_041\tUP03_042\tUP03_043\tUP03_044\tUP03_045\tUP03_046\tUP03_047\tUP03_048\r\n"
     ]
    }
   ],
   "source": [
    "!head -n 1 ../stacks_wgenome/batch_1.haplotypes.tsv"
   ]
  },
  {
   "cell_type": "code",
   "execution_count": 20,
   "metadata": {
    "collapsed": false
   },
   "outputs": [
    {
     "name": "stdout",
     "output_type": "stream",
     "text": [
      "Catalog_ID\tCnt\tKOD03_035\tKOD03_051\tKOD03_052\tKOD03_053\tKOD03_054\tKOD03_055\tKOD03_056\tKOD03_057\tKOD03_058\tKOD03_059\tKOD03_060\tKOD03_061\tKOD03_062\tKOD03_063\tKOD03_064\tKOD03_065\tKOD03_066\tKOD03_067\tKOD03_068\tKOD03_069\tKOD03_070\tKOD03_071\tKOD03_072\tKOD03_073\tKOD03_074\tKOD03_075\tKOD03_076\tKOD03_077\tKOD03_078\tKOD03_079\tKOD03_080\tKOD03_081\tKOD03_082\tKOD03_083\tKOD03_084\tKOD03_085\tKOD03_086\tKOD03_087\tKOD03_088\tKOD03_089\tKOD03_090\tKOD03_091\tKOD03_092\tKOD03_093\tKOD03_094\tKOD03_095\tKOD03_096\tKOD03_097\tAD06_001\tAD06_002\tAD06_003\tAD06_004\tAD06_005\tAD06_006\tAD06_007\tAD06_008\tAD06_009\tAD06_010\tAD06_011\tAD06_012\tAD06_013\tAD06_014\tAD06_015\tAD06_016\tAD06_017\tAD06_018\tAD06_019\tAD06_020\tAD06_021\tAD06_022\tAD06_023\tAD06_024\tAD06_025\tAD06_026\tAD06_027\tAD06_028\tAD06_029\tAD06_030\tAD06_031\tAD06_032\tAD06_033\tAD06_034\tAD06_035\tAD06_036\tAD06_037\tAD06_038\tAD06_039\tAD06_040\tAD06_041\tAD06_042\tAD06_043\tAD06_044\tAD06_045\tAD06_046\tAD06_047\tAD06_048\tWC05_001\tWC05_002\tWC05_003\tWC05_004\tWC05_005\tWC05_006\tWC05_007\tWC05_008\tWC05_009\tWC05_010\tWC05_011\tWC05_012\tWC05_013\tWC05_014\tWC05_015\tWC05_016\tWC05_017\tWC05_018\tWC05_019\tWC05_020\tWC05_021\tWC05_022\tWC05_023\tWC05_024\tWC05_025\tWC05_026\tWC05_027\tWC05_028\tWC05_029\tWC05_030\tWC05_031\tWC05_032\tWC05_033\tWC05_034\tWC05_035\tWC05_036\tWC05_037\tWC05_038\tWC05_039\tWC05_040\tWC05_041\tWC05_042\tWC05_043\tWC05_044\tWC05_045\tWC05_046\tWC05_047\tWC05_048\tHS04_001\tHS04_002\tHS04_003\tHS04_004\tHS04_005\tHS04_006\tHS04_007\tHS04_008\tHS04_009\tHS04_010\tHS04_011\tHS04_012\tHS04_013\tHS04_014\tHS04_015\tHS04_016\tHS04_017\tHS04_018\tHS04_019\tHS04_020\tHS04_021\tHS04_022\tHS04_023\tHS04_024\tHS04_025\tHS04_026\tHS04_027\tHS04_028\tHS04_029\tHS04_030\tHS04_031\tHS04_032\tHS04_033\tHS04_034\tHS04_035\tHS04_036\tHS04_037\tHS04_038\tHS04_039\tHS04_040\tHS04_041\tHS04_042\tHS04_043\tHS04_044\tHS04_045\tHS04_046\tHS04_047\tHS04_048\tPI04_001\tPI04_002\tPI04_003\tPI04_004\tPI04_005\tPI04_006\tPI04_007\tPI04_008\tPI04_009\tPI04_010\tPI04_011\tPI04_012\tPI04_013\tPI04_014\tPI04_015\tPI04_016\tPI04_017\tPI04_018\tPI04_019\tPI04_020\tPI04_021\tPI04_022\tPI04_023\tPI04_024\tPI04_025\tPI04_026\tPI04_027\tPI04_028\tPI04_029\tPI04_030\tPI04_031\tPI04_032\tPI04_033\tPI04_034\tPI04_035\tPI04_036\tPI04_037\tPI04_038\tPI04_039\tPI04_040\tPI04_041\tPI04_042\tPI04_043\tPI04_044\tPI04_045\tPI04_046\tPI04_047\tPI04_048\tPS12_001\tPS12_002\tPS12_003\tPS12_004\tPS12_005\tPS12_006\tPS12_007\tPS12_008\tPS12_009\tPS12_010\tPS12_011\tPS12_012\tPS12_013\tPS12_014\tPS12_015\tPS12_016\tPS12_017\tPS12_018\tPS12_019\tPS12_020\tPS12_021\tPS12_022\tPS12_023\tPS12_024\tPS12_025\tPS12_026\tPS12_027\tPS12_028\tPS12_029\tPS12_030\tPS12_031\tPS12_032\tPS12_033\tPS12_034\tPS12_035\tPS12_036\tPS12_037\tPS12_038\tPS12_039\tPS12_040\tPS12_041\tPS12_042\tPS12_043\tPS12_044\tPS12_045\tPS12_046\tPS12_047\tPS12_048\tGS13_001\tGS13_002\tGS13_003\tGS13_004\tGS13_005\tGS13_006\tGS13_007\tGS13_008\tGS13_009\tGS13_010\tGS13_011\tGS13_012\tGS13_013\tGS13_014\tGS13_015\tGS13_016\tGS13_017\tPWS12_002\tPWS12_003\tPWS12_005\tPWS12_006\tPWS12_009\tPWS12_010\tPWS12_011\tPWS12_014\tPWS12_015\tPWS12_016\tPWS12_017\tPWS12_018\tPWS12_021\tPWS12_022\tPWS12_023\tPWS12_063\tPWS12_075\tPWS12_079\tPWS12_094\tPWS12_095\tPWS12_096\tPWS12_097\tPWS12_131\tPWS12_133\tUP03_001\tUP03_002\tUP03_003\tUP03_004\tUP03_005\tUP03_006\tUP03_007\tUP03_008\tUP03_009\tUP03_010\tUP03_011\tUP03_012\tUP03_013\tUP03_014\tUP03_015\tUP03_016\tUP03_017\tUP03_018\tUP03_019\tUP03_020\tUP03_021\tUP03_022\tUP03_023\tUP03_024\tUP03_025\tUP03_026\tUP03_027\tUP03_028\tUP03_029\tUP03_030\tUP03_031\tUP03_032\tUP03_033\tUP03_034\tUP03_035\tUP03_036\tUP03_037\tUP03_038\tUP03_039\tUP03_040\tUP03_041\tUP03_042\tUP03_043\tUP03_044\tUP03_045\tUP03_046\tUP03_047\tUP03_048\r\n"
     ]
    }
   ],
   "source": [
    "!head -n 1 ../stacks_wgenome/batch_1.haplotypes2.tsv"
   ]
  },
  {
   "cell_type": "markdown",
   "metadata": {},
   "source": [
    "\n",
    "**Step Two: ** Run Charlie's script to prepare files for correcting genotypes. \n"
   ]
  },
  {
   "cell_type": "code",
   "execution_count": 22,
   "metadata": {
    "collapsed": false
   },
   "outputs": [
    {
     "name": "stdout",
     "output_type": "stream",
     "text": [
      "/mnt/hgfs/Pacific cod/DataAnalysis/PCod-US-repo/scripts/PostStacksFiltering\n"
     ]
    }
   ],
   "source": [
    "cd PostStacksFiltering/"
   ]
  },
  {
   "cell_type": "code",
   "execution_count": 24,
   "metadata": {
    "collapsed": false
   },
   "outputs": [
    {
     "name": "stdout",
     "output_type": "stream",
     "text": [
      "2 179 A A A A A A A A A A A A A A A A A A A A A A A A A A A A A A A A A A A A A A A A A A A A A A A A A A A A A A A A T A A A A A A A A A A A A A A A A A A A A A A A A A A A A A A A A A A A A A A A A A A A A A A A A A A A A A A A A A A A A A A A A A A A A A A A A A A A A A A A A A A A A A A A A A A A A A A A A A A A A A A A A A A A A A A A A A A A A A A A A A A A\r\n",
      "3 133 G G G G G G G G G G G G G G G G G G G G G G G G G G G G G G G G G G G G G G G G G G G G G G G G G G G G A G G G G G G A G G G G G G G G G G G A G G G G G G G G G G G G G G G G G A G G G G G G G G G G G G G G G G G G G G G G G G G G G G G A G G G G G G G G G G G G G G G G G G\r\n",
      "4 309 C C C C C C C C C C C C C C C C C C C C C C C C C C C C C C C C C C C C C C C C C C C C C C C C C C C C C C C C C C C C C C C C C C C C C C C C C C C C C C C C C C C C C C C C C C T C C C C C C C C C C C C C C C C C C C C C T C C C C C C C C C C C C C C C C C C C C C C C C C C C C C C C C C C C C C C C C C C C C C C C C C C C C C C C C C C C C C C C C C C C C C C C C C C C C C C C C C C C C C C C C C C C C C C C C C C C C C C C C C C C C C C C C C C C C C C C C C C C C C C C C C C C C C C C C C C C C C C C C C C C C C C C C C C C T C C C C C C C C C C C C C C C C C C C C C C C C C C C C C C C C C C C C C C C C C C C\r\n",
      "5 282 C C C C C C C C C C C C C C C C C C C C C C C C C C C C C C C C C C C C C C C C C C C C C C C C C C C C C C C C C C C C C C C C C C C C C C C C C C C C C C C C C C C C C C C C C C C C C C C C C C C C C C C C C C C C C C C C C C C C C C C C C C C C C C C C C C C C C C C C C T C C C C C C C C C C C C C C C C C C C C C C C C C C C C C C C C C C C C C C C C C C C C C C C C C C C C C C C C C C C C C C C C C C C C C C C C C C C C C C C C C C C C C C C C C C C C C C C C C C C C C C C C C C C C C C C C C C C C C C C C C C C C C C C C C C C C C C C C C C C C C C C C C\r\n",
      "6 314 T T T T T T T T T T T T T T T T T T T T T T T T T T T T T T T T T T T T T T T T T T T T T T T T T T T T T T T T T T T T T T T T T T T T T T T T T T T T T T T T T T T T T T T T T A T T T T T T A T T T T T T T T T T T T T T T T T T T T T T A T T T A T T T T T T T T T T T T T T A T T T T A T T T T T T T T T T T T T A T T T T T T T T A T T T A T T T T T T T T T T T T T T T T T T A T T T T T T T T T T T T T T T T T T T T T T T T T T T T T T T T T T T T T T T A T T T T T T T A T T T T T T T T T T T T T T T T T T T T T T T T T T T A T T T T T T T T T T T T T T T T T T T T T T T T T T T T T T T T T T T T T T T T T T T T T T T T T T T T T T T T T T T T\r\n",
      "7 203 C C C C C C C C C C C C C C C C C C C T C C C C C C C C C C C C C C C C C C C C C C C C C C C C C C C C C C C C C C C C C C C C C C C C C C C C C C C C C C C C C C C C C C C C C C C C C C C C C C C C C C C C C C C C C C C C C C C C C C C C C C C C C C C C C C C C C C C C C C C C C C C C C C C C C C C C C C C C C C C C C C C C C C C C C C C C C C C C C C C C C C C C C C C C C C C C C C C C C C C C C C C C\r\n",
      "8 186 C C C C C C C C C C C C C C C C C C C C C C C C C C C C C C C C C C C C C C C C C C C C A C C C C C C C C C C C C C C C C C C C C A C C C C C C C C C C C C C A C C C C C C C C C C C C C C C C C C C C C C C C C C C C C C C C C C C C C C C C C C C C C C C C A C C C C C C C C C C C C C C C C C C C C C C C C C A C C C C C C C C A C C C C C C C C C C C C C C C C C C C C C C C C C C C\r\n",
      "9 160 A A A A A A A A A A A A A A A A A A A A A A A A A A A A A A G A A A A A A A A A A A A A A A A A A A A A A A A A A A A A A A A A A A A A A A A A A A A A A A A A A A A A A A A A A A A A A A A A A G A A A A A A A A A A A A A A A A A A A A A A A A A A A A A A A A A A A A A A A A A A A A A A A A A A A A A A A A A A A A A A A A\r\n",
      "11 327 C C C C C C C C C C C C C C C C C C C C C C C C C C C C C C C C C C C C C C C C C C C C C C C C C C C C C C C C C C C C C C C C C C C C C C C C C C C C C C C C C C C C C C C C C C C C C C C C C C C C C C C C C C C C C C C C C C C C C T C C C C C C C C C C C C C C C C C C C C C C C C C C C C C C C C C C C C C C C C C C C C C C C C C C C C C C C C C C C C C C C C C C C C C C C C C C C C C C C C C C C C C C C C C C C C C C C C C C C C C C C C C C C C C C C C C C C C C C C C C C C C C C C C C C C C C C C C C C C C C C C C C C C C C C C C C C C C C C C C C C C C C C C C C C C C C C C C C C C C C C C C C C C C C C C C C C C C C C C C C C C C C C C C C C\r\n",
      "12 314 C C C C C C C C C C C C C C C C C C C C C C C C C C C C C C C C C C C C C C C C C C C C C C C C C C C C C C C C C C C C C C C C C C C C C C C C C C C C C C C C C C C C C C C C C C C C C C C C C C C C C C C C C C C C C C C C C C C C C C C C C C C C C C C C C C C C C C C C C C C C C C C C C C C C C C T C C C C C C C C C C C C C C C C C C C C C C C C C C C C C C C C C C C C C C C C C C C C C C C C C C C C C C C C C C C C C C C C C C C C C C C C C C C C C C C C C C C C C C C C C C C C C C C C C C C C C C C C C C C C C C C C C C C C C C C C C C C C C C C C C C C C C C C C C C C C C C C C C C C C C C C C C C C C C C C C C C C C\r\n",
      "13 320 CC CC CC CC CC CC CC CC CC CC CC CC CC CC CC CC CC CC CC CC CC CC CC CC CC CC CC CC CC CC CC CC CC CC CC CC CC CC CC CC CC CC CC CC CC CC CC CC CC CC CC CC CC CC CC CC CC CC CC CC CC CC CC CC CC CC CT CC CC CC CC CC CC CC CC CC CC CC CC CC CC CC CC CC CC CC CC CC CT CC CC CC CC CC CC CC CC CC CC CC CC CC CC CC CC CC CC CC CC CC CC CC CC CC CC CC CC CC CC CC CC CC CC CC CC CC CC CC CC CC CC CC CC CC CC CC CC CC CC CC CC CC CC CC CC CC CC CC CC CC CC CC CC CC CC TC CC CC CC CC CC CC CC CC CC CC CC CC CC CC CC CC CC CC CC CC CC CC CC CC CC CC CC CC CC CC CC CC CC CC CC CC CC CC CC CC CC CC CC CC CC CC CC CC CC CC CC CC CC CC CC CC CC CC CC CC CC CC CC CC CC CC CC CC CC CC CC CC CC CC CC CC CC CC CC CC CC CC CC CC CC CC CC CC CC CC CC CC CC CC CC CC CC CC CC CC CC CC CC CC CC CC CC CC CC CC CC CC CC CC CC CC CC CC CC CC CC CC CC CC CC CC CC CC CC CC CC CC CC CC CC CC CC CC CC CC CC CC CC CC CC CC CC CC CC CC CC CC CC CC CC CC CC CC CC CC CC CC CC CC CC CC CC\r\n",
      "15 317 A A A A A A A A A A A A A A A A A A A A A A A A A A A A T A A A A A A A A A A A A A A A A A A A A A A A A A A A A A A A A A A A A A A A A A A A A A A A A A A A A A A A A A A A A A A A A A A A A A A A A A A A A A A A A A T A A A A A A A A A A A A A A A A A A T A A A A A A A T A A A A A A A A A A A A A A A A A A A A A A A A A A A A A A A A A A A A A A A A A A A A A A A A A A A A A A A A A A A A A A A A A A A A A A A A A A A A A A A A A A A A A A A A A A A A A A A A A A A A A A A A A A A A A A A A A A A A A A A A A A A A A A A A A A A A A A A A A A A A A A A A A A A A A A A A A A A A A A A A A T A A A A A A A A A A A A A A A A A A A A A A\r\n",
      "16 316 A A A A A A A A A A A C A A A A A A A A A A A A A A A A A A A A A A A A A A A A A A A A A A A A A A A A A A A A A A A A A A A A A A A A A A A A A A A A A A A A A A A A A A A A A A A A A A A A A A A A A A A A A A A A A A A A A A A A A A A A A A A A A A A A A A A A A A A A A A A A A A A A A A A A A A A A A A A A A A A A A A A A A A A A A A A A A A A A A A A A A A A A A A A A A A A A A A A A A A A A A A A A A A A A A C A A A A A A A A A A A A A A A A A A A A A A A A A A A A A A A A A A A A A A A A A A A A A C A A A A A A A A A A A A A A A A A A A A A A A A A A A A A A A A A A A A A A A A A A A A A A A A A A A A A A A A A A A A A A\r\n",
      "17 289 GT GT GT GT GT GT GT GT GT GT GT GT GT GT GT GT GT GT GT GT GT GT GT GT GT GT GT GT TT GT GT GT GT GT GT GT TT GT GT GT GT TT GT GT GT GT GT GT GT TT GT GT GT GT GT GT GT GT GT GT GT GT TT GT GT GT GT TT GT GT GT GT GT GT GT GT GT GT GT GT TT GT GT GT TT GT GT GT GT GT GT GT GT GT GT GT GT GT GT GT GT GT GT GT GT GT GT GT GT GT GT GT GT GT GT GT GT GT GT GT GT GT GT GT GT GT GT GT GT GT GT GT GT GT GT GT GT GT GT GT GT GT GT GT GT GT GT GT GT GT TT GT GT GT TT GT GT GT TT GT GT GT GT GT GT GT GT GT GT GT GT GT TT GT GT GT GT GT GT TT GT GT GT GT GT GT GT GT GT GT GT GT GT GT GT GT GT GT GT GT GT GT GT GT GT GT GT GT GT GT GT GT GT GT GT GT GT GT GT GT GT GT GT GT GT GT GT GT GT GT GT GT GT GT GT GT GT GT GT TT GT GT GT GT GT GT GT GT GT GT GT GT GT GT GT GT GT TT GT TT GT TT GT GT GT GT GT GT GT GT GT GC GT GT GT GT GT GT GT GT GT GT GT GT GT GT GT GT GT GT GT GT GT GT GT GT GT GT GT GT GT GT GT GT GT GT GT TT\r\n",
      "18 310 G G G G G G G G G G G G G G G G G G G G G G G G G G G G G G G G G G G G G G G G G G G G G G G G G G G G G G A G G G G G G G G G G G G G A G G G G G G G G G G G G G G G G G G G G G G G G G G G G G G G G G G A G G G G G G G G G G G G G G G G G G G G G G G G G G G G G G G G G G G G A G G G G G G G G G A G G G G G G A G G A G G G G G G G G G G G G G G G G G G G G G G A G G G G G G G G G G G G G A G G A G G G G G G G G A G G G G G G G G G G G G G G G G G G G G G G G A G G G G G G G G G G G G G G A G G G G G G G G G G G G G G G G G G G G G G G G G G G G G A G G G G G G G G G G G G G G G G G G G G G G G G G A G G G G A G G G G G G G G G G G G G G G\r\n",
      "19 299 AC GG AC GC GG GC GG AC GG AC GC GG AC GC GG AC GC GG AC GC GG AC GG AC GC GG AC GC GG AC GC GG AC GC GG GC GG AC GC GG AC GC GG AC GC GG GC GG GG AC GC GG GG AC AG GC GG AC GG AC GC GG AC GC GG GC GG AC GC GG GC GG GC GG GC GG AC GG AC GC GG AC GG GC GG AC GC GG GC GG AC GG GG GC GG AC GC GG AC GG AC AC GC GG AC GG AC GC GG GC GG AC GC GG AC GC GG GC GG AC GC GG AC GG AC GG AC GG AC GC GG AC GC GG AC GG GG AC GC GG AC GC GG AC GC GG AC GG AC GC GG GC GG GC GG GC GG AC GG AC GC GG GC GG AC GG AC GC GG GC GG AC GG AC GC GG AC GG AC GC GG GC GG AC GG GC GG GC GG AC GC GG AC GC AC GC GG AC GC GG AC GG GC GG AC GC GG GC GG GC GG AC GG GC GG AC GG GC GG GC GG GC GG AC GC GG AC GC GG GC GG GC GG AC GG AC GC GG GC GG GC GG GC GG GC GG GC GG AC GG GC GG AC GC GG AC GC GG AC GC GG GC GG GG GC GG GC GG AC GC GG GC GG GC GG GC GG AC GC GG AC GG GC GG AC GC GG GC GG GC GG GC GG GC GG GC GG GC GG AC GC GG GC GG GC GG AC AG GC GG GC GG GC GG GC GG AC GC GG AC GC GG AC GC GG AC GC GG AC GC GG AC GC GG AC GC GG AC GG AC GC GG GC GG GC GG AC GC GG GC GG GC GG GC GG AC GC GG GC GG GC GG AC GC GG GC GG AC GC GG AC GC GG GC GG AC GC GG AC GC GG AC GG AC GC GG AC GC GG AC GC GG GC GG AC GC GG GC GG GC GG GC GG AC GC GG GC GG GC GG GC GG AC GC GG GC GC GG GC GG GC GG AC GC GG GC GG GC GG GC GG GC GG AC GG GC GG GC GG GC GG GC GG GC GG GC GG AC GC GG GC GG GC GG AC GC GG GC GG GC GG GC GG AC GC GG AC GC GG GC GG GC GG AC GC GG AC GC GG GC GG GC GG AC AG GC GG AC GC GG GC GG GC GG GC GG GC GG GG GC GG GC GG GC GG GC GG AC GC GG GC GG GC GG AC GC GG GC GG GC GG AC GC GG GC GG GC GG AC GC GG GC GG GC GG GC GG AC GC GG GC GG GC GG GC GG AC GC GG GC GG AC GC GG GC GG AC GC GG AC GC GG AC GG AC GC GG AC GC GG AC GC GG GC GG GC GG AC GC GG AC GG GC GG GC GG AC GC GG AC GC GG AC GG GC GG AC GC GG AC GC GG AC GC GG AC GC GG GC AC GC GG AC GC GG GC GG GC GG GC GG GC GG AC GG GC GG AC GC GG AC GC GG AC GC GG AC GG AC GC GG AC GC GG AC GC GG AC GC GG GC GG AC GC GG AC GC GG AC GC GG AC GG GC GG AC AC GG AC GG AC GC GG AC GG AC GG AC GG AC GG GC GG AC GG AC GG AC GC GG GC GG AC GG AC GC GG GC GG AC GG AC GG GC GG\r\n",
      "20 324 C C C C C C C C C C C C C C C C C C C C C C C C C C C C C C C C C C C C C C C C C C C C C C C C C C C C C C C C C C C C C C C C C C C C C C C C C C C C C C C C C C C C C C C C C C C C C C C C C C C C C C C C C C C C C C C C C C C C C C C C C C C C C C C C C C C C C C C C C C C C C C C C C C C C C C C C C C C C C C C C C C C C C C C C C C C C C C C C C C C C C C C C C C C C C C C C C C C C C C C C C C C C C G C G C C C C C C C C C C C C C C C C C C C C C C C C C C C C C C C C C C C C C C C C C C C C C C C C C C C C C C C C C C C C C C C C C C C C C C C C C C C C C C C C C C C C C C C C C C C C C C C C C C C C C C C C C C C C C C C C C C C C C C\r\n",
      "21 307 T T T T T T T T T T T T T T T T T T T T T T T T T T T T T T T T T T T T T T T T T T T T T T T T T T T T T G T T G T T T T T T T T T T T T T T T T T T T T T T T T G T T T T T T T T T T T T T T T T T T T T T T T T T T T T T T T T T T T T T T T T T T T T T T T T T T T T T T T T T T T T T T T T T T T T T T T T T T T T T T T T T T T T T T T T T T T T T T T T T T T T T T T T T T T T T T T T T T T T T T T T T T T T T T T T T T T T T T T T T T T T T T T T T T T T T T T G T T T T T T T T T T T T T T T T T G T T T T T T G T T T G T T T T T T T G T T T T T T T T T T T G T G T T T G T T T T T T G T T T T T T T T T T T T T G T T T T T T T G T T T\r\n",
      "23 192 C C C C C C C C C C C C C C C C C C C C C C C C C C C C C C T C C C C C C C C C C C C C C T C C C C C C C C C C C C C C C C C C C C C C C C C C C C C C C C C C C C C C C C C C C C C C C C C C C C C C C T C C T C C C C C C C C C C C C C C C C C C T C C C C C C C C C C C C C C C C C C C C C C C T C C T C C C C C C C C C T C C C C C C C C C C C C C C C C C C C C T C C C C C C C C C C C C C C C C C C\r\n"
     ]
    }
   ],
   "source": [
    "!python preparing_file_for_correcting_genotypes.py \\\n",
    "../../stacks_wgenome/batch_1.haplotypes2.tsv \\\n",
    "../../stacks_wgenome/batch_1.biallelic_catalog.tsv \\\n",
    "../../stacks_wgenome/batch_1.catalog.snps2.tsv \\\n",
    "1"
   ]
  },
  {
   "cell_type": "markdown",
   "metadata": {},
   "source": [
    "\n",
    "**Step Three**: Unzip all .tags files, and then run Marine's script to verify genotypes. \n",
    "\n",
    "\n",
    "Normally, I would run the interactive script from the commen line: `gzip_MBgenotypesverif_BASHshell.sh`\n",
    "\n",
    "However, all of my files are already unzipped. So I'm just going to run Marine's scripts by itself. -- but I am going to test my takeARGS script\n",
    "\n",
    "\n"
   ]
  },
  {
   "cell_type": "code",
   "execution_count": 25,
   "metadata": {
    "collapsed": false
   },
   "outputs": [
    {
     "name": "stdout",
     "output_type": "stream",
     "text": [
      "############## EDITED FROM Marine Brieuc   mbrieuc <a> uw.edu -- TO TAKE COMMAND LINE ARGUMENTS\r\n",
      "\r\n",
      "#MF 2/13/2017\r\n",
      "\r\n",
      "# argument 1- absolute path to folder containing stacks files (DON'T INCLUDE FINAL \"/\")\r\n",
      "# argument 2- population map file, used in stacks' populations\r\n",
      "# argument 3- batch #\r\n",
      "# argument 4- minimum stack depth\r\n",
      "##########################################################################################\r\n",
      "#python genotypes_verif_v2_no_ref.py\r\n"
     ]
    }
   ],
   "source": [
    "!head -n 10 genotypes_verif_v2_no_ref_takeARGS.py"
   ]
  },
  {
   "cell_type": "code",
   "execution_count": null,
   "metadata": {
    "collapsed": false
   },
   "outputs": [
    {
     "name": "stdout",
     "output_type": "stream",
     "text": [
      "KOD03_035\n",
      "KOD03_051\n",
      "KOD03_052\n",
      "KOD03_053\n",
      "KOD03_054\n",
      "KOD03_055\n",
      "KOD03_056\n",
      "KOD03_057\n",
      "KOD03_058\n",
      "KOD03_059\n",
      "KOD03_060\n",
      "KOD03_061\n",
      "KOD03_062\n",
      "KOD03_063\n",
      "KOD03_064\n",
      "KOD03_065\n",
      "KOD03_066\n",
      "KOD03_067\n",
      "KOD03_068\n",
      "KOD03_069\n",
      "KOD03_070\n",
      "KOD03_071\n",
      "KOD03_072\n",
      "KOD03_073\n",
      "KOD03_074\n",
      "KOD03_075\n",
      "KOD03_076\n",
      "KOD03_077\n",
      "KOD03_078\n",
      "KOD03_079\n",
      "KOD03_080\n",
      "KOD03_081\n",
      "KOD03_082\n",
      "KOD03_083\n",
      "KOD03_084\n",
      "KOD03_085\n",
      "KOD03_086\n",
      "KOD03_087\n",
      "KOD03_088\n",
      "KOD03_089\n",
      "KOD03_090\n",
      "KOD03_091\n",
      "KOD03_092\n",
      "KOD03_093\n",
      "KOD03_094\n",
      "KOD03_095\n",
      "KOD03_096\n",
      "KOD03_097\n",
      "AD06_001\n",
      "AD06_002\n",
      "AD06_003\n",
      "AD06_004\n",
      "AD06_005\n",
      "AD06_006\n",
      "AD06_007\n",
      "AD06_008\n",
      "AD06_009\n",
      "AD06_010\n",
      "AD06_011\n",
      "AD06_012\n",
      "AD06_013\n",
      "AD06_014\n",
      "AD06_015\n",
      "AD06_016\n",
      "AD06_017\n",
      "AD06_018\n",
      "AD06_019\n",
      "AD06_020\n",
      "AD06_021\n",
      "AD06_022\n",
      "AD06_023\n",
      "AD06_024\n",
      "AD06_025\n",
      "AD06_026\n",
      "AD06_027\n",
      "AD06_028\n",
      "AD06_029\n",
      "AD06_030\n",
      "AD06_031\n",
      "AD06_032\n",
      "AD06_033\n",
      "AD06_034\n",
      "AD06_035\n",
      "AD06_036\n",
      "AD06_037\n",
      "AD06_038\n",
      "AD06_039\n",
      "AD06_040\n",
      "AD06_041\n",
      "AD06_042\n",
      "AD06_043\n",
      "AD06_044\n",
      "AD06_045\n",
      "AD06_046\n",
      "AD06_047\n",
      "AD06_048\n",
      "WC05_001\n",
      "WC05_002\n",
      "WC05_003\n",
      "WC05_004\n",
      "WC05_005\n",
      "WC05_006\n",
      "WC05_007\n",
      "WC05_008\n",
      "WC05_009\n",
      "WC05_010\n",
      "WC05_011\n",
      "WC05_012\n",
      "WC05_013\n",
      "WC05_014\n",
      "WC05_015\n",
      "WC05_016\n",
      "WC05_017\n",
      "WC05_018\n",
      "WC05_019\n",
      "WC05_020\n",
      "WC05_021\n",
      "WC05_022\n",
      "WC05_023\n",
      "WC05_024\n",
      "WC05_025\n",
      "WC05_026\n",
      "WC05_027\n",
      "WC05_028\n",
      "WC05_029\n",
      "WC05_030\n",
      "WC05_031\n",
      "WC05_032\n",
      "WC05_033\n",
      "WC05_034\n",
      "WC05_035\n",
      "WC05_036\n",
      "WC05_037\n",
      "WC05_038\n",
      "WC05_039\n",
      "WC05_040\n",
      "WC05_041\n",
      "WC05_042\n",
      "WC05_043\n",
      "WC05_044\n",
      "WC05_045\n",
      "WC05_046\n",
      "WC05_047\n",
      "WC05_048\n",
      "HS04_001\n",
      "HS04_002\n",
      "HS04_003\n",
      "HS04_004\n",
      "HS04_005\n",
      "HS04_006\n",
      "HS04_007\n",
      "HS04_008\n",
      "HS04_009\n",
      "HS04_010\n",
      "HS04_011\n",
      "HS04_012\n",
      "HS04_013\n",
      "HS04_014\n",
      "HS04_015\n",
      "HS04_016\n",
      "HS04_017\n",
      "HS04_018\n",
      "HS04_019\n",
      "HS04_020\n",
      "HS04_021\n",
      "HS04_022\n",
      "HS04_023\n",
      "HS04_024\n",
      "HS04_025\n",
      "HS04_026\n",
      "HS04_027\n",
      "HS04_028\n",
      "HS04_029\n",
      "HS04_030\n",
      "HS04_031\n",
      "HS04_032\n",
      "HS04_033\n",
      "HS04_034\n",
      "HS04_035\n",
      "HS04_036\n",
      "HS04_037\n",
      "HS04_038\n",
      "HS04_039\n",
      "HS04_040\n",
      "HS04_041\n",
      "HS04_042\n",
      "HS04_043\n",
      "HS04_044\n",
      "HS04_045\n",
      "HS04_046\n",
      "HS04_047\n",
      "HS04_048\n",
      "PI04_001\n",
      "PI04_002\n",
      "PI04_003\n",
      "PI04_004\n",
      "PI04_005\n",
      "PI04_006\n",
      "PI04_007\n",
      "PI04_008\n",
      "PI04_009\n",
      "PI04_010\n",
      "PI04_011\n",
      "PI04_012\n",
      "PI04_013\n",
      "PI04_014\n",
      "PI04_015\n",
      "PI04_016\n",
      "PI04_017\n",
      "PI04_018\n",
      "PI04_019\n",
      "PI04_020\n",
      "PI04_021\n",
      "PI04_022\n",
      "PI04_023\n",
      "PI04_024\n",
      "PI04_025\n",
      "PI04_026\n",
      "PI04_027\n",
      "PI04_028\n",
      "PI04_029\n",
      "PI04_030\n",
      "PI04_031\n",
      "PI04_032\n",
      "PI04_033\n",
      "PI04_034\n",
      "PI04_035\n",
      "PI04_036\n",
      "PI04_037\n",
      "PI04_038\n",
      "PI04_039\n",
      "PI04_040\n",
      "PI04_041\n",
      "PI04_042\n",
      "PI04_043\n",
      "PI04_044\n",
      "PI04_045\n",
      "PI04_046\n",
      "PI04_047\n",
      "PI04_048\n",
      "PS12_008\n",
      "PS12_048\n",
      "PS12_031\n",
      "PS12_036\n",
      "PS12_030\n",
      "PS12_006\n",
      "PS12_016\n",
      "PS12_033\n",
      "PS12_015\n",
      "PS12_014\n",
      "PS12_044\n",
      "PS12_037\n",
      "PS12_004\n",
      "PS12_040\n",
      "PS12_023\n",
      "PS12_042\n",
      "PS12_024\n",
      "PS12_034\n",
      "PS12_003\n",
      "PS12_002\n",
      "PS12_001\n",
      "PS12_041\n",
      "PS12_013\n",
      "PS12_027\n",
      "PS12_039\n",
      "PS12_020\n",
      "PS12_012\n",
      "PS12_029\n",
      "PS12_022\n",
      "PS12_007\n",
      "PS12_046\n",
      "PS12_043\n",
      "PS12_045\n",
      "PS12_011\n",
      "PS12_028\n",
      "PS12_021\n",
      "PS12_026\n",
      "PS12_010\n",
      "PS12_025\n",
      "PS12_019\n",
      "PS12_038\n",
      "PS12_017\n",
      "PS12_047\n",
      "PS12_032\n",
      "PS12_018\n",
      "PS12_035\n",
      "PS12_005\n",
      "PS12_009\n",
      "GS13_001\n",
      "GS13_002\n",
      "GS13_003\n",
      "GS13_004\n",
      "GS13_005\n"
     ]
    }
   ],
   "source": [
    "!python genotypes_verif_v2_no_ref_takeARGS.py ../../stacks_wgenome \\\n",
    "../PopMap.txt \\\n",
    "1 \\\n",
    "10"
   ]
  },
  {
   "cell_type": "markdown",
   "metadata": {},
   "source": [
    "\n",
    "This automatically saves my new biallelic catalog as: \n",
    "\n",
    "`../stacks_wgenome/batch_1.biallelic_catalog.txt`\n",
    "\n",
    "But the genotypes are in \"-\", \"a\", \"ab\", \"b\" format.\n",
    "\n",
    "<br>\n",
    "**Step Four:** Run Charlie's genepop_conversion_corrected.py script"
   ]
  },
  {
   "cell_type": "code",
   "execution_count": null,
   "metadata": {
    "collapsed": true
   },
   "outputs": [],
   "source": []
  }
 ],
 "metadata": {
  "anaconda-cloud": {},
  "kernelspec": {
   "display_name": "Python [default]",
   "language": "python",
   "name": "python2"
  },
  "language_info": {
   "codemirror_mode": {
    "name": "ipython",
    "version": 2
   },
   "file_extension": ".py",
   "mimetype": "text/x-python",
   "name": "python",
   "nbconvert_exporter": "python",
   "pygments_lexer": "ipython2",
   "version": "2.7.12"
  }
 },
 "nbformat": 4,
 "nbformat_minor": 1
}
