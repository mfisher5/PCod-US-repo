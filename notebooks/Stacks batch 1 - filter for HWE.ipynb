{
 "cells": [
  {
   "cell_type": "markdown",
   "metadata": {},
   "source": [
    "## Filtering for Hardy-Weinberg equilibrium\n",
    "\n",
    "\n",
    "<br>\n",
    "\n",
    "This notebook filters loci that are out of Hardy-Weinberg equilibrium. \n",
    "\n",
    "### 1. Ran GENEPOP \n",
    "\n",
    "On the genepop file `batch_1_filteredIndivids_filteredMAFfilteredLoci20p.txt`\n",
    "\n",
    "Use the options: \n",
    "`1... Hardy-Weinberg exact tests >> 3...test for each locus in each population, Probability test`\n",
    "\n",
    "\n",
    "\n",
    "<br>\n",
    "\n",
    "### 2. Parse GENEPOP output\n",
    "\n",
    "Genepop put out a file `batch_1...txt.P` that contains, at the bottom, a list of by-locus p-values and Fis estimates by population. \n",
    "\n",
    "I created the following script to parse out this information into TWO tab-delimited files that are organized as 2x2 charts: locus in the first column, and population in the first row. The first file gives calculated HWE p-values, and the second file contains the W&C Fis estimates.  "
   ]
  },
  {
   "cell_type": "code",
   "execution_count": 1,
   "metadata": {
    "collapsed": false,
    "scrolled": true
   },
   "outputs": [
    {
     "data": {
      "text/plain": [
       "u'/mnt/hgfs/Pacific cod/DataAnalysis/PCod-US-repo/notebooks'"
      ]
     },
     "execution_count": 1,
     "metadata": {},
     "output_type": "execute_result"
    }
   ],
   "source": [
    "pwd"
   ]
  },
  {
   "cell_type": "code",
   "execution_count": 24,
   "metadata": {
    "collapsed": false
   },
   "outputs": [
    {
     "name": "stdout",
     "output_type": "stream",
     "text": [
      "/mnt/hgfs/Pacific cod/DataAnalysis/PCod-US-repo/analyses\n"
     ]
    }
   ],
   "source": [
    "cd ../analyses"
   ]
  },
  {
   "cell_type": "code",
   "execution_count": 25,
   "metadata": {
    "collapsed": false
   },
   "outputs": [
    {
     "name": "stdout",
     "output_type": "stream",
     "text": [
      "#### This script will take the output file from genepop's HWE by locus exact test (option 1 >>> 3) and create two files with 2x2 arrays to parse out the HWE p-value and the HWE Fis value per locus per population      ####\r\n",
      "\r\n",
      "## at command line: python parse_genepop_HWEbylocus.py ARG1 ##\r\n",
      "##---ARG\r\n",
      "\r\n",
      "\r\n",
      "\r\n",
      "import argparse\r\n",
      "\r\n",
      "parser = argparse.ArgumentParser()\r\n"
     ]
    }
   ],
   "source": [
    "!head parse_genepop_HWEbylocus.py"
   ]
  },
  {
   "cell_type": "code",
   "execution_count": 37,
   "metadata": {
    "collapsed": false
   },
   "outputs": [
    {
     "name": "stdout",
     "output_type": "stream",
     "text": [
      "generating dictionaries of pvalues and fis values...\n",
      "writing output to files...\n",
      "done.\n"
     ]
    }
   ],
   "source": [
    "!python parse_genepop_HWEbylocus.py \\\n",
    "-p ../stacks_wgenome/batch_1_filteredIndivids_filteredMAFfilteredLoci20p.txt.P \\\n",
    "-op batch_1_HWEpvals.txt \\\n",
    "-of batch_1_Fis.txt"
   ]
  },
  {
   "cell_type": "markdown",
   "metadata": {},
   "source": [
    "My HWE p-value script also created a 9th column titled \"Percent.Sig\", which calculates how many of the eight populations has a p value BELOW 0.05. Percents are calculated using all eight populations even if some of the populations had \"NA\". "
   ]
  },
  {
   "cell_type": "markdown",
   "metadata": {
    "collapsed": true
   },
   "source": [
    "\n",
    "\n",
    "<br>\n",
    "\n",
    "### 3. Graph distribution of loci out of HWE \n",
    "\n",
    "\n",
    "<br>\n",
    "For each locus, I calculated the percentage of populations in which that locus was out of HWE. I then plotted a histogram. "
   ]
  },
  {
   "cell_type": "code",
   "execution_count": 1,
   "metadata": {
    "collapsed": false
   },
   "outputs": [
    {
     "data": {
      "text/plain": [
       "u'/mnt/hgfs/Pacific cod/DataAnalysis/PCod-US-repo/notebooks'"
      ]
     },
     "execution_count": 1,
     "metadata": {},
     "output_type": "execute_result"
    }
   ],
   "source": [
    "pwd"
   ]
  },
  {
   "cell_type": "code",
   "execution_count": 3,
   "metadata": {
    "collapsed": false
   },
   "outputs": [
    {
     "name": "stdout",
     "output_type": "stream",
     "text": [
      "/mnt/hgfs/Pacific cod/DataAnalysis/PCod-US-repo/analyses\n"
     ]
    }
   ],
   "source": [
    "cd ../analyses"
   ]
  },
  {
   "cell_type": "code",
   "execution_count": 4,
   "metadata": {
    "collapsed": false
   },
   "outputs": [
    {
     "name": "stdout",
     "output_type": "stream",
     "text": [
      "# parsed GENEPOP output, HWE p-values by locus by population. #\r\n",
      "locus\tKOD03\tAD06\tWC05\tHS04\tPS12\tGS13\tPWS12\tUP03\tPercent.Sig\r\n",
      "4447\t1.0000\t0.5628\t0.1538\t0.5035\t0.3988\t1.0000\t0.5509\t1.0000\t0.0\r\n",
      "828\t1.0000\t0.0681\t0.0501\t0.2720\t0.0089\tNA\t0.5394\t0.3119\t0.125\r\n",
      "4027\t1.0000\tNA\t1.0000\t1.0000\t1.0000\tNA\tNA\tNA\t0.0\r\n",
      "11546\tNA\tNA\tNA\tNA\tNA\tNA\t1.0000\t1.0000\t0.0\r\n",
      "4023\t0.0039\t0.0011\t1.0000\t0.0813\t0.5704\t0.2547\t0.6555\t0.0046\t0.375\r\n",
      "11544\t0.0001\t0.0055\t0.0326\t0.0925\t0.0301\t0.0922\t0.0545\t0.4815\t0.5\r\n",
      "7844\t1.0000\tNA\tNA\tNA\tNA\tNA\t1.0000\tNA\t0.0\r\n",
      "4028\t1.0000\tNA\tNA\t1.0000\t1.0000\tNA\tNA\tNA\t0.0\r\n"
     ]
    }
   ],
   "source": [
    "!head batch_1_HWEpvals.txt"
   ]
  },
  {
   "cell_type": "code",
   "execution_count": 47,
   "metadata": {
    "collapsed": false
   },
   "outputs": [],
   "source": [
    "infile = open(\"batch_1_HWEpvals.txt\", \"r\")\n",
    "\n",
    "percents = []\n",
    "loci_list = []\n",
    "\n",
    "for line in infile:\n",
    "    if \"locus\" not in line:\n",
    "        new_percent = float(line.strip().split()[9])\n",
    "        percents.append(new_percent)\n",
    "        loci_list.append(line.strip().split()[0])\n",
    "\n",
    "infile.close()"
   ]
  },
  {
   "cell_type": "code",
   "execution_count": 48,
   "metadata": {
    "collapsed": true
   },
   "outputs": [],
   "source": [
    "import numpy as np\n",
    "import matplotlib.pyplot as plt"
   ]
  },
  {
   "cell_type": "code",
   "execution_count": 49,
   "metadata": {
    "collapsed": false
   },
   "outputs": [
    {
     "data": {
      "image/png": "[encoded data removed]",
      "text/plain": [
       "<matplotlib.figure.Figure at 0x7f6a4b9b4d90>"
      ]
     },
     "metadata": {},
     "output_type": "display_data"
    }
   ],
   "source": [
    "plt.hist(percents, bins = np.arange(-0.1, 1.1, .05)+0.05, color = \"darkcyan\")\n",
    "plt.suptitle(\"Distribution of % of populations out of HWE\")\n",
    "plt.xlabel(\"% of populations out of HWE (by locus)\")\n",
    "plt.ylabel(\"# Loci\")\n",
    "plt.show()"
   ]
  },
  {
   "cell_type": "code",
   "execution_count": 50,
   "metadata": {
    "collapsed": true
   },
   "outputs": [],
   "source": [
    "plt.close()"
   ]
  },
  {
   "cell_type": "markdown",
   "metadata": {},
   "source": [
    "\n",
    "<br>\n",
    "Based on the distribution above, I'm going to create a list of the loci that are out of Hardy-Weinberg Equilibrium in more than 6 of the populations (0.75). \n",
    "\n",
    "Since the loci were added to `loci_list` in the same order as the percents were added to `percents`, I can do this by extracting a list of indices from percents and then using those to refer to certain loci. "
   ]
  },
  {
   "cell_type": "code",
   "execution_count": 63,
   "metadata": {
    "collapsed": false
   },
   "outputs": [],
   "source": [
    "#extract indices of loci with >6 pops out of HWE\n",
    "indices = []\n",
    "count = 0 \n",
    "\n",
    "for i in range(0, len(percents)):\n",
    "    if percents[i] >= 0.75:\n",
    "        indices.append(i)"
   ]
  },
  {
   "cell_type": "code",
   "execution_count": 65,
   "metadata": {
    "collapsed": false
   },
   "outputs": [
    {
     "name": "stdout",
     "output_type": "stream",
     "text": [
      "126\n"
     ]
    }
   ],
   "source": [
    "print len(indices)"
   ]
  },
  {
   "cell_type": "code",
   "execution_count": 66,
   "metadata": {
    "collapsed": false
   },
   "outputs": [],
   "source": [
    "# create a new list of loci to remove and write to file for later. \n",
    "outfile = open(\"Loci_outof_HWE_6of8pops.txt\", \"w\")\n",
    "outfile.write(\"# These loci have more than 6 populations out of HWE. 4-5-2017.\\n\")\n",
    "\n",
    "for index in indices:\n",
    "    newlocus = loci_list[index]\n",
    "    outfile.write(newlocus + \"\\n\")\n",
    "outfile.close()"
   ]
  },
  {
   "cell_type": "code",
   "execution_count": null,
   "metadata": {
    "collapsed": true
   },
   "outputs": [],
   "source": []
  }
 ],
 "metadata": {
  "anaconda-cloud": {},
  "kernelspec": {
   "display_name": "Python [default]",
   "language": "python",
   "name": "python2"
  },
  "language_info": {
   "codemirror_mode": {
    "name": "ipython",
    "version": 2
   },
   "file_extension": ".py",
   "mimetype": "text/x-python",
   "name": "python",
   "nbconvert_exporter": "python",
   "pygments_lexer": "ipython2",
   "version": "2.7.12"
  }
 },
 "nbformat": 4,
 "nbformat_minor": 1
}
