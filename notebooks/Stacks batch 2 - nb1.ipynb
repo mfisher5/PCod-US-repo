{
 "cells": [
  {
   "cell_type": "markdown",
   "metadata": {},
   "source": [
    "## Stacks batch 2 - nb1\n",
    "\n",
    "This notebook contains ustacks --> reference genome building for US Cod batch 2 of the stacks pipeline. \n",
    "\n",
    "The major difference between batch 2 and batch 1 is that in batch 2 I am using a **stack depth of 5** for the first run-through of stacks, rather than a stack depth of 10. \n",
    "\n",
    "\n",
    "### 4/30/2017\n",
    "\n",
    "### ustacks\n",
    "\n",
    "I set up ustacks to run batch 2 (**-m 5**)"
   ]
  },
  {
   "cell_type": "code",
   "execution_count": 1,
   "metadata": {
    "collapsed": false
   },
   "outputs": [
    {
     "name": "stdout",
     "output_type": "stream",
     "text": [
      "/mnt/hgfs/Pacific cod/DataAnalysis/PCod-US-repo/scripts\n"
     ]
    }
   ],
   "source": [
    "cd ../scripts"
   ]
  },
  {
   "cell_type": "code",
   "execution_count": 2,
   "metadata": {
    "collapsed": false
   },
   "outputs": [
    {
     "name": "stdout",
     "output_type": "stream",
     "text": [
      "#!/bin/bash\r\n",
      "\r\n",
      "mkdir ../stacks_b2\r\n",
      "\r\n",
      "\r\n",
      "#ustacks\r\n",
      "ustacks -t gzfastq -f ../samplesT92/KOD03_035.fq.gz -r -d -o ../stacks_b2 -i 001 -m 5 -M 3 -p 6 --model_type bounded\r\n",
      "ustacks -t gzfastq -f ../samplesT92/KOD03_051.fq.gz -r -d -o ../stacks_b2 -i 002 -m 5 -M 3 -p 6 --model_type bounded\r\n",
      "ustacks -t gzfastq -f ../samplesT92/KOD03_052.fq.gz -r -d -o ../stacks_b2 -i 003 -m 5 -M 3 -p 6 --model_type bounded\r\n",
      "ustacks -t gzfastq -f ../samplesT92/KOD03_053.fq.gz -r -d -o ../stacks_b2 -i 004 -m 5 -M 3 -p 6 --model_type bounded\r\n"
     ]
    }
   ],
   "source": [
    "!head ustacks_counts_4-30.sh"
   ]
  },
  {
   "cell_type": "code",
   "execution_count": null,
   "metadata": {
    "collapsed": true
   },
   "outputs": [],
   "source": [
    "# run at command line\n",
    "\n",
    "./ustacks_counts_4-30.sh"
   ]
  },
  {
   "cell_type": "markdown",
   "metadata": {},
   "source": [
    "\n",
    "<br>\n",
    "For some reason the counts code did not run, so I will have to do that separately. \n",
    "\n",
    "I created a script that will very quickly count the number of tags in gzipped `ustacks` .tags files - it gets through each file (~40-50K loci per file) in 5 seconds at the slowest. \n",
    "\n",
    "\n",
    "The only downside is that the output file does not have the names of the ssamples next to the counts, so you'll  have to concatenate the two in excel (or you can use my python code below)\n",
    "<br>"
   ]
  },
  {
   "cell_type": "code",
   "execution_count": 1,
   "metadata": {
    "collapsed": false
   },
   "outputs": [
    {
     "name": "stdout",
     "output_type": "stream",
     "text": [
      "/mnt/hgfs/Pacific cod/DataAnalysis/PCod-US-repo/scripts\n"
     ]
    }
   ],
   "source": [
    "cd ../scripts"
   ]
  },
  {
   "cell_type": "code",
   "execution_count": 3,
   "metadata": {
    "collapsed": false
   },
   "outputs": [
    {
     "name": "stdout",
     "output_type": "stream",
     "text": [
      "### This script creates a shell to unzip and count the number of loci in each ustacks tags file ###\r\n",
      "\r\n",
      "import argparse \r\n",
      "import gzip \r\n",
      "\r\n",
      "parser = argparse.ArgumentParser(description=\"count number of consensus seqs in .tags files\")\r\n",
      "\r\n",
      "parser.add_argument(\"-s\", \"--samples\", help=\"file with list of samples\")\r\n",
      "parser.add_argument(\"-d\", \"--directory\", help=\"stacks directory with tags files; can be local path, don't include final '/'\")\r\n",
      "parser.add_argument(\"-sh\", \"--shell\", help=\"name of the shell file you want to create\")\r\n"
     ]
    }
   ],
   "source": [
    "!head countloci_tagsfiles_shell.py"
   ]
  },
  {
   "cell_type": "code",
   "execution_count": 13,
   "metadata": {
    "collapsed": false
   },
   "outputs": [],
   "source": [
    "!python countloci_tagsfiles_shell.py \\\n",
    "-s PopMap.txt \\\n",
    "-d ../stacks_b2 \\\n",
    "-sh ustacks_countloci_5-23.sh"
   ]
  },
  {
   "cell_type": "code",
   "execution_count": 14,
   "metadata": {
    "collapsed": false
   },
   "outputs": [
    {
     "name": "stdout",
     "output_type": "stream",
     "text": [
      "#!/bin/bash\r\n",
      "zcat ../stacks_b2/KOD03_035.tags.tsv.gz| python countloci_single_tagsfile.py\r\n",
      "zcat ../stacks_b2/KOD03_051.tags.tsv.gz| python countloci_single_tagsfile.py\r\n",
      "zcat ../stacks_b2/KOD03_052.tags.tsv.gz| python countloci_single_tagsfile.py\r\n",
      "zcat ../stacks_b2/KOD03_053.tags.tsv.gz| python countloci_single_tagsfile.py\r\n",
      "zcat ../stacks_b2/KOD03_054.tags.tsv.gz| python countloci_single_tagsfile.py\r\n",
      "zcat ../stacks_b2/KOD03_055.tags.tsv.gz| python countloci_single_tagsfile.py\r\n",
      "zcat ../stacks_b2/KOD03_056.tags.tsv.gz| python countloci_single_tagsfile.py\r\n",
      "zcat ../stacks_b2/KOD03_057.tags.tsv.gz| python countloci_single_tagsfile.py\r\n",
      "zcat ../stacks_b2/KOD03_058.tags.tsv.gz| python countloci_single_tagsfile.py\r\n"
     ]
    }
   ],
   "source": [
    "!head ustacks_countloci_5-23.sh"
   ]
  },
  {
   "cell_type": "code",
   "execution_count": 15,
   "metadata": {
    "collapsed": false
   },
   "outputs": [
    {
     "name": "stdout",
     "output_type": "stream",
     "text": [
      "### This script counts the number of loci in a ustacks tags file, piped from gzip ###\r\n",
      "\r\n",
      "import sys\r\n",
      "\r\n",
      "outfile = open(\"ustacks_locicounts.txt\", \"w\")\r\n",
      "\r\n",
      "for line in sys.stdin:\r\n",
      "\tif \"consensus\" in line:\r\n",
      "\t\tloci_count += 1\r\n",
      "\r\n"
     ]
    }
   ],
   "source": [
    "!head countloci_single_tagsfile.py"
   ]
  },
  {
   "cell_type": "code",
   "execution_count": 12,
   "metadata": {
    "collapsed": true
   },
   "outputs": [],
   "source": [
    "!chmod +x ustacks_countloci_5-23.sh"
   ]
  },
  {
   "cell_type": "code",
   "execution_count": null,
   "metadata": {
    "collapsed": true
   },
   "outputs": [],
   "source": [
    "# run at the command line\n",
    "./ustacks_countloci_5-23.sh"
   ]
  },
  {
   "cell_type": "markdown",
   "metadata": {},
   "source": [
    "\n",
    "<br>\n",
    "\n",
    "### Choosing samples for cstacks"
   ]
  },
  {
   "cell_type": "code",
   "execution_count": 16,
   "metadata": {
    "collapsed": false
   },
   "outputs": [
    {
     "name": "stdout",
     "output_type": "stream",
     "text": [
      "/mnt/hgfs/Pacific cod/DataAnalysis/PCod-US-repo/analyses/stacks_pipeline_visuals\n"
     ]
    }
   ],
   "source": [
    "cd ../analyses/stacks_pipeline_visuals/"
   ]
  },
  {
   "cell_type": "code",
   "execution_count": 22,
   "metadata": {
    "collapsed": false
   },
   "outputs": [],
   "source": [
    "readfile = open(\"n_reads_batch2.txt\", \"r\")\n",
    "tagfile = open(\"n_tags_batch2.txt\", \"r\")\n",
    "\n",
    "n_reads = []\n",
    "n_tags = []\n",
    "samples = []\n",
    "\n",
    "for line in readfile:\n",
    "    n_reads.append(int(line.strip().split()[1]))\n",
    "    samples.append(line.strip().split()[0])\n",
    "readfile.close()\n",
    "\n",
    "for line in tagfile: \n",
    "    n_tags.append(int(line.strip().split()[1]))\n",
    "tagfile.close()"
   ]
  },
  {
   "cell_type": "code",
   "execution_count": 23,
   "metadata": {
    "collapsed": true
   },
   "outputs": [],
   "source": [
    "import numpy as np\n",
    "import matplotlib.pyplot as plt"
   ]
  },
  {
   "cell_type": "code",
   "execution_count": 24,
   "metadata": {
    "collapsed": false
   },
   "outputs": [
    {
     "data": {
      "image/png": "[encoded data removed]",
      "text/plain": [
       "<matplotlib.figure.Figure at 0x7fab41994c50>"
      ]
     },
     "metadata": {},
     "output_type": "display_data"
    }
   ],
   "source": [
    "plt.scatter(n_reads, n_tags)\n",
    "plt.suptitle(\"Read Depth v. Number of Loci, batch 2\")\n",
    "plt.xlabel(\"Total Number Reads (FastQ)\")\n",
    "plt.ylabel(\"Total Number of Loci (ustacks)\")\n",
    "plt.show()"
   ]
  },
  {
   "cell_type": "code",
   "execution_count": 25,
   "metadata": {
    "collapsed": true
   },
   "outputs": [],
   "source": [
    "plt.close()"
   ]
  },
  {
   "cell_type": "code",
   "execution_count": null,
   "metadata": {
    "collapsed": true
   },
   "outputs": [],
   "source": []
  },
  {
   "cell_type": "code",
   "execution_count": 28,
   "metadata": {
    "collapsed": false
   },
   "outputs": [
    {
     "data": {
      "text/plain": [
       "0.363395225464191"
      ]
     },
     "execution_count": 28,
     "metadata": {},
     "output_type": "execute_result"
    }
   ],
   "source": [
    "float(sum(i > 2000000 for i in n_reads)) / float(len(n_reads))"
   ]
  },
  {
   "cell_type": "code",
   "execution_count": 29,
   "metadata": {
    "collapsed": false
   },
   "outputs": [
    {
     "data": {
      "text/plain": [
       "0.5039787798408488"
      ]
     },
     "execution_count": 29,
     "metadata": {},
     "output_type": "execute_result"
    }
   ],
   "source": [
    "float(sum(i > 1500000 for i in n_reads)) / float(len(n_reads))"
   ]
  },
  {
   "cell_type": "markdown",
   "metadata": {},
   "source": [
    "Based on this, I'm not going to use the individual with over 70K tags, and I'm only going to use individuals with more than 1.5 million reads. "
   ]
  },
  {
   "cell_type": "markdown",
   "metadata": {},
   "source": [
    "## cstacks --> populations\n",
    "\n",
    "still with a **stack depth of 5**. "
   ]
  },
  {
   "cell_type": "code",
   "execution_count": null,
   "metadata": {
    "collapsed": true
   },
   "outputs": [],
   "source": []
  }
 ],
 "metadata": {
  "anaconda-cloud": {},
  "kernelspec": {
   "display_name": "Python [default]",
   "language": "python",
   "name": "python2"
  },
  "language_info": {
   "codemirror_mode": {
    "name": "ipython",
    "version": 2
   },
   "file_extension": ".py",
   "mimetype": "text/x-python",
   "name": "python",
   "nbconvert_exporter": "python",
   "pygments_lexer": "ipython2",
   "version": "2.7.12"
  }
 },
 "nbformat": 4,
 "nbformat_minor": 1
}
