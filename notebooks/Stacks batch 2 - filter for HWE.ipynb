{
 "cells": [
  {
   "cell_type": "markdown",
   "metadata": {},
   "source": [
    "## Filtering for Hardy-Weinberg equilibrium\n",
    "\n",
    "\n",
    "<br>\n",
    "\n",
    "This notebook filters loci that are out of Hardy-Weinberg equilibrium for **BATCH 2**\n",
    "\n",
    "#### 6/12/2017\n",
    "\n",
    "### 1. Convert final file to genepop\n",
    "\n"
   ]
  },
  {
   "cell_type": "code",
   "execution_count": 1,
   "metadata": {
    "collapsed": false,
    "scrolled": true
   },
   "outputs": [
    {
     "data": {
      "text/plain": [
       "u'/mnt/hgfs/Pacific cod/DataAnalysis/PCod-US-repo/notebooks'"
      ]
     },
     "execution_count": 1,
     "metadata": {},
     "output_type": "execute_result"
    }
   ],
   "source": [
    "pwd"
   ]
  },
  {
   "cell_type": "code",
   "execution_count": 2,
   "metadata": {
    "collapsed": false
   },
   "outputs": [
    {
     "name": "stdout",
     "output_type": "stream",
     "text": [
      "/mnt/hgfs/Pacific cod/DataAnalysis/PCod-US-repo/scripts/PostStacksFiltering\n"
     ]
    }
   ],
   "source": [
    "cd ../scripts/PostStacksFiltering/"
   ]
  },
  {
   "cell_type": "code",
   "execution_count": 3,
   "metadata": {
    "collapsed": false,
    "scrolled": true
   },
   "outputs": [
    {
     "name": "stdout",
     "output_type": "stream",
     "text": [
      "#### This script converts the FINAL filtered .csv document (corrected genotypes, MAF filtered, low coverage loci filtered, low coverage individuals filtered) into a genepop file format ####\r",
      "\r\n",
      "\r",
      "\r\n",
      "## MF 12/13/2016\r",
      "\r\n",
      "\r",
      "\r\n",
      "## ARG1 : .csv file\r",
      "\r\n",
      "## ARG2 : name of genepop file (must be .gen)\r",
      "\r\n",
      "### Note -- LEAVE the \"sample\" header in the .csv file. Edit the correct title line AND the population indices in the script below. \r",
      "\r\n",
      "#############################################################################################\r",
      "\r\n",
      "\r",
      "\r\n",
      "import sys\r",
      "\r\n"
     ]
    }
   ],
   "source": [
    "!head genepop_conversion_forR_6-12.py"
   ]
  },
  {
   "cell_type": "code",
   "execution_count": 5,
   "metadata": {
    "collapsed": false
   },
   "outputs": [],
   "source": [
    "!python genepop_conversion_forR_6-12.py \\\n",
    "../../stacks_b2_wgenome/batch_2.filteredMAF_filteredLoci_filteredIndivids.csv \\\n",
    "../../stacks_b2_wgenome/batch_2.filteredMAF_filteredLoci_filteredIndivids.gen"
   ]
  },
  {
   "cell_type": "markdown",
   "metadata": {},
   "source": [
    "\n",
    "I then changed the file name to `batch_2_filteredMAF_filteredLoci_filteredIndivids.txt` for genepop, which requires a text file and cannot have a second \"`.`\" in the file name. "
   ]
  },
  {
   "cell_type": "markdown",
   "metadata": {},
   "source": [
    "\n",
    "\n",
    "\n",
    "\n",
    "### 2. Ran GENEPOP \n",
    "\n",
    "On the genepop file `batch_2_filteredMAF_filteredLoci_filteredIndivids.txt`\n",
    "\n",
    "Use the options: \n",
    "`1... Hardy-Weinberg exact tests >> 3...test for each locus in each population, Probability test`\n",
    "\n",
    "\n",
    "\n",
    "<br>\n",
    "\n",
    "\n",
    "### 3. Parse GENEPOP output\n",
    "\n",
    "Genepop put out a file `batch_2...txt.P` that contains, at the bottom, a list of by-locus p-values and Fis estimates by population. \n",
    "\n",
    "I created the following script to parse out this information into TWO tab-delimited files that are organized as 2x2 charts: locus in the first column, and population in the first row. The first file gives calculated HWE p-values, and the second file contains the W&C Fis estimates.  "
   ]
  },
  {
   "cell_type": "code",
   "execution_count": 7,
   "metadata": {
    "collapsed": false
   },
   "outputs": [
    {
     "name": "stdout",
     "output_type": "stream",
     "text": [
      "/mnt/hgfs/Pacific cod/DataAnalysis/PCod-US-repo/analyses\n"
     ]
    }
   ],
   "source": [
    "cd ../../analyses"
   ]
  },
  {
   "cell_type": "code",
   "execution_count": 11,
   "metadata": {
    "collapsed": false
   },
   "outputs": [
    {
     "name": "stdout",
     "output_type": "stream",
     "text": [
      "#### This script will take the output file from genepop's HWE by locus exact test (option 1 >>> 3) and create two files with 2x2 arrays to parse out the HWE p-value and the HWE Fis value per locus per population      ####\r\n",
      "\r\n",
      "import argparse\r\n",
      "\r\n",
      "parser = argparse.ArgumentParser()\r\n",
      "parser.add_argument(\"-p\", \"--P\", help=\"path & name of .P file output from genepop\")\r\n",
      "parser.add_argument(\"-op\", \"--OUTPUTpval\", help=\"path & name of the output file for the parsed HWE pvalues\")\r\n",
      "parser.add_argument(\"-of\", \"--OUTPUTfis\", help=\"path & name of the output file for the parsed Fis values\")\r\n",
      "args = parser.parse_args()\r\n",
      "\r\n"
     ]
    }
   ],
   "source": [
    "!head genepop/parse_genepop_HWEbylocus.py"
   ]
  },
  {
   "cell_type": "code",
   "execution_count": 12,
   "metadata": {
    "collapsed": false
   },
   "outputs": [
    {
     "name": "stdout",
     "output_type": "stream",
     "text": [
      "generating dictionaries of pvalues and fis values...\n",
      "writing output to files...\n",
      "done.\n"
     ]
    }
   ],
   "source": [
    "!python genepop/parse_genepop_HWEbylocus.py \\\n",
    "-p ../stacks_b2_wgenome/batch_2_filteredMAF_filteredLoci_filteredIndivids.txt.P \\\n",
    "-op batch_2_HWEpvals.txt \\\n",
    "-of batch_2_Fis.txt"
   ]
  },
  {
   "cell_type": "markdown",
   "metadata": {},
   "source": [
    "My HWE p-value script also created a 9th column titled \"Percent.Sig\", which calculates how many of the eight populations has a p value BELOW 0.05. Percents are calculated using all eight populations even if some of the populations had \"NA\". "
   ]
  },
  {
   "cell_type": "markdown",
   "metadata": {
    "collapsed": true
   },
   "source": [
    "\n",
    "<br>\n",
    "\n",
    "### 3. Graph distribution of loci out of HWE \n",
    "\n",
    "\n",
    "<br>\n",
    "For each locus, I calculated the percentage of populations in which that locus was out of HWE. I then plotted a histogram. "
   ]
  },
  {
   "cell_type": "code",
   "execution_count": 4,
   "metadata": {
    "collapsed": false
   },
   "outputs": [
    {
     "data": {
      "text/plain": [
       "u'/mnt/hgfs/Pacific cod/DataAnalysis/analyses'"
      ]
     },
     "execution_count": 4,
     "metadata": {},
     "output_type": "execute_result"
    }
   ],
   "source": [
    "pwd"
   ]
  },
  {
   "cell_type": "code",
   "execution_count": 5,
   "metadata": {
    "collapsed": false
   },
   "outputs": [
    {
     "name": "stdout",
     "output_type": "stream",
     "text": [
      "/mnt/hgfs/Pacific cod/DataAnalysis/PCod-US-repo/analyses\n"
     ]
    }
   ],
   "source": [
    "cd ../PCod-US-repo/analyses"
   ]
  },
  {
   "cell_type": "code",
   "execution_count": 6,
   "metadata": {
    "collapsed": false
   },
   "outputs": [
    {
     "name": "stdout",
     "output_type": "stream",
     "text": [
      "# parsed GENEPOP output, HWE p-values by locus by population. #\r\n",
      "locus\tKOD03\tAD06\tWC05\tHS04\tPS12\tGS13\tPWS12\tUP03\tPercent.Sig\r\n",
      "16078\t0.3125\t0.2635\t0.0060\t0.2289\t0.4877\t0.4991\t0.1753\t0.0855\t0.125\r\n",
      "16073\t1.0000\t1.0000\t0.2308\t0.2990\t0.0863\t1.0000\t1.0000\t0.3231\t0.0\r\n",
      "16075\t0.1741\t1.0000\tNA\t1.0000\t0.3212\tNA\t1.0000\t1.0000\t0.0\r\n",
      "9389\t0.0347\t0.1169\t0.2673\t0.3119\t0.0553\t0.1000\t0.2889\t0.6972\t0.125\r\n",
      "13732\t1.0000\t1.0000\t0.0795\t1.0000\t1.0000\tNA\tNA\t1.0000\t0.0\r\n",
      "11545\t1.0000\t1.0000\t1.0000\t1.0000\t1.0000\t1.0000\t1.0000\t1.0000\t0.0\r\n",
      "11549\t1.0000\t1.0000\t1.0000\t1.0000\t0.5699\t1.0000\tNA\tNA\t0.0\r\n",
      "5989\t1.0000\t1.0000\t1.0000\t1.0000\t0.3137\t1.0000\t1.0000\t1.0000\t0.0\r\n"
     ]
    }
   ],
   "source": [
    "!head batch_2_HWEpvals.txt"
   ]
  },
  {
   "cell_type": "code",
   "execution_count": 7,
   "metadata": {
    "collapsed": false
   },
   "outputs": [],
   "source": [
    "infile = open(\"batch_2_HWEpvals.txt\", \"r\")\n",
    "\n",
    "percents = []\n",
    "loci_list = []\n",
    "\n",
    "for line in infile:\n",
    "    if \"locus\" not in line:\n",
    "        new_percent = float(line.strip().split()[9])\n",
    "        percents.append(new_percent)\n",
    "        loci_list.append(line.strip().split()[0])\n",
    "\n",
    "infile.close()"
   ]
  },
  {
   "cell_type": "code",
   "execution_count": 8,
   "metadata": {
    "collapsed": true
   },
   "outputs": [],
   "source": [
    "import numpy as np\n",
    "import matplotlib.pyplot as plt"
   ]
  },
  {
   "cell_type": "code",
   "execution_count": 9,
   "metadata": {
    "collapsed": false
   },
   "outputs": [
    {
     "data": {
      "image/png": "[encoded data removed]",
      "text/plain": [
       "<matplotlib.figure.Figure at 0x7fe7505c5690>"
      ]
     },
     "metadata": {},
     "output_type": "display_data"
    }
   ],
   "source": [
    "plt.hist(percents, bins = np.arange(-0.1, 1, .0625)+0.05, color = \"darkcyan\")\n",
    "plt.suptitle(\"Distribution of % of populations out of HWE\")\n",
    "plt.xlabel(\"% of populations out of HWE (by locus)\")\n",
    "plt.ylabel(\"# Loci\")\n",
    "plt.show()"
   ]
  },
  {
   "cell_type": "code",
   "execution_count": 10,
   "metadata": {
    "collapsed": true
   },
   "outputs": [],
   "source": [
    "plt.close()"
   ]
  },
  {
   "cell_type": "markdown",
   "metadata": {},
   "source": [
    "\n",
    "\n",
    "#### 6/13/2017\n",
    "\n",
    "\n",
    "<br>\n",
    "Based on the distribution above, I'm going to create a list of the loci that are out of Hardy-Weinberg Equilibrium in more than 6 of the populations (0.75).---- also did this in batch 1\n",
    "\n",
    "Since the loci were added to `loci_list` in the same order as the percents were added to `percents`, I can do this by extracting a list of indices from percents and then using those to refer to certain loci. "
   ]
  },
  {
   "cell_type": "code",
   "execution_count": 11,
   "metadata": {
    "collapsed": false
   },
   "outputs": [],
   "source": [
    "#extract indices of loci with >6 pops out of HWE\n",
    "indices = []\n",
    "count = 0 \n",
    "\n",
    "for i in range(0, len(percents)):\n",
    "    if percents[i] >= 0.75:\n",
    "        indices.append(i)"
   ]
  },
  {
   "cell_type": "code",
   "execution_count": 12,
   "metadata": {
    "collapsed": false
   },
   "outputs": [
    {
     "name": "stdout",
     "output_type": "stream",
     "text": [
      "139\n"
     ]
    }
   ],
   "source": [
    "print len(indices)"
   ]
  },
  {
   "cell_type": "code",
   "execution_count": 13,
   "metadata": {
    "collapsed": false
   },
   "outputs": [],
   "source": [
    "# create a new list of loci to remove and write to file for later. \n",
    "outfile = open(\"Loci_outof_HWE_6of8pops_BATCH2.txt\", \"w\")\n",
    "outfile.write(\"# These loci have more than 6 populations out of HWE. 6-13-2017.\\n\")\n",
    "\n",
    "for index in indices:\n",
    "    newlocus = loci_list[index]\n",
    "    outfile.write(newlocus + \"\\n\")\n",
    "outfile.close()"
   ]
  },
  {
   "cell_type": "markdown",
   "metadata": {
    "collapsed": true
   },
   "source": [
    "\n",
    "\n",
    "<br>\n",
    "### 4. Use multiple testing technique to generate chi-square value for each locus\n",
    "\n",
    "\n",
    "The `Biometrics` book proposes a method to coerce multiple tests into a chi-square distribution that then allows you to test for significance. \n",
    "\n",
    "At each locus: **(1)** Sum the natural logs of the p-values, **(2)** Add these together, **(3)** multiple by `-2` to generate a chi-square value, and **(4)** complete a chi-square test with [n_pops x 2] degrees of freedom."
   ]
  },
  {
   "cell_type": "code",
   "execution_count": 32,
   "metadata": {
    "collapsed": true
   },
   "outputs": [],
   "source": [
    "from scipy.stats import chisqprob"
   ]
  },
  {
   "cell_type": "code",
   "execution_count": 33,
   "metadata": {
    "collapsed": true
   },
   "outputs": [],
   "source": [
    "import numpy as np"
   ]
  },
  {
   "cell_type": "code",
   "execution_count": 34,
   "metadata": {
    "collapsed": false
   },
   "outputs": [
    {
     "data": {
      "text/plain": [
       "u'/mnt/hgfs/Pacific cod/DataAnalysis/PCod-US-repo/analyses'"
      ]
     },
     "execution_count": 34,
     "metadata": {},
     "output_type": "execute_result"
    }
   ],
   "source": [
    "pwd"
   ]
  },
  {
   "cell_type": "code",
   "execution_count": 35,
   "metadata": {
    "collapsed": false
   },
   "outputs": [
    {
     "name": "stdout",
     "output_type": "stream",
     "text": [
      "You have  535  loci out of HWE.\n"
     ]
    }
   ],
   "source": [
    "## STEP ONE: conduct chisquare and determine loci out of HWE. \n",
    "## write results to a file and save a list of the loci out of HWE. \n",
    "\n",
    "infile = open(\"batch_2_HWEpvals.txt\", \"r\")\n",
    "outfile = open(\"batch_2_HWEchisquare.txt\", \"w\")\n",
    "\n",
    "outfile.write(\"locus\\tChiSquare\\tdf\\tpvalue\\n\")\n",
    "\n",
    "sig_count = 0\n",
    "loci_to_discard = []\n",
    "\n",
    "for line in infile:\n",
    "    if \"locus\" not in line:\n",
    "        linelist= line.strip().split()\n",
    "        outfile.write(linelist[0]) #write locus name to outfile\n",
    "        sum = 0 #sum of ln(pvals)\n",
    "        n_pops = 0 # number of pops with pvals (some will have NAs)\n",
    "        for i in range(1,8):\n",
    "            if linelist[i] != \"NA\" and float(linelist[i]) == 0.0:\n",
    "                newval = np.log(float(0.00000000001))\n",
    "                sum += newval\n",
    "                n_pops += 1\n",
    "            elif linelist[i] != \"NA\" and float(linelist[i]) != 0.0:\n",
    "                newval = np.log(float(linelist[i]))\n",
    "                sum += newval\n",
    "                n_pops += 1\n",
    "        chisquare = float(-2) * float(sum)\n",
    "        df = n_pops * 2\n",
    "        outfile.write(\"\\t\" + str(chisquare) + \"\\t\" + str(df))\n",
    "        pvalue = chisqprob(chisquare,df)\n",
    "        if pvalue < 0.05:\n",
    "            sig_count += 1\n",
    "            loci_to_discard.append(linelist[0])\n",
    "        outfile.write(\"\\t\" + str(pvalue) + \"\\n\")\n",
    "infile.close()\n",
    "outfile.close()\n",
    "\n",
    "print \"You have \", sig_count, \" loci out of HWE.\"\n",
    "\n",
    "        \n",
    "                \n",
    "            \n",
    "        "
   ]
  },
  {
   "cell_type": "code",
   "execution_count": 46,
   "metadata": {
    "collapsed": false
   },
   "outputs": [
    {
     "name": "stdout",
     "output_type": "stream",
     "text": [
      "2410  loci written to output file.\n"
     ]
    }
   ],
   "source": [
    "## STEP TWO: rewrite the file of HWEpvals by locus by population, \n",
    "## excluding those loci out of HWE. \n",
    "\n",
    "infile = open(\"batch_2_HWEpvals.txt\", \"r\")\n",
    "outfile = open(\"batch_2_HWEpvals_filtered.txt\", \"w\")\n",
    "\n",
    "locus_count = 0\n",
    "\n",
    "for line in infile:\n",
    "    if line.startswith(\"#\"):\n",
    "        outfile.write(\"# parsed GENEPOP output, HWE p-values by locus by population FILTERED #\\n\")\n",
    "    elif line.startswith(\"locus\"):\n",
    "        outfile.write(line)\n",
    "    else:\n",
    "        locus = line.strip().split()[0]\n",
    "        if locus not in loci_to_discard:\n",
    "            outfile.write(line)\n",
    "            locus_count += 1\n",
    "infile.close()\n",
    "outfile.close()\n",
    "print locus_count, \" loci written to output file.\""
   ]
  },
  {
   "cell_type": "markdown",
   "metadata": {},
   "source": [
    "\n",
    "<br>\n",
    "### 5. Plot new distribution"
   ]
  },
  {
   "cell_type": "code",
   "execution_count": 47,
   "metadata": {
    "collapsed": false
   },
   "outputs": [],
   "source": [
    "infile = open(\"batch_2_HWEpvals_filtered.txt\", \"r\")\n",
    "\n",
    "percents = []\n",
    "loci_list = []\n",
    "\n",
    "for line in infile:\n",
    "    if \"locus\" not in line and \"#\" not in line:\n",
    "        new_percent = float(line.strip().split()[9])\n",
    "        percents.append(new_percent)\n",
    "        loci_list.append(line.strip().split()[0])\n",
    "\n",
    "infile.close()"
   ]
  },
  {
   "cell_type": "code",
   "execution_count": 48,
   "metadata": {
    "collapsed": true
   },
   "outputs": [],
   "source": [
    "import numpy as np\n",
    "import matplotlib.pyplot as plt"
   ]
  },
  {
   "cell_type": "code",
   "execution_count": 49,
   "metadata": {
    "collapsed": false
   },
   "outputs": [
    {
     "data": {
      "image/png": "[encoded data removed]",
      "text/plain": [
       "<matplotlib.figure.Figure at 0x7fe747117b90>"
      ]
     },
     "metadata": {},
     "output_type": "display_data"
    }
   ],
   "source": [
    "plt.hist(percents, bins = np.arange(-0.1, 1.1, .05)+0.05, color = \"darkcyan\")\n",
    "plt.suptitle(\"POST HWE FILTER: Distribution of % of populations out of HWE\")\n",
    "plt.xlabel(\"% of populations out of HWE (by locus)\")\n",
    "plt.ylabel(\"# Loci\")\n",
    "plt.show()"
   ]
  },
  {
   "cell_type": "code",
   "execution_count": 50,
   "metadata": {
    "collapsed": true
   },
   "outputs": [],
   "source": [
    "plt.close()"
   ]
  },
  {
   "cell_type": "markdown",
   "metadata": {},
   "source": [
    "\n",
    "<br>\n",
    "\n",
    "Now I just have to delete the loci that are listed in `batch_2_HWEpvals_filtered.txt` from my final filtered genepop. "
   ]
  },
  {
   "cell_type": "code",
   "execution_count": 51,
   "metadata": {
    "collapsed": false
   },
   "outputs": [
    {
     "name": "stdout",
     "output_type": "stream",
     "text": [
      "Preparing to copy  2410  loci from old csv file\n",
      "\n",
      "Wrote  2409  loci to new csv file.\n",
      "Removed  535  loci.\n"
     ]
    }
   ],
   "source": [
    "oldcsv = open(\"../stacks_b2_wgenome/batch_2.filteredMAF_filteredLoci_filteredIndivids.csv\", \"r\")\n",
    "locifile = open(\"batch_2_HWEpvals_filtered.txt\", \"r\")\n",
    "newcsv = open(\"../stacks_b2_wgenome/batch_2.filteredMAF_filteredLoci_filteredIndivids_filteredHWE.csv\", \"w\")\n",
    "blacklistedcsv = open(\"../stacks_b2_wgenome/batch_2.filteredMAF_filteredLoci_filteredIndivids_HWE_BAD.csv\", \"w\")\n",
    "\n",
    "newcsv.write(oldcsv.readline())\n",
    "\n",
    "loci_to_keep = []\n",
    "\n",
    "for line in locifile: \n",
    "    if \"locus\" not in line:\n",
    "        loci_to_keep.append(line.strip().split(\"\\t\")[0]) \n",
    "locifile.close()\n",
    "\n",
    "print \"Preparing to copy \", len(loci_to_keep), \" loci from old csv file\"\n",
    "print \"\"\n",
    "\n",
    "newcsv.write(oldcsv.readline())\n",
    "\n",
    "cp_count = 0\n",
    "rm_count = 0\n",
    "loci_kept = []\n",
    "\n",
    "for line in oldcsv: \n",
    "    locusID = line.strip().split(\",\")[0]\n",
    "    if locusID in loci_to_keep:\n",
    "        newcsv.write(line)\n",
    "        cp_count += 1\n",
    "        loci_kept.append(locusID)\n",
    "    else:\n",
    "        blacklistedcsv.write(line)\n",
    "        rm_count += 1\n",
    "oldcsv.close()\n",
    "newcsv.close()\n",
    "\n",
    "print \"Wrote \", cp_count, \" loci to new csv file.\"\n",
    "print \"Removed \", rm_count, \" loci.\"\n"
   ]
  },
  {
   "cell_type": "code",
   "execution_count": 52,
   "metadata": {
    "collapsed": false
   },
   "outputs": [
    {
     "name": "stdout",
     "output_type": "stream",
     "text": [
      "1001\n"
     ]
    }
   ],
   "source": [
    "for locusID in loci_to_keep:\n",
    "    if locusID not in loci_kept:\n",
    "        print locusID"
   ]
  },
  {
   "cell_type": "markdown",
   "metadata": {},
   "source": [
    "Even though this is saying that locus `1001` is not being copied over into the new filtered file, it actually is... and I have 4,210 loci in my new csv file. so HWE filtering is done! \n",
    "\n",
    "\n",
    "### Final File: `batch_2.filteredMAF_filteredLoci_filteredINdivids_filteredHWE.csv`"
   ]
  },
  {
   "cell_type": "code",
   "execution_count": 1,
   "metadata": {
    "collapsed": false
   },
   "outputs": [
    {
     "data": {
      "text/plain": [
       "u'/mnt/hgfs/Pacific cod/DataAnalysis/PCod-US-repo/notebooks'"
      ]
     },
     "execution_count": 1,
     "metadata": {},
     "output_type": "execute_result"
    }
   ],
   "source": [
    "pwd"
   ]
  },
  {
   "cell_type": "code",
   "execution_count": 2,
   "metadata": {
    "collapsed": false
   },
   "outputs": [
    {
     "name": "stdout",
     "output_type": "stream",
     "text": [
      "/mnt/hgfs/Pacific cod/DataAnalysis/PCod-US-repo/scripts\n"
     ]
    }
   ],
   "source": [
    "cd ../scripts"
   ]
  },
  {
   "cell_type": "code",
   "execution_count": 5,
   "metadata": {
    "collapsed": false
   },
   "outputs": [],
   "source": [
    "!python PostStacksFiltering/genepop_conversion_forR_6-13.py \\\n",
    "../stacks_b2_wgenome/batch_2.filteredMAF_filteredLoci_filteredIndivids_filteredHWE.csv \\\n",
    "../stacks_b2_wgenome/batch_2.filteredMAF_filteredLoci_filteredIndivids_filteredHWE.gen"
   ]
  },
  {
   "cell_type": "markdown",
   "metadata": {},
   "source": [
    "### Final Genepop: batch_2.filteredMAF_filteredLoci_filteredINdivids_filteredHWE.gen"
   ]
  },
  {
   "cell_type": "code",
   "execution_count": null,
   "metadata": {
    "collapsed": true
   },
   "outputs": [],
   "source": []
  }
 ],
 "metadata": {
  "anaconda-cloud": {},
  "kernelspec": {
   "display_name": "Python [default]",
   "language": "python",
   "name": "python2"
  },
  "language_info": {
   "codemirror_mode": {
    "name": "ipython",
    "version": 2
   },
   "file_extension": ".py",
   "mimetype": "text/x-python",
   "name": "python",
   "nbconvert_exporter": "python",
   "pygments_lexer": "ipython2",
   "version": "2.7.12"
  }
 },
 "nbformat": 4,
 "nbformat_minor": 1
}
