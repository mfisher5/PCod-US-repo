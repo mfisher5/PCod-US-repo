{
 "cells": [
  {
   "cell_type": "markdown",
   "metadata": {},
   "source": [
    "## Stacks Pipeline rerun (1)\n",
    "\n",
    "\n",
    "This is a rerun of the stacks pipeline for all northeastern Pacific cod samples. \n",
    "\n",
    "<br>\n",
    "Key parameters for this run of stacks: \n",
    "1. trimming to 142 bp\n",
    "2. using bounded SNP model\n",
    "3. stack depth of 10\n",
    "4. nucleotide differences between stacks = 3\n",
    "5. \n",
    "\n",
    "\n",
    "### process_radtags --> ustacks --> counting # sequences per file"
   ]
  },
  {
   "cell_type": "code",
   "execution_count": 1,
   "metadata": {
    "collapsed": false
   },
   "outputs": [
    {
     "data": {
      "text/plain": [
       "u'/mnt/hgfs/Pacific cod/DataAnalysis/PCod-US-repo/notebooks'"
      ]
     },
     "execution_count": 1,
     "metadata": {},
     "output_type": "execute_result"
    }
   ],
   "source": [
    "pwd"
   ]
  },
  {
   "cell_type": "code",
   "execution_count": 2,
   "metadata": {
    "collapsed": false
   },
   "outputs": [
    {
     "name": "stdout",
     "output_type": "stream",
     "text": [
      "/mnt/hgfs/Pacific cod/DataAnalysis/PCod-US-repo/scripts\n"
     ]
    }
   ],
   "source": [
    "cd ../scripts"
   ]
  },
  {
   "cell_type": "code",
   "execution_count": 9,
   "metadata": {
    "collapsed": false
   },
   "outputs": [],
   "source": [
    "!python radtags_ustacks_genShell_3-6.py"
   ]
  },
  {
   "cell_type": "code",
   "execution_count": 10,
   "metadata": {
    "collapsed": false
   },
   "outputs": [
    {
     "name": "stdout",
     "output_type": "stream",
     "text": [
      "#!/bin/bash\r\n",
      "\r\n",
      "# lane 1\r\n",
      "process_radtags -p /media/mfisher5/New\\ Volume/Kristen/Data/KOD03 -i gzfastq -y gzfastq -o ../samplesT142 -b barcodesL1.txt -e sbfI -E phred33 -r -c -q -t 142\r\n",
      "\r\n",
      "# lane 2\r\n",
      "process_radtags -p /media/mfisher5/New\\ Volume/Kristen/Data/AD06 -i gzfastq -y gzfastq -o ../samplesT142 -b barcodesL2_AD.txt -e sbfI -E phred33 -r -c -q -t 142\r\n",
      "\r\n",
      "process_radtags -p /media/mfisher5/New\\ Volume/Kristen/Data/WC05 -i gzfastq -y gzfastq -o ../samplesT142 -b barcodesL2_WC.txt -e sbfI -E phred33 -r -c -q -t 142\r\n",
      "\r\n"
     ]
    }
   ],
   "source": [
    "!head -n 10 radtags_ustacks_3-6.sh"
   ]
  },
  {
   "cell_type": "code",
   "execution_count": 11,
   "metadata": {
    "collapsed": false
   },
   "outputs": [
    {
     "name": "stdout",
     "output_type": "stream",
     "text": [
      "KOD03_035\r\n",
      "KOD03_051\r\n",
      "KOD03_052\r\n",
      "KOD03_053\r\n",
      "KOD03_054\r\n"
     ]
    }
   ],
   "source": [
    "!head -n 5 sampleList.txt"
   ]
  },
  {
   "cell_type": "code",
   "execution_count": null,
   "metadata": {
    "collapsed": true
   },
   "outputs": [],
   "source": [
    "# run in command line\n",
    "chmod +x ./radtags_ustacks_3-6.sh\n",
    "./radtags_ustacks_3-6.sh"
   ]
  }
 ],
 "metadata": {
  "anaconda-cloud": {},
  "kernelspec": {
   "display_name": "Python [default]",
   "language": "python",
   "name": "python2"
  },
  "language_info": {
   "codemirror_mode": {
    "name": "ipython",
    "version": 2
   },
   "file_extension": ".py",
   "mimetype": "text/x-python",
   "name": "python",
   "nbconvert_exporter": "python",
   "pygments_lexer": "ipython2",
   "version": "2.7.12"
  }
 },
 "nbformat": 4,
 "nbformat_minor": 1
}
