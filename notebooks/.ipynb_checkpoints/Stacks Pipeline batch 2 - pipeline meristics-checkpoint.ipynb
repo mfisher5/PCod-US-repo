{
 "cells": [
  {
   "cell_type": "markdown",
   "metadata": {},
   "source": [
    "## Stacks Pipeline Batch 2 - meristics\n",
    "\n",
    "\n",
    "\n",
    "\n",
    "This notebook will keep track of and visualize the number of reads per individual, number of loci per individual, number of loci in the catalog or reference genome, etc. \n",
    "\n",
    "<br>\n",
    "### Raw read files\n",
    "**Fastqc of raw read files, per lane: **\n",
    "\n",
    "[Evernote notebook]() contains HTML files. \n",
    "\n",
    "<br>\n",
    "### Post process_radtags"
   ]
  },
  {
   "cell_type": "markdown",
   "metadata": {},
   "source": [
    "**Number of reads per individual, post-process radtags**\n",
    "\n",
    "![graph](https://github.com/mfisher5/PCod-US-repo/blob/master/analyses/stacks_pipeline_visuals/batch2_reads.png?raw=true)\n",
    "\n",
    "\n",
    "<br>\n",
    "**Fastqc of some sample fastq files: **\n",
    "\n",
    "[Evernote notebook]() contains HTML files. "
   ]
  },
  {
   "cell_type": "markdown",
   "metadata": {},
   "source": [
    "\n",
    "<br>\n",
    "### From the FIRST round of stacks\n",
    "### Post ustacks\n",
    "\n",
    "<br>\n",
    "**Total number of tags per individual**\n",
    "![png tags](https://github.com/mfisher5/PCod-US-repo/blob/master/analyses/stacks_pipeline_visuals/batch2_tags.png?raw=true)\n"
   ]
  },
  {
   "cell_type": "markdown",
   "metadata": {},
   "source": [
    "\n",
    "\n",
    "### cstacks\n",
    "\n",
    "Number of loci in the catalog: "
   ]
  },
  {
   "cell_type": "code",
   "execution_count": 1,
   "metadata": {
    "collapsed": false
   },
   "outputs": [
    {
     "data": {
      "text/plain": [
       "u'/mnt/hgfs/Pacific cod/DataAnalysis/PCod-US-repo/notebooks'"
      ]
     },
     "execution_count": 1,
     "metadata": {},
     "output_type": "execute_result"
    }
   ],
   "source": [
    "pwd"
   ]
  },
  {
   "cell_type": "code",
   "execution_count": 2,
   "metadata": {
    "collapsed": false
   },
   "outputs": [
    {
     "name": "stdout",
     "output_type": "stream",
     "text": [
      "/mnt/hgfs/Pacific cod/DataAnalysis/PCod-US-repo/stacks_b2\n"
     ]
    }
   ],
   "source": [
    "cd ../stacks_b2"
   ]
  },
  {
   "cell_type": "code",
   "execution_count": 3,
   "metadata": {
    "collapsed": false
   },
   "outputs": [
    {
     "name": "stdout",
     "output_type": "stream",
     "text": [
      "gzip: batch_2.catalog.tags.tsv.gz: No such file or directory\r\n"
     ]
    }
   ],
   "source": [
    "!gzip -d batch_2.catalog.tags.tsv.gz"
   ]
  },
  {
   "cell_type": "markdown",
   "metadata": {},
   "source": [
    "I must have unzipped that file already..."
   ]
  },
  {
   "cell_type": "code",
   "execution_count": 4,
   "metadata": {
    "collapsed": false,
    "scrolled": true
   },
   "outputs": [
    {
     "name": "stdout",
     "output_type": "stream",
     "text": [
      "459504\r\n"
     ]
    }
   ],
   "source": [
    "!grep \"consensus\" batch_2.catalog.tags.tsv | wc -l"
   ]
  },
  {
   "cell_type": "markdown",
   "metadata": {},
   "source": [
    "There are **459,504 loci in the r1 cstacks catalog**\n",
    "\n",
    "*compared to 74,721 loci in the batch 1 cstacks catalog*"
   ]
  },
  {
   "cell_type": "markdown",
   "metadata": {},
   "source": [
    "\n",
    "\n",
    "<br>\n",
    "### sstacks\n",
    "\n",
    "\n",
    "<br>\n",
    "### populations\n",
    "\n",
    "Number of loci output in the raw `populations` file:"
   ]
  },
  {
   "cell_type": "code",
   "execution_count": 5,
   "metadata": {
    "collapsed": false
   },
   "outputs": [
    {
     "name": "stdout",
     "output_type": "stream",
     "text": [
      "/mnt/hgfs/Pacific cod/DataAnalysis/PCod-US-repo/scripts\n"
     ]
    }
   ],
   "source": [
    "cd ../scripts"
   ]
  },
  {
   "cell_type": "code",
   "execution_count": 6,
   "metadata": {
    "collapsed": false,
    "scrolled": true
   },
   "outputs": [
    {
     "name": "stdout",
     "output_type": "stream",
     "text": [
      "#### Counts the number of unique loci in a text file containing the header of a .genepop file (Locus_SNP). To be used after running populations, to determine how many loci were retained ####\r",
      "\r\n",
      "\r",
      "\r\n",
      "## MF 12/12/2016\r",
      "\r\n",
      "\r",
      "\r\n",
      "## Edited 3/21/2017 after not putting out the same number of loci as the `genBOWTIEfasta_fromGENEPOP.py` script\r",
      "\r\n",
      "\r",
      "\r\n",
      "\r",
      "\r\n",
      "\r",
      "\r\n",
      "\r",
      "\r\n",
      "import sys\r",
      "\r\n"
     ]
    }
   ],
   "source": [
    "!head UniqueLocusCount.py"
   ]
  },
  {
   "cell_type": "code",
   "execution_count": 8,
   "metadata": {
    "collapsed": false
   },
   "outputs": [
    {
     "name": "stdout",
     "output_type": "stream",
     "text": [
      "Stacks version 1.44; Genepop version 4.1.3; May 24, 2017\n",
      "\n",
      "With the ORIGINAL script:\n",
      "The number of unique loci in  ../stacks_b2/batch_2.genepop is:  20460\n",
      "\n",
      "\n",
      "With the NEW script, used in the pipeline:\n",
      "Stacks version 1.44; Genepop version 4.1.3; May 24, 2017\n",
      "\n",
      "Done reading loci\n",
      "\n",
      "The number of unique loci in  ../stacks_b2/batch_2.genepop is:  20460\n"
     ]
    }
   ],
   "source": [
    "!python UniqueLocusCount.py ../stacks_b2/batch_2.genepop"
   ]
  },
  {
   "cell_type": "markdown",
   "metadata": {},
   "source": [
    "<br>\n",
    "\n",
    "### Reference Genome\n",
    "\n",
    "<br>\n",
    "**20234 loci** after BOWTIE filtering\n",
    "\n",
    "\n",
    "**19509 loci** after BOWTIE and BLAST filtering"
   ]
  },
  {
   "cell_type": "markdown",
   "metadata": {},
   "source": [
    "<br>\n",
    "<br>\n",
    "\n",
    "### From the SECOND round of stacks\n",
    "### Post pstacks\n",
    "\n",
    "\n",
    "\n",
    "\n",
    "<br>\n",
    "### Post cstacks (r2)\n",
    "\n",
    "\n"
   ]
  },
  {
   "cell_type": "code",
   "execution_count": 9,
   "metadata": {
    "collapsed": false
   },
   "outputs": [
    {
     "name": "stdout",
     "output_type": "stream",
     "text": [
      "/mnt/hgfs/Pacific cod/DataAnalysis/PCod-US-repo/stacks_b2_wgenome\n"
     ]
    }
   ],
   "source": [
    "cd ../stacks_b2_wgenome"
   ]
  },
  {
   "cell_type": "code",
   "execution_count": 10,
   "metadata": {
    "collapsed": false
   },
   "outputs": [
    {
     "name": "stdout",
     "output_type": "stream",
     "text": [
      "19506\r\n"
     ]
    }
   ],
   "source": [
    "!grep \"consensus\" batch_2.catalog.tags.tsv | wc -l"
   ]
  },
  {
   "cell_type": "markdown",
   "metadata": {},
   "source": [
    "There are **19,506 loci ** in the cstacks catalog, r2"
   ]
  },
  {
   "cell_type": "markdown",
   "metadata": {},
   "source": [
    "<br>\n",
    "\n",
    "\n",
    "### populations"
   ]
  },
  {
   "cell_type": "code",
   "execution_count": 11,
   "metadata": {
    "collapsed": false
   },
   "outputs": [
    {
     "name": "stdout",
     "output_type": "stream",
     "text": [
      "/mnt/hgfs/Pacific cod/DataAnalysis/PCod-US-repo/scripts\n"
     ]
    }
   ],
   "source": [
    "cd ../scripts"
   ]
  },
  {
   "cell_type": "code",
   "execution_count": 13,
   "metadata": {
    "collapsed": false
   },
   "outputs": [
    {
     "name": "stdout",
     "output_type": "stream",
     "text": [
      "Stacks version 1.44; Genepop version 4.1.3; May 25, 2017\n",
      "\n",
      "With the ORIGINAL script:\n",
      "The number of unique loci in  ../stacks_b2_wgenome/batch_2.genepop is:  10729\n",
      "\n",
      "\n",
      "With the NEW script, used in the pipeline:\n",
      "Stacks version 1.44; Genepop version 4.1.3; May 25, 2017\n",
      "\n",
      "Done reading loci\n",
      "\n",
      "The number of unique loci in  ../stacks_b2_wgenome/batch_2.genepop is:  10729\n"
     ]
    }
   ],
   "source": [
    "!python UniqueLocusCount.py ../stacks_b2_wgenome/batch_2.genepop"
   ]
  },
  {
   "cell_type": "markdown",
   "metadata": {},
   "source": [
    "There are **10,729** loci left after r2 `populations`. \n",
    "\n",
    "*compared to 9,717 in batch 1*"
   ]
  },
  {
   "cell_type": "markdown",
   "metadata": {},
   "source": [
    "\n",
    "<br>\n",
    "### post-stacks filtering\n",
    "\n",
    "**Marine's filtering / genotype correcting script: **\n",
    "\n",
    "Just by opening Excel, it looks like there are only **5,864 loci** left. \n",
    "\n",
    "<br>\n",
    "** Without filtering out individuals with >20% missing data: **\n",
    "\n",
    "*MAF filtering:* 4528 loci\n",
    "\n",
    "    compared to 4,048 loci in batch 1\n",
    "\n",
    "<br>\n",
    "*Missing Data filtering (loci with >20% missing were filtered out):* 2945\n",
    "\n",
    "    comapred to 2,098 loci in batch 1\n",
    "\n",
    "\n",
    "** I ended up with 2,945 loci**\n",
    "\n",
    "*This is approximately 800 more loci than retained in batch 1. *"
   ]
  },
  {
   "cell_type": "code",
   "execution_count": null,
   "metadata": {
    "collapsed": true
   },
   "outputs": [],
   "source": []
  }
 ],
 "metadata": {
  "anaconda-cloud": {},
  "kernelspec": {
   "display_name": "Python [default]",
   "language": "python",
   "name": "python2"
  },
  "language_info": {
   "codemirror_mode": {
    "name": "ipython",
    "version": 2
   },
   "file_extension": ".py",
   "mimetype": "text/x-python",
   "name": "python",
   "nbconvert_exporter": "python",
   "pygments_lexer": "ipython2",
   "version": "2.7.12"
  }
 },
 "nbformat": 4,
 "nbformat_minor": 1
}
