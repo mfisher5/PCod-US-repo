{
 "cells": [
  {
   "cell_type": "markdown",
   "metadata": {},
   "source": [
    "## Stacks Pipeline rerun (batch 1) - nb 2\n",
    "\n",
    "\n",
    "This is a rerun of the stacks pipeline for all northeastern Pacific cod samples. This second notebook contains the run of `stacks` with a reference \"genome\" and end filtering steps of the `populations` genepop output file. \n",
    "\n",
    "<br>\n",
    "Key parameters for this run of stacks: \n",
    "1. using the bounded snp model, default error rate bounds\n",
    "2. stack depth of 10\n",
    "3. do not specify nucleotide differences between stacks (-n)\n",
    "4. cstacks catalog built based on genome location, not sequence ID (-g)\n",
    "5. sstacks files built based on genomeic location, not sequence ID (-g) \n",
    "6. locus must be present in 4/9 populations\n",
    "7. locus must be present in 75% of individuals in a population\n",
    "\n",
    "\n",
    "\n",
    "<br>\n",
    "### pstacks --> populations\n",
    "\n",
    "\n",
    "<br>\n",
    "*Note for later-* I have to rebuild the `cstacks` catalog, and I want to look at the overall read depth per individual in the `pstacks` output files to determine the \"top ten\" rather than the `process_radtags` output files that I assessed for the first set of \"top ten\". So later I will run a scripts to check overall sequence depth per individual after `pstacks` and `ustacks` to see if it has changed significantly."
   ]
  },
  {
   "cell_type": "code",
   "execution_count": 1,
   "metadata": {
    "collapsed": false
   },
   "outputs": [
    {
     "data": {
      "text/plain": [
       "u'/mnt/hgfs/Pacific cod/DataAnalysis/PCod-US-repo/notebooks'"
      ]
     },
     "execution_count": 1,
     "metadata": {},
     "output_type": "execute_result"
    }
   ],
   "source": [
    "pwd"
   ]
  },
  {
   "cell_type": "code",
   "execution_count": 2,
   "metadata": {
    "collapsed": false
   },
   "outputs": [
    {
     "name": "stdout",
     "output_type": "stream",
     "text": [
      "/mnt/hgfs/Pacific cod/DataAnalysis/PCod-US-repo/scripts\n"
     ]
    }
   ],
   "source": [
    "cd ../scripts"
   ]
  },
  {
   "cell_type": "markdown",
   "metadata": {},
   "source": [
    "\n",
    "I generated the shell: "
   ]
  },
  {
   "cell_type": "code",
   "execution_count": 4,
   "metadata": {
    "collapsed": false
   },
   "outputs": [
    {
     "name": "stdout",
     "output_type": "stream",
     "text": [
      "###### Generate Shell Script to Run pstacks --> populations ######\r\n",
      "\r\n",
      "## MF 3/10/2017\r\n",
      "## For US Cod Data\r\n",
      "\r\n",
      "\r\n",
      "\r\n",
      "## At Command Line: python cstacks_populations_genShell_3-8 ARG1 ARG2\r\n",
      "##---- ARG1 = complete sample list file\r\n",
      "##---- ARG2 = sample list for building cstacks catalog\r\n"
     ]
    }
   ],
   "source": [
    "!head pstacks_populations_genShell_3-10.py"
   ]
  },
  {
   "cell_type": "code",
   "execution_count": 5,
   "metadata": {
    "collapsed": true
   },
   "outputs": [],
   "source": [
    "!python pstacks_populations_genShell_3-10.py sampleList.txt samples_for_cstacks.txt"
   ]
  },
  {
   "cell_type": "code",
   "execution_count": 8,
   "metadata": {
    "collapsed": false
   },
   "outputs": [
    {
     "name": "stdout",
     "output_type": "stream",
     "text": [
      "\r\n",
      "#pstacks\r\n",
      "pstacks -t sam -f ../stacks_wgenome/KOD03_035.sam -o ../stacks_wgenome -i 001 -m 10 -p 6 --model_type bounded 2>> pstacks_out_b1_wgenome\r\n",
      "pstacks -t sam -f ../stacks_wgenome/KOD03_051.sam -o ../stacks_wgenome -i 002 -m 10 -p 6 --model_type bounded 2>> pstacks_out_b1_wgenome\r\n",
      "pstacks -t sam -f ../stacks_wgenome/KOD03_052.sam -o ../stacks_wgenome -i 003 -m 10 -p 6 --model_type bounded 2>> pstacks_out_b1_wgenome\r\n",
      "pstacks -t sam -f ../stacks_wgenome/KOD03_053.sam -o ../stacks_wgenome -i 004 -m 10 -p 6 --model_type bounded 2>> pstacks_out_b1_wgenome\r\n",
      "pstacks -t sam -f ../stacks_wgenome/KOD03_054.sam -o ../stacks_wgenome -i 005 -m 10 -p 6 --model_type bounded 2>> pstacks_out_b1_wgenome\r\n",
      "pstacks -t sam -f ../stacks_wgenome/KOD03_055.sam -o ../stacks_wgenome -i 006 -m 10 -p 6 --model_type bounded 2>> pstacks_out_b1_wgenome\r\n",
      "pstacks -t sam -f ../stacks_wgenome/KOD03_056.sam -o ../stacks_wgenome -i 007 -m 10 -p 6 --model_type bounded 2>> pstacks_out_b1_wgenome\r\n",
      "pstacks -t sam -f ../stacks_wgenome/KOD03_057.sam -o ../stacks_wgenome -i 008 -m 10 -p 6 --model_type bounded 2>> pstacks_out_b1_wgenome\r\n"
     ]
    }
   ],
   "source": [
    "!head pstacks_populations_3-10.sh"
   ]
  },
  {
   "cell_type": "code",
   "execution_count": 10,
   "metadata": {
    "collapsed": false
   },
   "outputs": [],
   "source": [
    "!chmod +x pstacks_populations_3-10.sh"
   ]
  },
  {
   "cell_type": "code",
   "execution_count": null,
   "metadata": {
    "collapsed": true
   },
   "outputs": [],
   "source": [
    "# run at command line: \n",
    "./pstacks_populations_3-10.sh"
   ]
  },
  {
   "cell_type": "markdown",
   "metadata": {},
   "source": [
    "\n",
    "The output of the pstacks, cstacks, sstacks, and populations run can be found in the `stacks_wgenome/` folder in text files. \n",
    "\n",
    "\n",
    "<br>\n",
    "### Post-stacks filtering steps\n",
    "**3/15/2017**\n",
    "\n",
    "I will be testing out my filtering shell script by first running each step individually, and then running the shell script. "
   ]
  },
  {
   "cell_type": "code",
   "execution_count": 1,
   "metadata": {
    "collapsed": false
   },
   "outputs": [
    {
     "data": {
      "text/plain": [
       "u'/mnt/hgfs/Pacific cod/DataAnalysis/PCod-US-repo/notebooks'"
      ]
     },
     "execution_count": 1,
     "metadata": {},
     "output_type": "execute_result"
    }
   ],
   "source": [
    "pwd"
   ]
  },
  {
   "cell_type": "code",
   "execution_count": 2,
   "metadata": {
    "collapsed": false
   },
   "outputs": [
    {
     "name": "stdout",
     "output_type": "stream",
     "text": [
      "/mnt/hgfs/Pacific cod/DataAnalysis\n"
     ]
    }
   ],
   "source": [
    "cd ../../"
   ]
  },
  {
   "cell_type": "code",
   "execution_count": 7,
   "metadata": {
    "collapsed": false
   },
   "outputs": [
    {
     "name": "stdout",
     "output_type": "stream",
     "text": [
      "/mnt/hgfs/Pacific cod/DataAnalysis/PCod-US-repo\n"
     ]
    }
   ],
   "source": [
    "cd PCod-US-repo"
   ]
  },
  {
   "cell_type": "code",
   "execution_count": 8,
   "metadata": {
    "collapsed": false
   },
   "outputs": [
    {
     "name": "stdout",
     "output_type": "stream",
     "text": [
      "/mnt/hgfs/Pacific cod/DataAnalysis/PCod-US-repo/scripts\n"
     ]
    }
   ],
   "source": [
    "cd scripts"
   ]
  },
  {
   "cell_type": "code",
   "execution_count": 9,
   "metadata": {
    "collapsed": true
   },
   "outputs": [],
   "source": [
    "!mkdir PostStacksFiltering"
   ]
  },
  {
   "cell_type": "code",
   "execution_count": 10,
   "metadata": {
    "collapsed": false
   },
   "outputs": [
    {
     "name": "stdout",
     "output_type": "stream",
     "text": [
      "/mnt/hgfs/Pacific cod\n"
     ]
    }
   ],
   "source": [
    "cd ../../../"
   ]
  },
  {
   "cell_type": "code",
   "execution_count": 11,
   "metadata": {
    "collapsed": false
   },
   "outputs": [
    {
     "name": "stdout",
     "output_type": "stream",
     "text": [
      "/mnt/hgfs/Pacific cod/DataAnalysis/PCod-Korea-repo\n"
     ]
    }
   ],
   "source": [
    "cd DataAnalysis/PCod-Korea-repo/"
   ]
  },
  {
   "cell_type": "code",
   "execution_count": 12,
   "metadata": {
    "collapsed": false
   },
   "outputs": [
    {
     "name": "stdout",
     "output_type": "stream",
     "text": [
      "cp: omitting directory 'scripts/PostStacksFiltering'\r\n"
     ]
    }
   ],
   "source": [
    "!cp scripts/PostStacksFiltering ../PCod-US-repo/scripts/PostStacksFiltering"
   ]
  },
  {
   "cell_type": "markdown",
   "metadata": {},
   "source": [
    "\n",
    "I don't know why this isn't working, I had to manually copy and paste all of the filtering script files from the Korean cod repo into this repo"
   ]
  },
  {
   "cell_type": "markdown",
   "metadata": {},
   "source": [
    "\n",
    "**Step One:** prep for scripts to make biallelic catalog reference. \n",
    "\n",
    "(1) remove heading from batch_1.catalog.snps file"
   ]
  },
  {
   "cell_type": "code",
   "execution_count": 14,
   "metadata": {
    "collapsed": false,
    "scrolled": true
   },
   "outputs": [
    {
     "data": {
      "text/plain": [
       "u'/mnt/hgfs/Pacific cod/DataAnalysis/PCod-Korea-repo'"
      ]
     },
     "execution_count": 14,
     "metadata": {},
     "output_type": "execute_result"
    }
   ],
   "source": [
    "pwd"
   ]
  },
  {
   "cell_type": "code",
   "execution_count": 15,
   "metadata": {
    "collapsed": false
   },
   "outputs": [
    {
     "name": "stdout",
     "output_type": "stream",
     "text": [
      "/mnt/hgfs/Pacific cod/DataAnalysis/PCod-US-repo/scripts\n"
     ]
    }
   ],
   "source": [
    "cd ../PCod-US-repo/scripts"
   ]
  },
  {
   "cell_type": "code",
   "execution_count": 17,
   "metadata": {
    "collapsed": false
   },
   "outputs": [],
   "source": [
    "snps = open(\"../stacks_wgenome/batch_1.catalog.snps.tsv\", \"r\")\n",
    "new_snps = open(\"../stacks_wgenome/batch_1.catalog.snps2.tsv\", \"w\")\n",
    "new_list = snps.readlines()[1:]\n",
    "new_str = ''.join(new_list)\n",
    "new_snps.write(new_str)\n",
    "snps.close()\n",
    "new_snps.close()"
   ]
  },
  {
   "cell_type": "code",
   "execution_count": 18,
   "metadata": {
    "collapsed": false
   },
   "outputs": [
    {
     "name": "stdout",
     "output_type": "stream",
     "text": [
      "0\t1\t1\t42\tE\t0\tC\tT\t-\t-\r\n"
     ]
    }
   ],
   "source": [
    "!head -n 1 ../stacks_wgenome/batch_1.catalog.snps2.tsv"
   ]
  },
  {
   "cell_type": "markdown",
   "metadata": {},
   "source": [
    "\n",
    "(2) add a '_' between Cat and ID in the batch_x.haplotypes file"
   ]
  },
  {
   "cell_type": "code",
   "execution_count": 19,
   "metadata": {
    "collapsed": true
   },
   "outputs": [],
   "source": [
    "haps = open(\"../stacks_wgenome/batch_1.haplotypes.tsv\", \"r\")\n",
    "new_haps = open(\"../stacks_wgenome/batch_1.haplotypes2.tsv\", \"w\")\n",
    "first_line = haps.readline()\n",
    "new_first_line = first_line.replace(\"Catalog ID\", \"Catalog_ID\")\n",
    "new_haps.write(new_first_line)\n",
    "rest_list = haps.readlines()[1:]\n",
    "rest_str = ''.join(rest_list)\n",
    "new_haps.write(rest_str)\n",
    "haps.close()\n",
    "new_haps.close()"
   ]
  },
  {
   "cell_type": "code",
   "execution_count": 21,
   "metadata": {
    "collapsed": false
   },
   "outputs": [
    {
     "name": "stdout",
     "output_type": "stream",
     "text": [
      "Catalog ID\tCnt\tKOD03_035\tKOD03_051\tKOD03_052\tKOD03_053\tKOD03_054\tKOD03_055\tKOD03_056\tKOD03_057\tKOD03_058\tKOD03_059\tKOD03_060\tKOD03_061\tKOD03_062\tKOD03_063\tKOD03_064\tKOD03_065\tKOD03_066\tKOD03_067\tKOD03_068\tKOD03_069\tKOD03_070\tKOD03_071\tKOD03_072\tKOD03_073\tKOD03_074\tKOD03_075\tKOD03_076\tKOD03_077\tKOD03_078\tKOD03_079\tKOD03_080\tKOD03_081\tKOD03_082\tKOD03_083\tKOD03_084\tKOD03_085\tKOD03_086\tKOD03_087\tKOD03_088\tKOD03_089\tKOD03_090\tKOD03_091\tKOD03_092\tKOD03_093\tKOD03_094\tKOD03_095\tKOD03_096\tKOD03_097\tAD06_001\tAD06_002\tAD06_003\tAD06_004\tAD06_005\tAD06_006\tAD06_007\tAD06_008\tAD06_009\tAD06_010\tAD06_011\tAD06_012\tAD06_013\tAD06_014\tAD06_015\tAD06_016\tAD06_017\tAD06_018\tAD06_019\tAD06_020\tAD06_021\tAD06_022\tAD06_023\tAD06_024\tAD06_025\tAD06_026\tAD06_027\tAD06_028\tAD06_029\tAD06_030\tAD06_031\tAD06_032\tAD06_033\tAD06_034\tAD06_035\tAD06_036\tAD06_037\tAD06_038\tAD06_039\tAD06_040\tAD06_041\tAD06_042\tAD06_043\tAD06_044\tAD06_045\tAD06_046\tAD06_047\tAD06_048\tWC05_001\tWC05_002\tWC05_003\tWC05_004\tWC05_005\tWC05_006\tWC05_007\tWC05_008\tWC05_009\tWC05_010\tWC05_011\tWC05_012\tWC05_013\tWC05_014\tWC05_015\tWC05_016\tWC05_017\tWC05_018\tWC05_019\tWC05_020\tWC05_021\tWC05_022\tWC05_023\tWC05_024\tWC05_025\tWC05_026\tWC05_027\tWC05_028\tWC05_029\tWC05_030\tWC05_031\tWC05_032\tWC05_033\tWC05_034\tWC05_035\tWC05_036\tWC05_037\tWC05_038\tWC05_039\tWC05_040\tWC05_041\tWC05_042\tWC05_043\tWC05_044\tWC05_045\tWC05_046\tWC05_047\tWC05_048\tHS04_001\tHS04_002\tHS04_003\tHS04_004\tHS04_005\tHS04_006\tHS04_007\tHS04_008\tHS04_009\tHS04_010\tHS04_011\tHS04_012\tHS04_013\tHS04_014\tHS04_015\tHS04_016\tHS04_017\tHS04_018\tHS04_019\tHS04_020\tHS04_021\tHS04_022\tHS04_023\tHS04_024\tHS04_025\tHS04_026\tHS04_027\tHS04_028\tHS04_029\tHS04_030\tHS04_031\tHS04_032\tHS04_033\tHS04_034\tHS04_035\tHS04_036\tHS04_037\tHS04_038\tHS04_039\tHS04_040\tHS04_041\tHS04_042\tHS04_043\tHS04_044\tHS04_045\tHS04_046\tHS04_047\tHS04_048\tPI04_001\tPI04_002\tPI04_003\tPI04_004\tPI04_005\tPI04_006\tPI04_007\tPI04_008\tPI04_009\tPI04_010\tPI04_011\tPI04_012\tPI04_013\tPI04_014\tPI04_015\tPI04_016\tPI04_017\tPI04_018\tPI04_019\tPI04_020\tPI04_021\tPI04_022\tPI04_023\tPI04_024\tPI04_025\tPI04_026\tPI04_027\tPI04_028\tPI04_029\tPI04_030\tPI04_031\tPI04_032\tPI04_033\tPI04_034\tPI04_035\tPI04_036\tPI04_037\tPI04_038\tPI04_039\tPI04_040\tPI04_041\tPI04_042\tPI04_043\tPI04_044\tPI04_045\tPI04_046\tPI04_047\tPI04_048\tPS12_001\tPS12_002\tPS12_003\tPS12_004\tPS12_005\tPS12_006\tPS12_007\tPS12_008\tPS12_009\tPS12_010\tPS12_011\tPS12_012\tPS12_013\tPS12_014\tPS12_015\tPS12_016\tPS12_017\tPS12_018\tPS12_019\tPS12_020\tPS12_021\tPS12_022\tPS12_023\tPS12_024\tPS12_025\tPS12_026\tPS12_027\tPS12_028\tPS12_029\tPS12_030\tPS12_031\tPS12_032\tPS12_033\tPS12_034\tPS12_035\tPS12_036\tPS12_037\tPS12_038\tPS12_039\tPS12_040\tPS12_041\tPS12_042\tPS12_043\tPS12_044\tPS12_045\tPS12_046\tPS12_047\tPS12_048\tGS13_001\tGS13_002\tGS13_003\tGS13_004\tGS13_005\tGS13_006\tGS13_007\tGS13_008\tGS13_009\tGS13_010\tGS13_011\tGS13_012\tGS13_013\tGS13_014\tGS13_015\tGS13_016\tGS13_017\tPWS12_002\tPWS12_003\tPWS12_005\tPWS12_006\tPWS12_009\tPWS12_010\tPWS12_011\tPWS12_014\tPWS12_015\tPWS12_016\tPWS12_017\tPWS12_018\tPWS12_021\tPWS12_022\tPWS12_023\tPWS12_063\tPWS12_075\tPWS12_079\tPWS12_094\tPWS12_095\tPWS12_096\tPWS12_097\tPWS12_131\tPWS12_133\tUP03_001\tUP03_002\tUP03_003\tUP03_004\tUP03_005\tUP03_006\tUP03_007\tUP03_008\tUP03_009\tUP03_010\tUP03_011\tUP03_012\tUP03_013\tUP03_014\tUP03_015\tUP03_016\tUP03_017\tUP03_018\tUP03_019\tUP03_020\tUP03_021\tUP03_022\tUP03_023\tUP03_024\tUP03_025\tUP03_026\tUP03_027\tUP03_028\tUP03_029\tUP03_030\tUP03_031\tUP03_032\tUP03_033\tUP03_034\tUP03_035\tUP03_036\tUP03_037\tUP03_038\tUP03_039\tUP03_040\tUP03_041\tUP03_042\tUP03_043\tUP03_044\tUP03_045\tUP03_046\tUP03_047\tUP03_048\r\n"
     ]
    }
   ],
   "source": [
    "!head -n 1 ../stacks_wgenome/batch_1.haplotypes.tsv"
   ]
  },
  {
   "cell_type": "code",
   "execution_count": 20,
   "metadata": {
    "collapsed": false
   },
   "outputs": [
    {
     "name": "stdout",
     "output_type": "stream",
     "text": [
      "Catalog_ID\tCnt\tKOD03_035\tKOD03_051\tKOD03_052\tKOD03_053\tKOD03_054\tKOD03_055\tKOD03_056\tKOD03_057\tKOD03_058\tKOD03_059\tKOD03_060\tKOD03_061\tKOD03_062\tKOD03_063\tKOD03_064\tKOD03_065\tKOD03_066\tKOD03_067\tKOD03_068\tKOD03_069\tKOD03_070\tKOD03_071\tKOD03_072\tKOD03_073\tKOD03_074\tKOD03_075\tKOD03_076\tKOD03_077\tKOD03_078\tKOD03_079\tKOD03_080\tKOD03_081\tKOD03_082\tKOD03_083\tKOD03_084\tKOD03_085\tKOD03_086\tKOD03_087\tKOD03_088\tKOD03_089\tKOD03_090\tKOD03_091\tKOD03_092\tKOD03_093\tKOD03_094\tKOD03_095\tKOD03_096\tKOD03_097\tAD06_001\tAD06_002\tAD06_003\tAD06_004\tAD06_005\tAD06_006\tAD06_007\tAD06_008\tAD06_009\tAD06_010\tAD06_011\tAD06_012\tAD06_013\tAD06_014\tAD06_015\tAD06_016\tAD06_017\tAD06_018\tAD06_019\tAD06_020\tAD06_021\tAD06_022\tAD06_023\tAD06_024\tAD06_025\tAD06_026\tAD06_027\tAD06_028\tAD06_029\tAD06_030\tAD06_031\tAD06_032\tAD06_033\tAD06_034\tAD06_035\tAD06_036\tAD06_037\tAD06_038\tAD06_039\tAD06_040\tAD06_041\tAD06_042\tAD06_043\tAD06_044\tAD06_045\tAD06_046\tAD06_047\tAD06_048\tWC05_001\tWC05_002\tWC05_003\tWC05_004\tWC05_005\tWC05_006\tWC05_007\tWC05_008\tWC05_009\tWC05_010\tWC05_011\tWC05_012\tWC05_013\tWC05_014\tWC05_015\tWC05_016\tWC05_017\tWC05_018\tWC05_019\tWC05_020\tWC05_021\tWC05_022\tWC05_023\tWC05_024\tWC05_025\tWC05_026\tWC05_027\tWC05_028\tWC05_029\tWC05_030\tWC05_031\tWC05_032\tWC05_033\tWC05_034\tWC05_035\tWC05_036\tWC05_037\tWC05_038\tWC05_039\tWC05_040\tWC05_041\tWC05_042\tWC05_043\tWC05_044\tWC05_045\tWC05_046\tWC05_047\tWC05_048\tHS04_001\tHS04_002\tHS04_003\tHS04_004\tHS04_005\tHS04_006\tHS04_007\tHS04_008\tHS04_009\tHS04_010\tHS04_011\tHS04_012\tHS04_013\tHS04_014\tHS04_015\tHS04_016\tHS04_017\tHS04_018\tHS04_019\tHS04_020\tHS04_021\tHS04_022\tHS04_023\tHS04_024\tHS04_025\tHS04_026\tHS04_027\tHS04_028\tHS04_029\tHS04_030\tHS04_031\tHS04_032\tHS04_033\tHS04_034\tHS04_035\tHS04_036\tHS04_037\tHS04_038\tHS04_039\tHS04_040\tHS04_041\tHS04_042\tHS04_043\tHS04_044\tHS04_045\tHS04_046\tHS04_047\tHS04_048\tPI04_001\tPI04_002\tPI04_003\tPI04_004\tPI04_005\tPI04_006\tPI04_007\tPI04_008\tPI04_009\tPI04_010\tPI04_011\tPI04_012\tPI04_013\tPI04_014\tPI04_015\tPI04_016\tPI04_017\tPI04_018\tPI04_019\tPI04_020\tPI04_021\tPI04_022\tPI04_023\tPI04_024\tPI04_025\tPI04_026\tPI04_027\tPI04_028\tPI04_029\tPI04_030\tPI04_031\tPI04_032\tPI04_033\tPI04_034\tPI04_035\tPI04_036\tPI04_037\tPI04_038\tPI04_039\tPI04_040\tPI04_041\tPI04_042\tPI04_043\tPI04_044\tPI04_045\tPI04_046\tPI04_047\tPI04_048\tPS12_001\tPS12_002\tPS12_003\tPS12_004\tPS12_005\tPS12_006\tPS12_007\tPS12_008\tPS12_009\tPS12_010\tPS12_011\tPS12_012\tPS12_013\tPS12_014\tPS12_015\tPS12_016\tPS12_017\tPS12_018\tPS12_019\tPS12_020\tPS12_021\tPS12_022\tPS12_023\tPS12_024\tPS12_025\tPS12_026\tPS12_027\tPS12_028\tPS12_029\tPS12_030\tPS12_031\tPS12_032\tPS12_033\tPS12_034\tPS12_035\tPS12_036\tPS12_037\tPS12_038\tPS12_039\tPS12_040\tPS12_041\tPS12_042\tPS12_043\tPS12_044\tPS12_045\tPS12_046\tPS12_047\tPS12_048\tGS13_001\tGS13_002\tGS13_003\tGS13_004\tGS13_005\tGS13_006\tGS13_007\tGS13_008\tGS13_009\tGS13_010\tGS13_011\tGS13_012\tGS13_013\tGS13_014\tGS13_015\tGS13_016\tGS13_017\tPWS12_002\tPWS12_003\tPWS12_005\tPWS12_006\tPWS12_009\tPWS12_010\tPWS12_011\tPWS12_014\tPWS12_015\tPWS12_016\tPWS12_017\tPWS12_018\tPWS12_021\tPWS12_022\tPWS12_023\tPWS12_063\tPWS12_075\tPWS12_079\tPWS12_094\tPWS12_095\tPWS12_096\tPWS12_097\tPWS12_131\tPWS12_133\tUP03_001\tUP03_002\tUP03_003\tUP03_004\tUP03_005\tUP03_006\tUP03_007\tUP03_008\tUP03_009\tUP03_010\tUP03_011\tUP03_012\tUP03_013\tUP03_014\tUP03_015\tUP03_016\tUP03_017\tUP03_018\tUP03_019\tUP03_020\tUP03_021\tUP03_022\tUP03_023\tUP03_024\tUP03_025\tUP03_026\tUP03_027\tUP03_028\tUP03_029\tUP03_030\tUP03_031\tUP03_032\tUP03_033\tUP03_034\tUP03_035\tUP03_036\tUP03_037\tUP03_038\tUP03_039\tUP03_040\tUP03_041\tUP03_042\tUP03_043\tUP03_044\tUP03_045\tUP03_046\tUP03_047\tUP03_048\r\n"
     ]
    }
   ],
   "source": [
    "!head -n 1 ../stacks_wgenome/batch_1.haplotypes2.tsv"
   ]
  },
  {
   "cell_type": "markdown",
   "metadata": {},
   "source": [
    "\n",
    "**Step Two: ** Run Charlie's script to prepare files for correcting genotypes. \n"
   ]
  },
  {
   "cell_type": "code",
   "execution_count": 22,
   "metadata": {
    "collapsed": false
   },
   "outputs": [
    {
     "name": "stdout",
     "output_type": "stream",
     "text": [
      "/mnt/hgfs/Pacific cod/DataAnalysis/PCod-US-repo/scripts/PostStacksFiltering\n"
     ]
    }
   ],
   "source": [
    "cd PostStacksFiltering/"
   ]
  },
  {
   "cell_type": "code",
   "execution_count": 24,
   "metadata": {
    "collapsed": false
   },
   "outputs": [
    {
     "name": "stdout",
     "output_type": "stream",
     "text": [
      "2 179 A A A A A A A A A A A A A A A A A A A A A A A A A A A A A A A A A A A A A A A A A A A A A A A A A A A A A A A A T A A A A A A A A A A A A A A A A A A A A A A A A A A A A A A A A A A A A A A A A A A A A A A A A A A A A A A A A A A A A A A A A A A A A A A A A A A A A A A A A A A A A A A A A A A A A A A A A A A A A A A A A A A A A A A A A A A A A A A A A A A A\r\n",
      "3 133 G G G G G G G G G G G G G G G G G G G G G G G G G G G G G G G G G G G G G G G G G G G G G G G G G G G G A G G G G G G A G G G G G G G G G G G A G G G G G G G G G G G G G G G G G A G G G G G G G G G G G G G G G G G G G G G G G G G G G G G A G G G G G G G G G G G G G G G G G G\r\n",
      "4 309 C C C C C C C C C C C C C C C C C C C C C C C C C C C C C C C C C C C C C C C C C C C C C C C C C C C C C C C C C C C C C C C C C C C C C C C C C C C C C C C C C C C C C C C C C C T C C C C C C C C C C C C C C C C C C C C C T C C C C C C C C C C C C C C C C C C C C C C C C C C C C C C C C C C C C C C C C C C C C C C C C C C C C C C C C C C C C C C C C C C C C C C C C C C C C C C C C C C C C C C C C C C C C C C C C C C C C C C C C C C C C C C C C C C C C C C C C C C C C C C C C C C C C C C C C C C C C C C C C C C C C C C C C C C C T C C C C C C C C C C C C C C C C C C C C C C C C C C C C C C C C C C C C C C C C C C C\r\n",
      "5 282 C C C C C C C C C C C C C C C C C C C C C C C C C C C C C C C C C C C C C C C C C C C C C C C C C C C C C C C C C C C C C C C C C C C C C C C C C C C C C C C C C C C C C C C C C C C C C C C C C C C C C C C C C C C C C C C C C C C C C C C C C C C C C C C C C C C C C C C C C T C C C C C C C C C C C C C C C C C C C C C C C C C C C C C C C C C C C C C C C C C C C C C C C C C C C C C C C C C C C C C C C C C C C C C C C C C C C C C C C C C C C C C C C C C C C C C C C C C C C C C C C C C C C C C C C C C C C C C C C C C C C C C C C C C C C C C C C C C C C C C C C C C\r\n",
      "6 314 T T T T T T T T T T T T T T T T T T T T T T T T T T T T T T T T T T T T T T T T T T T T T T T T T T T T T T T T T T T T T T T T T T T T T T T T T T T T T T T T T T T T T T T T T A T T T T T T A T T T T T T T T T T T T T T T T T T T T T T A T T T A T T T T T T T T T T T T T T A T T T T A T T T T T T T T T T T T T A T T T T T T T T A T T T A T T T T T T T T T T T T T T T T T T A T T T T T T T T T T T T T T T T T T T T T T T T T T T T T T T T T T T T T T T A T T T T T T T A T T T T T T T T T T T T T T T T T T T T T T T T T T T A T T T T T T T T T T T T T T T T T T T T T T T T T T T T T T T T T T T T T T T T T T T T T T T T T T T T T T T T T T T T\r\n",
      "7 203 C C C C C C C C C C C C C C C C C C C T C C C C C C C C C C C C C C C C C C C C C C C C C C C C C C C C C C C C C C C C C C C C C C C C C C C C C C C C C C C C C C C C C C C C C C C C C C C C C C C C C C C C C C C C C C C C C C C C C C C C C C C C C C C C C C C C C C C C C C C C C C C C C C C C C C C C C C C C C C C C C C C C C C C C C C C C C C C C C C C C C C C C C C C C C C C C C C C C C C C C C C C C\r\n",
      "8 186 C C C C C C C C C C C C C C C C C C C C C C C C C C C C C C C C C C C C C C C C C C C C A C C C C C C C C C C C C C C C C C C C C A C C C C C C C C C C C C C A C C C C C C C C C C C C C C C C C C C C C C C C C C C C C C C C C C C C C C C C C C C C C C C C A C C C C C C C C C C C C C C C C C C C C C C C C C A C C C C C C C C A C C C C C C C C C C C C C C C C C C C C C C C C C C C\r\n",
      "9 160 A A A A A A A A A A A A A A A A A A A A A A A A A A A A A A G A A A A A A A A A A A A A A A A A A A A A A A A A A A A A A A A A A A A A A A A A A A A A A A A A A A A A A A A A A A A A A A A A A G A A A A A A A A A A A A A A A A A A A A A A A A A A A A A A A A A A A A A A A A A A A A A A A A A A A A A A A A A A A A A A A A\r\n",
      "11 327 C C C C C C C C C C C C C C C C C C C C C C C C C C C C C C C C C C C C C C C C C C C C C C C C C C C C C C C C C C C C C C C C C C C C C C C C C C C C C C C C C C C C C C C C C C C C C C C C C C C C C C C C C C C C C C C C C C C C C T C C C C C C C C C C C C C C C C C C C C C C C C C C C C C C C C C C C C C C C C C C C C C C C C C C C C C C C C C C C C C C C C C C C C C C C C C C C C C C C C C C C C C C C C C C C C C C C C C C C C C C C C C C C C C C C C C C C C C C C C C C C C C C C C C C C C C C C C C C C C C C C C C C C C C C C C C C C C C C C C C C C C C C C C C C C C C C C C C C C C C C C C C C C C C C C C C C C C C C C C C C C C C C C C C C\r\n",
      "12 314 C C C C C C C C C C C C C C C C C C C C C C C C C C C C C C C C C C C C C C C C C C C C C C C C C C C C C C C C C C C C C C C C C C C C C C C C C C C C C C C C C C C C C C C C C C C C C C C C C C C C C C C C C C C C C C C C C C C C C C C C C C C C C C C C C C C C C C C C C C C C C C C C C C C C C C T C C C C C C C C C C C C C C C C C C C C C C C C C C C C C C C C C C C C C C C C C C C C C C C C C C C C C C C C C C C C C C C C C C C C C C C C C C C C C C C C C C C C C C C C C C C C C C C C C C C C C C C C C C C C C C C C C C C C C C C C C C C C C C C C C C C C C C C C C C C C C C C C C C C C C C C C C C C C C C C C C C C C\r\n",
      "13 320 CC CC CC CC CC CC CC CC CC CC CC CC CC CC CC CC CC CC CC CC CC CC CC CC CC CC CC CC CC CC CC CC CC CC CC CC CC CC CC CC CC CC CC CC CC CC CC CC CC CC CC CC CC CC CC CC CC CC CC CC CC CC CC CC CC CC CT CC CC CC CC CC CC CC CC CC CC CC CC CC CC CC CC CC CC CC CC CC CT CC CC CC CC CC CC CC CC CC CC CC CC CC CC CC CC CC CC CC CC CC CC CC CC CC CC CC CC CC CC CC CC CC CC CC CC CC CC CC CC CC CC CC CC CC CC CC CC CC CC CC CC CC CC CC CC CC CC CC CC CC CC CC CC CC CC TC CC CC CC CC CC CC CC CC CC CC CC CC CC CC CC CC CC CC CC CC CC CC CC CC CC CC CC CC CC CC CC CC CC CC CC CC CC CC CC CC CC CC CC CC CC CC CC CC CC CC CC CC CC CC CC CC CC CC CC CC CC CC CC CC CC CC CC CC CC CC CC CC CC CC CC CC CC CC CC CC CC CC CC CC CC CC CC CC CC CC CC CC CC CC CC CC CC CC CC CC CC CC CC CC CC CC CC CC CC CC CC CC CC CC CC CC CC CC CC CC CC CC CC CC CC CC CC CC CC CC CC CC CC CC CC CC CC CC CC CC CC CC CC CC CC CC CC CC CC CC CC CC CC CC CC CC CC CC CC CC CC CC CC CC CC CC CC\r\n",
      "15 317 A A A A A A A A A A A A A A A A A A A A A A A A A A A A T A A A A A A A A A A A A A A A A A A A A A A A A A A A A A A A A A A A A A A A A A A A A A A A A A A A A A A A A A A A A A A A A A A A A A A A A A A A A A A A A A T A A A A A A A A A A A A A A A A A A T A A A A A A A T A A A A A A A A A A A A A A A A A A A A A A A A A A A A A A A A A A A A A A A A A A A A A A A A A A A A A A A A A A A A A A A A A A A A A A A A A A A A A A A A A A A A A A A A A A A A A A A A A A A A A A A A A A A A A A A A A A A A A A A A A A A A A A A A A A A A A A A A A A A A A A A A A A A A A A A A A A A A A A A A A T A A A A A A A A A A A A A A A A A A A A A A\r\n",
      "16 316 A A A A A A A A A A A C A A A A A A A A A A A A A A A A A A A A A A A A A A A A A A A A A A A A A A A A A A A A A A A A A A A A A A A A A A A A A A A A A A A A A A A A A A A A A A A A A A A A A A A A A A A A A A A A A A A A A A A A A A A A A A A A A A A A A A A A A A A A A A A A A A A A A A A A A A A A A A A A A A A A A A A A A A A A A A A A A A A A A A A A A A A A A A A A A A A A A A A A A A A A A A A A A A A A A C A A A A A A A A A A A A A A A A A A A A A A A A A A A A A A A A A A A A A A A A A A A A A C A A A A A A A A A A A A A A A A A A A A A A A A A A A A A A A A A A A A A A A A A A A A A A A A A A A A A A A A A A A A A A\r\n",
      "17 289 GT GT GT GT GT GT GT GT GT GT GT GT GT GT GT GT GT GT GT GT GT GT GT GT GT GT GT GT TT GT GT GT GT GT GT GT TT GT GT GT GT TT GT GT GT GT GT GT GT TT GT GT GT GT GT GT GT GT GT GT GT GT TT GT GT GT GT TT GT GT GT GT GT GT GT GT GT GT GT GT TT GT GT GT TT GT GT GT GT GT GT GT GT GT GT GT GT GT GT GT GT GT GT GT GT GT GT GT GT GT GT GT GT GT GT GT GT GT GT GT GT GT GT GT GT GT GT GT GT GT GT GT GT GT GT GT GT GT GT GT GT GT GT GT GT GT GT GT GT GT TT GT GT GT TT GT GT GT TT GT GT GT GT GT GT GT GT GT GT GT GT GT TT GT GT GT GT GT GT TT GT GT GT GT GT GT GT GT GT GT GT GT GT GT GT GT GT GT GT GT GT GT GT GT GT GT GT GT GT GT GT GT GT GT GT GT GT GT GT GT GT GT GT GT GT GT GT GT GT GT GT GT GT GT GT GT GT GT GT TT GT GT GT GT GT GT GT GT GT GT GT GT GT GT GT GT GT TT GT TT GT TT GT GT GT GT GT GT GT GT GT GC GT GT GT GT GT GT GT GT GT GT GT GT GT GT GT GT GT GT GT GT GT GT GT GT GT GT GT GT GT GT GT GT GT GT GT TT\r\n",
      "18 310 G G G G G G G G G G G G G G G G G G G G G G G G G G G G G G G G G G G G G G G G G G G G G G G G G G G G G G A G G G G G G G G G G G G G A G G G G G G G G G G G G G G G G G G G G G G G G G G G G G G G G G G A G G G G G G G G G G G G G G G G G G G G G G G G G G G G G G G G G G G G A G G G G G G G G G A G G G G G G A G G A G G G G G G G G G G G G G G G G G G G G G G A G G G G G G G G G G G G G A G G A G G G G G G G G A G G G G G G G G G G G G G G G G G G G G G G G A G G G G G G G G G G G G G G A G G G G G G G G G G G G G G G G G G G G G G G G G G G G G A G G G G G G G G G G G G G G G G G G G G G G G G G A G G G G A G G G G G G G G G G G G G G G\r\n",
      "19 299 AC GG AC GC GG GC GG AC GG AC GC GG AC GC GG AC GC GG AC GC GG AC GG AC GC GG AC GC GG AC GC GG AC GC GG GC GG AC GC GG AC GC GG AC GC GG GC GG GG AC GC GG GG AC AG GC GG AC GG AC GC GG AC GC GG GC GG AC GC GG GC GG GC GG GC GG AC GG AC GC GG AC GG GC GG AC GC GG GC GG AC GG GG GC GG AC GC GG AC GG AC AC GC GG AC GG AC GC GG GC GG AC GC GG AC GC GG GC GG AC GC GG AC GG AC GG AC GG AC GC GG AC GC GG AC GG GG AC GC GG AC GC GG AC GC GG AC GG AC GC GG GC GG GC GG GC GG AC GG AC GC GG GC GG AC GG AC GC GG GC GG AC GG AC GC GG AC GG AC GC GG GC GG AC GG GC GG GC GG AC GC GG AC GC AC GC GG AC GC GG AC GG GC GG AC GC GG GC GG GC GG AC GG GC GG AC GG GC GG GC GG GC GG AC GC GG AC GC GG GC GG GC GG AC GG AC GC GG GC GG GC GG GC GG GC GG GC GG AC GG GC GG AC GC GG AC GC GG AC GC GG GC GG GG GC GG GC GG AC GC GG GC GG GC GG GC GG AC GC GG AC GG GC GG AC GC GG GC GG GC GG GC GG GC GG GC GG GC GG AC GC GG GC GG GC GG AC AG GC GG GC GG GC GG GC GG AC GC GG AC GC GG AC GC GG AC GC GG AC GC GG AC GC GG AC GC GG AC GG AC GC GG GC GG GC GG AC GC GG GC GG GC GG GC GG AC GC GG GC GG GC GG AC GC GG GC GG AC GC GG AC GC GG GC GG AC GC GG AC GC GG AC GG AC GC GG AC GC GG AC GC GG GC GG AC GC GG GC GG GC GG GC GG AC GC GG GC GG GC GG GC GG AC GC GG GC GC GG GC GG GC GG AC GC GG GC GG GC GG GC GG GC GG AC GG GC GG GC GG GC GG GC GG GC GG GC GG AC GC GG GC GG GC GG AC GC GG GC GG GC GG GC GG AC GC GG AC GC GG GC GG GC GG AC GC GG AC GC GG GC GG GC GG AC AG GC GG AC GC GG GC GG GC GG GC GG GC GG GG GC GG GC GG GC GG GC GG AC GC GG GC GG GC GG AC GC GG GC GG GC GG AC GC GG GC GG GC GG AC GC GG GC GG GC GG GC GG AC GC GG GC GG GC GG GC GG AC GC GG GC GG AC GC GG GC GG AC GC GG AC GC GG AC GG AC GC GG AC GC GG AC GC GG GC GG GC GG AC GC GG AC GG GC GG GC GG AC GC GG AC GC GG AC GG GC GG AC GC GG AC GC GG AC GC GG AC GC GG GC AC GC GG AC GC GG GC GG GC GG GC GG GC GG AC GG GC GG AC GC GG AC GC GG AC GC GG AC GG AC GC GG AC GC GG AC GC GG AC GC GG GC GG AC GC GG AC GC GG AC GC GG AC GG GC GG AC AC GG AC GG AC GC GG AC GG AC GG AC GG AC GG GC GG AC GG AC GG AC GC GG GC GG AC GG AC GC GG GC GG AC GG AC GG GC GG\r\n",
      "20 324 C C C C C C C C C C C C C C C C C C C C C C C C C C C C C C C C C C C C C C C C C C C C C C C C C C C C C C C C C C C C C C C C C C C C C C C C C C C C C C C C C C C C C C C C C C C C C C C C C C C C C C C C C C C C C C C C C C C C C C C C C C C C C C C C C C C C C C C C C C C C C C C C C C C C C C C C C C C C C C C C C C C C C C C C C C C C C C C C C C C C C C C C C C C C C C C C C C C C C C C C C C C C C G C G C C C C C C C C C C C C C C C C C C C C C C C C C C C C C C C C C C C C C C C C C C C C C C C C C C C C C C C C C C C C C C C C C C C C C C C C C C C C C C C C C C C C C C C C C C C C C C C C C C C C C C C C C C C C C C C C C C C C C C\r\n",
      "21 307 T T T T T T T T T T T T T T T T T T T T T T T T T T T T T T T T T T T T T T T T T T T T T T T T T T T T T G T T G T T T T T T T T T T T T T T T T T T T T T T T T G T T T T T T T T T T T T T T T T T T T T T T T T T T T T T T T T T T T T T T T T T T T T T T T T T T T T T T T T T T T T T T T T T T T T T T T T T T T T T T T T T T T T T T T T T T T T T T T T T T T T T T T T T T T T T T T T T T T T T T T T T T T T T T T T T T T T T T T T T T T T T T T T T T T T T T T G T T T T T T T T T T T T T T T T T G T T T T T T G T T T G T T T T T T T G T T T T T T T T T T T G T G T T T G T T T T T T G T T T T T T T T T T T T T G T T T T T T T G T T T\r\n",
      "23 192 C C C C C C C C C C C C C C C C C C C C C C C C C C C C C C T C C C C C C C C C C C C C C T C C C C C C C C C C C C C C C C C C C C C C C C C C C C C C C C C C C C C C C C C C C C C C C C C C C C C C C T C C T C C C C C C C C C C C C C C C C C C T C C C C C C C C C C C C C C C C C C C C C C C T C C T C C C C C C C C C T C C C C C C C C C C C C C C C C C C C C T C C C C C C C C C C C C C C C C C C\r\n"
     ]
    }
   ],
   "source": [
    "!python preparing_file_for_correcting_genotypes.py \\\n",
    "../../stacks_wgenome/batch_1.haplotypes2.tsv \\\n",
    "../../stacks_wgenome/batch_1.biallelic_catalog.tsv \\\n",
    "../../stacks_wgenome/batch_1.catalog.snps2.tsv \\\n",
    "1"
   ]
  },
  {
   "cell_type": "markdown",
   "metadata": {},
   "source": [
    "\n",
    "**Step Three**: Unzip all .tags files, and then run Marine's script to verify genotypes. \n",
    "\n",
    "\n",
    "Normally, I would run the interactive script from the commen line: `gzip_MBgenotypesverif_BASHshell.sh`\n",
    "\n",
    "However, all of my files are already unzipped. So I'm just going to run Marine's scripts by itself. -- but I am going to test my takeARGS script\n",
    "\n",
    "\n"
   ]
  },
  {
   "cell_type": "code",
   "execution_count": 25,
   "metadata": {
    "collapsed": false
   },
   "outputs": [
    {
     "name": "stdout",
     "output_type": "stream",
     "text": [
      "############## EDITED FROM Marine Brieuc   mbrieuc <a> uw.edu -- TO TAKE COMMAND LINE ARGUMENTS\r\n",
      "\r\n",
      "#MF 2/13/2017\r\n",
      "\r\n",
      "# argument 1- absolute path to folder containing stacks files (DON'T INCLUDE FINAL \"/\")\r\n",
      "# argument 2- population map file, used in stacks' populations\r\n",
      "# argument 3- batch #\r\n",
      "# argument 4- minimum stack depth\r\n",
      "##########################################################################################\r\n",
      "#python genotypes_verif_v2_no_ref.py\r\n"
     ]
    }
   ],
   "source": [
    "!head -n 10 genotypes_verif_v2_no_ref_takeARGS.py"
   ]
  },
  {
   "cell_type": "code",
   "execution_count": 28,
   "metadata": {
    "collapsed": false
   },
   "outputs": [
    {
     "name": "stdout",
     "output_type": "stream",
     "text": [
      "KOD03_035\n",
      "KOD03_051\n",
      "KOD03_052\n",
      "KOD03_053\n",
      "KOD03_054\n",
      "KOD03_055\n",
      "KOD03_056\n",
      "KOD03_057\n",
      "KOD03_058\n",
      "KOD03_059\n",
      "KOD03_060\n",
      "KOD03_061\n",
      "KOD03_062\n",
      "KOD03_063\n",
      "KOD03_064\n",
      "KOD03_065\n",
      "KOD03_066\n",
      "KOD03_067\n",
      "KOD03_068\n",
      "KOD03_069\n",
      "KOD03_070\n",
      "KOD03_071\n",
      "KOD03_072\n",
      "KOD03_073\n",
      "KOD03_074\n",
      "KOD03_075\n",
      "KOD03_076\n",
      "KOD03_077\n",
      "KOD03_078\n",
      "KOD03_079\n",
      "KOD03_080\n",
      "KOD03_081\n",
      "KOD03_082\n",
      "KOD03_083\n",
      "KOD03_084\n",
      "KOD03_085\n",
      "KOD03_086\n",
      "KOD03_087\n",
      "KOD03_088\n",
      "KOD03_089\n",
      "KOD03_090\n",
      "KOD03_091\n",
      "KOD03_092\n",
      "KOD03_093\n",
      "KOD03_094\n",
      "KOD03_095\n",
      "KOD03_096\n",
      "KOD03_097\n",
      "AD06_001\n",
      "AD06_002\n",
      "AD06_003\n",
      "AD06_004\n",
      "AD06_005\n",
      "AD06_006\n",
      "AD06_007\n",
      "AD06_008\n",
      "AD06_009\n",
      "AD06_010\n",
      "AD06_011\n",
      "AD06_012\n",
      "AD06_013\n",
      "AD06_014\n",
      "AD06_015\n",
      "AD06_016\n",
      "AD06_017\n",
      "AD06_018\n",
      "AD06_019\n",
      "AD06_020\n",
      "AD06_021\n",
      "AD06_022\n",
      "AD06_023\n",
      "AD06_024\n",
      "AD06_025\n",
      "AD06_026\n",
      "AD06_027\n",
      "AD06_028\n",
      "AD06_029\n",
      "AD06_030\n",
      "AD06_031\n",
      "AD06_032\n",
      "AD06_033\n",
      "AD06_034\n",
      "AD06_035\n",
      "AD06_036\n",
      "AD06_037\n",
      "AD06_038\n",
      "AD06_039\n",
      "AD06_040\n",
      "AD06_041\n",
      "AD06_042\n",
      "AD06_043\n",
      "AD06_044\n",
      "AD06_045\n",
      "AD06_046\n",
      "AD06_047\n",
      "AD06_048\n",
      "WC05_001\n",
      "WC05_002\n",
      "WC05_003\n",
      "WC05_004\n",
      "WC05_005\n",
      "WC05_006\n",
      "WC05_007\n",
      "WC05_008\n",
      "WC05_009\n",
      "WC05_010\n",
      "WC05_011\n",
      "WC05_012\n",
      "WC05_013\n",
      "WC05_014\n",
      "WC05_015\n",
      "WC05_016\n",
      "WC05_017\n",
      "WC05_018\n",
      "WC05_019\n",
      "WC05_020\n",
      "WC05_021\n",
      "WC05_022\n",
      "WC05_023\n",
      "WC05_024\n",
      "WC05_025\n",
      "WC05_026\n",
      "WC05_027\n",
      "WC05_028\n",
      "WC05_029\n",
      "WC05_030\n",
      "WC05_031\n",
      "WC05_032\n",
      "WC05_033\n",
      "WC05_034\n",
      "WC05_035\n",
      "WC05_036\n",
      "WC05_037\n",
      "WC05_038\n",
      "WC05_039\n",
      "WC05_040\n",
      "WC05_041\n",
      "WC05_042\n",
      "WC05_043\n",
      "WC05_044\n",
      "WC05_045\n",
      "WC05_046\n",
      "WC05_047\n",
      "WC05_048\n",
      "HS04_001\n",
      "HS04_002\n",
      "HS04_003\n",
      "HS04_004\n",
      "HS04_005\n",
      "HS04_006\n",
      "HS04_007\n",
      "HS04_008\n",
      "HS04_009\n",
      "HS04_010\n",
      "HS04_011\n",
      "HS04_012\n",
      "HS04_013\n",
      "HS04_014\n",
      "HS04_015\n",
      "HS04_016\n",
      "HS04_017\n",
      "HS04_018\n",
      "HS04_019\n",
      "HS04_020\n",
      "HS04_021\n",
      "HS04_022\n",
      "HS04_023\n",
      "HS04_024\n",
      "HS04_025\n",
      "HS04_026\n",
      "HS04_027\n",
      "HS04_028\n",
      "HS04_029\n",
      "HS04_030\n",
      "HS04_031\n",
      "HS04_032\n",
      "HS04_033\n",
      "HS04_034\n",
      "HS04_035\n",
      "HS04_036\n",
      "HS04_037\n",
      "HS04_038\n",
      "HS04_039\n",
      "HS04_040\n",
      "HS04_041\n",
      "HS04_042\n",
      "HS04_043\n",
      "HS04_044\n",
      "HS04_045\n",
      "HS04_046\n",
      "HS04_047\n",
      "HS04_048\n",
      "PI04_001\n",
      "PI04_002\n",
      "PI04_003\n",
      "PI04_004\n",
      "PI04_005\n",
      "PI04_006\n",
      "PI04_007\n",
      "PI04_008\n",
      "PI04_009\n",
      "PI04_010\n",
      "PI04_011\n",
      "PI04_012\n",
      "PI04_013\n",
      "PI04_014\n",
      "PI04_015\n",
      "PI04_016\n",
      "PI04_017\n",
      "PI04_018\n",
      "PI04_019\n",
      "PI04_020\n",
      "PI04_021\n",
      "PI04_022\n",
      "PI04_023\n",
      "PI04_024\n",
      "PI04_025\n",
      "PI04_026\n",
      "PI04_027\n",
      "PI04_028\n",
      "PI04_029\n",
      "PI04_030\n",
      "PI04_031\n",
      "PI04_032\n",
      "PI04_033\n",
      "PI04_034\n",
      "PI04_035\n",
      "PI04_036\n",
      "PI04_037\n",
      "PI04_038\n",
      "PI04_039\n",
      "PI04_040\n",
      "PI04_041\n",
      "PI04_042\n",
      "PI04_043\n",
      "PI04_044\n",
      "PI04_045\n",
      "PI04_046\n",
      "PI04_047\n",
      "PI04_048\n",
      "PS12_008\n",
      "PS12_048\n",
      "PS12_031\n",
      "PS12_036\n",
      "PS12_030\n",
      "PS12_006\n",
      "PS12_016\n",
      "PS12_033\n",
      "PS12_015\n",
      "PS12_014\n",
      "PS12_044\n",
      "PS12_037\n",
      "PS12_004\n",
      "PS12_040\n",
      "PS12_023\n",
      "PS12_042\n",
      "PS12_024\n",
      "PS12_034\n",
      "PS12_003\n",
      "PS12_002\n",
      "PS12_001\n",
      "PS12_041\n",
      "PS12_013\n",
      "PS12_027\n",
      "PS12_039\n",
      "PS12_020\n",
      "PS12_012\n",
      "PS12_029\n",
      "PS12_022\n",
      "PS12_007\n",
      "PS12_046\n",
      "PS12_043\n",
      "PS12_045\n",
      "PS12_011\n",
      "PS12_028\n",
      "PS12_021\n",
      "PS12_026\n",
      "PS12_010\n",
      "PS12_025\n",
      "PS12_019\n",
      "PS12_038\n",
      "PS12_017\n",
      "PS12_047\n",
      "PS12_032\n",
      "PS12_018\n",
      "PS12_035\n",
      "PS12_005\n",
      "PS12_009\n",
      "GS13_001\n",
      "GS13_002\n",
      "GS13_003\n",
      "GS13_004\n",
      "GS13_005\n",
      "GS13_006\n",
      "GS13_007\n",
      "GS13_008\n",
      "GS13_009\n",
      "GS13_010\n",
      "GS13_011\n",
      "GS13_012\n",
      "GS13_013\n",
      "GS13_014\n",
      "GS13_015\n",
      "GS13_016\n",
      "GS13_017\n",
      "PWS12_002\n",
      "PWS12_003\n",
      "PWS12_005\n",
      "PWS12_006\n",
      "PWS12_009\n",
      "PWS12_010\n",
      "PWS12_011\n",
      "PWS12_014\n",
      "PWS12_015\n",
      "PWS12_016\n",
      "PWS12_017\n",
      "PWS12_018\n",
      "PWS12_021\n",
      "PWS12_022\n",
      "PWS12_023\n",
      "PWS12_063\n",
      "PWS12_075\n",
      "PWS12_079\n",
      "PWS12_094\n",
      "PWS12_095\n",
      "PWS12_096\n",
      "PWS12_097\n",
      "PWS12_131\n",
      "PWS12_133\n",
      "UP03_001\n",
      "UP03_009\n",
      "UP03_017\n",
      "UP03_025\n",
      "UP03_033\n",
      "UP03_041\n",
      "UP03_002\n",
      "UP03_010\n",
      "UP03_018\n",
      "UP03_026\n",
      "UP03_034\n",
      "UP03_042\n",
      "UP03_003\n",
      "UP03_011\n",
      "UP03_019\n",
      "UP03_027\n",
      "UP03_035\n",
      "UP03_043\n",
      "UP03_004\n",
      "UP03_012\n",
      "UP03_020\n",
      "UP03_028\n",
      "UP03_036\n",
      "UP03_044\n",
      "UP03_005\n",
      "UP03_013\n",
      "UP03_021\n",
      "UP03_029\n",
      "UP03_037\n",
      "UP03_045\n",
      "UP03_006\n",
      "UP03_014\n",
      "UP03_022\n",
      "UP03_030\n",
      "UP03_038\n",
      "UP03_046\n",
      "UP03_007\n",
      "UP03_015\n",
      "UP03_023\n",
      "UP03_031\n",
      "UP03_039\n",
      "UP03_047\n",
      "UP03_008\n",
      "UP03_016\n",
      "UP03_024\n",
      "UP03_032\n",
      "UP03_040\n",
      "UP03_048\n"
     ]
    }
   ],
   "source": [
    "!python genotypes_verif_v2_no_ref_takeARGS.py ../../stacks_wgenome \\\n",
    "../PopMap.txt \\\n",
    "1 \\\n",
    "10"
   ]
  },
  {
   "cell_type": "markdown",
   "metadata": {},
   "source": [
    "\n",
    "This automatically saves my new biallelic catalog as: \n",
    "\n",
    "`../stacks_wgenome/batch_1.biallelic_catalog.txt`\n",
    "\n",
    "But the genotypes are in \"-\", \"a\", \"ab\", \"b\" format.\n",
    "\n",
    "<br>\n",
    "**Step Four:** Run Charlie's genepop_conversion_corrected.py script"
   ]
  },
  {
   "cell_type": "code",
   "execution_count": 29,
   "metadata": {
    "collapsed": false
   },
   "outputs": [
    {
     "name": "stdout",
     "output_type": "stream",
     "text": [
      "## Charles D. Waters <cwaters8@uw.edu>\r\n",
      "## 11/01/2013\r\n",
      "## This script takes the haplotype file that was output from Marine's Corrected Genotypes script (\"genotypes_verif_v2.py\") and then converts the genotypes from a,b,ab,and - to \"0101\",\"0202\",\"0102\", and \"0000\"\r\n",
      "\r\n",
      "## Argument 1: Input haplotype file of corrected genotypes, which was generated by Marine's genotypes_verif_v2.py script\r\n",
      "## Argument 2: Output file in the genepop format\r\n",
      "#python Genepop_conversion_corrected.py batch_2_corrected_genotypes_2_alleles.txt batch_2_corrected_genotypes_2_alleles_genepop.txt\r\n",
      "import sys\r\n",
      "\r\n",
      "\r\n"
     ]
    }
   ],
   "source": [
    "!head Genepop_conversion_corrected.py"
   ]
  },
  {
   "cell_type": "code",
   "execution_count": 33,
   "metadata": {
    "collapsed": false
   },
   "outputs": [
    {
     "data": {
      "text/plain": [
       "u'/mnt/hgfs/Pacific cod/DataAnalysis/PCod-US-repo/scripts/PostStacksFiltering'"
      ]
     },
     "execution_count": 33,
     "metadata": {},
     "output_type": "execute_result"
    }
   ],
   "source": [
    "pwd"
   ]
  },
  {
   "cell_type": "code",
   "execution_count": 34,
   "metadata": {
    "collapsed": false
   },
   "outputs": [],
   "source": [
    "!python Genepop_conversion_corrected.py \\\n",
    "../../stacks_wgenome/batch_1.CorrectedGenotypes_biallelic.txt \\\n",
    "../../stacks_wgenome/batch_1.CorrectedGenotypes_biallelic.genepop"
   ]
  },
  {
   "cell_type": "markdown",
   "metadata": {},
   "source": [
    "\n",
    "**Step Five:** Transpose genepop into a 2 x 2 chart\n",
    "\n",
    "<br>\n",
    "(1) add the word \"sample\" to the first cell in the genepop file"
   ]
  },
  {
   "cell_type": "code",
   "execution_count": 41,
   "metadata": {
    "collapsed": false
   },
   "outputs": [
    {
     "name": "stdout",
     "output_type": "stream",
     "text": [
      "#### This script adds in the word \"sample\" to your column headers for the genepop file, filtered by Marine's scripts###\r\n",
      "\r\n",
      "### Mostly for use with BASH_finalfilters. ASSUMES THIS FILE NAMING SCHEME ###\r\n",
      "\r\n",
      "## argument 1 - Absolute path to stacks files (or wherever the filtered genepop file is), without final \"/\"\r\n",
      "## argument 2 - batch #\r\n",
      "\r\n",
      "##########################################################################\r\n",
      "\r\n",
      "import sys\r\n"
     ]
    }
   ],
   "source": [
    "!head add_sample_to_genepop.py"
   ]
  },
  {
   "cell_type": "code",
   "execution_count": 42,
   "metadata": {
    "collapsed": false
   },
   "outputs": [
    {
     "name": "stdout",
     "output_type": "stream",
     "text": [
      "adding 'sample' as the first column header\r\n"
     ]
    }
   ],
   "source": [
    "!python add_sample_to_genepop.py ../../stacks_wgenome 1"
   ]
  },
  {
   "cell_type": "code",
   "execution_count": 44,
   "metadata": {
    "collapsed": false
   },
   "outputs": [
    {
     "name": "stdout",
     "output_type": "stream",
     "text": [
      "sample\t10002\t10003\t10004\t10007\t10008\t10012\t10013\t10014\t10018\t1002\t10020\t10021\t10022\t10023\t10024\t10026\t10027\t1003\t10030\t10031\t10032\t10034\t10035\t10036\t10037\t1004\t10040\t10041\t10044\t10046\t10049\t10052\t10053\t10054\t10057\t10058\t10059\t1006\t10060\t10062\t10066\t10069\t1007\t10070\t10075\t10078\t10079\t10080\t10083\t10084\t10085\t10086\t10088\t10091\t10092\t10094\t10097\t10099\t10100\t10103\t10104\t10106\t1011\t10110\t10113\t10115\t10118\t1012\t10120\t10121\t10123\t10125\t10127\t10129\t1013\t10130\t10132\t10133\t10134\t10135\t10136\t10137\t10139\t1014\t10140\t10141\t10146\t10149\t10150\t10151\t10152\t10153\t10154\t10155\t10156\t1016\t10160\t10163\t10165\t10166\t10168\t1017\t10172\t10174\t10175\t10176\t10179\t1018\t10180\t10185\t10193\t10194\t10196\t102\t1020\t10202\t10203\t10205\t10206\t10209\t1021\t10211\t10212\t10214\t10215\t10218\t1022\t10220\t10222\t10224\t10231\t10232\t10233\t10235\t10238\t10239\t10242\t10244\t10249\t10251\t10252\t10256\t10258\t1026\t10260\t10261\t10263\t10264\t10266\t10267\t10268\t10274\t1028\t10281\t10283\t10284\t10285\t10286\t10288\t10289\t10295\t10301\t10302\t10303\t10305\t10306\t10307\t1031\t10310\t10312\t10316\t10317\t10321\t10322\t10323\t10326\t1033\t10330\t10333\t10336\t10337\t10338\t10339\t1034\t10343\t10346\t10348\t10349\t10352\t10355\t10356\t10357\t10359\t10361\t10365\t10366\t10367\t10368\t10369\t10370\t10371\t10373\t10374\t10376\t10378\t10380\t10381\t10382\t10385\t10387\t1039\t10392\t10395\t10398\t104\t10401\t10404\t10405\t10406\t10408\t1041\t10411\t10414\t10415\t10416\t10418\t10420\t10422\t10423\t10426\t10427\t10430\t10431\t10432\t10436\t10437\t10439\t10440\t10442\t10445\t1045\t10451\t10452\t10455\t10456\t10457\t10458\t10460\t10465\t10467\t10468\t10470\t10474\t10478\t10481\t10486\t10487\t10488\t10494\t10496\t10498\t10499\t105\t1050\t10501\t10504\t10505\t10506\t10511\t10512\t10514\t10521\t10522\t10523\t10525\t1053\t10530\t10532\t10533\t10535\t10536\t10541\t10543\t10544\t10545\t10546\t1055\t10553\t10556\t10557\t1056\t10560\t10562\t10563\t10565\t10567\t10568\t1057\t10570\t10572\t10573\t10574\t10579\t1058\t10581\t10582\t10585\t10586\t10587\t10588\t10590\t10591\t10594\t10596\t10597\t10598\t10599\t106\t10600\t10601\t10603\t10604\t10606\t1061\t10611\t10614\t10616\t10617\t10620\t10621\t10623\t10624\t10626\t10628\t10631\t10632\t10633\t10636\t10637\t10638\t10639\t1064\t10642\t10644\t10645\t10646\t10648\t10650\t10651\t10653\t10655\t10658\t10659\t10661\t10662\t10665\t10669\t1067\t10671\t10672\t10673\t10675\t10677\t10679\t10681\t10682\t10683\t10685\t10688\t10689\t1069\t10691\t10692\t10695\t10696\t10697\t10698\t10699\t107\t1070\t10700\t10703\t10705\t10708\t10709\t10711\t10712\t10714\t10715\t10716\t10718\t1072\t10722\t10723\t10725\t10727\t10731\t10732\t10733\t10736\t10737\t10741\t10742\t10743\t10748\t10749\t1075\t10750\t10751\t10752\t10754\t10755\t10757\t10758\t10759\t10760\t10761\t10762\t10764\t10768\t1077\t10770\t10771\t10774\t10775\t10776\t10777\t10778\t10780\t10781\t10782\t10783\t10784\t10785\t10786\t10787\t10789\t10791\t10794\t10797\t10799\t108\t1080\t10804\t10806\t10809\t10811\t10812\t10815\t1082\t10820\t10821\t10822\t10825\t10828\t10829\t1083\t10830\t10832\t10834\t10836\t10841\t10842\t10843\t10844\t10845\t10846\t10848\t10851\t10857\t10863\t10864\t10865\t10866\t10868\t10869\t1087\t10871\t10873\t10876\t10878\t1088\t10880\t10881\t10883\t10884\t10885\t10886\t10888\t10889\t1089\t10890\t10891\t10892\t10893\t10894\t10897\t10898\t10899\t1090\t10900\t10901\t10902\t10903\t10904\t10908\t1091\t10910\t10911\t10912\t10914\t10918\t10919\t1092\t10923\t10925\t10928\t10929\t10933\t10934\t10935\t10937\t10938\t1094\t10940\t10942\t10943\t10945\t10946\t10948\t10949\t1095\t10950\t10951\t10953\t10954\t10955\t10956\t10958\t10961\t10962\t10963\t10964\t10969\t10971\t10973\t10974\t10976\t10977\t10979\t10980\t10981\t10982\t10984\t10985\t10988\t10989\t10990\t10991\t10992\t10993\t10997\t10998\t10999\t1100\t11000\t11001\t11002\t11003\t11005\t11006\t11007\t11009\t11010\t11012\t11014\t11016\t11017\t11018\t11020\t11022\t11024\t11025\t1103\t11030\t11031\t11032\t11033\t11034\t11035\t11037\t11038\t1104\t11040\t11043\t11045\t11046\t1105\t11052\t11053\t11055\t11057\t11058\t11061\t11065\t11066\t11068\t11069\t1107\t11070\t11072\t11075\t11079\t1108\t11080\t11082\t11086\t11088\t11089\t11090\t11091\t11095\t11096\t11098\t11099\t11100\t11101\t11102\t11106\t1111\t11111\t11112\t11116\t11117\t11118\t11119\t11121\t11122\t11123\t11124\t11126\t11127\t11128\t11129\t1113\t11132\t11133\t11134\t11136\t11140\t11141\t11142\t11144\t11145\t11147\t11148\t1115\t11150\t11152\t11155\t11156\t11157\t11159\t1116\t11160\t11161\t11164\t11165\t11168\t11171\t11174\t11175\t11179\t1118\t11180\t11184\t11185\t11191\t11193\t11196\t1120\t11200\t11202\t11203\t11204\t11205\t11207\t11209\t11210\t11211\t11212\t11213\t11216\t11217\t11218\t1122\t11222\t11223\t11224\t11227\t11228\t11229\t11232\t11237\t11238\t1124\t11245\t11246\t11247\t11248\t11253\t11258\t1126\t11261\t11264\t11266\t11269\t11273\t11274\t11275\t11276\t1128\t11280\t11281\t11282\t11283\t11286\t11289\t11291\t11293\t11296\t11299\t113\t1130\t11302\t11303\t11305\t11307\t11312\t11313\t11314\t11316\t1132\t11322\t11325\t11328\t11329\t1133\t11330\t11331\t11332\t11333\t11335\t11339\t1134\t11340\t11342\t11346\t11348\t11350\t11351\t11353\t11354\t11361\t11366\t1137\t11371\t11372\t11373\t11375\t11376\t11377\t11378\t11381\t11382\t11383\t11384\t11387\t1139\t11393\t11394\t11396\t11397\t11398\t114\t1140\t11400\t11401\t11404\t11405\t11407\t11408\t1141\t11411\t11412\t11415\t11416\t11419\t1142\t11424\t11425\t11426\t11427\t11428\t11429\t11432\t11433\t11434\t11436\t11437\t11440\t11441\t11444\t11447\t11449\t11453\t11456\t11457\t11458\t1146\t11461\t11463\t11464\t11465\t1147\t11471\t11472\t11474\t11477\t11478\t11479\t11481\t11483\t11484\t11485\t11487\t11489\t11491\t11493\t11495\t11496\t11498\t1150\t11502\t11503\t11504\t11506\t11507\t11508\t11509\t11510\t11513\t11514\t11517\t11519\t11520\t11525\t11529\t11533\t11534\t11536\t11537\t1154\t11544\t11546\t11548\t11549\t11550\t11551\t11553\t11557\t11558\t11559\t11563\t11565\t11566\t11568\t11569\t1157\t11570\t11571\t11573\t11575\t1158\t11580\t11582\t11584\t11585\t1159\t11591\t11593\t11595\t11598\t1160\t11601\t11605\t11606\t11607\t11608\t11609\t1161\t11613\t11615\t11617\t11619\t11621\t11622\t11623\t11624\t11625\t11626\t11627\t11629\t11630\t11636\t11638\t11639\t11640\t11643\t11644\t11649\t1165\t11650\t11651\t11656\t11660\t11665\t11669\t1167\t11670\t11674\t11675\t11676\t11678\t11680\t11682\t11685\t11689\t1169\t11692\t11693\t11699\t1170\t11703\t11704\t11705\t11707\t11708\t11709\t1171\t11710\t11711\t11716\t11717\t11718\t1172\t11721\t11722\t11724\t11725\t11727\t11729\t11733\t11735\t11736\t11738\t1174\t11741\t11742\t11745\t11748\t11749\t11750\t11752\t11753\t11754\t11758\t11759\t11761\t11764\t11765\t11770\t11771\t11772\t11773\t11777\t11778\t11779\t11782\t11787\t11790\t11797\t11798\t11799\t118\t11800\t11801\t11806\t11807\t11808\t11809\t1181\t11810\t11812\t11813\t11814\t11815\t11816\t11817\t11822\t11824\t11825\t11826\t11827\t11828\t11829\t1183\t11833\t11836\t11838\t11839\t11840\t11844\t11848\t11849\t1185\t11851\t11854\t11855\t11856\t11860\t11861\t11863\t11864\t11866\t11867\t11868\t11873\t11874\t1188\t11882\t11883\t11884\t11885\t11886\t11887\t11888\t11889\t1189\t11890\t11892\t11899\t119\t1190\t11900\t11904\t11906\t11907\t11908\t1191\t11913\t11914\t11918\t11919\t1192\t11922\t11923\t11924\t11925\t11929\t1193\t11935\t11937\t11939\t11940\t11943\t11944\t11949\t11952\t11953\t11956\t11957\t1196\t11964\t11967\t11968\t1197\t11972\t11973\t11974\t11976\t1198\t11984\t11985\t11986\t11988\t11991\t11993\t11994\t11995\t11998\t1200\t12002\t12004\t12005\t12006\t1201\t12012\t12015\t12016\t12017\t12020\t12022\t12023\t12029\t12030\t12031\t12034\t12039\t1204\t12040\t12043\t12044\t12045\t12047\t1205\t12050\t12051\t12053\t12056\t12059\t1206\t12060\t12064\t12065\t12066\t12067\t12069\t12070\t12071\t12072\t12073\t12074\t12076\t1208\t12082\t121\t1210\t1211\t1212\t1213\t1218\t1222\t1226\t1228\t1229\t123\t1230\t1233\t1235\t1236\t1238\t1240\t1246\t1247\t125\t1250\t1252\t1254\t1259\t126\t1260\t1261\t1262\t1264\t1265\t1266\t1268\t1269\t127\t1271\t1272\t1273\t1274\t1277\t1279\t128\t1282\t1287\t1288\t1289\t1291\t1295\t1297\t13\t1300\t1301\t1303\t1309\t1310\t1311\t1312\t1313\t1315\t1316\t1318\t1319\t132\t1322\t1325\t1327\t1328\t1330\t1331\t1333\t1336\t1337\t1339\t134\t1340\t1343\t1344\t1347\t1348\t1349\t1351\t1353\t1355\t1358\t136\t1361\t1365\t1368\t1369\t1370\t1379\t1381\t1383\t1386\t1389\t139\t1392\t1394\t1396\t1397\t1398\t140\t1403\t1404\t1406\t1408\t141\t1410\t1412\t1414\t1416\t1419\t1420\t1421\t1423\t1426\t1427\t1428\t143\t1430\t1431\t1436\t1438\t1439\t1442\t1444\t1445\t1446\t1448\t1450\t1454\t1455\t1456\t1459\t1462\t1463\t1466\t1467\t1469\t147\t1471\t1472\t1475\t1476\t1477\t148\t1480\t1481\t1483\t1484\t1485\t1486\t149\t1490\t1495\t1498\t15\t1500\t1501\t1502\t1503\t1504\t1507\t1508\t151\t1512\t1513\t1516\t1517\t1519\t152\t1520\t1522\t1524\t1525\t1526\t1527\t1530\t1531\t1536\t1539\t154\t1541\t1542\t1545\t1548\t1549\t1552\t1553\t1555\t1556\t1557\t1558\t1559\t1562\t1563\t1565\t1566\t1567\t1568\t1569\t1570\t1571\t1573\t1577\t1578\t1579\t1581\t1582\t1585\t1587\t1588\t1589\t159\t1593\t1596\t1598\t16\t1601\t1602\t1603\t1604\t161\t1610\t1611\t1612\t1613\t1614\t1615\t1616\t1617\t1619\t1621\t1622\t1626\t1628\t1629\t163\t1633\t1636\t1637\t164\t1640\t1642\t1644\t1646\t1648\t1649\t165\t1652\t1653\t1654\t1658\t1659\t166\t1660\t1664\t1665\t1666\t1669\t1671\t1674\t1677\t1678\t1680\t1686\t1691\t1692\t1693\t1694\t1696\t1697\t1698\t17\t1700\t1701\t1708\t1709\t1711\t1712\t1718\t1721\t1724\t1725\t1726\t1727\t1731\t1736\t1737\t1748\t1749\t1751\t1753\t1756\t1757\t1759\t1760\t1761\t1762\t1763\t1767\t1770\t1772\t1774\t1775\t1776\t1778\t1779\t178\t1783\t1785\t1788\t1789\t179\t1791\t1793\t1796\t1799\t18\t1800\t1802\t1804\t1805\t1808\t1810\t1811\t1813\t1816\t1818\t1819\t182\t1820\t1821\t1822\t1823\t1827\t1828\t1829\t183\t1834\t1835\t1836\t1837\t1838\t184\t1841\t1842\t1845\t1848\t1849\t185\t1852\t1854\t1856\t1857\t1858\t1859\t186\t1860\t1861\t1864\t1867\t1868\t1869\t187\t1872\t1873\t1876\t1879\t188\t1882\t1883\t1884\t1886\t1890\t1891\t1893\t1897\t190\t1900\t1902\t1904\t1906\t1907\t1908\t1910\t1911\t1913\t1917\t1918\t1919\t192\t1920\t1922\t1924\t1928\t1929\t193\t1930\t1931\t1932\t1934\t1937\t1938\t194\t1941\t1944\t1948\t1951\t1952\t1954\t1955\t1956\t1959\t196\t1960\t1961\t1962\t1963\t1966\t1967\t1969\t197\t1970\t1972\t1976\t1977\t1978\t1980\t1982\t1983\t1984\t1985\t1986\t1987\t1988\t1989\t199\t1991\t1993\t1995\t1996\t1999\t20\t2001\t2003\t2007\t2008\t2009\t201\t2012\t2013\t2016\t2018\t2019\t2023\t2026\t2027\t2028\t203\t2032\t2035\t2038\t204\t2040\t2044\t2047\t2048\t2057\t206\t2060\t2061\t2064\t2067\t2068\t2069\t207\t2070\t2072\t2076\t2077\t2080\t2081\t2083\t2084\t2089\t209\t2090\t2091\t2093\t2094\t2096\t21\t2101\t2105\t2107\t2108\t2109\t2110\t2111\t2112\t2113\t2114\t2115\t2118\t212\t2120\t2121\t2125\t2126\t2127\t2128\t2129\t213\t2131\t2132\t2133\t2135\t2136\t214\t2141\t2143\t2144\t2146\t2149\t2151\t2158\t2163\t2164\t2165\t2166\t2167\t2168\t217\t2170\t2171\t2172\t2173\t2174\t2176\t2179\t2181\t2183\t2184\t219\t2190\t2193\t2195\t2197\t2199\t220\t2200\t2201\t2203\t2212\t2217\t222\t2220\t2224\t2226\t2232\t2233\t2234\t2235\t2239\t224\t2241\t2245\t2247\t2249\t2250\t2251\t2253\t2255\t2256\t226\t2262\t2264\t2265\t2268\t227\t2272\t2273\t2279\t228\t2280\t2281\t2282\t2288\t2296\t2299\t23\t2301\t2302\t2303\t2305\t2307\t231\t2312\t2313\t2314\t2315\t2316\t232\t2320\t2322\t2323\t2324\t2328\t2329\t2331\t2332\t2334\t2335\t2338\t2339\t2340\t2343\t2348\t2350\t2353\t2355\t2358\t2361\t2362\t2364\t2366\t2367\t237\t2372\t2373\t2375\t2376\t2377\t238\t2381\t2387\t2388\t2389\t239\t2390\t2391\t2394\t2396\t2397\t2399\t24\t2402\t2403\t2406\t2408\t2409\t2410\t2415\t2418\t2424\t2426\t2429\t2430\t2431\t2432\t2433\t2434\t2440\t2441\t2445\t2447\t2449\t2450\t2451\t2454\t2455\t2458\t2464\t2466\t2467\t2468\t2469\t247\t2474\t2476\t2477\t2478\t2479\t248\t2480\t2485\t2487\t2489\t2490\t2491\t2495\t2496\t2497\t2499\t250\t2502\t2503\t2504\t2505\t2506\t2507\t2509\t2511\t2513\t2516\t2517\t2520\t2521\t2523\t2526\t2528\t2530\t2533\t2535\t2539\t2542\t2544\t2545\t2546\t2547\t255\t2550\t2551\t2554\t2557\t2559\t256\t2561\t2562\t2563\t2567\t257\t2570\t2571\t2572\t2573\t2574\t2575\t2577\t2578\t258\t2581\t2582\t2583\t2585\t2586\t2588\t2589\t2590\t2592\t2594\t2598\t260\t2600\t2601\t2604\t2608\t2609\t261\t2611\t2612\t2613\t2616\t2618\t2619\t2624\t2626\t2628\t2629\t2630\t2631\t2636\t2638\t264\t2640\t2641\t2643\t2644\t2645\t2646\t2647\t265\t2651\t2652\t2653\t2656\t266\t2661\t2663\t2664\t267\t2670\t2671\t2672\t2673\t2679\t268\t2680\t2681\t2683\t2685\t2687\t2688\t2689\t269\t2691\t2693\t2694\t2696\t2698\t27\t270\t2701\t2705\t2706\t271\t2711\t2712\t2715\t2716\t2717\t2719\t2720\t2722\t2723\t2727\t2730\t2732\t2734\t2735\t2736\t2743\t2750\t2751\t2754\t2755\t2756\t2757\t2758\t2761\t2762\t2766\t2767\t2768\t2769\t277\t2772\t2773\t2776\t2777\t2782\t2783\t2785\t2788\t2791\t2793\t2794\t2795\t2797\t2798\t2799\t280\t2800\t2801\t2805\t2807\t281\t2815\t2817\t2818\t2820\t2822\t2824\t2829\t283\t2830\t2832\t2833\t2834\t2835\t2837\t2840\t2843\t2844\t2847\t2850\t2851\t2852\t2854\t2856\t2858\t2859\t286\t2860\t2861\t2862\t2863\t2864\t2866\t2867\t2870\t2871\t2872\t2873\t2876\t2877\t2879\t2880\t2883\t2885\t2889\t2892\t2893\t2894\t2895\t2898\t2899\t2900\t2901\t2902\t2903\t2904\t2905\t2906\t2907\t2909\t2912\t2913\t2914\t2916\t2917\t2919\t2920\t2926\t2927\t2928\t2929\t293\t2935\t2936\t2937\t2938\t2941\t2942\t2946\t2948\t2951\t2952\t2953\t2955\t2957\t296\t2961\t2962\t2963\t2966\t2967\t2973\t2975\t2981\t2983\t2985\t2986\t2988\t2991\t2992\t2993\t2995\t2998\t3\t3001\t3003\t3004\t3005\t3006\t3008\t3010\t3012\t3013\t3014\t3017\t3018\t3019\t3020\t3022\t3023\t3025\t3026\t3030\t3034\t304\t3041\t305\t3050\t3051\t3053\t3054\t3055\t3056\t3057\t3059\t306\t3063\t3064\t3067\t3070\t3071\t3072\t3073\t3075\t3082\t3086\t3088\t309\t3090\t3091\t3092\t3098\t3100\t3101\t3108\t3109\t3111\t3115\t3117\t3118\t312\t3120\t3124\t3127\t3128\t313\t3131\t3135\t3136\t3138\t314\t3142\t3143\t3144\t3146\t3153\t3154\t3157\t3159\t316\t3160\t3161\t3162\t3165\t3168\t3169\t3171\t3172\t3173\t3174\t3175\t3176\t3177\t318\t3180\t3181\t3184\t3185\t3186\t3187\t3188\t3189\t3192\t3193\t3196\t3198\t32\t320\t3200\t3201\t3202\t3204\t3207\t3208\t321\t3211\t3213\t3214\t3215\t3216\t3217\t3221\t3224\t3226\t3228\t3229\t323\t3232\t3234\t3235\t3236\t3237\t3238\t3241\t3246\t3248\t3249\t3251\t3253\t3254\t3255\t3256\t3258\t3259\t326\t3260\t3262\t3265\t3270\t328\t3281\t3285\t3286\t3287\t3295\t3297\t3299\t33\t330\t3301\t3303\t3304\t3305\t3306\t3307\t3311\t3312\t3313\t3315\t3316\t332\t3320\t3326\t3327\t3328\t3329\t333\t3330\t3332\t3335\t3338\t3340\t3342\t3352\t3353\t3354\t3356\t3357\t3360\t3362\t3364\t3365\t3367\t337\t3370\t3371\t3372\t3373\t3374\t3375\t3377\t3378\t3383\t3387\t3388\t3389\t3390\t3394\t3399\t3400\t3402\t3404\t3406\t3408\t3409\t3410\t3413\t3414\t3416\t3418\t3419\t342\t3422\t3423\t343\t3431\t3436\t3442\t3443\t3444\t3446\t345\t3453\t3454\t3455\t346\t3462\t3463\t3465\t3466\t3468\t3469\t347\t3470\t3471\t3474\t3476\t3478\t3479\t348\t3483\t3484\t3485\t3487\t3488\t3489\t3491\t3492\t3494\t3495\t3497\t3498\t35\t3504\t3505\t3506\t3507\t3509\t351\t3510\t3511\t3512\t3514\t3517\t3518\t3519\t352\t3522\t3524\t3525\t3528\t3530\t3534\t3535\t3537\t354\t3540\t3542\t3543\t3544\t3545\t3546\t3548\t3549\t355\t3551\t3558\t3560\t3561\t3564\t3570\t3571\t3572\t3574\t358\t3580\t3583\t3586\t3587\t3588\t359\t3591\t3594\t36\t360\t3600\t3604\t3607\t3609\t361\t3612\t3613\t3616\t362\t3620\t3623\t3625\t3629\t3630\t3631\t3634\t3635\t3636\t364\t3641\t3642\t3644\t3646\t3648\t3651\t3653\t3654\t3656\t3658\t366\t3661\t3666\t3668\t3670\t3671\t3673\t3674\t3676\t3679\t368\t3681\t3682\t3683\t3684\t3685\t3687\t3689\t369\t3690\t3693\t3698\t37\t3703\t3705\t3706\t3707\t3708\t3711\t3712\t3716\t3717\t3719\t372\t3720\t3721\t3722\t3723\t3724\t3726\t3727\t3729\t373\t3730\t3733\t3735\t3736\t3743\t3747\t3749\t375\t3751\t3753\t3754\t3756\t3758\t376\t3761\t3763\t3764\t3765\t3766\t3767\t3768\t377\t3770\t3774\t3776\t3777\t3778\t3779\t3780\t3783\t3784\t3786\t3787\t3788\t379\t3793\t3795\t3797\t3798\t38\t380\t3800\t3803\t3807\t3810\t3812\t3816\t3819\t382\t3820\t3822\t3824\t3826\t3829\t383\t3830\t3836\t384\t3840\t3843\t3844\t3847\t3849\t3850\t3851\t3852\t3857\t3862\t3863\t3868\t387\t3871\t3874\t3875\t3877\t3879\t3882\t3885\t389\t3891\t3894\t3895\t3897\t3898\t39\t3900\t3901\t3903\t3906\t391\t3913\t3915\t3916\t3918\t3922\t3925\t3928\t3931\t3935\t3939\t3944\t3946\t3949\t3951\t3955\t3956\t3957\t396\t3960\t3961\t3964\t3965\t3968\t3969\t397\t3970\t3974\t3975\t3977\t3978\t3980\t3981\t3982\t3985\t3986\t3988\t3989\t3990\t3991\t3998\t3999\t4\t40\t400\t4001\t4002\t4004\t4005\t401\t4012\t4015\t4017\t4020\t4022\t4023\t4027\t4028\t4029\t403\t4031\t4032\t4035\t4036\t4038\t4039\t404\t4040\t4043\t4044\t4045\t4046\t4049\t405\t4055\t4058\t4059\t406\t4062\t4064\t4066\t4067\t4068\t4070\t4073\t4075\t4077\t4079\t408\t4085\t4087\t409\t4091\t4093\t4095\t4096\t4097\t4098\t41\t4102\t4103\t4106\t4107\t411\t4112\t4113\t412\t4120\t4122\t4123\t4124\t4125\t4126\t4127\t4128\t4129\t413\t4131\t4133\t4135\t4136\t4138\t414\t4140\t4142\t4143\t4144\t4146\t4147\t4148\t415\t4150\t4151\t4155\t4157\t4159\t416\t4161\t4162\t4166\t4168\t4169\t4173\t4174\t4175\t4176\t4177\t418\t4180\t4182\t4184\t4185\t4186\t4190\t4191\t4193\t4194\t4196\t4199\t420\t4200\t4201\t4204\t4206\t421\t4210\t4211\t4212\t4213\t4216\t4218\t422\t4223\t4224\t4225\t4227\t4229\t423\t4230\t4233\t4234\t4235\t4236\t4239\t424\t4241\t4243\t4246\t4249\t4250\t4252\t4253\t4254\t4255\t4257\t4259\t426\t4260\t4261\t4263\t4265\t4267\t4268\t4270\t4271\t4276\t4278\t428\t4280\t4281\t4282\t4291\t4293\t4296\t4297\t4298\t4299\t43\t4300\t4304\t4309\t431\t4311\t4312\t4313\t4317\t4318\t4319\t4320\t4322\t4325\t4326\t4328\t433\t4330\t4331\t4332\t4339\t4340\t4344\t4348\t4349\t435\t4350\t4352\t4353\t4356\t4357\t4359\t4360\t4362\t4368\t4373\t4374\t4376\t4377\t4378\t4379\t4380\t4381\t4382\t4383\t4384\t4385\t4386\t4387\t4389\t439\t4390\t4391\t4395\t4396\t4401\t4403\t4404\t4405\t4406\t4409\t441\t4413\t4414\t4418\t442\t4421\t4427\t443\t4431\t4432\t4433\t4434\t4435\t4436\t4437\t4438\t4439\t4440\t4447\t4448\t4453\t446\t4460\t4462\t4463\t4466\t4468\t4469\t447\t4471\t4472\t4473\t4474\t4476\t4478\t4480\t4481\t4482\t4483\t4484\t4485\t4487\t4489\t4490\t4493\t4495\t4496\t4499\t450\t4502\t4504\t4505\t4508\t4509\t451\t4511\t4514\t4516\t4519\t452\t4520\t4523\t4525\t4528\t453\t4531\t4532\t4534\t4536\t4537\t454\t4540\t4542\t4543\t4547\t4548\t4549\t455\t4551\t4552\t4553\t4557\t4558\t4559\t456\t4560\t4563\t4571\t4574\t4575\t4577\t4578\t4579\t458\t4580\t4584\t4587\t459\t4592\t4594\t4596\t4598\t4599\t46\t4601\t4609\t461\t4610\t4611\t4612\t4617\t4618\t462\t4622\t4624\t4625\t4627\t4628\t4631\t4633\t4634\t4638\t464\t4644\t4645\t4647\t4648\t4649\t465\t4650\t4658\t466\t4660\t4661\t4663\t4666\t4667\t4668\t4669\t4670\t4671\t4673\t4674\t4675\t4676\t4677\t4681\t4683\t4684\t4686\t4687\t4688\t4689\t469\t4690\t4691\t4692\t4694\t4695\t4696\t4697\t4699\t470\t4703\t4704\t4705\t4706\t4707\t471\t4710\t4711\t4713\t472\t4721\t4724\t4725\t4726\t4727\t4729\t473\t4732\t4733\t4736\t4738\t4739\t474\t4741\t475\t4751\t4752\t4754\t4756\t4757\t4761\t4763\t4764\t477\t4770\t4771\t4773\t4775\t4776\t4778\t478\t4780\t4782\t4783\t4784\t4785\t4787\t4789\t4790\t4792\t4794\t4796\t4797\t4798\t4799\t4802\t4807\t4808\t481\t4815\t4818\t4819\t482\t4820\t4821\t4823\t4824\t4826\t4828\t4829\t4831\t4833\t4836\t4838\t484\t4840\t4843\t4844\t4846\t4847\t4849\t4850\t4851\t4855\t4858\t4859\t4860\t4861\t4862\t4863\t4864\t4866\t4867\t4868\t4869\t487\t4874\t4875\t4880\t4881\t4883\t4887\t4888\t489\t4890\t4891\t4892\t4893\t4895\t4897\t4898\t4900\t4901\t4902\t4904\t4905\t4906\t4907\t4910\t4912\t4915\t4916\t4918\t492\t4920\t4927\t4928\t493\t4931\t4933\t4937\t4938\t494\t4940\t4943\t4947\t4950\t4952\t4953\t4954\t496\t4961\t4964\t4967\t497\t4972\t4974\t4976\t4979\t4982\t4983\t4984\t4985\t4986\t4988\t4989\t4992\t4993\t4996\t4997\t4999\t50\t500\t5001\t5003\t5004\t5005\t5006\t5009\t5012\t5013\t5016\t5017\t5018\t5020\t5027\t5028\t5029\t503\t5030\t5031\t5032\t5033\t5034\t504\t5040\t5041\t5044\t5048\t5050\t5051\t5052\t5056\t5058\t5059\t5060\t5063\t5064\t5065\t5066\t5067\t507\t5071\t5072\t5073\t5074\t5076\t5077\t5080\t5084\t5085\t5086\t5087\t5088\t5089\t509\t5093\t5094\t5097\t51\t510\t5100\t5101\t5103\t5106\t5107\t5108\t5110\t5111\t5113\t5114\t5115\t5117\t5120\t5121\t5122\t5125\t5126\t5127\t5128\t5129\t5136\t5137\t5138\t514\t5143\t5146\t5147\t5148\t5149\t5152\t5154\t5155\t5157\t5158\t516\t5160\t5161\t5163\t5166\t5168\t5169\t517\t5170\t5172\t5175\t5177\t5178\t5181\t5183\t5188\t5189\t5191\t5194\t5195\t5197\t5198\t520\t5201\t5202\t5203\t5204\t5205\t5206\t5207\t5208\t5212\t5213\t5214\t5215\t5217\t5218\t522\t5225\t5226\t5229\t5232\t5233\t5236\t5237\t5238\t524\t5242\t5245\t5247\t525\t5250\t5253\t5254\t5256\t5259\t5261\t5262\t5264\t5266\t5267\t527\t5273\t5274\t5277\t5280\t5281\t5283\t5284\t5289\t5291\t5292\t5293\t5294\t5296\t5297\t5299\t530\t5301\t5304\t5306\t5310\t5312\t5314\t5315\t5316\t5317\t5319\t5321\t5325\t5328\t5329\t5331\t5334\t5338\t534\t5340\t5341\t5342\t5345\t5349\t5350\t5352\t5353\t5354\t5355\t5358\t5359\t536\t5365\t5366\t5373\t5374\t5378\t538\t5381\t5384\t5386\t5387\t5390\t5391\t5392\t5393\t5394\t5395\t5397\t5398\t5399\t540\t5401\t5403\t5404\t5407\t5410\t5412\t5413\t5416\t5417\t5420\t5421\t5422\t5423\t5424\t5425\t5426\t5428\t5433\t5436\t5438\t5439\t544\t5440\t5443\t5446\t5448\t5452\t5453\t5454\t5455\t5458\t546\t5464\t5465\t5466\t5469\t5471\t5472\t5475\t5476\t548\t5482\t5484\t5485\t549\t5490\t5491\t5492\t5496\t5501\t5503\t5507\t5508\t551\t5511\t5514\t5515\t5517\t5518\t552\t5523\t5526\t5529\t5531\t5534\t5535\t5536\t5538\t5539\t5541\t5542\t5547\t5548\t5549\t555\t5550\t5551\t5552\t5553\t5557\t5558\t5559\t556\t5560\t5561\t5562\t5568\t5570\t5574\t5577\t5578\t5580\t5581\t5586\t5589\t5590\t5592\t5593\t5594\t5595\t56\t5600\t5602\t5603\t5604\t5605\t5606\t5609\t5610\t5611\t5612\t5617\t5619\t5620\t5621\t5622\t5623\t5625\t563\t5631\t5632\t5633\t5636\t5637\t5638\t5639\t564\t5641\t5643\t5644\t5645\t5646\t5647\t5648\t5649\t5650\t5651\t5652\t5653\t5654\t5656\t5658\t5659\t566\t5665\t5668\t567\t5670\t5677\t5678\t568\t5680\t5681\t5686\t5689\t569\t5690\t5692\t5693\t5695\t5697\t57\t5700\t5703\t5705\t5706\t5707\t5710\t5716\t5723\t5727\t5728\t5729\t573\t5730\t5732\t5733\t5734\t5735\t5736\t5737\t5740\t5742\t5745\t5748\t5750\t5752\t5755\t5758\t5759\t576\t5762\t5763\t5766\t5767\t5770\t5771\t5772\t5773\t5774\t5776\t5780\t5782\t5784\t5786\t579\t5790\t5792\t5794\t5795\t5796\t5797\t580\t5802\t5803\t5805\t581\t5816\t5818\t5819\t582\t5820\t5822\t5823\t5824\t5827\t5828\t5829\t583\t5832\t5834\t5839\t584\t5844\t5845\t5846\t5847\t5849\t5850\t5851\t5852\t5856\t586\t5861\t5862\t5863\t5864\t5865\t5866\t5868\t587\t5871\t5873\t5875\t5879\t5880\t5881\t5882\t5885\t5887\t5888\t5889\t5892\t5894\t5896\t5898\t59\t5900\t5903\t5908\t591\t5910\t5911\t5912\t5917\t592\t5920\t5924\t5926\t5929\t5931\t5932\t5933\t5937\t5938\t5939\t5941\t5943\t5946\t5947\t5948\t595\t5952\t5955\t5957\t5958\t5959\t596\t5962\t5963\t5966\t5969\t597\t5970\t5975\t5976\t5977\t5980\t5981\t5984\t5985\t5987\t5989\t599\t5992\t5998\t6\t6002\t6003\t6008\t6009\t601\t6010\t6011\t6012\t6013\t6015\t6016\t602\t6020\t6021\t6023\t6027\t6028\t6029\t603\t6033\t6036\t6037\t6039\t604\t6040\t6041\t6042\t6045\t6046\t6052\t6055\t6056\t6057\t6058\t6061\t6062\t6063\t6064\t6066\t6067\t607\t6070\t6071\t6073\t6075\t6082\t6084\t6087\t6089\t609\t6091\t6092\t6093\t6094\t6098\t6099\t61\t610\t6100\t6104\t6107\t6109\t6110\t6111\t6113\t6115\t6116\t6117\t6118\t6119\t6120\t6124\t6126\t6128\t6130\t6132\t6135\t6136\t6139\t614\t6142\t6143\t6144\t6145\t6146\t6147\t6148\t615\t6150\t6151\t6152\t6153\t6159\t6161\t6163\t6166\t6167\t6168\t617\t6170\t6172\t6177\t6180\t6182\t6183\t6185\t6186\t6187\t6188\t619\t6191\t6193\t6197\t6198\t62\t620\t6200\t6201\t6206\t6207\t6208\t6209\t6210\t6211\t6212\t6216\t6218\t6220\t6221\t6226\t6230\t6231\t6232\t6234\t6237\t6238\t6239\t624\t6241\t6243\t6249\t625\t6250\t6252\t6253\t6254\t6256\t6257\t626\t6261\t6262\t6263\t6265\t6267\t6268\t6269\t627\t6272\t6279\t6286\t6287\t6288\t6289\t6292\t6293\t6294\t6295\t6296\t6299\t63\t6300\t6303\t6307\t6309\t6312\t6315\t6316\t6319\t6320\t6322\t6327\t6328\t6331\t6332\t6336\t6338\t6339\t634\t6344\t6347\t6348\t635\t6351\t6353\t6359\t636\t6360\t6362\t6365\t6366\t6368\t637\t6371\t6373\t638\t6381\t6383\t6384\t6388\t6394\t6396\t6397\t6398\t6399\t64\t640\t6401\t6404\t641\t6410\t6413\t6415\t6417\t642\t6421\t6422\t643\t6430\t6431\t6432\t6438\t6441\t6443\t6447\t6449\t6455\t6457\t6459\t646\t6461\t6463\t6466\t6468\t6469\t647\t6471\t6472\t6473\t6475\t6479\t6480\t6481\t6483\t6484\t6486\t6494\t6495\t650\t6501\t6503\t6504\t6505\t6507\t6508\t6509\t6510\t6514\t6517\t6519\t6523\t6524\t6525\t6526\t6528\t6529\t653\t6530\t6531\t6535\t6537\t6538\t6539\t654\t6540\t6541\t6544\t6547\t6548\t6549\t655\t6550\t6553\t6556\t6563\t6564\t6565\t6570\t6572\t6573\t6574\t6578\t6579\t658\t6582\t6583\t6585\t6589\t6590\t6595\t6596\t6597\t6599\t66\t6603\t6607\t6611\t6613\t6614\t6615\t6616\t662\t6622\t6627\t6628\t6629\t6630\t6631\t6632\t6634\t6635\t6637\t6638\t6639\t6640\t6641\t6642\t6645\t6646\t665\t6650\t6654\t6655\t6656\t6657\t6658\t6659\t666\t6661\t6662\t6664\t6665\t6666\t6667\t667\t6670\t6672\t6673\t6674\t6675\t6676\t6677\t6678\t6679\t668\t6683\t6685\t6686\t6688\t6690\t6691\t6693\t6696\t6697\t6698\t670\t6700\t6701\t6703\t6707\t671\t6710\t6712\t6714\t6715\t6716\t6717\t6719\t6720\t6721\t6722\t6723\t6724\t6725\t6726\t6728\t6729\t673\t6730\t6731\t6732\t6734\t6736\t6737\t6739\t6741\t6742\t6745\t6746\t6747\t675\t6755\t6757\t6758\t6759\t676\t6761\t6762\t6763\t6765\t6768\t677\t6770\t6771\t6774\t6775\t6778\t6781\t6783\t6784\t6785\t6793\t6795\t6797\t6799\t6801\t6802\t6803\t6805\t6809\t681\t6812\t6813\t6815\t6816\t6817\t6820\t6821\t6825\t6826\t6827\t6828\t6829\t683\t6830\t6831\t6836\t6837\t6838\t6839\t6840\t6848\t6849\t685\t6851\t6853\t6854\t6857\t6858\t6859\t686\t6860\t6862\t6863\t6866\t6868\t6869\t6872\t6873\t6877\t6880\t6881\t6883\t6886\t6888\t6890\t6894\t6896\t6897\t6899\t690\t6902\t6903\t6905\t6907\t6909\t6910\t6912\t6914\t6917\t692\t6920\t6923\t6924\t6926\t6928\t6930\t6931\t6932\t6933\t6934\t6937\t6938\t6947\t695\t6950\t6952\t6953\t6954\t6956\t6958\t6959\t6962\t6963\t6964\t6965\t6966\t6968\t6969\t697\t6973\t6974\t6979\t6980\t6981\t6983\t699\t6991\t6994\t6995\t6997\t6999\t700\t7000\t7001\t7002\t7003\t7004\t7005\t7007\t7012\t7013\t7016\t7017\t7019\t7022\t7023\t7024\t7026\t7027\t7028\t7031\t7032\t7034\t7035\t7038\t7039\t704\t7041\t7045\t7046\t7048\t7051\t7052\t706\t7060\t7061\t7067\t707\t7074\t7075\t7077\t7078\t7079\t708\t7080\t7084\t7085\t7089\t709\t7090\t7091\t7092\t7095\t7097\t7098\t7099\t71\t710\t7100\t7105\t7106\t7107\t711\t7114\t7117\t7119\t7121\t7125\t7128\t7129\t7131\t7133\t7135\t7136\t7137\t7138\t7139\t7140\t7142\t7143\t7144\t7147\t7148\t715\t7150\t7151\t7155\t7157\t7158\t7160\t7163\t7164\t7165\t7167\t7168\t717\t7171\t7172\t7173\t7174\t7175\t7179\t718\t7180\t7183\t7197\t7198\t7199\t7201\t7204\t7206\t7212\t7214\t7219\t7222\t7223\t7225\t7226\t7229\t723\t7230\t7233\t7234\t7235\t7236\t7237\t7239\t724\t7240\t7243\t7246\t7247\t7248\t725\t7250\t7251\t7253\t7255\t7258\t7260\t7261\t7263\t7265\t7269\t727\t7271\t7273\t7275\t7276\t7278\t7280\t7281\t7285\t729\t7290\t7291\t7292\t7294\t7295\t7297\t73\t730\t7300\t7302\t7307\t7308\t7309\t7310\t7313\t7316\t7317\t7319\t732\t7322\t7324\t7325\t7326\t7329\t733\t7333\t734\t7341\t7344\t7346\t7351\t7352\t7359\t736\t7362\t7366\t737\t7370\t7371\t7373\t7375\t7376\t7379\t738\t7382\t7387\t7388\t7389\t739\t7393\t7397\t74\t7401\t7404\t7405\t7406\t7407\t7409\t7411\t7412\t7418\t742\t7422\t7423\t7424\t7427\t743\t7430\t7432\t7435\t7437\t7441\t7442\t7447\t7448\t7451\t7453\t7456\t7461\t7462\t7464\t7465\t7466\t7467\t7468\t747\t7470\t7475\t7476\t7477\t7482\t7484\t7486\t7487\t7488\t7489\t749\t7494\t7495\t7497\t7499\t750\t7504\t7506\t7510\t7513\t7514\t7518\t752\t7521\t7522\t7526\t7527\t7529\t753\t7530\t7534\t7535\t7538\t7539\t7541\t7543\t7544\t7545\t7546\t7548\t7550\t7556\t7557\t7558\t7559\t7561\t7562\t7563\t7567\t7568\t7569\t7570\t7571\t7572\t7573\t7574\t7575\t7576\t7578\t7579\t758\t7581\t7583\t7587\t7588\t7589\t759\t7590\t7591\t7592\t7593\t7594\t7596\t7597\t7598\t7599\t7603\t7604\t7605\t7613\t7614\t7619\t762\t7621\t7622\t7623\t7624\t7625\t7626\t7628\t7629\t763\t7633\t7639\t7641\t7643\t7644\t765\t7650\t7653\t7657\t7658\t7660\t7661\t7662\t7664\t7665\t7666\t7667\t7668\t767\t7671\t7677\t7678\t7680\t7681\t7682\t7684\t7686\t7688\t7689\t769\t7692\t7693\t7696\t7699\t77\t770\t7701\t7702\t7705\t7707\t7711\t7712\t7713\t7717\t7720\t7723\t7725\t7726\t7728\t7729\t773\t7730\t7732\t7734\t7737\t774\t7740\t7741\t7742\t7744\t7747\t7748\t775\t7751\t7752\t7757\t7758\t7759\t776\t7761\t7763\t7765\t7768\t7769\t7770\t7771\t7772\t7773\t7776\t7777\t7779\t7783\t7784\t7786\t7787\t7791\t7792\t7793\t7795\t7798\t78\t7800\t7801\t7804\t7805\t7807\t7809\t7810\t7812\t7813\t7817\t7819\t7820\t7822\t7824\t7826\t7831\t7832\t7833\t7834\t7835\t7838\t7840\t7843\t7844\t7845\t7849\t7851\t7855\t7857\t7859\t7861\t7864\t7875\t7877\t7878\t7879\t788\t7880\t7882\t7884\t7888\t7889\t789\t7890\t7891\t7892\t7893\t79\t790\t7900\t7902\t7906\t791\t7910\t7912\t7914\t7915\t7916\t7917\t7918\t792\t7920\t7929\t793\t7934\t7935\t7936\t7937\t7938\t7939\t7941\t7943\t7946\t7948\t7949\t7950\t7955\t7958\t7959\t7963\t7965\t7967\t7968\t7969\t797\t7972\t7973\t7974\t7975\t7979\t7980\t7981\t7983\t7985\t7987\t7988\t7989\t7991\t7995\t7997\t7999\t8\t8000\t8003\t8008\t8009\t801\t8012\t8013\t8015\t8019\t802\t8020\t8022\t8025\t803\t8030\t8031\t8032\t8034\t8036\t8037\t8040\t8041\t8042\t8044\t8047\t8048\t8049\t805\t8052\t8053\t8055\t8057\t8058\t806\t8061\t8064\t8069\t8071\t8073\t8078\t8080\t8082\t8086\t8089\t809\t8093\t8097\t8098\t810\t8100\t8101\t8103\t8104\t8105\t8107\t8109\t811\t8110\t8111\t8112\t8114\t8115\t8116\t8117\t8118\t8119\t812\t8120\t8121\t8122\t8123\t8128\t8130\t8133\t8136\t8137\t8138\t8139\t8140\t8142\t8144\t8148\t8150\t8151\t8153\t8154\t8156\t8157\t8158\t8162\t8163\t8166\t8167\t817\t8171\t8173\t8174\t8176\t8177\t8179\t818\t8182\t8184\t8185\t8186\t8187\t8189\t8190\t8193\t8195\t8196\t8197\t8198\t8199\t820\t8200\t8202\t8205\t8206\t8208\t8213\t8214\t8215\t8217\t8219\t8220\t8223\t8224\t8228\t8229\t8230\t8231\t8232\t8235\t8236\t8237\t8238\t8239\t824\t8240\t8241\t8243\t8245\t8248\t8249\t8250\t8253\t8254\t8255\t8256\t8258\t8264\t8266\t8267\t8269\t8273\t8274\t8275\t828\t8284\t8285\t8286\t8288\t8289\t8293\t8295\t8296\t8298\t8299\t8305\t8306\t831\t8312\t8313\t8314\t8316\t8317\t8319\t832\t8320\t8321\t8322\t8325\t8329\t833\t8330\t8333\t8335\t834\t8341\t8344\t8345\t8346\t8348\t8350\t8357\t8358\t8361\t8364\t8365\t8366\t8367\t8369\t8370\t8371\t8372\t8373\t8376\t8380\t8381\t8386\t8387\t8392\t8395\t8398\t8399\t840\t8400\t8401\t8402\t8404\t8405\t8408\t8410\t8413\t8416\t8417\t8418\t842\t8420\t8423\t8428\t8429\t843\t8430\t8433\t8434\t8437\t8439\t844\t8440\t8442\t8443\t8446\t8448\t8449\t845\t8450\t8451\t8452\t8453\t8455\t8457\t8458\t8463\t8464\t8468\t8471\t8473\t8476\t8477\t8478\t848\t8482\t8486\t8487\t8488\t8490\t8495\t8496\t8497\t8499\t8501\t8502\t8503\t8505\t8506\t8507\t8508\t8509\t8510\t8511\t8512\t8513\t8514\t8515\t8517\t8518\t8519\t8524\t8525\t8526\t8527\t8529\t853\t8533\t8535\t8537\t8538\t854\t8541\t8542\t8543\t8545\t8546\t8549\t8550\t8551\t8552\t8554\t8555\t8556\t8565\t8566\t8568\t8570\t8571\t8572\t8576\t8577\t858\t8580\t8583\t8587\t859\t8593\t8595\t8597\t86\t8600\t8601\t8603\t8605\t8606\t8607\t8609\t8610\t8613\t8616\t8617\t8618\t8619\t8624\t8627\t8628\t8630\t8631\t8633\t8634\t8635\t864\t8640\t8642\t8643\t8645\t8648\t8649\t8655\t8657\t866\t8662\t8663\t8664\t8666\t8667\t8668\t8669\t8670\t8671\t8674\t8675\t8676\t8677\t8679\t868\t8680\t8682\t8683\t8684\t8685\t8687\t8688\t8689\t869\t8691\t8692\t8693\t870\t8700\t8701\t8702\t8703\t8705\t8707\t8708\t8709\t871\t8710\t8712\t8715\t8717\t8719\t8720\t8724\t8727\t8728\t8731\t8733\t8734\t8741\t8742\t8745\t8747\t8751\t8752\t8756\t8757\t8758\t8760\t8761\t8763\t8764\t8767\t8769\t8771\t8772\t8774\t8775\t8776\t8778\t8780\t8781\t8785\t8786\t8789\t8791\t8792\t8795\t8797\t8799\t880\t8802\t8803\t8805\t8806\t8810\t8812\t8814\t8815\t8816\t8818\t8820\t8821\t8822\t8824\t8825\t8827\t8829\t8830\t8831\t8833\t8835\t8836\t884\t8843\t8844\t8845\t8848\t8849\t885\t8851\t8852\t8853\t8855\t8856\t8859\t8862\t8865\t8869\t8879\t8885\t8886\t8889\t8891\t8892\t8893\t8897\t89\t8900\t8901\t8903\t8904\t8905\t8906\t8907\t8908\t8910\t8912\t8916\t8917\t8918\t892\t8920\t8923\t8924\t8927\t8929\t893\t8930\t8931\t8933\t8934\t8939\t8941\t8947\t8950\t8954\t8958\t8959\t896\t8960\t8962\t8964\t8965\t8966\t8967\t8969\t897\t8970\t8972\t8973\t8976\t8978\t8980\t8981\t8982\t8983\t8985\t8989\t8990\t8992\t8995\t8996\t8999\t9\t9001\t9003\t9004\t9007\t9008\t9009\t9012\t9016\t9019\t9021\t9023\t9024\t9027\t9028\t9030\t9032\t9034\t9037\t9038\t9039\t9041\t9042\t9043\t9044\t9045\t9046\t9048\t905\t9050\t9051\t9053\t9054\t9055\t9057\t906\t9060\t9061\t9065\t9069\t9073\t9074\t9079\t9083\t9085\t9086\t9087\t9090\t9092\t9094\t9098\t91\t9102\t9104\t9108\t9110\t9112\t9118\t912\t9122\t9124\t9129\t9131\t9132\t9135\t9137\t9138\t9140\t9142\t9143\t9144\t9147\t9148\t9149\t9150\t9153\t9156\t9157\t9160\t9161\t9162\t9163\t9164\t9165\t9167\t9170\t9171\t9174\t9176\t9177\t9178\t918\t9184\t9185\t9186\t9188\t9189\t919\t9193\t9197\t9198\t9199\t92\t920\t9201\t9202\t9204\t9208\t921\t9210\t9211\t9213\t9216\t9217\t9220\t9221\t9224\t9228\t923\t9232\t9233\t9236\t9241\t9244\t9250\t9251\t9253\t9254\t9255\t9258\t926\t9261\t9269\t9273\t9275\t9276\t9277\t9279\t9280\t9281\t9284\t9285\t9286\t9288\t9289\t929\t9290\t9291\t9296\t9299\t93\t9300\t9303\t9304\t9308\t9310\t9311\t9313\t9314\t9317\t9318\t9319\t932\t9321\t9323\t9324\t9326\t9327\t9328\t9329\t9333\t9334\t9335\t9337\t9338\t9341\t9348\t9353\t9356\t9357\t9360\t9363\t9365\t9366\t9369\t937\t9373\t9375\t9377\t9378\t9379\t938\t9382\t9383\t9384\t9385\t9386\t9387\t9388\t9390\t9391\t9392\t9393\t9398\t9403\t9405\t9406\t9408\t9409\t941\t9411\t9414\t9416\t9418\t942\t9422\t9425\t9427\t9429\t9430\t9431\t9432\t9433\t9434\t9435\t9439\t944\t9440\t9442\t9443\t9445\t945\t9451\t9453\t9456\t9458\t946\t9462\t9469\t947\t9471\t9473\t9474\t9477\t9480\t9482\t9485\t9486\t9487\t9489\t949\t9490\t9491\t9493\t9494\t9496\t95\t950\t9502\t9505\t9506\t951\t9510\t9511\t9514\t9515\t9518\t9521\t9522\t9524\t9525\t9530\t9532\t9533\t9536\t9537\t954\t9542\t9545\t9546\t9547\t9548\t9552\t9554\t9555\t9556\t956\t9561\t9562\t9563\t9567\t9574\t9576\t9577\t9578\t958\t9581\t9582\t9584\t9585\t9586\t9589\t9590\t9591\t9592\t9595\t9596\t96\t9601\t9606\t9607\t9611\t9612\t9613\t9616\t9620\t9622\t9623\t9625\t9626\t9627\t9628\t963\t9630\t9632\t9633\t9635\t964\t9640\t9641\t9642\t9643\t9644\t9645\t9646\t965\t9650\t9651\t9654\t9656\t9658\t9662\t9663\t9664\t9665\t9668\t9669\t967\t9670\t9671\t9672\t9674\t9675\t9677\t9679\t9680\t9681\t9682\t9683\t9684\t9685\t9687\t969\t9694\t9699\t9702\t9706\t9707\t9710\t9711\t9713\t9714\t9715\t9716\t9717\t9718\t9719\t9722\t9723\t9725\t9726\t9727\t9730\t9731\t9736\t9740\t9742\t9745\t9747\t9748\t9749\t9757\t9759\t976\t9763\t9764\t9766\t9767\t9769\t9773\t9775\t9777\t9778\t9779\t9780\t9781\t9783\t9785\t9786\t9787\t9789\t9790\t9792\t9794\t9796\t9798\t980\t9803\t9805\t9806\t9808\t981\t9810\t9811\t9812\t9814\t9816\t9817\t9818\t982\t9820\t9821\t9822\t9823\t9825\t9828\t9829\t9830\t9833\t9837\t9839\t9842\t9843\t9846\t9848\t985\t9850\t9854\t9856\t9857\t986\t9860\t9862\t9863\t9866\t9868\t9871\t9873\t9879\t9880\t9881\t9882\t9883\t9886\t9888\t989\t9892\t9894\t9896\t9897\t9898\t990\t9901\t9902\t9903\t9907\t9908\t991\t9910\t9916\t9918\t9922\t9924\t9928\t993\t9932\t9933\t9935\t9936\t9938\t994\t9941\t9942\t9943\t9944\t9945\t9946\t9948\t995\t9950\t9951\t9952\t9957\t9958\t9960\t9961\t9963\t9964\t9965\t9968\t997\t9972\t9973\t9975\t9976\t9980\t9981\t9982\t9983\t9987\t9989\t999\t9990\t9991\t9999\t\r\n"
     ]
    }
   ],
   "source": [
    "!head -n 1 ../../stacks_wgenome/batch_1.CorrectedGenotypes_biallelic_edit.genepop"
   ]
  },
  {
   "cell_type": "markdown",
   "metadata": {},
   "source": [
    "\n",
    "(2) run Dan's transpose.py"
   ]
  },
  {
   "cell_type": "code",
   "execution_count": 45,
   "metadata": {
    "collapsed": false
   },
   "outputs": [
    {
     "name": "stdout",
     "output_type": "stream",
     "text": [
      "## This script was written by Dan Drinan and transposes the rows and columns of a haplotype file\r\n",
      "#python transpose.py batch_2_corrected_genotypes_2_alleles_genepop.txt batch_2_corrected_genotypes_2_alleles_genepop_transposed.txt\r\n",
      "\r\n",
      "import sys\r\n",
      "\r\n",
      "input_file = open(sys.argv[1], 'r')\r\n",
      "\r\n",
      "header = True\r\n",
      "matrix_of_data = []\r\n",
      "\r\n"
     ]
    }
   ],
   "source": [
    "!head transpose.py"
   ]
  },
  {
   "cell_type": "code",
   "execution_count": 50,
   "metadata": {
    "collapsed": false
   },
   "outputs": [],
   "source": [
    "!python transpose.py \\\n",
    "../../stacks_wgenome/batch_1.CorrectedGenotypes_biallelic_edit.genepop \\\n",
    "../../stacks_wgenome/batch_1.CorrectedGenotypes_biallelic_TRANSPOSED.txt"
   ]
  },
  {
   "cell_type": "markdown",
   "metadata": {},
   "source": [
    "**3/16/2017**\n",
    "<br>\n",
    "<br>\n",
    "**Step Six:** Filter for MAF\n",
    "<br>\n",
    "\n",
    "(1) convert the genepop text file to a csv"
   ]
  },
  {
   "cell_type": "code",
   "execution_count": 1,
   "metadata": {
    "collapsed": false
   },
   "outputs": [
    {
     "data": {
      "text/plain": [
       "u'/mnt/hgfs/Pacific cod/DataAnalysis/PCod-US-repo/notebooks'"
      ]
     },
     "execution_count": 1,
     "metadata": {},
     "output_type": "execute_result"
    }
   ],
   "source": [
    "pwd"
   ]
  },
  {
   "cell_type": "code",
   "execution_count": 2,
   "metadata": {
    "collapsed": false,
    "scrolled": true
   },
   "outputs": [
    {
     "name": "stdout",
     "output_type": "stream",
     "text": [
      "/mnt/hgfs/Pacific cod/DataAnalysis/PCod-US-repo/scripts/PostStacksFiltering\n"
     ]
    }
   ],
   "source": [
    "cd ../scripts/PostStacksFiltering/"
   ]
  },
  {
   "cell_type": "code",
   "execution_count": 3,
   "metadata": {
    "collapsed": false
   },
   "outputs": [
    {
     "name": "stdout",
     "output_type": "stream",
     "text": [
      "### CONVERT filtered and transposed GENEPOP TO CSV FILE FOR MAF FILTERING: replace all tabs with commas ###\r\n",
      "## MOSTLY For use with BASH_finalfilters.py ##\r\n",
      "\r\n",
      "## argument 1 - absolute path to stacks files\r\n",
      "## argument 2 - batch #\r\n",
      "\r\n",
      "#MF 2/13/2017\r\n",
      "\r\n",
      "###########################################\r\n",
      "\r\n"
     ]
    }
   ],
   "source": [
    "!head convert_genepop_to_csv.py"
   ]
  },
  {
   "cell_type": "code",
   "execution_count": 4,
   "metadata": {
    "collapsed": true
   },
   "outputs": [],
   "source": [
    "!python convert_genepop_to_csv.py ../../stacks_wgenome 1"
   ]
  },
  {
   "cell_type": "markdown",
   "metadata": {},
   "source": [
    "\n",
    "<br>\n",
    "\n",
    "(2) generate the MAF filtering script"
   ]
  },
  {
   "cell_type": "code",
   "execution_count": 35,
   "metadata": {
    "collapsed": false
   },
   "outputs": [
    {
     "name": "stdout",
     "output_type": "stream",
     "text": [
      "### This file generates Eleni's MAF filtering file ###\r\n",
      "\r\n",
      "## MF 2/24/2017\r\n",
      "\r\n",
      "## Arguments: \r\n",
      "##-- population map\r\n",
      "\r\n",
      "\r\n",
      "\r\n",
      "#########################\r\n"
     ]
    }
   ],
   "source": [
    "!head genMAFfiltering.py"
   ]
  },
  {
   "cell_type": "code",
   "execution_count": 36,
   "metadata": {
    "collapsed": false
   },
   "outputs": [
    {
     "name": "stdout",
     "output_type": "stream",
     "text": [
      "You have 9 populations.\r\n",
      "These are your populations, with the number of samples in each:\r\n",
      "OrderedDict([('Kodiak03', 48), ('Adak06', 48), ('WashCoast05', 48), ('HecStrait04', 48), ('PribIslands04', 48), ('PugetSound12', 48), ('GeorgiaStrait13', 17), ('PWSound12', 24), ('UnimakPass03', 48)])\r\n"
     ]
    }
   ],
   "source": [
    "!python genMAFfiltering.py ../PopMap.txt"
   ]
  },
  {
   "cell_type": "code",
   "execution_count": 40,
   "metadata": {
    "collapsed": false
   },
   "outputs": [
    {
     "name": "stdout",
     "output_type": "stream",
     "text": [
      "### This scripts corrects for minor allele frequency\r\n",
      "#Adjusted from Eleni's script (June 15,2015) to take arguments\r\n",
      "#MF 2/24/2017\r\n",
      "\r\n",
      "#################\r\n",
      "\r\n",
      "\r\n",
      "import sys\r\n",
      "\r\n",
      "# Open your files for reading and writing\r\n",
      "genotypes_file = open(sys.argv[1],'r')\r\n",
      "output_freqs = open(sys.argv[2],'w')\r\n",
      "filtered_genotypes = open(sys.argv[3],'w')\r\n",
      "blacklisted_genotypes = open(sys.argv[4],'w')\r\n",
      "blacklisted_MAF = open(sys.argv[5],'w')\r\n",
      "\r\n",
      "# Tell the computer that your files have headers\r\n"
     ]
    }
   ],
   "source": [
    "!head -n 17 Eleni_filter_by_MinorAlleleFrequency_takeARGS.py"
   ]
  },
  {
   "cell_type": "markdown",
   "metadata": {},
   "source": [
    "<br>\n",
    "\n",
    "(3) Before I run this script, I want to make sure that the column numbers generated in the python script match the actual column numbers in the genepop file. \n",
    "\n",
    "The columns from the script: \n",
    "\n",
    "        Kodiak03 = stripped_string.split(',')[1:49]\n",
    "good!\n",
    "        \n",
    "\t\tAdak06 = stripped_string.split(',')[49:97]\n",
    "good!\n",
    "        \n",
    "\t\tWashCoast05 = stripped_string.split(',')[97:145]\n",
    "good!\n",
    "        \n",
    "\t\tHecStrait04 = stripped_string.split(',')[145:193]\n",
    "good!\n",
    "        \n",
    "\t\tPribIslands04 = stripped_string.split(',')[193:241]\n",
    "good!\n",
    "        \n",
    "\t\tPugetSound12 = stripped_string.split(',')[241:289]\n",
    "good!\n",
    "        \n",
    "\t\tGeorgiaStrait13 = stripped_string.split(',')[289:306]\n",
    "good!\n",
    "        \n",
    "\t\tPWSound12 = stripped_string.split(',')[306:330]\n",
    "good!\n",
    "        \n",
    "\t\tUnimakPass03 = stripped_string.split(',')[330:378]\n",
    "good!\n",
    "\n",
    "<br>\n",
    "<br>\n",
    "\n",
    "**SIDE BAR:**\n",
    "\n",
    "Just looking at the transposed genepop file, I can see that most of the individuals in the Pribilof Islands have missing data. So I'm worried that the MAF script will filter out too many loci because of the missing data. \n",
    "\n",
    "So I manually went into the script above and remove the steps where the script is filtering for MAF IN THAT POPULATION ONLY. It should still write out all of the individuals, including those with missing data, but it won't create filters based on frequencies in that population. \n",
    "\n",
    "I did this by taking out the Pribilof Islands' frequency in the `if` statement at line 130"
   ]
  },
  {
   "cell_type": "markdown",
   "metadata": {},
   "source": [
    "\n",
    "<br>\n",
    "(4) Run MAF filtering script (new)"
   ]
  },
  {
   "cell_type": "code",
   "execution_count": 8,
   "metadata": {
    "collapsed": false
   },
   "outputs": [
    {
     "name": "stdout",
     "output_type": "stream",
     "text": [
      "You filtered out: \r\n",
      "1816 loci\r\n",
      "You retained: \r\n",
      "4048 loci\r\n"
     ]
    }
   ],
   "source": [
    "!python Eleni_filter_by_MinorAlleleFrequency_takeARGS_noPI.py \\\n",
    "../../stacks_wgenome/batch_1.CorrectedGenotypes_biallelic_TRANSPOSED.csv \\\n",
    "../../stacks_wgenome/batch_1.MAFfiltering_outputFreqs \\\n",
    "../../stacks_wgenome/batch_1.filteredMAF \\\n",
    "../../stacks_wgenome/batch_1.MAFfiltering_BADgenotypes \\\n",
    "../../stacks_wgenome/batch_1.MAFfiltering_blacklistedMAF"
   ]
  },
  {
   "cell_type": "markdown",
   "metadata": {},
   "source": [
    "\n",
    "<br>\n",
    "**Step Seven: **Filter for loci that are missing >50% of their data"
   ]
  },
  {
   "cell_type": "code",
   "execution_count": 9,
   "metadata": {
    "collapsed": false
   },
   "outputs": [
    {
     "name": "stdout",
     "output_type": "stream",
     "text": [
      "### This file generates Eleni's Missing Loci filtering file ###\r\n",
      "\r\n",
      "## MF 2/24/2017\r\n",
      "\r\n",
      "## Arguments: \r\n",
      "##-- population map\r\n",
      "\r\n",
      "\r\n",
      "\r\n",
      "#########################\r\n"
     ]
    }
   ],
   "source": [
    "!head genMissingLoci.py"
   ]
  },
  {
   "cell_type": "code",
   "execution_count": 10,
   "metadata": {
    "collapsed": false
   },
   "outputs": [
    {
     "name": "stdout",
     "output_type": "stream",
     "text": [
      "You have 9 populations.\r\n",
      "These are your populations, with the number of samples in each:\r\n",
      "OrderedDict([('Kodiak03', 48), ('Adak06', 48), ('WashCoast05', 48), ('HecStrait04', 48), ('PribIslands04', 48), ('PugetSound12', 48), ('GeorgiaStrait13', 17), ('PWSound12', 24), ('UnimakPass03', 48)])\r\n"
     ]
    }
   ],
   "source": [
    "!python genMissingLoci.py ../PopMap.txt"
   ]
  },
  {
   "cell_type": "markdown",
   "metadata": {},
   "source": [
    "\n",
    "<br>\n",
    "Again, this is the first time running the script so I checked the column numbers. I also want to remove the PI samples from this filtering too, so I manually went in and removed that block of text at line 67."
   ]
  },
  {
   "cell_type": "code",
   "execution_count": 13,
   "metadata": {
    "collapsed": false
   },
   "outputs": [
    {
     "name": "stdout",
     "output_type": "stream",
     "text": [
      "### This scripts removes loci with too much missing data (you set the threshold)\r\n",
      "#Adjusted from Eleni's script (June 15,2015) to take arguments\r\n",
      "#MF 2/28/2017\r\n",
      "\r\n",
      "#################\r\n",
      "\r\n",
      "\r\n",
      "import sys\r\n",
      "\r\n",
      "# Open your files for reading and writing\r\n",
      "genotypes_file = open(sys.argv[1],'r')\r\n",
      "clean_output_file = open(sys.argv[2],'w')\r\n",
      "blacklisted_output_file = open(sys.argv[3], 'w')\r\n",
      "\r\n",
      "\r\n",
      "#run for loop to counting missing genotypes by locus for each population\r\n",
      "\r\n"
     ]
    }
   ],
   "source": [
    "!head -n 17 FilterLoci_by_MissingValues_noPI.py"
   ]
  },
  {
   "cell_type": "code",
   "execution_count": 14,
   "metadata": {
    "collapsed": false
   },
   "outputs": [
    {
     "name": "stdout",
     "output_type": "stream",
     "text": [
      "processed 4048 loci\r\n",
      "Number of loci removed: 26\r\n"
     ]
    }
   ],
   "source": [
    "!python FilterLoci_by_MissingValues_noPI.py \\\n",
    "../../stacks_wgenome/batch_1.filteredMAF \\\n",
    "../../stacks_wgenome/batch_1.filteredMAF_filteredLoci \\\n",
    "../../stacks_wgenome/batch_1.filteredLoci_blacklisted"
   ]
  },
  {
   "cell_type": "markdown",
   "metadata": {},
   "source": [
    "\n",
    "<br>\n",
    "**50%** is not very stringent - on Korean cod I was filtering out loci that were missing **>20%** of their data. what happens if I do that here? "
   ]
  },
  {
   "cell_type": "code",
   "execution_count": 15,
   "metadata": {
    "collapsed": false
   },
   "outputs": [
    {
     "name": "stdout",
     "output_type": "stream",
     "text": [
      "processed 4048 loci\r\n",
      "Number of loci removed: 1950\r\n"
     ]
    }
   ],
   "source": [
    "!python FilterLoci_by_MissingValues_noPI_20p.py \\\n",
    "../../stacks_wgenome/batch_1.filteredMAF \\\n",
    "../../stacks_wgenome/batch_1.filteredMAF_filteredLoci20p \\\n",
    "../../stacks_wgenome/batch_1.filteredLoci_blacklisted20p"
   ]
  },
  {
   "cell_type": "markdown",
   "metadata": {},
   "source": [
    "\n",
    "<br>\n",
    "Yikes, that's a lot!\n",
    "\n",
    "<br>\n",
    "<br>\n",
    "I should now have my final filtered genepop file called `batch_1.filteredMAF_filteredLoci`\n",
    "\n",
    "<br>\n",
    "**Step Eight:** I can go in manually and remove individuals that are missing more than 50% of their genotypes. \n",
    "\n",
    "\n",
    "<br>\n",
    "**The final file is batch_1.filteredMAF_filteredLoci_filteredIndivids**"
   ]
  }
 ],
 "metadata": {
  "anaconda-cloud": {},
  "kernelspec": {
   "display_name": "Python [default]",
   "language": "python",
   "name": "python2"
  },
  "language_info": {
   "codemirror_mode": {
    "name": "ipython",
    "version": 2
   },
   "file_extension": ".py",
   "mimetype": "text/x-python",
   "name": "python",
   "nbconvert_exporter": "python",
   "pygments_lexer": "ipython2",
   "version": "2.7.12"
  }
 },
 "nbformat": 4,
 "nbformat_minor": 1
}
