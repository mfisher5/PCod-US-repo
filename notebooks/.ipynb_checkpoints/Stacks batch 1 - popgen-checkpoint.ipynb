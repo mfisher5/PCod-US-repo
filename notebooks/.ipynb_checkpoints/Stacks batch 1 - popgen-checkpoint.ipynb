{
 "cells": [
  {
   "cell_type": "markdown",
   "metadata": {},
   "source": [
    "## Stacks batch 1 - popgen stats\n",
    "\n",
    "\n",
    "\n",
    "This notebook contains popgen stats on the genepop file `batch_1.filteredIndivids.filteredMAF_FilteredLoci20p.gen` that have been parsed and visualized. \n",
    "\n",
    "Stats include: \n",
    "\n",
    "(1) Fis by locus across populations - WITHOUT HWE filter\n",
    "\n",
    "(2) HWE p-values by locus by population"
   ]
  },
  {
   "cell_type": "markdown",
   "metadata": {},
   "source": [
    "### (1) Fis, Fst, Fit by locus (across all populations) - WITHOUT Hardy-Weinberg filter\n",
    "\n",
    "**(1)** Ran option 6 >> 1 in GENEPOP\n",
    "\n",
    "![genepop](https://github.com/mfisher5/PCod-US-repo/blob/master/analyses/genepop/batch_1_filteredIndivids_home.png?raw=true)\n",
    "\n",
    "\n",
    "<br>\n",
    "**(2)** Used Dan's python script to parse genepop output"
   ]
  },
  {
   "cell_type": "code",
   "execution_count": 1,
   "metadata": {
    "collapsed": false
   },
   "outputs": [
    {
     "name": "stdout",
     "output_type": "stream",
     "text": [
      "/mnt/hgfs/Pacific cod/DataAnalysis/PCod-US-repo/analyses\n"
     ]
    }
   ],
   "source": [
    "cd ../analyses"
   ]
  },
  {
   "cell_type": "code",
   "execution_count": 2,
   "metadata": {
    "collapsed": false
   },
   "outputs": [
    {
     "name": "stdout",
     "output_type": "stream",
     "text": [
      "/mnt/hgfs/Pacific cod/DataAnalysis/PCod-US-repo/analyses/genepop\n"
     ]
    }
   ],
   "source": [
    "cd genepop"
   ]
  },
  {
   "cell_type": "code",
   "execution_count": 3,
   "metadata": {
    "collapsed": false
   },
   "outputs": [
    {
     "name": "stdout",
     "output_type": "stream",
     "text": [
      "################################################################################\r\n",
      "#\r\n",
      "# parseGenepopINF.py - this is a script used to parse output files created\r\n",
      "# by genepop\r\n",
      "#\r\n",
      "# 2017-March-21\r\n",
      "# Daniel Drinan (ddrinan@uw.edu)\r\n",
      "#\r\n",
      "# population - HWE, He (INF), Ho (INF), Fis_wc (INF), Fis_RH (INF)\r\n",
      "################################################################################\r\n"
     ]
    }
   ],
   "source": [
    "!head parseGenepopINFandFST.py"
   ]
  },
  {
   "cell_type": "code",
   "execution_count": null,
   "metadata": {
    "collapsed": true
   },
   "outputs": [],
   "source": [
    "!python parseGenepopINFandFST.py \\\n",
    "-f batch_1_filteredIndivids_filteredMAFfilteredLoci20p.txt.FST \\\n",
    "-o batch_1_FSTgenepop_parsed_output.txt"
   ]
  },
  {
   "cell_type": "markdown",
   "metadata": {},
   "source": [
    "<br>\n",
    "\n",
    "**(3) Plot in histogram**"
   ]
  },
  {
   "cell_type": "code",
   "execution_count": 4,
   "metadata": {
    "collapsed": false
   },
   "outputs": [
    {
     "name": "stdout",
     "output_type": "stream",
     "text": [
      "Processed  3849  loci.\n"
     ]
    }
   ],
   "source": [
    "myfile = open(\"batch_1_FSTgenepop_parsed_output.txt\", \"r\")\n",
    "\n",
    "count = 0\n",
    "loci = []\n",
    "fis = []\n",
    "fst = []\n",
    "fit = []\n",
    "\n",
    "for line in myfile: \n",
    "    if count > 1: \n",
    "        loci.append(line.strip().split()[0])\n",
    "        fis.append(float(line.strip().split()[1]))\n",
    "        fst.append(float(line.strip().split()[2]))\n",
    "        fit.append(float(line.strip().split()[3]))\n",
    "        count += 1\n",
    "    else: \n",
    "        count += 1\n",
    "\n",
    "myfile.close()\n",
    "\n",
    "print \"Processed \", count, \" loci.\""
   ]
  },
  {
   "cell_type": "code",
   "execution_count": 5,
   "metadata": {
    "collapsed": true
   },
   "outputs": [],
   "source": [
    "import numpy as np\n",
    "import matplotlib.pyplot as plt"
   ]
  },
  {
   "cell_type": "code",
   "execution_count": 6,
   "metadata": {
    "collapsed": false
   },
   "outputs": [
    {
     "data": {
      "image/png": "[encoded data removed]",
      "text/plain": [
       "<matplotlib.figure.Figure at 0x7f175881f890>"
      ]
     },
     "metadata": {},
     "output_type": "display_data"
    }
   ],
   "source": [
    "plt.hist(fis, bins = np.arange(-1, 1.1, .1)+0.05, color = \"darkcyan\")\n",
    "plt.suptitle(\"Fis across loci\")\n",
    "plt.xlabel(\"Fis\")\n",
    "plt.ylabel(\"Frequency\")\n",
    "plt.show()"
   ]
  },
  {
   "cell_type": "code",
   "execution_count": 7,
   "metadata": {
    "collapsed": true
   },
   "outputs": [],
   "source": [
    "plt.close()"
   ]
  },
  {
   "cell_type": "code",
   "execution_count": 8,
   "metadata": {
    "collapsed": false
   },
   "outputs": [
    {
     "data": {
      "image/png": "[encoded data removed]",
      "text/plain": [
       "<matplotlib.figure.Figure at 0x7f17559fe150>"
      ]
     },
     "metadata": {},
     "output_type": "display_data"
    }
   ],
   "source": [
    "plt.hist(fst, bins = np.arange(-1, 1.1, .1)+0.05, color = \"palegreen\")\n",
    "plt.suptitle(\"Fst across loci\")\n",
    "plt.xlabel(\"Fst\")\n",
    "plt.ylabel(\"Frequency\")\n",
    "plt.show()"
   ]
  },
  {
   "cell_type": "code",
   "execution_count": 9,
   "metadata": {
    "collapsed": true
   },
   "outputs": [],
   "source": [
    "plt.close()"
   ]
  },
  {
   "cell_type": "code",
   "execution_count": 10,
   "metadata": {
    "collapsed": false
   },
   "outputs": [
    {
     "data": {
      "image/png": "[encoded data removed]",
      "text/plain": [
       "<matplotlib.figure.Figure at 0x7f1755f06b10>"
      ]
     },
     "metadata": {},
     "output_type": "display_data"
    }
   ],
   "source": [
    "plt.hist(fit, bins = np.arange(-1, 1.1, .1)+0.05, color = \"lightsteelblue\")\n",
    "plt.suptitle(\"Fit across loci\")\n",
    "plt.xlabel(\"Fit\")\n",
    "plt.ylabel(\"Frequency\")\n",
    "plt.show()"
   ]
  },
  {
   "cell_type": "code",
   "execution_count": 11,
   "metadata": {
    "collapsed": true
   },
   "outputs": [],
   "source": [
    "plt.close()"
   ]
  },
  {
   "cell_type": "markdown",
   "metadata": {
    "collapsed": true
   },
   "source": [
    "\n",
    "<br>\n",
    "### (2)  Heterozygosity across Loci\n",
    "\n"
   ]
  },
  {
   "cell_type": "code",
   "execution_count": 1,
   "metadata": {
    "collapsed": false
   },
   "outputs": [
    {
     "data": {
      "text/plain": [
       "u'/mnt/hgfs/Pacific cod/DataAnalysis/PCod-US-repo/notebooks'"
      ]
     },
     "execution_count": 1,
     "metadata": {},
     "output_type": "execute_result"
    }
   ],
   "source": [
    "pwd"
   ]
  },
  {
   "cell_type": "code",
   "execution_count": 2,
   "metadata": {
    "collapsed": false
   },
   "outputs": [
    {
     "name": "stdout",
     "output_type": "stream",
     "text": [
      "/mnt/hgfs/Pacific cod/DataAnalysis/PCod-US-repo/analyses/genepop\n"
     ]
    }
   ],
   "source": [
    "cd ../analyses/genepop"
   ]
  },
  {
   "cell_type": "code",
   "execution_count": 4,
   "metadata": {
    "collapsed": false
   },
   "outputs": [],
   "source": [
    "!python parseGenepopINFandFST.py \\\n",
    "-i ../../stacks_wgenome/batch_1_filteredIndivids_filteredMAFfilteredLoci20p.txt.INF \\\n",
    "-o batch_1_INFgenepop_parsed.txt"
   ]
  },
  {
   "cell_type": "code",
   "execution_count": null,
   "metadata": {
    "collapsed": true
   },
   "outputs": [],
   "source": []
  }
 ],
 "metadata": {
  "anaconda-cloud": {},
  "kernelspec": {
   "display_name": "Python [default]",
   "language": "python",
   "name": "python2"
  },
  "language_info": {
   "codemirror_mode": {
    "name": "ipython",
    "version": 2
   },
   "file_extension": ".py",
   "mimetype": "text/x-python",
   "name": "python",
   "nbconvert_exporter": "python",
   "pygments_lexer": "ipython2",
   "version": "2.7.12"
  }
 },
 "nbformat": 4,
 "nbformat_minor": 1
}
